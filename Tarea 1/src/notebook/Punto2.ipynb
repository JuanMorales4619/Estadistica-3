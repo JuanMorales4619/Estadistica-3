{
 "cells": [
  {
   "attachments": {},
   "cell_type": "markdown",
   "metadata": {},
   "source": [
    "# Punto 2 de la actividad 1 de estadistica 3"
   ]
  },
  {
   "cell_type": "code",
   "execution_count": 1,
   "metadata": {},
   "outputs": [],
   "source": [
    "import numpy as np\n",
    "import pandas as pd\n",
    "import plotly\n",
    "import matplotlib.pyplot as plt\n",
    "import plotly.graph_objs as go\n",
    "from matplotlib import style\n",
    "import seaborn as sns\n",
    "from scipy import stats\n",
    "from scipy.stats import shapiro\n",
    "import plotly.express as px\n"
   ]
  },
  {
   "attachments": {},
   "cell_type": "markdown",
   "metadata": {},
   "source": [
    "importamos las librerias."
   ]
  },
  {
   "cell_type": "code",
   "execution_count": 2,
   "metadata": {},
   "outputs": [
    {
     "data": {
      "text/html": [
       "<div>\n",
       "<style scoped>\n",
       "    .dataframe tbody tr th:only-of-type {\n",
       "        vertical-align: middle;\n",
       "    }\n",
       "\n",
       "    .dataframe tbody tr th {\n",
       "        vertical-align: top;\n",
       "    }\n",
       "\n",
       "    .dataframe thead th {\n",
       "        text-align: right;\n",
       "    }\n",
       "</style>\n",
       "<table border=\"1\" class=\"dataframe\">\n",
       "  <thead>\n",
       "    <tr style=\"text-align: right;\">\n",
       "      <th></th>\n",
       "      <th>Make</th>\n",
       "      <th>Model</th>\n",
       "      <th>Type</th>\n",
       "      <th>Origin</th>\n",
       "      <th>DriveTrain</th>\n",
       "      <th>MSRP</th>\n",
       "      <th>Invoice</th>\n",
       "      <th>EngineSize</th>\n",
       "      <th>Cylinders</th>\n",
       "      <th>Horsepower</th>\n",
       "      <th>MPG_City</th>\n",
       "      <th>MPG_Highway</th>\n",
       "      <th>Weight</th>\n",
       "      <th>Wheelbase</th>\n",
       "      <th>Length</th>\n",
       "    </tr>\n",
       "  </thead>\n",
       "  <tbody>\n",
       "    <tr>\n",
       "      <th>0</th>\n",
       "      <td>Acura</td>\n",
       "      <td>MDX</td>\n",
       "      <td>SUV</td>\n",
       "      <td>Asia</td>\n",
       "      <td>All</td>\n",
       "      <td>$36,945</td>\n",
       "      <td>$33,337</td>\n",
       "      <td>3.5</td>\n",
       "      <td>6.0</td>\n",
       "      <td>265</td>\n",
       "      <td>17</td>\n",
       "      <td>23</td>\n",
       "      <td>4451</td>\n",
       "      <td>106</td>\n",
       "      <td>189</td>\n",
       "    </tr>\n",
       "    <tr>\n",
       "      <th>1</th>\n",
       "      <td>Acura</td>\n",
       "      <td>RSX Type S 2dr</td>\n",
       "      <td>Sedan</td>\n",
       "      <td>Asia</td>\n",
       "      <td>Front</td>\n",
       "      <td>$23,820</td>\n",
       "      <td>$21,761</td>\n",
       "      <td>2.0</td>\n",
       "      <td>4.0</td>\n",
       "      <td>200</td>\n",
       "      <td>24</td>\n",
       "      <td>31</td>\n",
       "      <td>2778</td>\n",
       "      <td>101</td>\n",
       "      <td>172</td>\n",
       "    </tr>\n",
       "    <tr>\n",
       "      <th>2</th>\n",
       "      <td>Acura</td>\n",
       "      <td>TSX 4dr</td>\n",
       "      <td>Sedan</td>\n",
       "      <td>Asia</td>\n",
       "      <td>Front</td>\n",
       "      <td>$26,990</td>\n",
       "      <td>$24,647</td>\n",
       "      <td>2.4</td>\n",
       "      <td>4.0</td>\n",
       "      <td>200</td>\n",
       "      <td>22</td>\n",
       "      <td>29</td>\n",
       "      <td>3230</td>\n",
       "      <td>105</td>\n",
       "      <td>183</td>\n",
       "    </tr>\n",
       "    <tr>\n",
       "      <th>3</th>\n",
       "      <td>Acura</td>\n",
       "      <td>TL 4dr</td>\n",
       "      <td>Sedan</td>\n",
       "      <td>Asia</td>\n",
       "      <td>Front</td>\n",
       "      <td>$33,195</td>\n",
       "      <td>$30,299</td>\n",
       "      <td>3.2</td>\n",
       "      <td>6.0</td>\n",
       "      <td>270</td>\n",
       "      <td>20</td>\n",
       "      <td>28</td>\n",
       "      <td>3575</td>\n",
       "      <td>108</td>\n",
       "      <td>186</td>\n",
       "    </tr>\n",
       "    <tr>\n",
       "      <th>4</th>\n",
       "      <td>Acura</td>\n",
       "      <td>3.5 RL 4dr</td>\n",
       "      <td>Sedan</td>\n",
       "      <td>Asia</td>\n",
       "      <td>Front</td>\n",
       "      <td>$43,755</td>\n",
       "      <td>$39,014</td>\n",
       "      <td>3.5</td>\n",
       "      <td>6.0</td>\n",
       "      <td>225</td>\n",
       "      <td>18</td>\n",
       "      <td>24</td>\n",
       "      <td>3880</td>\n",
       "      <td>115</td>\n",
       "      <td>197</td>\n",
       "    </tr>\n",
       "  </tbody>\n",
       "</table>\n",
       "</div>"
      ],
      "text/plain": [
       "    Make           Model   Type Origin DriveTrain     MSRP  Invoice  \\\n",
       "0  Acura             MDX    SUV   Asia        All  $36,945  $33,337   \n",
       "1  Acura  RSX Type S 2dr  Sedan   Asia      Front  $23,820  $21,761   \n",
       "2  Acura         TSX 4dr  Sedan   Asia      Front  $26,990  $24,647   \n",
       "3  Acura          TL 4dr  Sedan   Asia      Front  $33,195  $30,299   \n",
       "4  Acura      3.5 RL 4dr  Sedan   Asia      Front  $43,755  $39,014   \n",
       "\n",
       "   EngineSize  Cylinders  Horsepower  MPG_City  MPG_Highway  Weight  \\\n",
       "0         3.5        6.0         265        17           23    4451   \n",
       "1         2.0        4.0         200        24           31    2778   \n",
       "2         2.4        4.0         200        22           29    3230   \n",
       "3         3.2        6.0         270        20           28    3575   \n",
       "4         3.5        6.0         225        18           24    3880   \n",
       "\n",
       "   Wheelbase  Length  \n",
       "0        106     189  \n",
       "1        101     172  \n",
       "2        105     183  \n",
       "3        108     186  \n",
       "4        115     197  "
      ]
     },
     "execution_count": 2,
     "metadata": {},
     "output_type": "execute_result"
    }
   ],
   "source": [
    "df = pd.read_csv('./CARS.csv')\n",
    "df.head()"
   ]
  },
  {
   "attachments": {},
   "cell_type": "markdown",
   "metadata": {},
   "source": [
    "Importados la base de datos."
   ]
  },
  {
   "cell_type": "code",
   "execution_count": 3,
   "metadata": {},
   "outputs": [
    {
     "data": {
      "text/html": [
       "<div>\n",
       "<style scoped>\n",
       "    .dataframe tbody tr th:only-of-type {\n",
       "        vertical-align: middle;\n",
       "    }\n",
       "\n",
       "    .dataframe tbody tr th {\n",
       "        vertical-align: top;\n",
       "    }\n",
       "\n",
       "    .dataframe thead th {\n",
       "        text-align: right;\n",
       "    }\n",
       "</style>\n",
       "<table border=\"1\" class=\"dataframe\">\n",
       "  <thead>\n",
       "    <tr style=\"text-align: right;\">\n",
       "      <th></th>\n",
       "      <th>EngineSize</th>\n",
       "      <th>Cylinders</th>\n",
       "      <th>Horsepower</th>\n",
       "      <th>MPG_City</th>\n",
       "      <th>MPG_Highway</th>\n",
       "      <th>Weight</th>\n",
       "      <th>Wheelbase</th>\n",
       "      <th>Length</th>\n",
       "    </tr>\n",
       "  </thead>\n",
       "  <tbody>\n",
       "    <tr>\n",
       "      <th>count</th>\n",
       "      <td>428.000000</td>\n",
       "      <td>426.000000</td>\n",
       "      <td>428.000000</td>\n",
       "      <td>428.000000</td>\n",
       "      <td>428.000000</td>\n",
       "      <td>428.000000</td>\n",
       "      <td>428.000000</td>\n",
       "      <td>428.000000</td>\n",
       "    </tr>\n",
       "    <tr>\n",
       "      <th>mean</th>\n",
       "      <td>3.196729</td>\n",
       "      <td>5.807512</td>\n",
       "      <td>215.885514</td>\n",
       "      <td>20.060748</td>\n",
       "      <td>26.843458</td>\n",
       "      <td>3577.953271</td>\n",
       "      <td>108.154206</td>\n",
       "      <td>186.362150</td>\n",
       "    </tr>\n",
       "    <tr>\n",
       "      <th>std</th>\n",
       "      <td>1.108595</td>\n",
       "      <td>1.558443</td>\n",
       "      <td>71.836032</td>\n",
       "      <td>5.238218</td>\n",
       "      <td>5.741201</td>\n",
       "      <td>758.983215</td>\n",
       "      <td>8.311813</td>\n",
       "      <td>14.357991</td>\n",
       "    </tr>\n",
       "    <tr>\n",
       "      <th>min</th>\n",
       "      <td>1.300000</td>\n",
       "      <td>3.000000</td>\n",
       "      <td>73.000000</td>\n",
       "      <td>10.000000</td>\n",
       "      <td>12.000000</td>\n",
       "      <td>1850.000000</td>\n",
       "      <td>89.000000</td>\n",
       "      <td>143.000000</td>\n",
       "    </tr>\n",
       "    <tr>\n",
       "      <th>25%</th>\n",
       "      <td>2.375000</td>\n",
       "      <td>4.000000</td>\n",
       "      <td>165.000000</td>\n",
       "      <td>17.000000</td>\n",
       "      <td>24.000000</td>\n",
       "      <td>3104.000000</td>\n",
       "      <td>103.000000</td>\n",
       "      <td>178.000000</td>\n",
       "    </tr>\n",
       "    <tr>\n",
       "      <th>50%</th>\n",
       "      <td>3.000000</td>\n",
       "      <td>6.000000</td>\n",
       "      <td>210.000000</td>\n",
       "      <td>19.000000</td>\n",
       "      <td>26.000000</td>\n",
       "      <td>3474.500000</td>\n",
       "      <td>107.000000</td>\n",
       "      <td>187.000000</td>\n",
       "    </tr>\n",
       "    <tr>\n",
       "      <th>75%</th>\n",
       "      <td>3.900000</td>\n",
       "      <td>6.000000</td>\n",
       "      <td>255.000000</td>\n",
       "      <td>21.250000</td>\n",
       "      <td>29.000000</td>\n",
       "      <td>3977.750000</td>\n",
       "      <td>112.000000</td>\n",
       "      <td>194.000000</td>\n",
       "    </tr>\n",
       "    <tr>\n",
       "      <th>max</th>\n",
       "      <td>8.300000</td>\n",
       "      <td>12.000000</td>\n",
       "      <td>500.000000</td>\n",
       "      <td>60.000000</td>\n",
       "      <td>66.000000</td>\n",
       "      <td>7190.000000</td>\n",
       "      <td>144.000000</td>\n",
       "      <td>238.000000</td>\n",
       "    </tr>\n",
       "  </tbody>\n",
       "</table>\n",
       "</div>"
      ],
      "text/plain": [
       "       EngineSize   Cylinders  Horsepower    MPG_City  MPG_Highway  \\\n",
       "count  428.000000  426.000000  428.000000  428.000000   428.000000   \n",
       "mean     3.196729    5.807512  215.885514   20.060748    26.843458   \n",
       "std      1.108595    1.558443   71.836032    5.238218     5.741201   \n",
       "min      1.300000    3.000000   73.000000   10.000000    12.000000   \n",
       "25%      2.375000    4.000000  165.000000   17.000000    24.000000   \n",
       "50%      3.000000    6.000000  210.000000   19.000000    26.000000   \n",
       "75%      3.900000    6.000000  255.000000   21.250000    29.000000   \n",
       "max      8.300000   12.000000  500.000000   60.000000    66.000000   \n",
       "\n",
       "            Weight   Wheelbase      Length  \n",
       "count   428.000000  428.000000  428.000000  \n",
       "mean   3577.953271  108.154206  186.362150  \n",
       "std     758.983215    8.311813   14.357991  \n",
       "min    1850.000000   89.000000  143.000000  \n",
       "25%    3104.000000  103.000000  178.000000  \n",
       "50%    3474.500000  107.000000  187.000000  \n",
       "75%    3977.750000  112.000000  194.000000  \n",
       "max    7190.000000  144.000000  238.000000  "
      ]
     },
     "execution_count": 3,
     "metadata": {},
     "output_type": "execute_result"
    }
   ],
   "source": [
    "df.describe()"
   ]
  },
  {
   "attachments": {},
   "cell_type": "markdown",
   "metadata": {},
   "source": [
    "### 2.1.1. Para las variables categóricas un gráfico de barras. Categoría numero de observaciones."
   ]
  },
  {
   "cell_type": "code",
   "execution_count": 35,
   "metadata": {},
   "outputs": [
    {
     "data": {
      "image/png": "[encoded data removed]",
      "text/plain": [
       "<Figure size 640x480 with 1 Axes>"
      ]
     },
     "metadata": {},
     "output_type": "display_data"
    }
   ],
   "source": [
    "plot = (df['Make'].value_counts()).plot(\n",
    "kind='bar', title='Marcas de vehiculos')"
   ]
  },
  {
   "attachments": {},
   "cell_type": "markdown",
   "metadata": {},
   "source": [
    "Este gráfico lista la cantidad de vehículos por marca dentro del conjunto, se puede ver también un alto desbalance en la cantidad de vehículos como es el caso de Toyota o Hummer"
   ]
  },
  {
   "cell_type": "code",
   "execution_count": 36,
   "metadata": {},
   "outputs": [
    {
     "data": {
      "image/png": "[encoded data removed]",
      "text/plain": [
       "<Figure size 640x480 with 1 Axes>"
      ]
     },
     "metadata": {},
     "output_type": "display_data"
    }
   ],
   "source": [
    "plot = (df['Type'].value_counts()).plot(\n",
    "kind='bar', title='Tipo de vehiculos')"
   ]
  },
  {
   "attachments": {},
   "cell_type": "markdown",
   "metadata": {},
   "source": [
    "Este gráfico evidencia el desbalance que existen entre los diferentes tipos de vehículo, aquí cabe destacar que incluso los vehículos Híbridos podrían ser considerados outlyers."
   ]
  },
  {
   "cell_type": "code",
   "execution_count": 38,
   "metadata": {},
   "outputs": [
    {
     "data": {
      "image/png": "[encoded data removed]",
      "text/plain": [
       "<Figure size 640x480 with 1 Axes>"
      ]
     },
     "metadata": {},
     "output_type": "display_data"
    }
   ],
   "source": [
    "plot = (df['Origin'].value_counts()).plot(\n",
    "kind='bar', title='Origen de los vehiculos')"
   ]
  },
  {
   "attachments": {},
   "cell_type": "markdown",
   "metadata": {},
   "source": [
    "Se puede ver un balance generar entre el lugar de origen de los vehículos."
   ]
  },
  {
   "cell_type": "code",
   "execution_count": 39,
   "metadata": {},
   "outputs": [
    {
     "data": {
      "image/png": "[encoded data removed]",
      "text/plain": [
       "<Figure size 640x480 with 1 Axes>"
      ]
     },
     "metadata": {},
     "output_type": "display_data"
    }
   ],
   "source": [
    "\n",
    "plot = (df['DriveTrain'].value_counts()).plot(\n",
    "kind='bar', title='Tipo de traccion de los vehiculos')"
   ]
  },
  {
   "attachments": {},
   "cell_type": "markdown",
   "metadata": {},
   "source": [
    "De la gráfica podemos concluir que la gente tiende a preferir los vehículos de tracción frontal y en menor medida, los de otro tipo."
   ]
  },
  {
   "attachments": {},
   "cell_type": "markdown",
   "metadata": {},
   "source": [
    "### 2.1.2. Para las variables numéricas crear histogramas. Listar los modelos de carros que están más lejos de 4 estándares de desviación, y serían considerados outliers. Hacer test de si es una distribución normal o no."
   ]
  },
  {
   "cell_type": "code",
   "execution_count": 8,
   "metadata": {},
   "outputs": [
    {
     "data": {
      "text/plain": [
       "(array([ 49., 110., 102.,  71.,  65.,  15.,  14.,   1.,   0.,   1.]),\n",
       " array([1.3, 2. , 2.7, 3.4, 4.1, 4.8, 5.5, 6.2, 6.9, 7.6, 8.3]),\n",
       " <BarContainer object of 10 artists>)"
      ]
     },
     "execution_count": 8,
     "metadata": {},
     "output_type": "execute_result"
    },
    {
     "data": {
      "image/png": "[encoded data removed]",
      "text/plain": [
       "<Figure size 640x480 with 1 Axes>"
      ]
     },
     "metadata": {},
     "output_type": "display_data"
    }
   ],
   "source": [
    "plt.hist(df[[\"EngineSize\"]])"
   ]
  },
  {
   "attachments": {},
   "cell_type": "markdown",
   "metadata": {},
   "source": [
    "La gráfica del tamaño del motor, muestra una dominancia de los vehículos de 2.5 y una distribución relativamente normal, también se ven algunos Outlyers por encima de 6.0."
   ]
  },
  {
   "cell_type": "code",
   "execution_count": 9,
   "metadata": {},
   "outputs": [
    {
     "data": {
      "text/plain": [
       "(array([  1., 136.,   7., 190.,   0.,  87.,   0.,   2.,   0.,   3.]),\n",
       " array([ 3. ,  3.9,  4.8,  5.7,  6.6,  7.5,  8.4,  9.3, 10.2, 11.1, 12. ]),\n",
       " <BarContainer object of 10 artists>)"
      ]
     },
     "execution_count": 9,
     "metadata": {},
     "output_type": "execute_result"
    },
    {
     "data": {
      "image/png": "[encoded data removed]",
      "text/plain": [
       "<Figure size 640x480 with 1 Axes>"
      ]
     },
     "metadata": {},
     "output_type": "display_data"
    }
   ],
   "source": [
    "plt.hist(df[\"Cylinders\"])"
   ]
  },
  {
   "attachments": {},
   "cell_type": "markdown",
   "metadata": {},
   "source": [
    "Con respecto al cilindraje, podemos ver muchas inconsistencias en los datos, ya que fuera del grupo 4,6,8 hay una gran escasez de datos."
   ]
  },
  {
   "cell_type": "code",
   "execution_count": 10,
   "metadata": {},
   "outputs": [
    {
     "data": {
      "text/plain": [
       "(array([ 31., 195., 142.,  44.,   9.,   4.,   0.,   1.,   0.,   2.]),\n",
       " array([10., 15., 20., 25., 30., 35., 40., 45., 50., 55., 60.]),\n",
       " <BarContainer object of 10 artists>)"
      ]
     },
     "execution_count": 10,
     "metadata": {},
     "output_type": "execute_result"
    },
    {
     "data": {
      "image/png": "[encoded data removed]",
      "text/plain": [
       "<Figure size 640x480 with 1 Axes>"
      ]
     },
     "metadata": {},
     "output_type": "display_data"
    }
   ],
   "source": [
    "plt.hist(df[\"MPG_City\"])"
   ]
  },
  {
   "attachments": {},
   "cell_type": "markdown",
   "metadata": {},
   "source": [
    "Respecto a las millas por galón, en la ciudad podemos ver casi una distribución normal, de no ser por los outlyers a la derecha de la gráfica y la alta dominancia de los vehículos entre 20 y 30 millas."
   ]
  },
  {
   "cell_type": "code",
   "execution_count": 11,
   "metadata": {},
   "outputs": [
    {
     "data": {
      "text/plain": [
       "(array([ 14.,  69., 205.,  97.,  32.,   7.,   1.,   2.,   0.,   1.]),\n",
       " array([12. , 17.4, 22.8, 28.2, 33.6, 39. , 44.4, 49.8, 55.2, 60.6, 66. ]),\n",
       " <BarContainer object of 10 artists>)"
      ]
     },
     "execution_count": 11,
     "metadata": {},
     "output_type": "execute_result"
    },
    {
     "data": {
      "image/png": "[encoded data removed]",
      "text/plain": [
       "<Figure size 640x480 with 1 Axes>"
      ]
     },
     "metadata": {},
     "output_type": "display_data"
    }
   ],
   "source": [
    "\n",
    "plt.hist(df[\"MPG_Highway\"])"
   ]
  },
  {
   "attachments": {},
   "cell_type": "markdown",
   "metadata": {},
   "source": [
    "En esta gráfica se ve prácticamente una réplica de la anterior, lo que indica que el rendimiento de los vehículos no cambia tanto dependiendo del terreno."
   ]
  },
  {
   "cell_type": "code",
   "execution_count": 12,
   "metadata": {},
   "outputs": [
    {
     "data": {
      "text/plain": [
       "(array([ 11.,  67., 123., 122.,  62.,  25.,  11.,   4.,   2.,   1.]),\n",
       " array([1850., 2384., 2918., 3452., 3986., 4520., 5054., 5588., 6122.,\n",
       "        6656., 7190.]),\n",
       " <BarContainer object of 10 artists>)"
      ]
     },
     "execution_count": 12,
     "metadata": {},
     "output_type": "execute_result"
    },
    {
     "data": {
      "image/png": "[encoded data removed]",
      "text/plain": [
       "<Figure size 640x480 with 1 Axes>"
      ]
     },
     "metadata": {},
     "output_type": "display_data"
    }
   ],
   "source": [
    "\n",
    "plt.hist(df[\"Weight\"])"
   ]
  },
  {
   "attachments": {},
   "cell_type": "markdown",
   "metadata": {},
   "source": [
    "Con respecto al peso, vemos una tendencia a la derecha, pero una fuerte concentración alrededor de los 3000-4000 y algunos datos atípicos por sobre los 6000."
   ]
  },
  {
   "cell_type": "code",
   "execution_count": 13,
   "metadata": {},
   "outputs": [
    {
     "data": {
      "text/plain": [
       "(array([ 11.,  41., 114., 118.,  92.,  26.,  11.,   9.,   3.,   3.]),\n",
       " array([ 89. ,  94.5, 100. , 105.5, 111. , 116.5, 122. , 127.5, 133. ,\n",
       "        138.5, 144. ]),\n",
       " <BarContainer object of 10 artists>)"
      ]
     },
     "execution_count": 13,
     "metadata": {},
     "output_type": "execute_result"
    },
    {
     "data": {
      "image/png": "[encoded data removed]",
      "text/plain": [
       "<Figure size 640x480 with 1 Axes>"
      ]
     },
     "metadata": {},
     "output_type": "display_data"
    }
   ],
   "source": [
    "plt.hist(df[\"Wheelbase\"])\t"
   ]
  },
  {
   "attachments": {},
   "cell_type": "markdown",
   "metadata": {},
   "source": [
    "La distancia entre los ejes de los vehículos también parece seguir cierta tendencia alrededor de los 110, con algunos datos atípicos a la derecha."
   ]
  },
  {
   "cell_type": "code",
   "execution_count": 14,
   "metadata": {},
   "outputs": [
    {
     "data": {
      "text/plain": [
       "(array([  3.,  17.,  35., 100., 120.,  78.,  51.,  13.,   9.,   2.]),\n",
       " array([143. , 152.5, 162. , 171.5, 181. , 190.5, 200. , 209.5, 219. ,\n",
       "        228.5, 238. ]),\n",
       " <BarContainer object of 10 artists>)"
      ]
     },
     "execution_count": 14,
     "metadata": {},
     "output_type": "execute_result"
    },
    {
     "data": {
      "image/png": "[encoded data removed]",
      "text/plain": [
       "<Figure size 640x480 with 1 Axes>"
      ]
     },
     "metadata": {},
     "output_type": "display_data"
    }
   ],
   "source": [
    "plt.hist(df[\"Length\"])"
   ]
  },
  {
   "attachments": {},
   "cell_type": "markdown",
   "metadata": {},
   "source": [
    "Podemos ver una distribución normal de las longitudes de los vehículos, con una tendencia a agruparse alrededor de los 160."
   ]
  },
  {
   "attachments": {},
   "cell_type": "markdown",
   "metadata": {},
   "source": [
    "### Listar los modelos de carros que están más lejos de 4 estándares de desviación"
   ]
  },
  {
   "cell_type": "code",
   "execution_count": 15,
   "metadata": {},
   "outputs": [
    {
     "data": {
      "text/html": [
       "<div>\n",
       "<style scoped>\n",
       "    .dataframe tbody tr th:only-of-type {\n",
       "        vertical-align: middle;\n",
       "    }\n",
       "\n",
       "    .dataframe tbody tr th {\n",
       "        vertical-align: top;\n",
       "    }\n",
       "\n",
       "    .dataframe thead th {\n",
       "        text-align: right;\n",
       "    }\n",
       "</style>\n",
       "<table border=\"1\" class=\"dataframe\">\n",
       "  <thead>\n",
       "    <tr style=\"text-align: right;\">\n",
       "      <th></th>\n",
       "      <th>Invoice</th>\n",
       "      <th>EngineSize</th>\n",
       "      <th>Cylinders</th>\n",
       "      <th>Horsepower</th>\n",
       "      <th>MPG_City</th>\n",
       "      <th>MPG_Highway</th>\n",
       "      <th>Weight</th>\n",
       "      <th>Wheelbase</th>\n",
       "      <th>Length</th>\n",
       "    </tr>\n",
       "  </thead>\n",
       "  <tbody>\n",
       "    <tr>\n",
       "      <th>0</th>\n",
       "      <td>0.188316</td>\n",
       "      <td>0.273563</td>\n",
       "      <td>0.123513</td>\n",
       "      <td>0.683703</td>\n",
       "      <td>-0.584311</td>\n",
       "      <td>-0.669452</td>\n",
       "      <td>1.150285</td>\n",
       "      <td>-0.259174</td>\n",
       "      <td>0.183720</td>\n",
       "    </tr>\n",
       "    <tr>\n",
       "      <th>1</th>\n",
       "      <td>-0.467841</td>\n",
       "      <td>-1.079501</td>\n",
       "      <td>-1.159819</td>\n",
       "      <td>-0.221136</td>\n",
       "      <td>0.752022</td>\n",
       "      <td>0.723985</td>\n",
       "      <td>-1.053980</td>\n",
       "      <td>-0.860727</td>\n",
       "      <td>-1.000290</td>\n",
       "    </tr>\n",
       "    <tr>\n",
       "      <th>2</th>\n",
       "      <td>-0.304255</td>\n",
       "      <td>-0.718684</td>\n",
       "      <td>-1.159819</td>\n",
       "      <td>-0.221136</td>\n",
       "      <td>0.370212</td>\n",
       "      <td>0.375626</td>\n",
       "      <td>-0.458447</td>\n",
       "      <td>-0.379485</td>\n",
       "      <td>-0.234166</td>\n",
       "    </tr>\n",
       "    <tr>\n",
       "      <th>3</th>\n",
       "      <td>0.016115</td>\n",
       "      <td>0.002951</td>\n",
       "      <td>0.123513</td>\n",
       "      <td>0.753306</td>\n",
       "      <td>-0.011597</td>\n",
       "      <td>0.201446</td>\n",
       "      <td>-0.003891</td>\n",
       "      <td>-0.018553</td>\n",
       "      <td>-0.025223</td>\n",
       "    </tr>\n",
       "    <tr>\n",
       "      <th>4</th>\n",
       "      <td>0.510103</td>\n",
       "      <td>0.273563</td>\n",
       "      <td>0.123513</td>\n",
       "      <td>0.126879</td>\n",
       "      <td>-0.393406</td>\n",
       "      <td>-0.495272</td>\n",
       "      <td>0.397962</td>\n",
       "      <td>0.823622</td>\n",
       "      <td>0.740901</td>\n",
       "    </tr>\n",
       "    <tr>\n",
       "      <th>...</th>\n",
       "      <td>...</td>\n",
       "      <td>...</td>\n",
       "      <td>...</td>\n",
       "      <td>...</td>\n",
       "      <td>...</td>\n",
       "      <td>...</td>\n",
       "      <td>...</td>\n",
       "      <td>...</td>\n",
       "      <td>...</td>\n",
       "    </tr>\n",
       "    <tr>\n",
       "      <th>423</th>\n",
       "      <td>0.464134</td>\n",
       "      <td>-0.718684</td>\n",
       "      <td>-0.518153</td>\n",
       "      <td>-0.262898</td>\n",
       "      <td>0.179308</td>\n",
       "      <td>0.201446</td>\n",
       "      <td>-0.168585</td>\n",
       "      <td>-0.379485</td>\n",
       "      <td>-0.025223</td>\n",
       "    </tr>\n",
       "    <tr>\n",
       "      <th>424</th>\n",
       "      <td>0.570697</td>\n",
       "      <td>-0.808888</td>\n",
       "      <td>-0.518153</td>\n",
       "      <td>0.363529</td>\n",
       "      <td>-0.011597</td>\n",
       "      <td>-0.146913</td>\n",
       "      <td>-0.168585</td>\n",
       "      <td>-0.379485</td>\n",
       "      <td>-0.025223</td>\n",
       "    </tr>\n",
       "    <tr>\n",
       "      <th>425</th>\n",
       "      <td>0.711836</td>\n",
       "      <td>-0.267662</td>\n",
       "      <td>0.123513</td>\n",
       "      <td>0.725464</td>\n",
       "      <td>-0.202502</td>\n",
       "      <td>-0.146913</td>\n",
       "      <td>0.098878</td>\n",
       "      <td>0.222069</td>\n",
       "      <td>0.253368</td>\n",
       "    </tr>\n",
       "    <tr>\n",
       "      <th>426</th>\n",
       "      <td>-0.304595</td>\n",
       "      <td>-1.169705</td>\n",
       "      <td>-1.159819</td>\n",
       "      <td>-0.638753</td>\n",
       "      <td>0.370212</td>\n",
       "      <td>0.375626</td>\n",
       "      <td>-0.996008</td>\n",
       "      <td>-0.860727</td>\n",
       "      <td>-0.443109</td>\n",
       "    </tr>\n",
       "    <tr>\n",
       "      <th>427</th>\n",
       "      <td>0.175563</td>\n",
       "      <td>-0.628479</td>\n",
       "      <td>-0.518153</td>\n",
       "      <td>-0.109771</td>\n",
       "      <td>-0.011597</td>\n",
       "      <td>0.027266</td>\n",
       "      <td>0.322862</td>\n",
       "      <td>0.101758</td>\n",
       "      <td>-0.025223</td>\n",
       "    </tr>\n",
       "  </tbody>\n",
       "</table>\n",
       "<p>428 rows × 9 columns</p>\n",
       "</div>"
      ],
      "text/plain": [
       "      Invoice  EngineSize  Cylinders  Horsepower  MPG_City  MPG_Highway  \\\n",
       "0    0.188316    0.273563   0.123513    0.683703 -0.584311    -0.669452   \n",
       "1   -0.467841   -1.079501  -1.159819   -0.221136  0.752022     0.723985   \n",
       "2   -0.304255   -0.718684  -1.159819   -0.221136  0.370212     0.375626   \n",
       "3    0.016115    0.002951   0.123513    0.753306 -0.011597     0.201446   \n",
       "4    0.510103    0.273563   0.123513    0.126879 -0.393406    -0.495272   \n",
       "..        ...         ...        ...         ...       ...          ...   \n",
       "423  0.464134   -0.718684  -0.518153   -0.262898  0.179308     0.201446   \n",
       "424  0.570697   -0.808888  -0.518153    0.363529 -0.011597    -0.146913   \n",
       "425  0.711836   -0.267662   0.123513    0.725464 -0.202502    -0.146913   \n",
       "426 -0.304595   -1.169705  -1.159819   -0.638753  0.370212     0.375626   \n",
       "427  0.175563   -0.628479  -0.518153   -0.109771 -0.011597     0.027266   \n",
       "\n",
       "       Weight  Wheelbase    Length  \n",
       "0    1.150285  -0.259174  0.183720  \n",
       "1   -1.053980  -0.860727 -1.000290  \n",
       "2   -0.458447  -0.379485 -0.234166  \n",
       "3   -0.003891  -0.018553 -0.025223  \n",
       "4    0.397962   0.823622  0.740901  \n",
       "..        ...        ...       ...  \n",
       "423 -0.168585  -0.379485 -0.025223  \n",
       "424 -0.168585  -0.379485 -0.025223  \n",
       "425  0.098878   0.222069  0.253368  \n",
       "426 -0.996008  -0.860727 -0.443109  \n",
       "427  0.322862   0.101758 -0.025223  \n",
       "\n",
       "[428 rows x 9 columns]"
      ]
     },
     "execution_count": 15,
     "metadata": {},
     "output_type": "execute_result"
    }
   ],
   "source": [
    "df[\"Invoice\"] = df[\"Invoice\"].replace('[\\$,]', '', regex=True).astype(float)\n",
    "col = ['Invoice',\"EngineSize\"\t,\"Cylinders\",\t\"Horsepower\",\t\"MPG_City\",\t\"MPG_Highway\",\t\"Weight\",\t\"Wheelbase\",\t\"Length\"]\n",
    "df_stand = (df[col] - df[col].mean())/df[col].std()\n",
    "df_stand"
   ]
  },
  {
   "attachments": {},
   "cell_type": "markdown",
   "metadata": {},
   "source": [
    "Filtramos las columnas que nos interesan."
   ]
  },
  {
   "cell_type": "code",
   "execution_count": 16,
   "metadata": {},
   "outputs": [
    {
     "data": {
      "text/html": [
       "<div>\n",
       "<style scoped>\n",
       "    .dataframe tbody tr th:only-of-type {\n",
       "        vertical-align: middle;\n",
       "    }\n",
       "\n",
       "    .dataframe tbody tr th {\n",
       "        vertical-align: top;\n",
       "    }\n",
       "\n",
       "    .dataframe thead th {\n",
       "        text-align: right;\n",
       "    }\n",
       "</style>\n",
       "<table border=\"1\" class=\"dataframe\">\n",
       "  <thead>\n",
       "    <tr style=\"text-align: right;\">\n",
       "      <th></th>\n",
       "      <th>Invoice</th>\n",
       "      <th>EngineSize</th>\n",
       "      <th>Cylinders</th>\n",
       "      <th>Horsepower</th>\n",
       "      <th>MPG_City</th>\n",
       "      <th>MPG_Highway</th>\n",
       "      <th>Weight</th>\n",
       "      <th>Wheelbase</th>\n",
       "      <th>Length</th>\n",
       "    </tr>\n",
       "  </thead>\n",
       "  <tbody>\n",
       "    <tr>\n",
       "      <th>87</th>\n",
       "      <td>0.305196</td>\n",
       "      <td>2.528671</td>\n",
       "      <td>1.406846</td>\n",
       "      <td>1.170923</td>\n",
       "      <td>-1.347929</td>\n",
       "      <td>-1.714529</td>\n",
       "      <td>1.615381</td>\n",
       "      <td>4.312632</td>\n",
       "      <td>3.596454</td>\n",
       "    </tr>\n",
       "    <tr>\n",
       "      <th>114</th>\n",
       "      <td>2.518762</td>\n",
       "      <td>4.603369</td>\n",
       "      <td>2.690178</td>\n",
       "      <td>3.955041</td>\n",
       "      <td>-1.538834</td>\n",
       "      <td>-1.191991</td>\n",
       "      <td>-0.221287</td>\n",
       "      <td>-1.101349</td>\n",
       "      <td>-0.721699</td>\n",
       "    </tr>\n",
       "    <tr>\n",
       "      <th>118</th>\n",
       "      <td>0.367263</td>\n",
       "      <td>3.250305</td>\n",
       "      <td>2.690178</td>\n",
       "      <td>1.310129</td>\n",
       "      <td>-1.920643</td>\n",
       "      <td>-2.411248</td>\n",
       "      <td>4.759060</td>\n",
       "      <td>3.470458</td>\n",
       "      <td>2.830330</td>\n",
       "    </tr>\n",
       "    <tr>\n",
       "      <th>146</th>\n",
       "      <td>-0.420057</td>\n",
       "      <td>1.446219</td>\n",
       "      <td>1.406846</td>\n",
       "      <td>0.962114</td>\n",
       "      <td>-0.584311</td>\n",
       "      <td>-1.191991</td>\n",
       "      <td>1.278087</td>\n",
       "      <td>4.312632</td>\n",
       "      <td>3.039273</td>\n",
       "    </tr>\n",
       "    <tr>\n",
       "      <th>149</th>\n",
       "      <td>-0.655460</td>\n",
       "      <td>-1.620727</td>\n",
       "      <td>-1.159819</td>\n",
       "      <td>-1.710639</td>\n",
       "      <td>4.951923</td>\n",
       "      <td>4.207577</td>\n",
       "      <td>-1.114588</td>\n",
       "      <td>-0.620106</td>\n",
       "      <td>-0.791347</td>\n",
       "    </tr>\n",
       "    <tr>\n",
       "      <th>150</th>\n",
       "      <td>-0.686068</td>\n",
       "      <td>-1.079501</td>\n",
       "      <td>-1.801485</td>\n",
       "      <td>-1.989051</td>\n",
       "      <td>7.624588</td>\n",
       "      <td>6.820271</td>\n",
       "      <td>-2.276669</td>\n",
       "      <td>-1.582592</td>\n",
       "      <td>-2.184299</td>\n",
       "    </tr>\n",
       "    <tr>\n",
       "      <th>262</th>\n",
       "      <td>5.077922</td>\n",
       "      <td>2.077649</td>\n",
       "      <td>3.973511</td>\n",
       "      <td>3.857597</td>\n",
       "      <td>-1.347929</td>\n",
       "      <td>-1.366170</td>\n",
       "      <td>1.179271</td>\n",
       "      <td>0.703312</td>\n",
       "      <td>0.671253</td>\n",
       "    </tr>\n",
       "    <tr>\n",
       "      <th>270</th>\n",
       "      <td>4.725810</td>\n",
       "      <td>2.077649</td>\n",
       "      <td>1.406846</td>\n",
       "      <td>3.857597</td>\n",
       "      <td>-1.157025</td>\n",
       "      <td>-1.017811</td>\n",
       "      <td>0.865693</td>\n",
       "      <td>-0.860727</td>\n",
       "      <td>-0.512756</td>\n",
       "    </tr>\n",
       "    <tr>\n",
       "      <th>271</th>\n",
       "      <td>4.978954</td>\n",
       "      <td>2.077649</td>\n",
       "      <td>3.973511</td>\n",
       "      <td>3.857597</td>\n",
       "      <td>-1.347929</td>\n",
       "      <td>-1.366170</td>\n",
       "      <td>1.121298</td>\n",
       "      <td>-0.860727</td>\n",
       "      <td>-0.512756</td>\n",
       "    </tr>\n",
       "    <tr>\n",
       "      <th>334</th>\n",
       "      <td>8.136512</td>\n",
       "      <td>0.363768</td>\n",
       "      <td>0.123513</td>\n",
       "      <td>3.634868</td>\n",
       "      <td>-0.584311</td>\n",
       "      <td>-0.495272</td>\n",
       "      <td>-0.588884</td>\n",
       "      <td>-1.823213</td>\n",
       "      <td>-0.791347</td>\n",
       "    </tr>\n",
       "    <tr>\n",
       "      <th>373</th>\n",
       "      <td>-0.628536</td>\n",
       "      <td>-1.530522</td>\n",
       "      <td>-1.159819</td>\n",
       "      <td>-1.473989</td>\n",
       "      <td>7.433684</td>\n",
       "      <td>4.207577</td>\n",
       "      <td>-0.906414</td>\n",
       "      <td>-0.259174</td>\n",
       "      <td>-0.791347</td>\n",
       "    </tr>\n",
       "  </tbody>\n",
       "</table>\n",
       "</div>"
      ],
      "text/plain": [
       "      Invoice  EngineSize  Cylinders  Horsepower  MPG_City  MPG_Highway  \\\n",
       "87   0.305196    2.528671   1.406846    1.170923 -1.347929    -1.714529   \n",
       "114  2.518762    4.603369   2.690178    3.955041 -1.538834    -1.191991   \n",
       "118  0.367263    3.250305   2.690178    1.310129 -1.920643    -2.411248   \n",
       "146 -0.420057    1.446219   1.406846    0.962114 -0.584311    -1.191991   \n",
       "149 -0.655460   -1.620727  -1.159819   -1.710639  4.951923     4.207577   \n",
       "150 -0.686068   -1.079501  -1.801485   -1.989051  7.624588     6.820271   \n",
       "262  5.077922    2.077649   3.973511    3.857597 -1.347929    -1.366170   \n",
       "270  4.725810    2.077649   1.406846    3.857597 -1.157025    -1.017811   \n",
       "271  4.978954    2.077649   3.973511    3.857597 -1.347929    -1.366170   \n",
       "334  8.136512    0.363768   0.123513    3.634868 -0.584311    -0.495272   \n",
       "373 -0.628536   -1.530522  -1.159819   -1.473989  7.433684     4.207577   \n",
       "\n",
       "       Weight  Wheelbase    Length  \n",
       "87   1.615381   4.312632  3.596454  \n",
       "114 -0.221287  -1.101349 -0.721699  \n",
       "118  4.759060   3.470458  2.830330  \n",
       "146  1.278087   4.312632  3.039273  \n",
       "149 -1.114588  -0.620106 -0.791347  \n",
       "150 -2.276669  -1.582592 -2.184299  \n",
       "262  1.179271   0.703312  0.671253  \n",
       "270  0.865693  -0.860727 -0.512756  \n",
       "271  1.121298  -0.860727 -0.512756  \n",
       "334 -0.588884  -1.823213 -0.791347  \n",
       "373 -0.906414  -0.259174 -0.791347  "
      ]
     },
     "execution_count": 16,
     "metadata": {},
     "output_type": "execute_result"
    }
   ],
   "source": [
    "OutLyers = df_stand.query(\"(Invoice > 4.0 or Invoice <-4.0) or (EngineSize > 4.0 or EngineSize <-4.0) or (Cylinders > 4.0 or Cylinders <-4.0) or (Horsepower > 4.0 or Horsepower <-4.0)or (MPG_City > 4.0 or MPG_City <-4.0)\"\n",
    "               \"or (MPG_Highway > 4.0 or MPG_Highway <-4.0)or (Weight > 4.0 or Weight <-4.0)\"\n",
    "               \"or (Wheelbase > 4.0 or Wheelbase <-4.0)or (Length > 4.0 or Length <-4.0)\")\n",
    "OutLyers"
   ]
  },
  {
   "attachments": {},
   "cell_type": "markdown",
   "metadata": {},
   "source": [
    "Hacemos la consulta y obtenemos los datos que están a más de 4 desviaciones estándar."
   ]
  },
  {
   "cell_type": "code",
   "execution_count": 17,
   "metadata": {},
   "outputs": [
    {
     "data": {
      "text/html": [
       "<div>\n",
       "<style scoped>\n",
       "    .dataframe tbody tr th:only-of-type {\n",
       "        vertical-align: middle;\n",
       "    }\n",
       "\n",
       "    .dataframe tbody tr th {\n",
       "        vertical-align: top;\n",
       "    }\n",
       "\n",
       "    .dataframe thead th {\n",
       "        text-align: right;\n",
       "    }\n",
       "</style>\n",
       "<table border=\"1\" class=\"dataframe\">\n",
       "  <thead>\n",
       "    <tr style=\"text-align: right;\">\n",
       "      <th></th>\n",
       "      <th>Invoice</th>\n",
       "      <th>EngineSize</th>\n",
       "      <th>Cylinders</th>\n",
       "      <th>Horsepower</th>\n",
       "      <th>MPG_City</th>\n",
       "      <th>MPG_Highway</th>\n",
       "      <th>Weight</th>\n",
       "      <th>Wheelbase</th>\n",
       "      <th>Length</th>\n",
       "    </tr>\n",
       "  </thead>\n",
       "  <tbody>\n",
       "    <tr>\n",
       "      <th>0</th>\n",
       "      <td>0.188316</td>\n",
       "      <td>0.273563</td>\n",
       "      <td>0.123513</td>\n",
       "      <td>0.683703</td>\n",
       "      <td>-0.584311</td>\n",
       "      <td>-0.669452</td>\n",
       "      <td>1.150285</td>\n",
       "      <td>-0.259174</td>\n",
       "      <td>0.183720</td>\n",
       "    </tr>\n",
       "    <tr>\n",
       "      <th>1</th>\n",
       "      <td>-0.467841</td>\n",
       "      <td>-1.079501</td>\n",
       "      <td>-1.159819</td>\n",
       "      <td>-0.221136</td>\n",
       "      <td>0.752022</td>\n",
       "      <td>0.723985</td>\n",
       "      <td>-1.053980</td>\n",
       "      <td>-0.860727</td>\n",
       "      <td>-1.000290</td>\n",
       "    </tr>\n",
       "    <tr>\n",
       "      <th>2</th>\n",
       "      <td>-0.304255</td>\n",
       "      <td>-0.718684</td>\n",
       "      <td>-1.159819</td>\n",
       "      <td>-0.221136</td>\n",
       "      <td>0.370212</td>\n",
       "      <td>0.375626</td>\n",
       "      <td>-0.458447</td>\n",
       "      <td>-0.379485</td>\n",
       "      <td>-0.234166</td>\n",
       "    </tr>\n",
       "    <tr>\n",
       "      <th>3</th>\n",
       "      <td>0.016115</td>\n",
       "      <td>0.002951</td>\n",
       "      <td>0.123513</td>\n",
       "      <td>0.753306</td>\n",
       "      <td>-0.011597</td>\n",
       "      <td>0.201446</td>\n",
       "      <td>-0.003891</td>\n",
       "      <td>-0.018553</td>\n",
       "      <td>-0.025223</td>\n",
       "    </tr>\n",
       "    <tr>\n",
       "      <th>4</th>\n",
       "      <td>0.510103</td>\n",
       "      <td>0.273563</td>\n",
       "      <td>0.123513</td>\n",
       "      <td>0.126879</td>\n",
       "      <td>-0.393406</td>\n",
       "      <td>-0.495272</td>\n",
       "      <td>0.397962</td>\n",
       "      <td>0.823622</td>\n",
       "      <td>0.740901</td>\n",
       "    </tr>\n",
       "    <tr>\n",
       "      <th>...</th>\n",
       "      <td>...</td>\n",
       "      <td>...</td>\n",
       "      <td>...</td>\n",
       "      <td>...</td>\n",
       "      <td>...</td>\n",
       "      <td>...</td>\n",
       "      <td>...</td>\n",
       "      <td>...</td>\n",
       "      <td>...</td>\n",
       "    </tr>\n",
       "    <tr>\n",
       "      <th>423</th>\n",
       "      <td>0.464134</td>\n",
       "      <td>-0.718684</td>\n",
       "      <td>-0.518153</td>\n",
       "      <td>-0.262898</td>\n",
       "      <td>0.179308</td>\n",
       "      <td>0.201446</td>\n",
       "      <td>-0.168585</td>\n",
       "      <td>-0.379485</td>\n",
       "      <td>-0.025223</td>\n",
       "    </tr>\n",
       "    <tr>\n",
       "      <th>424</th>\n",
       "      <td>0.570697</td>\n",
       "      <td>-0.808888</td>\n",
       "      <td>-0.518153</td>\n",
       "      <td>0.363529</td>\n",
       "      <td>-0.011597</td>\n",
       "      <td>-0.146913</td>\n",
       "      <td>-0.168585</td>\n",
       "      <td>-0.379485</td>\n",
       "      <td>-0.025223</td>\n",
       "    </tr>\n",
       "    <tr>\n",
       "      <th>425</th>\n",
       "      <td>0.711836</td>\n",
       "      <td>-0.267662</td>\n",
       "      <td>0.123513</td>\n",
       "      <td>0.725464</td>\n",
       "      <td>-0.202502</td>\n",
       "      <td>-0.146913</td>\n",
       "      <td>0.098878</td>\n",
       "      <td>0.222069</td>\n",
       "      <td>0.253368</td>\n",
       "    </tr>\n",
       "    <tr>\n",
       "      <th>426</th>\n",
       "      <td>-0.304595</td>\n",
       "      <td>-1.169705</td>\n",
       "      <td>-1.159819</td>\n",
       "      <td>-0.638753</td>\n",
       "      <td>0.370212</td>\n",
       "      <td>0.375626</td>\n",
       "      <td>-0.996008</td>\n",
       "      <td>-0.860727</td>\n",
       "      <td>-0.443109</td>\n",
       "    </tr>\n",
       "    <tr>\n",
       "      <th>427</th>\n",
       "      <td>0.175563</td>\n",
       "      <td>-0.628479</td>\n",
       "      <td>-0.518153</td>\n",
       "      <td>-0.109771</td>\n",
       "      <td>-0.011597</td>\n",
       "      <td>0.027266</td>\n",
       "      <td>0.322862</td>\n",
       "      <td>0.101758</td>\n",
       "      <td>-0.025223</td>\n",
       "    </tr>\n",
       "  </tbody>\n",
       "</table>\n",
       "<p>428 rows × 9 columns</p>\n",
       "</div>"
      ],
      "text/plain": [
       "      Invoice  EngineSize  Cylinders  Horsepower  MPG_City  MPG_Highway  \\\n",
       "0    0.188316    0.273563   0.123513    0.683703 -0.584311    -0.669452   \n",
       "1   -0.467841   -1.079501  -1.159819   -0.221136  0.752022     0.723985   \n",
       "2   -0.304255   -0.718684  -1.159819   -0.221136  0.370212     0.375626   \n",
       "3    0.016115    0.002951   0.123513    0.753306 -0.011597     0.201446   \n",
       "4    0.510103    0.273563   0.123513    0.126879 -0.393406    -0.495272   \n",
       "..        ...         ...        ...         ...       ...          ...   \n",
       "423  0.464134   -0.718684  -0.518153   -0.262898  0.179308     0.201446   \n",
       "424  0.570697   -0.808888  -0.518153    0.363529 -0.011597    -0.146913   \n",
       "425  0.711836   -0.267662   0.123513    0.725464 -0.202502    -0.146913   \n",
       "426 -0.304595   -1.169705  -1.159819   -0.638753  0.370212     0.375626   \n",
       "427  0.175563   -0.628479  -0.518153   -0.109771 -0.011597     0.027266   \n",
       "\n",
       "       Weight  Wheelbase    Length  \n",
       "0    1.150285  -0.259174  0.183720  \n",
       "1   -1.053980  -0.860727 -1.000290  \n",
       "2   -0.458447  -0.379485 -0.234166  \n",
       "3   -0.003891  -0.018553 -0.025223  \n",
       "4    0.397962   0.823622  0.740901  \n",
       "..        ...        ...       ...  \n",
       "423 -0.168585  -0.379485 -0.025223  \n",
       "424 -0.168585  -0.379485 -0.025223  \n",
       "425  0.098878   0.222069  0.253368  \n",
       "426 -0.996008  -0.860727 -0.443109  \n",
       "427  0.322862   0.101758 -0.025223  \n",
       "\n",
       "[428 rows x 9 columns]"
      ]
     },
     "execution_count": 17,
     "metadata": {},
     "output_type": "execute_result"
    }
   ],
   "source": [
    "\n",
    "df_Excluide = df_stand.query(\n",
    "                \"(Invoice < 4.0 or Invoice >-4.0)\"\n",
    "                \"or (EngineSize < 4.0 or EngineSize >-4.0)\"\n",
    "                \"or (Cylinders < 4.0 or Cylinders >-4.0)\"\n",
    "                \" or (Horsepower < 4.0 or Horsepower >-4.0)\"\n",
    "                \"or (MPG_City < 4.0 or MPG_City >-4.0)\"\n",
    "                \"or (MPG_Highway < 4.0 or MPG_Highway >-4.0)\"\n",
    "                \"or (Weight < 4.0 or Weight >-4.0)\"\n",
    "                \"or (Wheelbase < 4.0 or Wheelbase >-4.0)\"\n",
    "                \"or (Length < 4.0 or Length >-4.0)\")\n",
    "df_Excluide"
   ]
  },
  {
   "attachments": {},
   "cell_type": "markdown",
   "metadata": {},
   "source": [
    "Creamos un nuevo modelo donde excluimos los resultados anteriores."
   ]
  },
  {
   "attachments": {},
   "cell_type": "markdown",
   "metadata": {},
   "source": [
    "### Hacer test de si es una distribución normal o no."
   ]
  },
  {
   "cell_type": "code",
   "execution_count": 18,
   "metadata": {},
   "outputs": [
    {
     "name": "stdout",
     "output_type": "stream",
     "text": [
      "It is not normal \n"
     ]
    }
   ],
   "source": [
    "k2, p = stats.normaltest(df[[\"Invoice\"]].query(\"Invoice <= 50000\")[\"Invoice\"].values)\n",
    "alpha = 1e-3\n",
    "\n",
    "print(\"It is not normal \" if p < alpha else \"It is normal \")"
   ]
  },
  {
   "cell_type": "code",
   "execution_count": 19,
   "metadata": {},
   "outputs": [
    {
     "name": "stdout",
     "output_type": "stream",
     "text": [
      "It is normal \n"
     ]
    }
   ],
   "source": [
    "k1,p = stats.shapiro(df_Excluide)\n",
    "print(\"It is not normal \" if p < alpha else \"It is normal \")"
   ]
  },
  {
   "cell_type": "code",
   "execution_count": 20,
   "metadata": {},
   "outputs": [
    {
     "name": "stdout",
     "output_type": "stream",
     "text": [
      "It is normal \n"
     ]
    }
   ],
   "source": [
    "k1,p = stats.shapiro(df[col])\n",
    "print(\"It is not normal \" if p < alpha else \"It is normal \")"
   ]
  },
  {
   "attachments": {},
   "cell_type": "markdown",
   "metadata": {},
   "source": [
    "\n",
    "\n",
    "### 2.2. Gráfico de la relación de cada variable con respecto a MPG_City:\n",
    "\n",
    "### 2.2.1. Variables categóricas debes crear un boxplot. Explique cómo interpreta el gráfico"
   ]
  },
  {
   "cell_type": "code",
   "execution_count": 21,
   "metadata": {},
   "outputs": [
    {
     "data": {
      "application/vnd.plotly.v1+json": {
       "config": {
        "plotlyServerURL": "https://plot.ly"
       },
       "data": [
        {
         "alignmentgroup": "True",
         "hovertemplate": "Make=%{x}<br>MPG_City=%{y}<extra></extra>",
         "legendgroup": "",
         "marker": {
          "color": "#636efa"
         },
         "name": "",
         "notched": false,
         "offsetgroup": "",
         "orientation": "v",
         "showlegend": false,
         "type": "box",
         "x": [
          "Acura",
          "Acura",
          "Acura",
          "Acura",
          "Acura",
          "Acura",
          "Acura",
          "Audi",
          "Audi",
          "Audi",
          "Audi",
          "Audi",
          "Audi",
          "Audi",
          "Audi",
          "Audi",
          "Audi",
          "Audi",
          "Audi",
          "Audi",
          "Audi",
          "Audi",
          "Audi",
          "Audi",
          "Audi",
          "Audi",
          "BMW",
          "BMW",
          "BMW",
          "BMW",
          "BMW",
          "BMW",
          "BMW",
          "BMW",
          "BMW",
          "BMW",
          "BMW",
          "BMW",
          "BMW",
          "BMW",
          "BMW",
          "BMW",
          "BMW",
          "BMW",
          "BMW",
          "BMW",
          "Buick",
          "Buick",
          "Buick",
          "Buick",
          "Buick",
          "Buick",
          "Buick",
          "Buick",
          "Buick",
          "Cadillac",
          "Cadillac",
          "Cadillac",
          "Cadillac",
          "Cadillac",
          "Cadillac",
          "Cadillac",
          "Cadillac",
          "Chevrolet",
          "Chevrolet",
          "Chevrolet",
          "Chevrolet",
          "Chevrolet",
          "Chevrolet",
          "Chevrolet",
          "Chevrolet",
          "Chevrolet",
          "Chevrolet",
          "Chevrolet",
          "Chevrolet",
          "Chevrolet",
          "Chevrolet",
          "Chevrolet",
          "Chevrolet",
          "Chevrolet",
          "Chevrolet",
          "Chevrolet",
          "Chevrolet",
          "Chevrolet",
          "Chevrolet",
          "Chevrolet",
          "Chevrolet",
          "Chevrolet",
          "Chevrolet",
          "Chevrolet",
          "Chrysler",
          "Chrysler",
          "Chrysler",
          "Chrysler",
          "Chrysler",
          "Chrysler",
          "Chrysler",
          "Chrysler",
          "Chrysler",
          "Chrysler",
          "Chrysler",
          "Chrysler",
          "Chrysler",
          "Chrysler",
          "Chrysler",
          "Dodge",
          "Dodge",
          "Dodge",
          "Dodge",
          "Dodge",
          "Dodge",
          "Dodge",
          "Dodge",
          "Dodge",
          "Dodge",
          "Dodge",
          "Dodge",
          "Dodge",
          "Ford",
          "Ford",
          "Ford",
          "Ford",
          "Ford",
          "Ford",
          "Ford",
          "Ford",
          "Ford",
          "Ford",
          "Ford",
          "Ford",
          "Ford",
          "Ford",
          "Ford",
          "Ford",
          "Ford",
          "Ford",
          "Ford",
          "Ford",
          "Ford",
          "Ford",
          "Ford",
          "GMC",
          "GMC",
          "GMC",
          "GMC",
          "GMC",
          "GMC",
          "GMC",
          "GMC",
          "Honda",
          "Honda",
          "Honda",
          "Honda",
          "Honda",
          "Honda",
          "Honda",
          "Honda",
          "Honda",
          "Honda",
          "Honda",
          "Honda",
          "Honda",
          "Honda",
          "Honda",
          "Honda",
          "Honda",
          "Hummer",
          "Hyundai",
          "Hyundai",
          "Hyundai",
          "Hyundai",
          "Hyundai",
          "Hyundai",
          "Hyundai",
          "Hyundai",
          "Hyundai",
          "Hyundai",
          "Hyundai",
          "Hyundai",
          "Infiniti",
          "Infiniti",
          "Infiniti",
          "Infiniti",
          "Infiniti",
          "Infiniti",
          "Infiniti",
          "Infiniti",
          "Isuzu",
          "Isuzu",
          "Jaguar",
          "Jaguar",
          "Jaguar",
          "Jaguar",
          "Jaguar",
          "Jaguar",
          "Jaguar",
          "Jaguar",
          "Jaguar",
          "Jaguar",
          "Jaguar",
          "Jaguar",
          "Jeep",
          "Jeep",
          "Jeep",
          "Kia",
          "Kia",
          "Kia",
          "Kia",
          "Kia",
          "Kia",
          "Kia",
          "Kia",
          "Kia",
          "Kia",
          "Kia",
          "Land Rover",
          "Land Rover",
          "Land Rover",
          "Lexus",
          "Lexus",
          "Lexus",
          "Lexus",
          "Lexus",
          "Lexus",
          "Lexus",
          "Lexus",
          "Lexus",
          "Lexus",
          "Lexus",
          "Lincoln",
          "Lincoln",
          "Lincoln",
          "Lincoln",
          "Lincoln",
          "Lincoln",
          "Lincoln",
          "Lincoln",
          "Lincoln",
          "MINI",
          "MINI",
          "Mazda",
          "Mazda",
          "Mazda",
          "Mazda",
          "Mazda",
          "Mazda",
          "Mazda",
          "Mazda",
          "Mazda",
          "Mazda",
          "Mazda",
          "Mercedes-Benz",
          "Mercedes-Benz",
          "Mercedes-Benz",
          "Mercedes-Benz",
          "Mercedes-Benz",
          "Mercedes-Benz",
          "Mercedes-Benz",
          "Mercedes-Benz",
          "Mercedes-Benz",
          "Mercedes-Benz",
          "Mercedes-Benz",
          "Mercedes-Benz",
          "Mercedes-Benz",
          "Mercedes-Benz",
          "Mercedes-Benz",
          "Mercedes-Benz",
          "Mercedes-Benz",
          "Mercedes-Benz",
          "Mercedes-Benz",
          "Mercedes-Benz",
          "Mercedes-Benz",
          "Mercedes-Benz",
          "Mercedes-Benz",
          "Mercedes-Benz",
          "Mercedes-Benz",
          "Mercedes-Benz",
          "Mercury",
          "Mercury",
          "Mercury",
          "Mercury",
          "Mercury",
          "Mercury",
          "Mercury",
          "Mercury",
          "Mercury",
          "Mitsubishi",
          "Mitsubishi",
          "Mitsubishi",
          "Mitsubishi",
          "Mitsubishi",
          "Mitsubishi",
          "Mitsubishi",
          "Mitsubishi",
          "Mitsubishi",
          "Mitsubishi",
          "Mitsubishi",
          "Mitsubishi",
          "Mitsubishi",
          "Nissan",
          "Nissan",
          "Nissan",
          "Nissan",
          "Nissan",
          "Nissan",
          "Nissan",
          "Nissan",
          "Nissan",
          "Nissan",
          "Nissan",
          "Nissan",
          "Nissan",
          "Nissan",
          "Nissan",
          "Nissan",
          "Nissan",
          "Oldsmobile",
          "Oldsmobile",
          "Oldsmobile",
          "Pontiac",
          "Pontiac",
          "Pontiac",
          "Pontiac",
          "Pontiac",
          "Pontiac",
          "Pontiac",
          "Pontiac",
          "Pontiac",
          "Pontiac",
          "Pontiac",
          "Porsche",
          "Porsche",
          "Porsche",
          "Porsche",
          "Porsche",
          "Porsche",
          "Porsche",
          "Saab",
          "Saab",
          "Saab",
          "Saab",
          "Saab",
          "Saab",
          "Saab",
          "Saturn",
          "Saturn",
          "Saturn",
          "Saturn",
          "Saturn",
          "Saturn",
          "Saturn",
          "Saturn",
          "Scion",
          "Scion",
          "Subaru",
          "Subaru",
          "Subaru",
          "Subaru",
          "Subaru",
          "Subaru",
          "Subaru",
          "Subaru",
          "Subaru",
          "Subaru",
          "Subaru",
          "Suzuki",
          "Suzuki",
          "Suzuki",
          "Suzuki",
          "Suzuki",
          "Suzuki",
          "Suzuki",
          "Suzuki",
          "Toyota",
          "Toyota",
          "Toyota",
          "Toyota",
          "Toyota",
          "Toyota",
          "Toyota",
          "Toyota",
          "Toyota",
          "Toyota",
          "Toyota",
          "Toyota",
          "Toyota",
          "Toyota",
          "Toyota",
          "Toyota",
          "Toyota",
          "Toyota",
          "Toyota",
          "Toyota",
          "Toyota",
          "Toyota",
          "Toyota",
          "Toyota",
          "Toyota",
          "Toyota",
          "Toyota",
          "Toyota",
          "Volkswagen",
          "Volkswagen",
          "Volkswagen",
          "Volkswagen",
          "Volkswagen",
          "Volkswagen",
          "Volkswagen",
          "Volkswagen",
          "Volkswagen",
          "Volkswagen",
          "Volkswagen",
          "Volkswagen",
          "Volkswagen",
          "Volkswagen",
          "Volkswagen",
          "Volvo",
          "Volvo",
          "Volvo",
          "Volvo",
          "Volvo",
          "Volvo",
          "Volvo",
          "Volvo",
          "Volvo",
          "Volvo",
          "Volvo",
          "Volvo"
         ],
         "x0": " ",
         "xaxis": "x",
         "y": [
          17,
          24,
          22,
          20,
          18,
          18,
          17,
          22,
          23,
          20,
          17,
          18,
          20,
          18,
          20,
          18,
          18,
          17,
          17,
          14,
          15,
          20,
          20,
          21,
          18,
          15,
          16,
          16,
          20,
          20,
          19,
          19,
          20,
          20,
          20,
          19,
          19,
          20,
          18,
          18,
          18,
          16,
          16,
          20,
          21,
          19,
          15,
          19,
          20,
          20,
          20,
          18,
          20,
          20,
          18,
          14,
          16,
          18,
          18,
          18,
          18,
          17,
          13,
          14,
          14,
          16,
          19,
          28,
          28,
          26,
          26,
          26,
          21,
          24,
          22,
          21,
          20,
          18,
          23,
          18,
          14,
          19,
          18,
          18,
          14,
          18,
          15,
          13,
          16,
          22,
          22,
          22,
          22,
          21,
          18,
          21,
          19,
          21,
          22,
          18,
          21,
          19,
          18,
          17,
          17,
          15,
          29,
          29,
          21,
          21,
          21,
          18,
          20,
          18,
          12,
          16,
          16,
          16,
          10,
          15,
          15,
          18,
          26,
          27,
          26,
          26,
          21,
          20,
          19,
          17,
          17,
          17,
          17,
          20,
          17,
          17,
          15,
          14,
          24,
          26,
          19,
          15,
          16,
          13,
          16,
          18,
          17,
          13,
          15,
          46,
          60,
          17,
          21,
          21,
          32,
          36,
          32,
          26,
          26,
          32,
          26,
          21,
          21,
          18,
          18,
          20,
          10,
          20,
          29,
          29,
          29,
          26,
          26,
          26,
          19,
          19,
          17,
          17,
          19,
          18,
          18,
          18,
          19,
          17,
          17,
          16,
          15,
          15,
          17,
          18,
          18,
          18,
          18,
          17,
          18,
          18,
          17,
          18,
          18,
          16,
          16,
          16,
          20,
          16,
          16,
          23,
          26,
          25,
          24,
          24,
          24,
          20,
          17,
          16,
          26,
          12,
          12,
          18,
          15,
          13,
          18,
          20,
          18,
          18,
          18,
          18,
          18,
          18,
          18,
          13,
          13,
          20,
          20,
          17,
          17,
          17,
          17,
          17,
          28,
          25,
          22,
          26,
          25,
          24,
          18,
          23,
          23,
          18,
          18,
          24,
          15,
          13,
          14,
          22,
          19,
          20,
          19,
          19,
          20,
          19,
          16,
          16,
          13,
          20,
          17,
          19,
          16,
          18,
          16,
          16,
          14,
          13,
          21,
          17,
          19,
          19,
          16,
          16,
          20,
          17,
          17,
          19,
          17,
          17,
          16,
          19,
          17,
          15,
          21,
          25,
          25,
          23,
          25,
          18,
          18,
          21,
          21,
          18,
          25,
          13,
          16,
          17,
          28,
          28,
          21,
          23,
          21,
          20,
          20,
          19,
          18,
          20,
          20,
          17,
          14,
          20,
          24,
          20,
          19,
          19,
          24,
          20,
          20,
          24,
          20,
          17,
          19,
          18,
          16,
          29,
          14,
          18,
          17,
          18,
          17,
          20,
          18,
          20,
          20,
          21,
          21,
          21,
          21,
          19,
          21,
          26,
          26,
          26,
          26,
          26,
          20,
          24,
          32,
          31,
          22,
          21,
          21,
          20,
          19,
          19,
          20,
          18,
          21,
          21,
          21,
          18,
          19,
          25,
          25,
          24,
          22,
          20,
          24,
          59,
          14,
          18,
          18,
          13,
          22,
          32,
          32,
          32,
          35,
          33,
          35,
          24,
          21,
          24,
          20,
          21,
          21,
          20,
          21,
          19,
          19,
          24,
          26,
          22,
          16,
          14,
          29,
          15,
          24,
          24,
          38,
          24,
          21,
          24,
          22,
          19,
          18,
          16,
          12,
          24,
          22,
          18,
          15,
          22,
          20,
          20,
          18,
          20,
          20,
          21,
          20,
          19,
          22,
          20
         ],
         "y0": " ",
         "yaxis": "y"
        }
       ],
       "layout": {
        "boxmode": "group",
        "legend": {
         "tracegroupgap": 0
        },
        "margin": {
         "t": 60
        },
        "template": {
         "data": {
          "bar": [
           {
            "error_x": {
             "color": "#2a3f5f"
            },
            "error_y": {
             "color": "#2a3f5f"
            },
            "marker": {
             "line": {
              "color": "#E5ECF6",
              "width": 0.5
             },
             "pattern": {
              "fillmode": "overlay",
              "size": 10,
              "solidity": 0.2
             }
            },
            "type": "bar"
           }
          ],
          "barpolar": [
           {
            "marker": {
             "line": {
              "color": "#E5ECF6",
              "width": 0.5
             },
             "pattern": {
              "fillmode": "overlay",
              "size": 10,
              "solidity": 0.2
             }
            },
            "type": "barpolar"
           }
          ],
          "carpet": [
           {
            "aaxis": {
             "endlinecolor": "#2a3f5f",
             "gridcolor": "white",
             "linecolor": "white",
             "minorgridcolor": "white",
             "startlinecolor": "#2a3f5f"
            },
            "baxis": {
             "endlinecolor": "#2a3f5f",
             "gridcolor": "white",
             "linecolor": "white",
             "minorgridcolor": "white",
             "startlinecolor": "#2a3f5f"
            },
            "type": "carpet"
           }
          ],
          "choropleth": [
           {
            "colorbar": {
             "outlinewidth": 0,
             "ticks": ""
            },
            "type": "choropleth"
           }
          ],
          "contour": [
           {
            "colorbar": {
             "outlinewidth": 0,
             "ticks": ""
            },
            "colorscale": [
             [
              0,
              "#0d0887"
             ],
             [
              0.1111111111111111,
              "#46039f"
             ],
             [
              0.2222222222222222,
              "#7201a8"
             ],
             [
              0.3333333333333333,
              "#9c179e"
             ],
             [
              0.4444444444444444,
              "#bd3786"
             ],
             [
              0.5555555555555556,
              "#d8576b"
             ],
             [
              0.6666666666666666,
              "#ed7953"
             ],
             [
              0.7777777777777778,
              "#fb9f3a"
             ],
             [
              0.8888888888888888,
              "#fdca26"
             ],
             [
              1,
              "#f0f921"
             ]
            ],
            "type": "contour"
           }
          ],
          "contourcarpet": [
           {
            "colorbar": {
             "outlinewidth": 0,
             "ticks": ""
            },
            "type": "contourcarpet"
           }
          ],
          "heatmap": [
           {
            "colorbar": {
             "outlinewidth": 0,
             "ticks": ""
            },
            "colorscale": [
             [
              0,
              "#0d0887"
             ],
             [
              0.1111111111111111,
              "#46039f"
             ],
             [
              0.2222222222222222,
              "#7201a8"
             ],
             [
              0.3333333333333333,
              "#9c179e"
             ],
             [
              0.4444444444444444,
              "#bd3786"
             ],
             [
              0.5555555555555556,
              "#d8576b"
             ],
             [
              0.6666666666666666,
              "#ed7953"
             ],
             [
              0.7777777777777778,
              "#fb9f3a"
             ],
             [
              0.8888888888888888,
              "#fdca26"
             ],
             [
              1,
              "#f0f921"
             ]
            ],
            "type": "heatmap"
           }
          ],
          "heatmapgl": [
           {
            "colorbar": {
             "outlinewidth": 0,
             "ticks": ""
            },
            "colorscale": [
             [
              0,
              "#0d0887"
             ],
             [
              0.1111111111111111,
              "#46039f"
             ],
             [
              0.2222222222222222,
              "#7201a8"
             ],
             [
              0.3333333333333333,
              "#9c179e"
             ],
             [
              0.4444444444444444,
              "#bd3786"
             ],
             [
              0.5555555555555556,
              "#d8576b"
             ],
             [
              0.6666666666666666,
              "#ed7953"
             ],
             [
              0.7777777777777778,
              "#fb9f3a"
             ],
             [
              0.8888888888888888,
              "#fdca26"
             ],
             [
              1,
              "#f0f921"
             ]
            ],
            "type": "heatmapgl"
           }
          ],
          "histogram": [
           {
            "marker": {
             "pattern": {
              "fillmode": "overlay",
              "size": 10,
              "solidity": 0.2
             }
            },
            "type": "histogram"
           }
          ],
          "histogram2d": [
           {
            "colorbar": {
             "outlinewidth": 0,
             "ticks": ""
            },
            "colorscale": [
             [
              0,
              "#0d0887"
             ],
             [
              0.1111111111111111,
              "#46039f"
             ],
             [
              0.2222222222222222,
              "#7201a8"
             ],
             [
              0.3333333333333333,
              "#9c179e"
             ],
             [
              0.4444444444444444,
              "#bd3786"
             ],
             [
              0.5555555555555556,
              "#d8576b"
             ],
             [
              0.6666666666666666,
              "#ed7953"
             ],
             [
              0.7777777777777778,
              "#fb9f3a"
             ],
             [
              0.8888888888888888,
              "#fdca26"
             ],
             [
              1,
              "#f0f921"
             ]
            ],
            "type": "histogram2d"
           }
          ],
          "histogram2dcontour": [
           {
            "colorbar": {
             "outlinewidth": 0,
             "ticks": ""
            },
            "colorscale": [
             [
              0,
              "#0d0887"
             ],
             [
              0.1111111111111111,
              "#46039f"
             ],
             [
              0.2222222222222222,
              "#7201a8"
             ],
             [
              0.3333333333333333,
              "#9c179e"
             ],
             [
              0.4444444444444444,
              "#bd3786"
             ],
             [
              0.5555555555555556,
              "#d8576b"
             ],
             [
              0.6666666666666666,
              "#ed7953"
             ],
             [
              0.7777777777777778,
              "#fb9f3a"
             ],
             [
              0.8888888888888888,
              "#fdca26"
             ],
             [
              1,
              "#f0f921"
             ]
            ],
            "type": "histogram2dcontour"
           }
          ],
          "mesh3d": [
           {
            "colorbar": {
             "outlinewidth": 0,
             "ticks": ""
            },
            "type": "mesh3d"
           }
          ],
          "parcoords": [
           {
            "line": {
             "colorbar": {
              "outlinewidth": 0,
              "ticks": ""
             }
            },
            "type": "parcoords"
           }
          ],
          "pie": [
           {
            "automargin": true,
            "type": "pie"
           }
          ],
          "scatter": [
           {
            "fillpattern": {
             "fillmode": "overlay",
             "size": 10,
             "solidity": 0.2
            },
            "type": "scatter"
           }
          ],
          "scatter3d": [
           {
            "line": {
             "colorbar": {
              "outlinewidth": 0,
              "ticks": ""
             }
            },
            "marker": {
             "colorbar": {
              "outlinewidth": 0,
              "ticks": ""
             }
            },
            "type": "scatter3d"
           }
          ],
          "scattercarpet": [
           {
            "marker": {
             "colorbar": {
              "outlinewidth": 0,
              "ticks": ""
             }
            },
            "type": "scattercarpet"
           }
          ],
          "scattergeo": [
           {
            "marker": {
             "colorbar": {
              "outlinewidth": 0,
              "ticks": ""
             }
            },
            "type": "scattergeo"
           }
          ],
          "scattergl": [
           {
            "marker": {
             "colorbar": {
              "outlinewidth": 0,
              "ticks": ""
             }
            },
            "type": "scattergl"
           }
          ],
          "scattermapbox": [
           {
            "marker": {
             "colorbar": {
              "outlinewidth": 0,
              "ticks": ""
             }
            },
            "type": "scattermapbox"
           }
          ],
          "scatterpolar": [
           {
            "marker": {
             "colorbar": {
              "outlinewidth": 0,
              "ticks": ""
             }
            },
            "type": "scatterpolar"
           }
          ],
          "scatterpolargl": [
           {
            "marker": {
             "colorbar": {
              "outlinewidth": 0,
              "ticks": ""
             }
            },
            "type": "scatterpolargl"
           }
          ],
          "scatterternary": [
           {
            "marker": {
             "colorbar": {
              "outlinewidth": 0,
              "ticks": ""
             }
            },
            "type": "scatterternary"
           }
          ],
          "surface": [
           {
            "colorbar": {
             "outlinewidth": 0,
             "ticks": ""
            },
            "colorscale": [
             [
              0,
              "#0d0887"
             ],
             [
              0.1111111111111111,
              "#46039f"
             ],
             [
              0.2222222222222222,
              "#7201a8"
             ],
             [
              0.3333333333333333,
              "#9c179e"
             ],
             [
              0.4444444444444444,
              "#bd3786"
             ],
             [
              0.5555555555555556,
              "#d8576b"
             ],
             [
              0.6666666666666666,
              "#ed7953"
             ],
             [
              0.7777777777777778,
              "#fb9f3a"
             ],
             [
              0.8888888888888888,
              "#fdca26"
             ],
             [
              1,
              "#f0f921"
             ]
            ],
            "type": "surface"
           }
          ],
          "table": [
           {
            "cells": {
             "fill": {
              "color": "#EBF0F8"
             },
             "line": {
              "color": "white"
             }
            },
            "header": {
             "fill": {
              "color": "#C8D4E3"
             },
             "line": {
              "color": "white"
             }
            },
            "type": "table"
           }
          ]
         },
         "layout": {
          "annotationdefaults": {
           "arrowcolor": "#2a3f5f",
           "arrowhead": 0,
           "arrowwidth": 1
          },
          "autotypenumbers": "strict",
          "coloraxis": {
           "colorbar": {
            "outlinewidth": 0,
            "ticks": ""
           }
          },
          "colorscale": {
           "diverging": [
            [
             0,
             "#8e0152"
            ],
            [
             0.1,
             "#c51b7d"
            ],
            [
             0.2,
             "#de77ae"
            ],
            [
             0.3,
             "#f1b6da"
            ],
            [
             0.4,
             "#fde0ef"
            ],
            [
             0.5,
             "#f7f7f7"
            ],
            [
             0.6,
             "#e6f5d0"
            ],
            [
             0.7,
             "#b8e186"
            ],
            [
             0.8,
             "#7fbc41"
            ],
            [
             0.9,
             "#4d9221"
            ],
            [
             1,
             "#276419"
            ]
           ],
           "sequential": [
            [
             0,
             "#0d0887"
            ],
            [
             0.1111111111111111,
             "#46039f"
            ],
            [
             0.2222222222222222,
             "#7201a8"
            ],
            [
             0.3333333333333333,
             "#9c179e"
            ],
            [
             0.4444444444444444,
             "#bd3786"
            ],
            [
             0.5555555555555556,
             "#d8576b"
            ],
            [
             0.6666666666666666,
             "#ed7953"
            ],
            [
             0.7777777777777778,
             "#fb9f3a"
            ],
            [
             0.8888888888888888,
             "#fdca26"
            ],
            [
             1,
             "#f0f921"
            ]
           ],
           "sequentialminus": [
            [
             0,
             "#0d0887"
            ],
            [
             0.1111111111111111,
             "#46039f"
            ],
            [
             0.2222222222222222,
             "#7201a8"
            ],
            [
             0.3333333333333333,
             "#9c179e"
            ],
            [
             0.4444444444444444,
             "#bd3786"
            ],
            [
             0.5555555555555556,
             "#d8576b"
            ],
            [
             0.6666666666666666,
             "#ed7953"
            ],
            [
             0.7777777777777778,
             "#fb9f3a"
            ],
            [
             0.8888888888888888,
             "#fdca26"
            ],
            [
             1,
             "#f0f921"
            ]
           ]
          },
          "colorway": [
           "#636efa",
           "#EF553B",
           "#00cc96",
           "#ab63fa",
           "#FFA15A",
           "#19d3f3",
           "#FF6692",
           "#B6E880",
           "#FF97FF",
           "#FECB52"
          ],
          "font": {
           "color": "#2a3f5f"
          },
          "geo": {
           "bgcolor": "white",
           "lakecolor": "white",
           "landcolor": "#E5ECF6",
           "showlakes": true,
           "showland": true,
           "subunitcolor": "white"
          },
          "hoverlabel": {
           "align": "left"
          },
          "hovermode": "closest",
          "mapbox": {
           "style": "light"
          },
          "paper_bgcolor": "white",
          "plot_bgcolor": "#E5ECF6",
          "polar": {
           "angularaxis": {
            "gridcolor": "white",
            "linecolor": "white",
            "ticks": ""
           },
           "bgcolor": "#E5ECF6",
           "radialaxis": {
            "gridcolor": "white",
            "linecolor": "white",
            "ticks": ""
           }
          },
          "scene": {
           "xaxis": {
            "backgroundcolor": "#E5ECF6",
            "gridcolor": "white",
            "gridwidth": 2,
            "linecolor": "white",
            "showbackground": true,
            "ticks": "",
            "zerolinecolor": "white"
           },
           "yaxis": {
            "backgroundcolor": "#E5ECF6",
            "gridcolor": "white",
            "gridwidth": 2,
            "linecolor": "white",
            "showbackground": true,
            "ticks": "",
            "zerolinecolor": "white"
           },
           "zaxis": {
            "backgroundcolor": "#E5ECF6",
            "gridcolor": "white",
            "gridwidth": 2,
            "linecolor": "white",
            "showbackground": true,
            "ticks": "",
            "zerolinecolor": "white"
           }
          },
          "shapedefaults": {
           "line": {
            "color": "#2a3f5f"
           }
          },
          "ternary": {
           "aaxis": {
            "gridcolor": "white",
            "linecolor": "white",
            "ticks": ""
           },
           "baxis": {
            "gridcolor": "white",
            "linecolor": "white",
            "ticks": ""
           },
           "bgcolor": "#E5ECF6",
           "caxis": {
            "gridcolor": "white",
            "linecolor": "white",
            "ticks": ""
           }
          },
          "title": {
           "x": 0.05
          },
          "xaxis": {
           "automargin": true,
           "gridcolor": "white",
           "linecolor": "white",
           "ticks": "",
           "title": {
            "standoff": 15
           },
           "zerolinecolor": "white",
           "zerolinewidth": 2
          },
          "yaxis": {
           "automargin": true,
           "gridcolor": "white",
           "linecolor": "white",
           "ticks": "",
           "title": {
            "standoff": 15
           },
           "zerolinecolor": "white",
           "zerolinewidth": 2
          }
         }
        },
        "xaxis": {
         "anchor": "y",
         "domain": [
          0,
          1
         ],
         "title": {
          "text": "Make"
         }
        },
        "yaxis": {
         "anchor": "x",
         "domain": [
          0,
          1
         ],
         "title": {
          "text": "MPG_City"
         }
        }
       }
      }
     },
     "metadata": {},
     "output_type": "display_data"
    }
   ],
   "source": [
    "fig = px.box(df,x= \"Make\",y = \"MPG_City\")\n",
    "fig.show()"
   ]
  },
  {
   "attachments": {},
   "cell_type": "markdown",
   "metadata": {},
   "source": [
    "- En este gráfico podemos ver la distribución de los vehículos por marca, en función de las millas que recorren por galón. Para el caso de cajas más pequeñas, podemos concluir que los vehículos de estas marcas tienden a recorrer las mismas distancias. Pero en el caso de Honda, por ejemplo, podemos ver que sus vehículos no siguen una tendencia en las millas que recorren, lo que hace que el gráfico se vea tan estirado."
   ]
  },
  {
   "cell_type": "code",
   "execution_count": 22,
   "metadata": {},
   "outputs": [
    {
     "data": {
      "application/vnd.plotly.v1+json": {
       "config": {
        "plotlyServerURL": "https://plot.ly"
       },
       "data": [
        {
         "alignmentgroup": "True",
         "hovertemplate": "Type=%{x}<br>MPG_City=%{y}<extra></extra>",
         "legendgroup": "",
         "marker": {
          "color": "#636efa"
         },
         "name": "",
         "notched": false,
         "offsetgroup": "",
         "orientation": "v",
         "showlegend": false,
         "type": "box",
         "x": [
          "SUV",
          "Sedan",
          "Sedan",
          "Sedan",
          "Sedan",
          "Sedan",
          "Sports",
          "Sedan",
          "Sedan",
          "Sedan",
          "Sedan",
          "Sedan",
          "Sedan",
          "Sedan",
          "Sedan",
          "Sedan",
          "Sedan",
          "Sedan",
          "Sedan",
          "Sedan",
          "Sports",
          "Sports",
          "Sports",
          "Sports",
          "Wagon",
          "Wagon",
          "SUV",
          "SUV",
          "Sedan",
          "Sedan",
          "Sedan",
          "Sedan",
          "Sedan",
          "Sedan",
          "Sedan",
          "Sedan",
          "Sedan",
          "Sedan",
          "Sedan",
          "Sedan",
          "Sedan",
          "Sports",
          "Sports",
          "Sports",
          "Sports",
          "Wagon",
          "SUV",
          "SUV",
          "Sedan",
          "Sedan",
          "Sedan",
          "Sedan",
          "Sedan",
          "Sedan",
          "Sedan",
          "SUV",
          "SUV",
          "Sedan",
          "Sedan",
          "Sedan",
          "Sedan",
          "Sports",
          "Truck",
          "SUV",
          "SUV",
          "SUV",
          "SUV",
          "Sedan",
          "Sedan",
          "Sedan",
          "Sedan",
          "Sedan",
          "Sedan",
          "Sedan",
          "Sedan",
          "Sedan",
          "Sedan",
          "Sedan",
          "Sedan",
          "Sedan",
          "Sedan",
          "Sedan",
          "Sports",
          "Sports",
          "Truck",
          "Truck",
          "Truck",
          "Truck",
          "Truck",
          "Wagon",
          "Sedan",
          "Sedan",
          "Sedan",
          "Sedan",
          "Sedan",
          "Sedan",
          "Sedan",
          "Sedan",
          "Sedan",
          "Sedan",
          "Sedan",
          "Sedan",
          "Sedan",
          "Sports",
          "Wagon",
          "SUV",
          "Sedan",
          "Sedan",
          "Sedan",
          "Sedan",
          "Sedan",
          "Sedan",
          "Sedan",
          "Sedan",
          "Sports",
          "Truck",
          "Truck",
          "Truck",
          "SUV",
          "SUV",
          "SUV",
          "SUV",
          "Sedan",
          "Sedan",
          "Sedan",
          "Sedan",
          "Sedan",
          "Sedan",
          "Sedan",
          "Sedan",
          "Sedan",
          "Sedan",
          "Sedan",
          "Sports",
          "Sports",
          "Sports",
          "Truck",
          "Truck",
          "Truck",
          "Wagon",
          "Wagon",
          "SUV",
          "SUV",
          "SUV",
          "Sedan",
          "Truck",
          "Truck",
          "Truck",
          "Truck",
          "Hybrid",
          "Hybrid",
          "SUV",
          "SUV",
          "SUV",
          "Sedan",
          "Sedan",
          "Sedan",
          "Sedan",
          "Sedan",
          "Sedan",
          "Sedan",
          "Sedan",
          "Sedan",
          "Sedan",
          "Sedan",
          "Sports",
          "SUV",
          "SUV",
          "Sedan",
          "Sedan",
          "Sedan",
          "Sedan",
          "Sedan",
          "Sedan",
          "Sedan",
          "Sedan",
          "Sedan",
          "Sedan",
          "Sports",
          "Sedan",
          "Sedan",
          "Sedan",
          "Sedan",
          "Sedan",
          "Sedan",
          "Wagon",
          "Wagon",
          "SUV",
          "SUV",
          "Sedan",
          "Sedan",
          "Sedan",
          "Sedan",
          "Sedan",
          "Sedan",
          "Sedan",
          "Sedan",
          "Sports",
          "Sports",
          "Sports",
          "Sports",
          "SUV",
          "SUV",
          "SUV",
          "SUV",
          "Sedan",
          "Sedan",
          "Sedan",
          "Sedan",
          "Sedan",
          "Sedan",
          "Sedan",
          "Sedan",
          "Sedan",
          "Wagon",
          "SUV",
          "SUV",
          "SUV",
          "SUV",
          "SUV",
          "SUV",
          "Sedan",
          "Sedan",
          "Sedan",
          "Sedan",
          "Sedan",
          "Sedan",
          "Sports",
          "Wagon",
          "SUV",
          "SUV",
          "Sedan",
          "Sedan",
          "Sedan",
          "Sedan",
          "Sedan",
          "Sedan",
          "Sedan",
          "Sedan",
          "Sedan",
          "SUV",
          "Sedan",
          "Sedan",
          "Sedan",
          "Sedan",
          "Sports",
          "Sports",
          "Sports",
          "Sports",
          "Truck",
          "Truck",
          "SUV",
          "SUV",
          "Sedan",
          "Sedan",
          "Sedan",
          "Sedan",
          "Sedan",
          "Sedan",
          "Sedan",
          "Sedan",
          "Sedan",
          "Sedan",
          "Sedan",
          "Sedan",
          "Sedan",
          "Sedan",
          "Sedan",
          "Sedan",
          "Sports",
          "Sports",
          "Sports",
          "Sports",
          "Sports",
          "Wagon",
          "Wagon",
          "Wagon",
          "SUV",
          "Sedan",
          "Sedan",
          "Sedan",
          "Sedan",
          "Sedan",
          "Sedan",
          "Sedan",
          "Wagon",
          "SUV",
          "SUV",
          "SUV",
          "Sedan",
          "Sedan",
          "Sedan",
          "Sedan",
          "Sedan",
          "Sedan",
          "Sports",
          "Sports",
          "Sports",
          "Wagon",
          "SUV",
          "SUV",
          "SUV",
          "Sedan",
          "Sedan",
          "Sedan",
          "Sedan",
          "Sedan",
          "Sedan",
          "Sedan",
          "Sedan",
          "Sedan",
          "Sports",
          "Sports",
          "Truck",
          "Truck",
          "Wagon",
          "Sedan",
          "Sedan",
          "Sedan",
          "SUV",
          "Sedan",
          "Sedan",
          "Sedan",
          "Sedan",
          "Sedan",
          "Sedan",
          "Sedan",
          "Sedan",
          "Sports",
          "Wagon",
          "SUV",
          "Sports",
          "Sports",
          "Sports",
          "Sports",
          "Sports",
          "Sports",
          "Sedan",
          "Sedan",
          "Sedan",
          "Sedan",
          "Sedan",
          "Sedan",
          "Wagon",
          "SUV",
          "Sedan",
          "Sedan",
          "Sedan",
          "Sedan",
          "Sedan",
          "Sedan",
          "Wagon",
          "Sedan",
          "Wagon",
          "Sedan",
          "Sedan",
          "Sedan",
          "Sedan",
          "Sedan",
          "Sedan",
          "Sports",
          "Sports",
          "Truck",
          "Wagon",
          "Wagon",
          "SUV",
          "SUV",
          "Sedan",
          "Sedan",
          "Sedan",
          "Sedan",
          "Sedan",
          "Wagon",
          "Hybrid",
          "SUV",
          "SUV",
          "SUV",
          "SUV",
          "SUV",
          "Sedan",
          "Sedan",
          "Sedan",
          "Sedan",
          "Sedan",
          "Sedan",
          "Sedan",
          "Sedan",
          "Sedan",
          "Sedan",
          "Sedan",
          "Sedan",
          "Sedan",
          "Sedan",
          "Sedan",
          "Sedan",
          "Sports",
          "Sports",
          "Truck",
          "Truck",
          "Truck",
          "Wagon",
          "SUV",
          "Sedan",
          "Sedan",
          "Sedan",
          "Sedan",
          "Sedan",
          "Sedan",
          "Sedan",
          "Sedan",
          "Sedan",
          "Sedan",
          "Sedan",
          "Wagon",
          "Wagon",
          "Wagon",
          "SUV",
          "Sedan",
          "Sedan",
          "Sedan",
          "Sedan",
          "Sedan",
          "Sedan",
          "Sedan",
          "Sedan",
          "Sedan",
          "Wagon",
          "Wagon"
         ],
         "x0": " ",
         "xaxis": "x",
         "y": [
          17,
          24,
          22,
          20,
          18,
          18,
          17,
          22,
          23,
          20,
          17,
          18,
          20,
          18,
          20,
          18,
          18,
          17,
          17,
          14,
          15,
          20,
          20,
          21,
          18,
          15,
          16,
          16,
          20,
          20,
          19,
          19,
          20,
          20,
          20,
          19,
          19,
          20,
          18,
          18,
          18,
          16,
          16,
          20,
          21,
          19,
          15,
          19,
          20,
          20,
          20,
          18,
          20,
          20,
          18,
          14,
          16,
          18,
          18,
          18,
          18,
          17,
          13,
          14,
          14,
          16,
          19,
          28,
          28,
          26,
          26,
          26,
          21,
          24,
          22,
          21,
          20,
          18,
          23,
          18,
          14,
          19,
          18,
          18,
          14,
          18,
          15,
          13,
          16,
          22,
          22,
          22,
          22,
          21,
          18,
          21,
          19,
          21,
          22,
          18,
          21,
          19,
          18,
          17,
          17,
          15,
          29,
          29,
          21,
          21,
          21,
          18,
          20,
          18,
          12,
          16,
          16,
          16,
          10,
          15,
          15,
          18,
          26,
          27,
          26,
          26,
          21,
          20,
          19,
          17,
          17,
          17,
          17,
          20,
          17,
          17,
          15,
          14,
          24,
          26,
          19,
          15,
          16,
          13,
          16,
          18,
          17,
          13,
          15,
          46,
          60,
          17,
          21,
          21,
          32,
          36,
          32,
          26,
          26,
          32,
          26,
          21,
          21,
          18,
          18,
          20,
          10,
          20,
          29,
          29,
          29,
          26,
          26,
          26,
          19,
          19,
          17,
          17,
          19,
          18,
          18,
          18,
          19,
          17,
          17,
          16,
          15,
          15,
          17,
          18,
          18,
          18,
          18,
          17,
          18,
          18,
          17,
          18,
          18,
          16,
          16,
          16,
          20,
          16,
          16,
          23,
          26,
          25,
          24,
          24,
          24,
          20,
          17,
          16,
          26,
          12,
          12,
          18,
          15,
          13,
          18,
          20,
          18,
          18,
          18,
          18,
          18,
          18,
          18,
          13,
          13,
          20,
          20,
          17,
          17,
          17,
          17,
          17,
          28,
          25,
          22,
          26,
          25,
          24,
          18,
          23,
          23,
          18,
          18,
          24,
          15,
          13,
          14,
          22,
          19,
          20,
          19,
          19,
          20,
          19,
          16,
          16,
          13,
          20,
          17,
          19,
          16,
          18,
          16,
          16,
          14,
          13,
          21,
          17,
          19,
          19,
          16,
          16,
          20,
          17,
          17,
          19,
          17,
          17,
          16,
          19,
          17,
          15,
          21,
          25,
          25,
          23,
          25,
          18,
          18,
          21,
          21,
          18,
          25,
          13,
          16,
          17,
          28,
          28,
          21,
          23,
          21,
          20,
          20,
          19,
          18,
          20,
          20,
          17,
          14,
          20,
          24,
          20,
          19,
          19,
          24,
          20,
          20,
          24,
          20,
          17,
          19,
          18,
          16,
          29,
          14,
          18,
          17,
          18,
          17,
          20,
          18,
          20,
          20,
          21,
          21,
          21,
          21,
          19,
          21,
          26,
          26,
          26,
          26,
          26,
          20,
          24,
          32,
          31,
          22,
          21,
          21,
          20,
          19,
          19,
          20,
          18,
          21,
          21,
          21,
          18,
          19,
          25,
          25,
          24,
          22,
          20,
          24,
          59,
          14,
          18,
          18,
          13,
          22,
          32,
          32,
          32,
          35,
          33,
          35,
          24,
          21,
          24,
          20,
          21,
          21,
          20,
          21,
          19,
          19,
          24,
          26,
          22,
          16,
          14,
          29,
          15,
          24,
          24,
          38,
          24,
          21,
          24,
          22,
          19,
          18,
          16,
          12,
          24,
          22,
          18,
          15,
          22,
          20,
          20,
          18,
          20,
          20,
          21,
          20,
          19,
          22,
          20
         ],
         "y0": " ",
         "yaxis": "y"
        }
       ],
       "layout": {
        "boxmode": "group",
        "legend": {
         "tracegroupgap": 0
        },
        "margin": {
         "t": 60
        },
        "template": {
         "data": {
          "bar": [
           {
            "error_x": {
             "color": "#2a3f5f"
            },
            "error_y": {
             "color": "#2a3f5f"
            },
            "marker": {
             "line": {
              "color": "#E5ECF6",
              "width": 0.5
             },
             "pattern": {
              "fillmode": "overlay",
              "size": 10,
              "solidity": 0.2
             }
            },
            "type": "bar"
           }
          ],
          "barpolar": [
           {
            "marker": {
             "line": {
              "color": "#E5ECF6",
              "width": 0.5
             },
             "pattern": {
              "fillmode": "overlay",
              "size": 10,
              "solidity": 0.2
             }
            },
            "type": "barpolar"
           }
          ],
          "carpet": [
           {
            "aaxis": {
             "endlinecolor": "#2a3f5f",
             "gridcolor": "white",
             "linecolor": "white",
             "minorgridcolor": "white",
             "startlinecolor": "#2a3f5f"
            },
            "baxis": {
             "endlinecolor": "#2a3f5f",
             "gridcolor": "white",
             "linecolor": "white",
             "minorgridcolor": "white",
             "startlinecolor": "#2a3f5f"
            },
            "type": "carpet"
           }
          ],
          "choropleth": [
           {
            "colorbar": {
             "outlinewidth": 0,
             "ticks": ""
            },
            "type": "choropleth"
           }
          ],
          "contour": [
           {
            "colorbar": {
             "outlinewidth": 0,
             "ticks": ""
            },
            "colorscale": [
             [
              0,
              "#0d0887"
             ],
             [
              0.1111111111111111,
              "#46039f"
             ],
             [
              0.2222222222222222,
              "#7201a8"
             ],
             [
              0.3333333333333333,
              "#9c179e"
             ],
             [
              0.4444444444444444,
              "#bd3786"
             ],
             [
              0.5555555555555556,
              "#d8576b"
             ],
             [
              0.6666666666666666,
              "#ed7953"
             ],
             [
              0.7777777777777778,
              "#fb9f3a"
             ],
             [
              0.8888888888888888,
              "#fdca26"
             ],
             [
              1,
              "#f0f921"
             ]
            ],
            "type": "contour"
           }
          ],
          "contourcarpet": [
           {
            "colorbar": {
             "outlinewidth": 0,
             "ticks": ""
            },
            "type": "contourcarpet"
           }
          ],
          "heatmap": [
           {
            "colorbar": {
             "outlinewidth": 0,
             "ticks": ""
            },
            "colorscale": [
             [
              0,
              "#0d0887"
             ],
             [
              0.1111111111111111,
              "#46039f"
             ],
             [
              0.2222222222222222,
              "#7201a8"
             ],
             [
              0.3333333333333333,
              "#9c179e"
             ],
             [
              0.4444444444444444,
              "#bd3786"
             ],
             [
              0.5555555555555556,
              "#d8576b"
             ],
             [
              0.6666666666666666,
              "#ed7953"
             ],
             [
              0.7777777777777778,
              "#fb9f3a"
             ],
             [
              0.8888888888888888,
              "#fdca26"
             ],
             [
              1,
              "#f0f921"
             ]
            ],
            "type": "heatmap"
           }
          ],
          "heatmapgl": [
           {
            "colorbar": {
             "outlinewidth": 0,
             "ticks": ""
            },
            "colorscale": [
             [
              0,
              "#0d0887"
             ],
             [
              0.1111111111111111,
              "#46039f"
             ],
             [
              0.2222222222222222,
              "#7201a8"
             ],
             [
              0.3333333333333333,
              "#9c179e"
             ],
             [
              0.4444444444444444,
              "#bd3786"
             ],
             [
              0.5555555555555556,
              "#d8576b"
             ],
             [
              0.6666666666666666,
              "#ed7953"
             ],
             [
              0.7777777777777778,
              "#fb9f3a"
             ],
             [
              0.8888888888888888,
              "#fdca26"
             ],
             [
              1,
              "#f0f921"
             ]
            ],
            "type": "heatmapgl"
           }
          ],
          "histogram": [
           {
            "marker": {
             "pattern": {
              "fillmode": "overlay",
              "size": 10,
              "solidity": 0.2
             }
            },
            "type": "histogram"
           }
          ],
          "histogram2d": [
           {
            "colorbar": {
             "outlinewidth": 0,
             "ticks": ""
            },
            "colorscale": [
             [
              0,
              "#0d0887"
             ],
             [
              0.1111111111111111,
              "#46039f"
             ],
             [
              0.2222222222222222,
              "#7201a8"
             ],
             [
              0.3333333333333333,
              "#9c179e"
             ],
             [
              0.4444444444444444,
              "#bd3786"
             ],
             [
              0.5555555555555556,
              "#d8576b"
             ],
             [
              0.6666666666666666,
              "#ed7953"
             ],
             [
              0.7777777777777778,
              "#fb9f3a"
             ],
             [
              0.8888888888888888,
              "#fdca26"
             ],
             [
              1,
              "#f0f921"
             ]
            ],
            "type": "histogram2d"
           }
          ],
          "histogram2dcontour": [
           {
            "colorbar": {
             "outlinewidth": 0,
             "ticks": ""
            },
            "colorscale": [
             [
              0,
              "#0d0887"
             ],
             [
              0.1111111111111111,
              "#46039f"
             ],
             [
              0.2222222222222222,
              "#7201a8"
             ],
             [
              0.3333333333333333,
              "#9c179e"
             ],
             [
              0.4444444444444444,
              "#bd3786"
             ],
             [
              0.5555555555555556,
              "#d8576b"
             ],
             [
              0.6666666666666666,
              "#ed7953"
             ],
             [
              0.7777777777777778,
              "#fb9f3a"
             ],
             [
              0.8888888888888888,
              "#fdca26"
             ],
             [
              1,
              "#f0f921"
             ]
            ],
            "type": "histogram2dcontour"
           }
          ],
          "mesh3d": [
           {
            "colorbar": {
             "outlinewidth": 0,
             "ticks": ""
            },
            "type": "mesh3d"
           }
          ],
          "parcoords": [
           {
            "line": {
             "colorbar": {
              "outlinewidth": 0,
              "ticks": ""
             }
            },
            "type": "parcoords"
           }
          ],
          "pie": [
           {
            "automargin": true,
            "type": "pie"
           }
          ],
          "scatter": [
           {
            "fillpattern": {
             "fillmode": "overlay",
             "size": 10,
             "solidity": 0.2
            },
            "type": "scatter"
           }
          ],
          "scatter3d": [
           {
            "line": {
             "colorbar": {
              "outlinewidth": 0,
              "ticks": ""
             }
            },
            "marker": {
             "colorbar": {
              "outlinewidth": 0,
              "ticks": ""
             }
            },
            "type": "scatter3d"
           }
          ],
          "scattercarpet": [
           {
            "marker": {
             "colorbar": {
              "outlinewidth": 0,
              "ticks": ""
             }
            },
            "type": "scattercarpet"
           }
          ],
          "scattergeo": [
           {
            "marker": {
             "colorbar": {
              "outlinewidth": 0,
              "ticks": ""
             }
            },
            "type": "scattergeo"
           }
          ],
          "scattergl": [
           {
            "marker": {
             "colorbar": {
              "outlinewidth": 0,
              "ticks": ""
             }
            },
            "type": "scattergl"
           }
          ],
          "scattermapbox": [
           {
            "marker": {
             "colorbar": {
              "outlinewidth": 0,
              "ticks": ""
             }
            },
            "type": "scattermapbox"
           }
          ],
          "scatterpolar": [
           {
            "marker": {
             "colorbar": {
              "outlinewidth": 0,
              "ticks": ""
             }
            },
            "type": "scatterpolar"
           }
          ],
          "scatterpolargl": [
           {
            "marker": {
             "colorbar": {
              "outlinewidth": 0,
              "ticks": ""
             }
            },
            "type": "scatterpolargl"
           }
          ],
          "scatterternary": [
           {
            "marker": {
             "colorbar": {
              "outlinewidth": 0,
              "ticks": ""
             }
            },
            "type": "scatterternary"
           }
          ],
          "surface": [
           {
            "colorbar": {
             "outlinewidth": 0,
             "ticks": ""
            },
            "colorscale": [
             [
              0,
              "#0d0887"
             ],
             [
              0.1111111111111111,
              "#46039f"
             ],
             [
              0.2222222222222222,
              "#7201a8"
             ],
             [
              0.3333333333333333,
              "#9c179e"
             ],
             [
              0.4444444444444444,
              "#bd3786"
             ],
             [
              0.5555555555555556,
              "#d8576b"
             ],
             [
              0.6666666666666666,
              "#ed7953"
             ],
             [
              0.7777777777777778,
              "#fb9f3a"
             ],
             [
              0.8888888888888888,
              "#fdca26"
             ],
             [
              1,
              "#f0f921"
             ]
            ],
            "type": "surface"
           }
          ],
          "table": [
           {
            "cells": {
             "fill": {
              "color": "#EBF0F8"
             },
             "line": {
              "color": "white"
             }
            },
            "header": {
             "fill": {
              "color": "#C8D4E3"
             },
             "line": {
              "color": "white"
             }
            },
            "type": "table"
           }
          ]
         },
         "layout": {
          "annotationdefaults": {
           "arrowcolor": "#2a3f5f",
           "arrowhead": 0,
           "arrowwidth": 1
          },
          "autotypenumbers": "strict",
          "coloraxis": {
           "colorbar": {
            "outlinewidth": 0,
            "ticks": ""
           }
          },
          "colorscale": {
           "diverging": [
            [
             0,
             "#8e0152"
            ],
            [
             0.1,
             "#c51b7d"
            ],
            [
             0.2,
             "#de77ae"
            ],
            [
             0.3,
             "#f1b6da"
            ],
            [
             0.4,
             "#fde0ef"
            ],
            [
             0.5,
             "#f7f7f7"
            ],
            [
             0.6,
             "#e6f5d0"
            ],
            [
             0.7,
             "#b8e186"
            ],
            [
             0.8,
             "#7fbc41"
            ],
            [
             0.9,
             "#4d9221"
            ],
            [
             1,
             "#276419"
            ]
           ],
           "sequential": [
            [
             0,
             "#0d0887"
            ],
            [
             0.1111111111111111,
             "#46039f"
            ],
            [
             0.2222222222222222,
             "#7201a8"
            ],
            [
             0.3333333333333333,
             "#9c179e"
            ],
            [
             0.4444444444444444,
             "#bd3786"
            ],
            [
             0.5555555555555556,
             "#d8576b"
            ],
            [
             0.6666666666666666,
             "#ed7953"
            ],
            [
             0.7777777777777778,
             "#fb9f3a"
            ],
            [
             0.8888888888888888,
             "#fdca26"
            ],
            [
             1,
             "#f0f921"
            ]
           ],
           "sequentialminus": [
            [
             0,
             "#0d0887"
            ],
            [
             0.1111111111111111,
             "#46039f"
            ],
            [
             0.2222222222222222,
             "#7201a8"
            ],
            [
             0.3333333333333333,
             "#9c179e"
            ],
            [
             0.4444444444444444,
             "#bd3786"
            ],
            [
             0.5555555555555556,
             "#d8576b"
            ],
            [
             0.6666666666666666,
             "#ed7953"
            ],
            [
             0.7777777777777778,
             "#fb9f3a"
            ],
            [
             0.8888888888888888,
             "#fdca26"
            ],
            [
             1,
             "#f0f921"
            ]
           ]
          },
          "colorway": [
           "#636efa",
           "#EF553B",
           "#00cc96",
           "#ab63fa",
           "#FFA15A",
           "#19d3f3",
           "#FF6692",
           "#B6E880",
           "#FF97FF",
           "#FECB52"
          ],
          "font": {
           "color": "#2a3f5f"
          },
          "geo": {
           "bgcolor": "white",
           "lakecolor": "white",
           "landcolor": "#E5ECF6",
           "showlakes": true,
           "showland": true,
           "subunitcolor": "white"
          },
          "hoverlabel": {
           "align": "left"
          },
          "hovermode": "closest",
          "mapbox": {
           "style": "light"
          },
          "paper_bgcolor": "white",
          "plot_bgcolor": "#E5ECF6",
          "polar": {
           "angularaxis": {
            "gridcolor": "white",
            "linecolor": "white",
            "ticks": ""
           },
           "bgcolor": "#E5ECF6",
           "radialaxis": {
            "gridcolor": "white",
            "linecolor": "white",
            "ticks": ""
           }
          },
          "scene": {
           "xaxis": {
            "backgroundcolor": "#E5ECF6",
            "gridcolor": "white",
            "gridwidth": 2,
            "linecolor": "white",
            "showbackground": true,
            "ticks": "",
            "zerolinecolor": "white"
           },
           "yaxis": {
            "backgroundcolor": "#E5ECF6",
            "gridcolor": "white",
            "gridwidth": 2,
            "linecolor": "white",
            "showbackground": true,
            "ticks": "",
            "zerolinecolor": "white"
           },
           "zaxis": {
            "backgroundcolor": "#E5ECF6",
            "gridcolor": "white",
            "gridwidth": 2,
            "linecolor": "white",
            "showbackground": true,
            "ticks": "",
            "zerolinecolor": "white"
           }
          },
          "shapedefaults": {
           "line": {
            "color": "#2a3f5f"
           }
          },
          "ternary": {
           "aaxis": {
            "gridcolor": "white",
            "linecolor": "white",
            "ticks": ""
           },
           "baxis": {
            "gridcolor": "white",
            "linecolor": "white",
            "ticks": ""
           },
           "bgcolor": "#E5ECF6",
           "caxis": {
            "gridcolor": "white",
            "linecolor": "white",
            "ticks": ""
           }
          },
          "title": {
           "x": 0.05
          },
          "xaxis": {
           "automargin": true,
           "gridcolor": "white",
           "linecolor": "white",
           "ticks": "",
           "title": {
            "standoff": 15
           },
           "zerolinecolor": "white",
           "zerolinewidth": 2
          },
          "yaxis": {
           "automargin": true,
           "gridcolor": "white",
           "linecolor": "white",
           "ticks": "",
           "title": {
            "standoff": 15
           },
           "zerolinecolor": "white",
           "zerolinewidth": 2
          }
         }
        },
        "xaxis": {
         "anchor": "y",
         "domain": [
          0,
          1
         ],
         "title": {
          "text": "Type"
         }
        },
        "yaxis": {
         "anchor": "x",
         "domain": [
          0,
          1
         ],
         "title": {
          "text": "MPG_City"
         }
        }
       }
      }
     },
     "metadata": {},
     "output_type": "display_data"
    }
   ],
   "source": [
    "\n",
    "fig = px.box(df,x= \"Type\",y = \"MPG_City\")\n",
    "fig.show()"
   ]
  },
  {
   "attachments": {},
   "cell_type": "markdown",
   "metadata": {},
   "source": [
    "- Con respecto al tipo de vehículo, podemos ver que los más eficientes son los híbridos, ya que se evidencia su alta eficiencia al recorrer tantas millas a un bajo coste; los demás parecen estar alrededor de las 20 millas por galón y no parecen tener cambios significativos entre sí."
   ]
  },
  {
   "cell_type": "code",
   "execution_count": 23,
   "metadata": {},
   "outputs": [
    {
     "data": {
      "application/vnd.plotly.v1+json": {
       "config": {
        "plotlyServerURL": "https://plot.ly"
       },
       "data": [
        {
         "alignmentgroup": "True",
         "hovertemplate": "Origin=%{x}<br>MPG_City=%{y}<extra></extra>",
         "legendgroup": "",
         "marker": {
          "color": "#636efa"
         },
         "name": "",
         "notched": false,
         "offsetgroup": "",
         "orientation": "v",
         "showlegend": false,
         "type": "box",
         "x": [
          "Asia",
          "Asia",
          "Asia",
          "Asia",
          "Asia",
          "Asia",
          "Asia",
          "Europe",
          "Europe",
          "Europe",
          "Europe",
          "Europe",
          "Europe",
          "Europe",
          "Europe",
          "Europe",
          "Europe",
          "Europe",
          "Europe",
          "Europe",
          "Europe",
          "Europe",
          "Europe",
          "Europe",
          "Europe",
          "Europe",
          "Europe",
          "Europe",
          "Europe",
          "Europe",
          "Europe",
          "Europe",
          "Europe",
          "Europe",
          "Europe",
          "Europe",
          "Europe",
          "Europe",
          "Europe",
          "Europe",
          "Europe",
          "Europe",
          "Europe",
          "Europe",
          "Europe",
          "Europe",
          "USA",
          "USA",
          "USA",
          "USA",
          "USA",
          "USA",
          "USA",
          "USA",
          "USA",
          "USA",
          "USA",
          "USA",
          "USA",
          "USA",
          "USA",
          "USA",
          "USA",
          "USA",
          "USA",
          "USA",
          "USA",
          "USA",
          "USA",
          "USA",
          "USA",
          "USA",
          "USA",
          "USA",
          "USA",
          "USA",
          "USA",
          "USA",
          "USA",
          "USA",
          "USA",
          "USA",
          "USA",
          "USA",
          "USA",
          "USA",
          "USA",
          "USA",
          "USA",
          "USA",
          "USA",
          "USA",
          "USA",
          "USA",
          "USA",
          "USA",
          "USA",
          "USA",
          "USA",
          "USA",
          "USA",
          "USA",
          "USA",
          "USA",
          "USA",
          "USA",
          "USA",
          "USA",
          "USA",
          "USA",
          "USA",
          "USA",
          "USA",
          "USA",
          "USA",
          "USA",
          "USA",
          "USA",
          "USA",
          "USA",
          "USA",
          "USA",
          "USA",
          "USA",
          "USA",
          "USA",
          "USA",
          "USA",
          "USA",
          "USA",
          "USA",
          "USA",
          "USA",
          "USA",
          "USA",
          "USA",
          "USA",
          "USA",
          "USA",
          "USA",
          "USA",
          "USA",
          "USA",
          "USA",
          "USA",
          "USA",
          "USA",
          "USA",
          "USA",
          "Asia",
          "Asia",
          "Asia",
          "Asia",
          "Asia",
          "Asia",
          "Asia",
          "Asia",
          "Asia",
          "Asia",
          "Asia",
          "Asia",
          "Asia",
          "Asia",
          "Asia",
          "Asia",
          "Asia",
          "USA",
          "Asia",
          "Asia",
          "Asia",
          "Asia",
          "Asia",
          "Asia",
          "Asia",
          "Asia",
          "Asia",
          "Asia",
          "Asia",
          "Asia",
          "Asia",
          "Asia",
          "Asia",
          "Asia",
          "Asia",
          "Asia",
          "Asia",
          "Asia",
          "Asia",
          "Asia",
          "Europe",
          "Europe",
          "Europe",
          "Europe",
          "Europe",
          "Europe",
          "Europe",
          "Europe",
          "Europe",
          "Europe",
          "Europe",
          "Europe",
          "USA",
          "USA",
          "USA",
          "Asia",
          "Asia",
          "Asia",
          "Asia",
          "Asia",
          "Asia",
          "Asia",
          "Asia",
          "Asia",
          "Asia",
          "Asia",
          "Europe",
          "Europe",
          "Europe",
          "Asia",
          "Asia",
          "Asia",
          "Asia",
          "Asia",
          "Asia",
          "Asia",
          "Asia",
          "Asia",
          "Asia",
          "Asia",
          "USA",
          "USA",
          "USA",
          "USA",
          "USA",
          "USA",
          "USA",
          "USA",
          "USA",
          "Europe",
          "Europe",
          "Asia",
          "Asia",
          "Asia",
          "Asia",
          "Asia",
          "Asia",
          "Asia",
          "Asia",
          "Asia",
          "Asia",
          "Asia",
          "Europe",
          "Europe",
          "Europe",
          "Europe",
          "Europe",
          "Europe",
          "Europe",
          "Europe",
          "Europe",
          "Europe",
          "Europe",
          "Europe",
          "Europe",
          "Europe",
          "Europe",
          "Europe",
          "Europe",
          "Europe",
          "Europe",
          "Europe",
          "Europe",
          "Europe",
          "Europe",
          "Europe",
          "Europe",
          "Europe",
          "USA",
          "USA",
          "USA",
          "USA",
          "USA",
          "USA",
          "USA",
          "USA",
          "USA",
          "Asia",
          "Asia",
          "Asia",
          "Asia",
          "Asia",
          "Asia",
          "Asia",
          "Asia",
          "Asia",
          "Asia",
          "Asia",
          "Asia",
          "Asia",
          "Asia",
          "Asia",
          "Asia",
          "Asia",
          "Asia",
          "Asia",
          "Asia",
          "Asia",
          "Asia",
          "Asia",
          "Asia",
          "Asia",
          "Asia",
          "Asia",
          "Asia",
          "Asia",
          "Asia",
          "USA",
          "USA",
          "USA",
          "USA",
          "USA",
          "USA",
          "USA",
          "USA",
          "USA",
          "USA",
          "USA",
          "USA",
          "USA",
          "USA",
          "Europe",
          "Europe",
          "Europe",
          "Europe",
          "Europe",
          "Europe",
          "Europe",
          "Europe",
          "Europe",
          "Europe",
          "Europe",
          "Europe",
          "Europe",
          "Europe",
          "USA",
          "USA",
          "USA",
          "USA",
          "USA",
          "USA",
          "USA",
          "USA",
          "Asia",
          "Asia",
          "Asia",
          "Asia",
          "Asia",
          "Asia",
          "Asia",
          "Asia",
          "Asia",
          "Asia",
          "Asia",
          "Asia",
          "Asia",
          "Asia",
          "Asia",
          "Asia",
          "Asia",
          "Asia",
          "Asia",
          "Asia",
          "Asia",
          "Asia",
          "Asia",
          "Asia",
          "Asia",
          "Asia",
          "Asia",
          "Asia",
          "Asia",
          "Asia",
          "Asia",
          "Asia",
          "Asia",
          "Asia",
          "Asia",
          "Asia",
          "Asia",
          "Asia",
          "Asia",
          "Asia",
          "Asia",
          "Asia",
          "Asia",
          "Asia",
          "Asia",
          "Asia",
          "Asia",
          "Asia",
          "Asia",
          "Europe",
          "Europe",
          "Europe",
          "Europe",
          "Europe",
          "Europe",
          "Europe",
          "Europe",
          "Europe",
          "Europe",
          "Europe",
          "Europe",
          "Europe",
          "Europe",
          "Europe",
          "Europe",
          "Europe",
          "Europe",
          "Europe",
          "Europe",
          "Europe",
          "Europe",
          "Europe",
          "Europe",
          "Europe",
          "Europe",
          "Europe"
         ],
         "x0": " ",
         "xaxis": "x",
         "y": [
          17,
          24,
          22,
          20,
          18,
          18,
          17,
          22,
          23,
          20,
          17,
          18,
          20,
          18,
          20,
          18,
          18,
          17,
          17,
          14,
          15,
          20,
          20,
          21,
          18,
          15,
          16,
          16,
          20,
          20,
          19,
          19,
          20,
          20,
          20,
          19,
          19,
          20,
          18,
          18,
          18,
          16,
          16,
          20,
          21,
          19,
          15,
          19,
          20,
          20,
          20,
          18,
          20,
          20,
          18,
          14,
          16,
          18,
          18,
          18,
          18,
          17,
          13,
          14,
          14,
          16,
          19,
          28,
          28,
          26,
          26,
          26,
          21,
          24,
          22,
          21,
          20,
          18,
          23,
          18,
          14,
          19,
          18,
          18,
          14,
          18,
          15,
          13,
          16,
          22,
          22,
          22,
          22,
          21,
          18,
          21,
          19,
          21,
          22,
          18,
          21,
          19,
          18,
          17,
          17,
          15,
          29,
          29,
          21,
          21,
          21,
          18,
          20,
          18,
          12,
          16,
          16,
          16,
          10,
          15,
          15,
          18,
          26,
          27,
          26,
          26,
          21,
          20,
          19,
          17,
          17,
          17,
          17,
          20,
          17,
          17,
          15,
          14,
          24,
          26,
          19,
          15,
          16,
          13,
          16,
          18,
          17,
          13,
          15,
          46,
          60,
          17,
          21,
          21,
          32,
          36,
          32,
          26,
          26,
          32,
          26,
          21,
          21,
          18,
          18,
          20,
          10,
          20,
          29,
          29,
          29,
          26,
          26,
          26,
          19,
          19,
          17,
          17,
          19,
          18,
          18,
          18,
          19,
          17,
          17,
          16,
          15,
          15,
          17,
          18,
          18,
          18,
          18,
          17,
          18,
          18,
          17,
          18,
          18,
          16,
          16,
          16,
          20,
          16,
          16,
          23,
          26,
          25,
          24,
          24,
          24,
          20,
          17,
          16,
          26,
          12,
          12,
          18,
          15,
          13,
          18,
          20,
          18,
          18,
          18,
          18,
          18,
          18,
          18,
          13,
          13,
          20,
          20,
          17,
          17,
          17,
          17,
          17,
          28,
          25,
          22,
          26,
          25,
          24,
          18,
          23,
          23,
          18,
          18,
          24,
          15,
          13,
          14,
          22,
          19,
          20,
          19,
          19,
          20,
          19,
          16,
          16,
          13,
          20,
          17,
          19,
          16,
          18,
          16,
          16,
          14,
          13,
          21,
          17,
          19,
          19,
          16,
          16,
          20,
          17,
          17,
          19,
          17,
          17,
          16,
          19,
          17,
          15,
          21,
          25,
          25,
          23,
          25,
          18,
          18,
          21,
          21,
          18,
          25,
          13,
          16,
          17,
          28,
          28,
          21,
          23,
          21,
          20,
          20,
          19,
          18,
          20,
          20,
          17,
          14,
          20,
          24,
          20,
          19,
          19,
          24,
          20,
          20,
          24,
          20,
          17,
          19,
          18,
          16,
          29,
          14,
          18,
          17,
          18,
          17,
          20,
          18,
          20,
          20,
          21,
          21,
          21,
          21,
          19,
          21,
          26,
          26,
          26,
          26,
          26,
          20,
          24,
          32,
          31,
          22,
          21,
          21,
          20,
          19,
          19,
          20,
          18,
          21,
          21,
          21,
          18,
          19,
          25,
          25,
          24,
          22,
          20,
          24,
          59,
          14,
          18,
          18,
          13,
          22,
          32,
          32,
          32,
          35,
          33,
          35,
          24,
          21,
          24,
          20,
          21,
          21,
          20,
          21,
          19,
          19,
          24,
          26,
          22,
          16,
          14,
          29,
          15,
          24,
          24,
          38,
          24,
          21,
          24,
          22,
          19,
          18,
          16,
          12,
          24,
          22,
          18,
          15,
          22,
          20,
          20,
          18,
          20,
          20,
          21,
          20,
          19,
          22,
          20
         ],
         "y0": " ",
         "yaxis": "y"
        }
       ],
       "layout": {
        "boxmode": "group",
        "legend": {
         "tracegroupgap": 0
        },
        "margin": {
         "t": 60
        },
        "template": {
         "data": {
          "bar": [
           {
            "error_x": {
             "color": "#2a3f5f"
            },
            "error_y": {
             "color": "#2a3f5f"
            },
            "marker": {
             "line": {
              "color": "#E5ECF6",
              "width": 0.5
             },
             "pattern": {
              "fillmode": "overlay",
              "size": 10,
              "solidity": 0.2
             }
            },
            "type": "bar"
           }
          ],
          "barpolar": [
           {
            "marker": {
             "line": {
              "color": "#E5ECF6",
              "width": 0.5
             },
             "pattern": {
              "fillmode": "overlay",
              "size": 10,
              "solidity": 0.2
             }
            },
            "type": "barpolar"
           }
          ],
          "carpet": [
           {
            "aaxis": {
             "endlinecolor": "#2a3f5f",
             "gridcolor": "white",
             "linecolor": "white",
             "minorgridcolor": "white",
             "startlinecolor": "#2a3f5f"
            },
            "baxis": {
             "endlinecolor": "#2a3f5f",
             "gridcolor": "white",
             "linecolor": "white",
             "minorgridcolor": "white",
             "startlinecolor": "#2a3f5f"
            },
            "type": "carpet"
           }
          ],
          "choropleth": [
           {
            "colorbar": {
             "outlinewidth": 0,
             "ticks": ""
            },
            "type": "choropleth"
           }
          ],
          "contour": [
           {
            "colorbar": {
             "outlinewidth": 0,
             "ticks": ""
            },
            "colorscale": [
             [
              0,
              "#0d0887"
             ],
             [
              0.1111111111111111,
              "#46039f"
             ],
             [
              0.2222222222222222,
              "#7201a8"
             ],
             [
              0.3333333333333333,
              "#9c179e"
             ],
             [
              0.4444444444444444,
              "#bd3786"
             ],
             [
              0.5555555555555556,
              "#d8576b"
             ],
             [
              0.6666666666666666,
              "#ed7953"
             ],
             [
              0.7777777777777778,
              "#fb9f3a"
             ],
             [
              0.8888888888888888,
              "#fdca26"
             ],
             [
              1,
              "#f0f921"
             ]
            ],
            "type": "contour"
           }
          ],
          "contourcarpet": [
           {
            "colorbar": {
             "outlinewidth": 0,
             "ticks": ""
            },
            "type": "contourcarpet"
           }
          ],
          "heatmap": [
           {
            "colorbar": {
             "outlinewidth": 0,
             "ticks": ""
            },
            "colorscale": [
             [
              0,
              "#0d0887"
             ],
             [
              0.1111111111111111,
              "#46039f"
             ],
             [
              0.2222222222222222,
              "#7201a8"
             ],
             [
              0.3333333333333333,
              "#9c179e"
             ],
             [
              0.4444444444444444,
              "#bd3786"
             ],
             [
              0.5555555555555556,
              "#d8576b"
             ],
             [
              0.6666666666666666,
              "#ed7953"
             ],
             [
              0.7777777777777778,
              "#fb9f3a"
             ],
             [
              0.8888888888888888,
              "#fdca26"
             ],
             [
              1,
              "#f0f921"
             ]
            ],
            "type": "heatmap"
           }
          ],
          "heatmapgl": [
           {
            "colorbar": {
             "outlinewidth": 0,
             "ticks": ""
            },
            "colorscale": [
             [
              0,
              "#0d0887"
             ],
             [
              0.1111111111111111,
              "#46039f"
             ],
             [
              0.2222222222222222,
              "#7201a8"
             ],
             [
              0.3333333333333333,
              "#9c179e"
             ],
             [
              0.4444444444444444,
              "#bd3786"
             ],
             [
              0.5555555555555556,
              "#d8576b"
             ],
             [
              0.6666666666666666,
              "#ed7953"
             ],
             [
              0.7777777777777778,
              "#fb9f3a"
             ],
             [
              0.8888888888888888,
              "#fdca26"
             ],
             [
              1,
              "#f0f921"
             ]
            ],
            "type": "heatmapgl"
           }
          ],
          "histogram": [
           {
            "marker": {
             "pattern": {
              "fillmode": "overlay",
              "size": 10,
              "solidity": 0.2
             }
            },
            "type": "histogram"
           }
          ],
          "histogram2d": [
           {
            "colorbar": {
             "outlinewidth": 0,
             "ticks": ""
            },
            "colorscale": [
             [
              0,
              "#0d0887"
             ],
             [
              0.1111111111111111,
              "#46039f"
             ],
             [
              0.2222222222222222,
              "#7201a8"
             ],
             [
              0.3333333333333333,
              "#9c179e"
             ],
             [
              0.4444444444444444,
              "#bd3786"
             ],
             [
              0.5555555555555556,
              "#d8576b"
             ],
             [
              0.6666666666666666,
              "#ed7953"
             ],
             [
              0.7777777777777778,
              "#fb9f3a"
             ],
             [
              0.8888888888888888,
              "#fdca26"
             ],
             [
              1,
              "#f0f921"
             ]
            ],
            "type": "histogram2d"
           }
          ],
          "histogram2dcontour": [
           {
            "colorbar": {
             "outlinewidth": 0,
             "ticks": ""
            },
            "colorscale": [
             [
              0,
              "#0d0887"
             ],
             [
              0.1111111111111111,
              "#46039f"
             ],
             [
              0.2222222222222222,
              "#7201a8"
             ],
             [
              0.3333333333333333,
              "#9c179e"
             ],
             [
              0.4444444444444444,
              "#bd3786"
             ],
             [
              0.5555555555555556,
              "#d8576b"
             ],
             [
              0.6666666666666666,
              "#ed7953"
             ],
             [
              0.7777777777777778,
              "#fb9f3a"
             ],
             [
              0.8888888888888888,
              "#fdca26"
             ],
             [
              1,
              "#f0f921"
             ]
            ],
            "type": "histogram2dcontour"
           }
          ],
          "mesh3d": [
           {
            "colorbar": {
             "outlinewidth": 0,
             "ticks": ""
            },
            "type": "mesh3d"
           }
          ],
          "parcoords": [
           {
            "line": {
             "colorbar": {
              "outlinewidth": 0,
              "ticks": ""
             }
            },
            "type": "parcoords"
           }
          ],
          "pie": [
           {
            "automargin": true,
            "type": "pie"
           }
          ],
          "scatter": [
           {
            "fillpattern": {
             "fillmode": "overlay",
             "size": 10,
             "solidity": 0.2
            },
            "type": "scatter"
           }
          ],
          "scatter3d": [
           {
            "line": {
             "colorbar": {
              "outlinewidth": 0,
              "ticks": ""
             }
            },
            "marker": {
             "colorbar": {
              "outlinewidth": 0,
              "ticks": ""
             }
            },
            "type": "scatter3d"
           }
          ],
          "scattercarpet": [
           {
            "marker": {
             "colorbar": {
              "outlinewidth": 0,
              "ticks": ""
             }
            },
            "type": "scattercarpet"
           }
          ],
          "scattergeo": [
           {
            "marker": {
             "colorbar": {
              "outlinewidth": 0,
              "ticks": ""
             }
            },
            "type": "scattergeo"
           }
          ],
          "scattergl": [
           {
            "marker": {
             "colorbar": {
              "outlinewidth": 0,
              "ticks": ""
             }
            },
            "type": "scattergl"
           }
          ],
          "scattermapbox": [
           {
            "marker": {
             "colorbar": {
              "outlinewidth": 0,
              "ticks": ""
             }
            },
            "type": "scattermapbox"
           }
          ],
          "scatterpolar": [
           {
            "marker": {
             "colorbar": {
              "outlinewidth": 0,
              "ticks": ""
             }
            },
            "type": "scatterpolar"
           }
          ],
          "scatterpolargl": [
           {
            "marker": {
             "colorbar": {
              "outlinewidth": 0,
              "ticks": ""
             }
            },
            "type": "scatterpolargl"
           }
          ],
          "scatterternary": [
           {
            "marker": {
             "colorbar": {
              "outlinewidth": 0,
              "ticks": ""
             }
            },
            "type": "scatterternary"
           }
          ],
          "surface": [
           {
            "colorbar": {
             "outlinewidth": 0,
             "ticks": ""
            },
            "colorscale": [
             [
              0,
              "#0d0887"
             ],
             [
              0.1111111111111111,
              "#46039f"
             ],
             [
              0.2222222222222222,
              "#7201a8"
             ],
             [
              0.3333333333333333,
              "#9c179e"
             ],
             [
              0.4444444444444444,
              "#bd3786"
             ],
             [
              0.5555555555555556,
              "#d8576b"
             ],
             [
              0.6666666666666666,
              "#ed7953"
             ],
             [
              0.7777777777777778,
              "#fb9f3a"
             ],
             [
              0.8888888888888888,
              "#fdca26"
             ],
             [
              1,
              "#f0f921"
             ]
            ],
            "type": "surface"
           }
          ],
          "table": [
           {
            "cells": {
             "fill": {
              "color": "#EBF0F8"
             },
             "line": {
              "color": "white"
             }
            },
            "header": {
             "fill": {
              "color": "#C8D4E3"
             },
             "line": {
              "color": "white"
             }
            },
            "type": "table"
           }
          ]
         },
         "layout": {
          "annotationdefaults": {
           "arrowcolor": "#2a3f5f",
           "arrowhead": 0,
           "arrowwidth": 1
          },
          "autotypenumbers": "strict",
          "coloraxis": {
           "colorbar": {
            "outlinewidth": 0,
            "ticks": ""
           }
          },
          "colorscale": {
           "diverging": [
            [
             0,
             "#8e0152"
            ],
            [
             0.1,
             "#c51b7d"
            ],
            [
             0.2,
             "#de77ae"
            ],
            [
             0.3,
             "#f1b6da"
            ],
            [
             0.4,
             "#fde0ef"
            ],
            [
             0.5,
             "#f7f7f7"
            ],
            [
             0.6,
             "#e6f5d0"
            ],
            [
             0.7,
             "#b8e186"
            ],
            [
             0.8,
             "#7fbc41"
            ],
            [
             0.9,
             "#4d9221"
            ],
            [
             1,
             "#276419"
            ]
           ],
           "sequential": [
            [
             0,
             "#0d0887"
            ],
            [
             0.1111111111111111,
             "#46039f"
            ],
            [
             0.2222222222222222,
             "#7201a8"
            ],
            [
             0.3333333333333333,
             "#9c179e"
            ],
            [
             0.4444444444444444,
             "#bd3786"
            ],
            [
             0.5555555555555556,
             "#d8576b"
            ],
            [
             0.6666666666666666,
             "#ed7953"
            ],
            [
             0.7777777777777778,
             "#fb9f3a"
            ],
            [
             0.8888888888888888,
             "#fdca26"
            ],
            [
             1,
             "#f0f921"
            ]
           ],
           "sequentialminus": [
            [
             0,
             "#0d0887"
            ],
            [
             0.1111111111111111,
             "#46039f"
            ],
            [
             0.2222222222222222,
             "#7201a8"
            ],
            [
             0.3333333333333333,
             "#9c179e"
            ],
            [
             0.4444444444444444,
             "#bd3786"
            ],
            [
             0.5555555555555556,
             "#d8576b"
            ],
            [
             0.6666666666666666,
             "#ed7953"
            ],
            [
             0.7777777777777778,
             "#fb9f3a"
            ],
            [
             0.8888888888888888,
             "#fdca26"
            ],
            [
             1,
             "#f0f921"
            ]
           ]
          },
          "colorway": [
           "#636efa",
           "#EF553B",
           "#00cc96",
           "#ab63fa",
           "#FFA15A",
           "#19d3f3",
           "#FF6692",
           "#B6E880",
           "#FF97FF",
           "#FECB52"
          ],
          "font": {
           "color": "#2a3f5f"
          },
          "geo": {
           "bgcolor": "white",
           "lakecolor": "white",
           "landcolor": "#E5ECF6",
           "showlakes": true,
           "showland": true,
           "subunitcolor": "white"
          },
          "hoverlabel": {
           "align": "left"
          },
          "hovermode": "closest",
          "mapbox": {
           "style": "light"
          },
          "paper_bgcolor": "white",
          "plot_bgcolor": "#E5ECF6",
          "polar": {
           "angularaxis": {
            "gridcolor": "white",
            "linecolor": "white",
            "ticks": ""
           },
           "bgcolor": "#E5ECF6",
           "radialaxis": {
            "gridcolor": "white",
            "linecolor": "white",
            "ticks": ""
           }
          },
          "scene": {
           "xaxis": {
            "backgroundcolor": "#E5ECF6",
            "gridcolor": "white",
            "gridwidth": 2,
            "linecolor": "white",
            "showbackground": true,
            "ticks": "",
            "zerolinecolor": "white"
           },
           "yaxis": {
            "backgroundcolor": "#E5ECF6",
            "gridcolor": "white",
            "gridwidth": 2,
            "linecolor": "white",
            "showbackground": true,
            "ticks": "",
            "zerolinecolor": "white"
           },
           "zaxis": {
            "backgroundcolor": "#E5ECF6",
            "gridcolor": "white",
            "gridwidth": 2,
            "linecolor": "white",
            "showbackground": true,
            "ticks": "",
            "zerolinecolor": "white"
           }
          },
          "shapedefaults": {
           "line": {
            "color": "#2a3f5f"
           }
          },
          "ternary": {
           "aaxis": {
            "gridcolor": "white",
            "linecolor": "white",
            "ticks": ""
           },
           "baxis": {
            "gridcolor": "white",
            "linecolor": "white",
            "ticks": ""
           },
           "bgcolor": "#E5ECF6",
           "caxis": {
            "gridcolor": "white",
            "linecolor": "white",
            "ticks": ""
           }
          },
          "title": {
           "x": 0.05
          },
          "xaxis": {
           "automargin": true,
           "gridcolor": "white",
           "linecolor": "white",
           "ticks": "",
           "title": {
            "standoff": 15
           },
           "zerolinecolor": "white",
           "zerolinewidth": 2
          },
          "yaxis": {
           "automargin": true,
           "gridcolor": "white",
           "linecolor": "white",
           "ticks": "",
           "title": {
            "standoff": 15
           },
           "zerolinecolor": "white",
           "zerolinewidth": 2
          }
         }
        },
        "xaxis": {
         "anchor": "y",
         "domain": [
          0,
          1
         ],
         "title": {
          "text": "Origin"
         }
        },
        "yaxis": {
         "anchor": "x",
         "domain": [
          0,
          1
         ],
         "title": {
          "text": "MPG_City"
         }
        }
       }
      }
     },
     "metadata": {},
     "output_type": "display_data"
    }
   ],
   "source": [
    "fig = px.box(df,x= \"Origin\",y = \"MPG_City\")\n",
    "fig.show()"
   ]
  },
  {
   "attachments": {},
   "cell_type": "markdown",
   "metadata": {},
   "source": [
    "- La relación de las millas por galón con el origen de los vehículos, no varía mucho. Lo que si es destacable, es la cantidad de datos atípicos de los vehículos asiáticos."
   ]
  },
  {
   "cell_type": "code",
   "execution_count": 24,
   "metadata": {},
   "outputs": [
    {
     "data": {
      "application/vnd.plotly.v1+json": {
       "config": {
        "plotlyServerURL": "https://plot.ly"
       },
       "data": [
        {
         "alignmentgroup": "True",
         "hovertemplate": "DriveTrain=%{x}<br>MPG_City=%{y}<extra></extra>",
         "legendgroup": "",
         "marker": {
          "color": "#636efa"
         },
         "name": "",
         "notched": false,
         "offsetgroup": "",
         "orientation": "v",
         "showlegend": false,
         "type": "box",
         "x": [
          "All",
          "Front",
          "Front",
          "Front",
          "Front",
          "Front",
          "Rear",
          "Front",
          "Front",
          "Front",
          "All",
          "All",
          "Front",
          "All",
          "Front",
          "All",
          "All",
          "All",
          "All",
          "All",
          "Front",
          "Front",
          "All",
          "All",
          "All",
          "All",
          "All",
          "All",
          "Rear",
          "Rear",
          "Rear",
          "All",
          "Rear",
          "Rear",
          "All",
          "Rear",
          "Rear",
          "Rear",
          "Rear",
          "Rear",
          "Rear",
          "Rear",
          "Rear",
          "Rear",
          "Rear",
          "All",
          "All",
          "Front",
          "Front",
          "Front",
          "Front",
          "Front",
          "Front",
          "Front",
          "Front",
          "Front",
          "Front",
          "Rear",
          "Front",
          "Front",
          "Front",
          "Rear",
          "All",
          "Front",
          "All",
          "Front",
          "Front",
          "Front",
          "Front",
          "Front",
          "Front",
          "Front",
          "Front",
          "Front",
          "Front",
          "Front",
          "Front",
          "Front",
          "Front",
          "Front",
          "All",
          "Front",
          "Rear",
          "Rear",
          "All",
          "All",
          "Rear",
          "All",
          "Rear",
          "Front",
          "Front",
          "Front",
          "Front",
          "Front",
          "Front",
          "Front",
          "Front",
          "Front",
          "Front",
          "Front",
          "Front",
          "Front",
          "Front",
          "Rear",
          "Rear",
          "All",
          "Front",
          "Front",
          "Front",
          "Front",
          "Front",
          "Front",
          "Front",
          "All",
          "Rear",
          "Rear",
          "Rear",
          "Rear",
          "All",
          "Front",
          "All",
          "All",
          "Front",
          "Front",
          "Front",
          "Front",
          "Front",
          "Front",
          "Front",
          "Rear",
          "Rear",
          "Rear",
          "Front",
          "Rear",
          "Rear",
          "Front",
          "Rear",
          "All",
          "Rear",
          "Front",
          "Front",
          "Front",
          "Front",
          "All",
          "Rear",
          "Rear",
          "Rear",
          "All",
          "All",
          "Front",
          "Front",
          "All",
          "All",
          "All",
          "Front",
          "Front",
          "Front",
          "Front",
          "Front",
          "Front",
          "Front",
          "Front",
          "Front",
          "Front",
          "Front",
          "Rear",
          "All",
          "Front",
          "Front",
          "Front",
          "Front",
          "Front",
          "Front",
          "Front",
          "Front",
          "Front",
          "Front",
          "Front",
          "Front",
          "Rear",
          "Rear",
          "All",
          "Front",
          "Rear",
          "Rear",
          "Rear",
          "All",
          "All",
          "Front",
          "All",
          "All",
          "Rear",
          "Rear",
          "Rear",
          "Rear",
          "Rear",
          "Rear",
          "Rear",
          "Rear",
          "Rear",
          "Rear",
          "Front",
          "All",
          "All",
          "Front",
          "Front",
          "Front",
          "Front",
          "Front",
          "Front",
          "Front",
          "Front",
          "Front",
          "Front",
          "Front",
          "All",
          "All",
          "All",
          "All",
          "All",
          "All",
          "Front",
          "Rear",
          "Rear",
          "Rear",
          "Rear",
          "Rear",
          "Rear",
          "Rear",
          "All",
          "Front",
          "Rear",
          "Rear",
          "Rear",
          "Rear",
          "Rear",
          "Rear",
          "Rear",
          "Front",
          "Front",
          "All",
          "Front",
          "Front",
          "Front",
          "Front",
          "Rear",
          "Rear",
          "Rear",
          "Rear",
          "Rear",
          "All",
          "All",
          "All",
          "Rear",
          "Rear",
          "Rear",
          "All",
          "Rear",
          "Rear",
          "All",
          "Rear",
          "Rear",
          "Rear",
          "Rear",
          "Rear",
          "Rear",
          "Rear",
          "Rear",
          "All",
          "Rear",
          "Rear",
          "Rear",
          "Rear",
          "Rear",
          "Rear",
          "Rear",
          "All",
          "Front",
          "Front",
          "Rear",
          "Rear",
          "Front",
          "Rear",
          "Rear",
          "Front",
          "Front",
          "All",
          "All",
          "Front",
          "Front",
          "Front",
          "Front",
          "Front",
          "Front",
          "Front",
          "Front",
          "Front",
          "Front",
          "Front",
          "Front",
          "Front",
          "Front",
          "Front",
          "Front",
          "Front",
          "Front",
          "Front",
          "Front",
          "Front",
          "Front",
          "Front",
          "Rear",
          "Rear",
          "All",
          "All",
          "Rear",
          "Front",
          "Front",
          "Front",
          "Front",
          "Front",
          "Front",
          "Front",
          "Front",
          "Front",
          "Front",
          "Front",
          "All",
          "Rear",
          "Rear",
          "All",
          "Rear",
          "All",
          "Rear",
          "Rear",
          "Rear",
          "Rear",
          "Front",
          "Front",
          "Front",
          "Front",
          "Front",
          "Front",
          "Front",
          "All",
          "Front",
          "Front",
          "Front",
          "Front",
          "Front",
          "Front",
          "Front",
          "Front",
          "Front",
          "All",
          "All",
          "All",
          "All",
          "All",
          "All",
          "All",
          "All",
          "All",
          "All",
          "All",
          "Front",
          "All",
          "Front",
          "Front",
          "Front",
          "Front",
          "Front",
          "All",
          "Front",
          "All",
          "Front",
          "All",
          "All",
          "All",
          "Front",
          "Front",
          "Front",
          "Front",
          "Front",
          "Front",
          "Front",
          "Front",
          "Front",
          "Front",
          "Front",
          "Front",
          "Front",
          "Front",
          "Front",
          "Front",
          "Front",
          "Rear",
          "Rear",
          "Rear",
          "All",
          "Front",
          "All",
          "Front",
          "Front",
          "Front",
          "Front",
          "Front",
          "Front",
          "Front",
          "Front",
          "Front",
          "Front",
          "Front",
          "Front",
          "Front",
          "Front",
          "All",
          "Front",
          "All",
          "Front",
          "All",
          "Front",
          "All",
          "Front",
          "Front",
          "Front",
          "Front",
          "All"
         ],
         "x0": " ",
         "xaxis": "x",
         "y": [
          17,
          24,
          22,
          20,
          18,
          18,
          17,
          22,
          23,
          20,
          17,
          18,
          20,
          18,
          20,
          18,
          18,
          17,
          17,
          14,
          15,
          20,
          20,
          21,
          18,
          15,
          16,
          16,
          20,
          20,
          19,
          19,
          20,
          20,
          20,
          19,
          19,
          20,
          18,
          18,
          18,
          16,
          16,
          20,
          21,
          19,
          15,
          19,
          20,
          20,
          20,
          18,
          20,
          20,
          18,
          14,
          16,
          18,
          18,
          18,
          18,
          17,
          13,
          14,
          14,
          16,
          19,
          28,
          28,
          26,
          26,
          26,
          21,
          24,
          22,
          21,
          20,
          18,
          23,
          18,
          14,
          19,
          18,
          18,
          14,
          18,
          15,
          13,
          16,
          22,
          22,
          22,
          22,
          21,
          18,
          21,
          19,
          21,
          22,
          18,
          21,
          19,
          18,
          17,
          17,
          15,
          29,
          29,
          21,
          21,
          21,
          18,
          20,
          18,
          12,
          16,
          16,
          16,
          10,
          15,
          15,
          18,
          26,
          27,
          26,
          26,
          21,
          20,
          19,
          17,
          17,
          17,
          17,
          20,
          17,
          17,
          15,
          14,
          24,
          26,
          19,
          15,
          16,
          13,
          16,
          18,
          17,
          13,
          15,
          46,
          60,
          17,
          21,
          21,
          32,
          36,
          32,
          26,
          26,
          32,
          26,
          21,
          21,
          18,
          18,
          20,
          10,
          20,
          29,
          29,
          29,
          26,
          26,
          26,
          19,
          19,
          17,
          17,
          19,
          18,
          18,
          18,
          19,
          17,
          17,
          16,
          15,
          15,
          17,
          18,
          18,
          18,
          18,
          17,
          18,
          18,
          17,
          18,
          18,
          16,
          16,
          16,
          20,
          16,
          16,
          23,
          26,
          25,
          24,
          24,
          24,
          20,
          17,
          16,
          26,
          12,
          12,
          18,
          15,
          13,
          18,
          20,
          18,
          18,
          18,
          18,
          18,
          18,
          18,
          13,
          13,
          20,
          20,
          17,
          17,
          17,
          17,
          17,
          28,
          25,
          22,
          26,
          25,
          24,
          18,
          23,
          23,
          18,
          18,
          24,
          15,
          13,
          14,
          22,
          19,
          20,
          19,
          19,
          20,
          19,
          16,
          16,
          13,
          20,
          17,
          19,
          16,
          18,
          16,
          16,
          14,
          13,
          21,
          17,
          19,
          19,
          16,
          16,
          20,
          17,
          17,
          19,
          17,
          17,
          16,
          19,
          17,
          15,
          21,
          25,
          25,
          23,
          25,
          18,
          18,
          21,
          21,
          18,
          25,
          13,
          16,
          17,
          28,
          28,
          21,
          23,
          21,
          20,
          20,
          19,
          18,
          20,
          20,
          17,
          14,
          20,
          24,
          20,
          19,
          19,
          24,
          20,
          20,
          24,
          20,
          17,
          19,
          18,
          16,
          29,
          14,
          18,
          17,
          18,
          17,
          20,
          18,
          20,
          20,
          21,
          21,
          21,
          21,
          19,
          21,
          26,
          26,
          26,
          26,
          26,
          20,
          24,
          32,
          31,
          22,
          21,
          21,
          20,
          19,
          19,
          20,
          18,
          21,
          21,
          21,
          18,
          19,
          25,
          25,
          24,
          22,
          20,
          24,
          59,
          14,
          18,
          18,
          13,
          22,
          32,
          32,
          32,
          35,
          33,
          35,
          24,
          21,
          24,
          20,
          21,
          21,
          20,
          21,
          19,
          19,
          24,
          26,
          22,
          16,
          14,
          29,
          15,
          24,
          24,
          38,
          24,
          21,
          24,
          22,
          19,
          18,
          16,
          12,
          24,
          22,
          18,
          15,
          22,
          20,
          20,
          18,
          20,
          20,
          21,
          20,
          19,
          22,
          20
         ],
         "y0": " ",
         "yaxis": "y"
        }
       ],
       "layout": {
        "boxmode": "group",
        "legend": {
         "tracegroupgap": 0
        },
        "margin": {
         "t": 60
        },
        "template": {
         "data": {
          "bar": [
           {
            "error_x": {
             "color": "#2a3f5f"
            },
            "error_y": {
             "color": "#2a3f5f"
            },
            "marker": {
             "line": {
              "color": "#E5ECF6",
              "width": 0.5
             },
             "pattern": {
              "fillmode": "overlay",
              "size": 10,
              "solidity": 0.2
             }
            },
            "type": "bar"
           }
          ],
          "barpolar": [
           {
            "marker": {
             "line": {
              "color": "#E5ECF6",
              "width": 0.5
             },
             "pattern": {
              "fillmode": "overlay",
              "size": 10,
              "solidity": 0.2
             }
            },
            "type": "barpolar"
           }
          ],
          "carpet": [
           {
            "aaxis": {
             "endlinecolor": "#2a3f5f",
             "gridcolor": "white",
             "linecolor": "white",
             "minorgridcolor": "white",
             "startlinecolor": "#2a3f5f"
            },
            "baxis": {
             "endlinecolor": "#2a3f5f",
             "gridcolor": "white",
             "linecolor": "white",
             "minorgridcolor": "white",
             "startlinecolor": "#2a3f5f"
            },
            "type": "carpet"
           }
          ],
          "choropleth": [
           {
            "colorbar": {
             "outlinewidth": 0,
             "ticks": ""
            },
            "type": "choropleth"
           }
          ],
          "contour": [
           {
            "colorbar": {
             "outlinewidth": 0,
             "ticks": ""
            },
            "colorscale": [
             [
              0,
              "#0d0887"
             ],
             [
              0.1111111111111111,
              "#46039f"
             ],
             [
              0.2222222222222222,
              "#7201a8"
             ],
             [
              0.3333333333333333,
              "#9c179e"
             ],
             [
              0.4444444444444444,
              "#bd3786"
             ],
             [
              0.5555555555555556,
              "#d8576b"
             ],
             [
              0.6666666666666666,
              "#ed7953"
             ],
             [
              0.7777777777777778,
              "#fb9f3a"
             ],
             [
              0.8888888888888888,
              "#fdca26"
             ],
             [
              1,
              "#f0f921"
             ]
            ],
            "type": "contour"
           }
          ],
          "contourcarpet": [
           {
            "colorbar": {
             "outlinewidth": 0,
             "ticks": ""
            },
            "type": "contourcarpet"
           }
          ],
          "heatmap": [
           {
            "colorbar": {
             "outlinewidth": 0,
             "ticks": ""
            },
            "colorscale": [
             [
              0,
              "#0d0887"
             ],
             [
              0.1111111111111111,
              "#46039f"
             ],
             [
              0.2222222222222222,
              "#7201a8"
             ],
             [
              0.3333333333333333,
              "#9c179e"
             ],
             [
              0.4444444444444444,
              "#bd3786"
             ],
             [
              0.5555555555555556,
              "#d8576b"
             ],
             [
              0.6666666666666666,
              "#ed7953"
             ],
             [
              0.7777777777777778,
              "#fb9f3a"
             ],
             [
              0.8888888888888888,
              "#fdca26"
             ],
             [
              1,
              "#f0f921"
             ]
            ],
            "type": "heatmap"
           }
          ],
          "heatmapgl": [
           {
            "colorbar": {
             "outlinewidth": 0,
             "ticks": ""
            },
            "colorscale": [
             [
              0,
              "#0d0887"
             ],
             [
              0.1111111111111111,
              "#46039f"
             ],
             [
              0.2222222222222222,
              "#7201a8"
             ],
             [
              0.3333333333333333,
              "#9c179e"
             ],
             [
              0.4444444444444444,
              "#bd3786"
             ],
             [
              0.5555555555555556,
              "#d8576b"
             ],
             [
              0.6666666666666666,
              "#ed7953"
             ],
             [
              0.7777777777777778,
              "#fb9f3a"
             ],
             [
              0.8888888888888888,
              "#fdca26"
             ],
             [
              1,
              "#f0f921"
             ]
            ],
            "type": "heatmapgl"
           }
          ],
          "histogram": [
           {
            "marker": {
             "pattern": {
              "fillmode": "overlay",
              "size": 10,
              "solidity": 0.2
             }
            },
            "type": "histogram"
           }
          ],
          "histogram2d": [
           {
            "colorbar": {
             "outlinewidth": 0,
             "ticks": ""
            },
            "colorscale": [
             [
              0,
              "#0d0887"
             ],
             [
              0.1111111111111111,
              "#46039f"
             ],
             [
              0.2222222222222222,
              "#7201a8"
             ],
             [
              0.3333333333333333,
              "#9c179e"
             ],
             [
              0.4444444444444444,
              "#bd3786"
             ],
             [
              0.5555555555555556,
              "#d8576b"
             ],
             [
              0.6666666666666666,
              "#ed7953"
             ],
             [
              0.7777777777777778,
              "#fb9f3a"
             ],
             [
              0.8888888888888888,
              "#fdca26"
             ],
             [
              1,
              "#f0f921"
             ]
            ],
            "type": "histogram2d"
           }
          ],
          "histogram2dcontour": [
           {
            "colorbar": {
             "outlinewidth": 0,
             "ticks": ""
            },
            "colorscale": [
             [
              0,
              "#0d0887"
             ],
             [
              0.1111111111111111,
              "#46039f"
             ],
             [
              0.2222222222222222,
              "#7201a8"
             ],
             [
              0.3333333333333333,
              "#9c179e"
             ],
             [
              0.4444444444444444,
              "#bd3786"
             ],
             [
              0.5555555555555556,
              "#d8576b"
             ],
             [
              0.6666666666666666,
              "#ed7953"
             ],
             [
              0.7777777777777778,
              "#fb9f3a"
             ],
             [
              0.8888888888888888,
              "#fdca26"
             ],
             [
              1,
              "#f0f921"
             ]
            ],
            "type": "histogram2dcontour"
           }
          ],
          "mesh3d": [
           {
            "colorbar": {
             "outlinewidth": 0,
             "ticks": ""
            },
            "type": "mesh3d"
           }
          ],
          "parcoords": [
           {
            "line": {
             "colorbar": {
              "outlinewidth": 0,
              "ticks": ""
             }
            },
            "type": "parcoords"
           }
          ],
          "pie": [
           {
            "automargin": true,
            "type": "pie"
           }
          ],
          "scatter": [
           {
            "fillpattern": {
             "fillmode": "overlay",
             "size": 10,
             "solidity": 0.2
            },
            "type": "scatter"
           }
          ],
          "scatter3d": [
           {
            "line": {
             "colorbar": {
              "outlinewidth": 0,
              "ticks": ""
             }
            },
            "marker": {
             "colorbar": {
              "outlinewidth": 0,
              "ticks": ""
             }
            },
            "type": "scatter3d"
           }
          ],
          "scattercarpet": [
           {
            "marker": {
             "colorbar": {
              "outlinewidth": 0,
              "ticks": ""
             }
            },
            "type": "scattercarpet"
           }
          ],
          "scattergeo": [
           {
            "marker": {
             "colorbar": {
              "outlinewidth": 0,
              "ticks": ""
             }
            },
            "type": "scattergeo"
           }
          ],
          "scattergl": [
           {
            "marker": {
             "colorbar": {
              "outlinewidth": 0,
              "ticks": ""
             }
            },
            "type": "scattergl"
           }
          ],
          "scattermapbox": [
           {
            "marker": {
             "colorbar": {
              "outlinewidth": 0,
              "ticks": ""
             }
            },
            "type": "scattermapbox"
           }
          ],
          "scatterpolar": [
           {
            "marker": {
             "colorbar": {
              "outlinewidth": 0,
              "ticks": ""
             }
            },
            "type": "scatterpolar"
           }
          ],
          "scatterpolargl": [
           {
            "marker": {
             "colorbar": {
              "outlinewidth": 0,
              "ticks": ""
             }
            },
            "type": "scatterpolargl"
           }
          ],
          "scatterternary": [
           {
            "marker": {
             "colorbar": {
              "outlinewidth": 0,
              "ticks": ""
             }
            },
            "type": "scatterternary"
           }
          ],
          "surface": [
           {
            "colorbar": {
             "outlinewidth": 0,
             "ticks": ""
            },
            "colorscale": [
             [
              0,
              "#0d0887"
             ],
             [
              0.1111111111111111,
              "#46039f"
             ],
             [
              0.2222222222222222,
              "#7201a8"
             ],
             [
              0.3333333333333333,
              "#9c179e"
             ],
             [
              0.4444444444444444,
              "#bd3786"
             ],
             [
              0.5555555555555556,
              "#d8576b"
             ],
             [
              0.6666666666666666,
              "#ed7953"
             ],
             [
              0.7777777777777778,
              "#fb9f3a"
             ],
             [
              0.8888888888888888,
              "#fdca26"
             ],
             [
              1,
              "#f0f921"
             ]
            ],
            "type": "surface"
           }
          ],
          "table": [
           {
            "cells": {
             "fill": {
              "color": "#EBF0F8"
             },
             "line": {
              "color": "white"
             }
            },
            "header": {
             "fill": {
              "color": "#C8D4E3"
             },
             "line": {
              "color": "white"
             }
            },
            "type": "table"
           }
          ]
         },
         "layout": {
          "annotationdefaults": {
           "arrowcolor": "#2a3f5f",
           "arrowhead": 0,
           "arrowwidth": 1
          },
          "autotypenumbers": "strict",
          "coloraxis": {
           "colorbar": {
            "outlinewidth": 0,
            "ticks": ""
           }
          },
          "colorscale": {
           "diverging": [
            [
             0,
             "#8e0152"
            ],
            [
             0.1,
             "#c51b7d"
            ],
            [
             0.2,
             "#de77ae"
            ],
            [
             0.3,
             "#f1b6da"
            ],
            [
             0.4,
             "#fde0ef"
            ],
            [
             0.5,
             "#f7f7f7"
            ],
            [
             0.6,
             "#e6f5d0"
            ],
            [
             0.7,
             "#b8e186"
            ],
            [
             0.8,
             "#7fbc41"
            ],
            [
             0.9,
             "#4d9221"
            ],
            [
             1,
             "#276419"
            ]
           ],
           "sequential": [
            [
             0,
             "#0d0887"
            ],
            [
             0.1111111111111111,
             "#46039f"
            ],
            [
             0.2222222222222222,
             "#7201a8"
            ],
            [
             0.3333333333333333,
             "#9c179e"
            ],
            [
             0.4444444444444444,
             "#bd3786"
            ],
            [
             0.5555555555555556,
             "#d8576b"
            ],
            [
             0.6666666666666666,
             "#ed7953"
            ],
            [
             0.7777777777777778,
             "#fb9f3a"
            ],
            [
             0.8888888888888888,
             "#fdca26"
            ],
            [
             1,
             "#f0f921"
            ]
           ],
           "sequentialminus": [
            [
             0,
             "#0d0887"
            ],
            [
             0.1111111111111111,
             "#46039f"
            ],
            [
             0.2222222222222222,
             "#7201a8"
            ],
            [
             0.3333333333333333,
             "#9c179e"
            ],
            [
             0.4444444444444444,
             "#bd3786"
            ],
            [
             0.5555555555555556,
             "#d8576b"
            ],
            [
             0.6666666666666666,
             "#ed7953"
            ],
            [
             0.7777777777777778,
             "#fb9f3a"
            ],
            [
             0.8888888888888888,
             "#fdca26"
            ],
            [
             1,
             "#f0f921"
            ]
           ]
          },
          "colorway": [
           "#636efa",
           "#EF553B",
           "#00cc96",
           "#ab63fa",
           "#FFA15A",
           "#19d3f3",
           "#FF6692",
           "#B6E880",
           "#FF97FF",
           "#FECB52"
          ],
          "font": {
           "color": "#2a3f5f"
          },
          "geo": {
           "bgcolor": "white",
           "lakecolor": "white",
           "landcolor": "#E5ECF6",
           "showlakes": true,
           "showland": true,
           "subunitcolor": "white"
          },
          "hoverlabel": {
           "align": "left"
          },
          "hovermode": "closest",
          "mapbox": {
           "style": "light"
          },
          "paper_bgcolor": "white",
          "plot_bgcolor": "#E5ECF6",
          "polar": {
           "angularaxis": {
            "gridcolor": "white",
            "linecolor": "white",
            "ticks": ""
           },
           "bgcolor": "#E5ECF6",
           "radialaxis": {
            "gridcolor": "white",
            "linecolor": "white",
            "ticks": ""
           }
          },
          "scene": {
           "xaxis": {
            "backgroundcolor": "#E5ECF6",
            "gridcolor": "white",
            "gridwidth": 2,
            "linecolor": "white",
            "showbackground": true,
            "ticks": "",
            "zerolinecolor": "white"
           },
           "yaxis": {
            "backgroundcolor": "#E5ECF6",
            "gridcolor": "white",
            "gridwidth": 2,
            "linecolor": "white",
            "showbackground": true,
            "ticks": "",
            "zerolinecolor": "white"
           },
           "zaxis": {
            "backgroundcolor": "#E5ECF6",
            "gridcolor": "white",
            "gridwidth": 2,
            "linecolor": "white",
            "showbackground": true,
            "ticks": "",
            "zerolinecolor": "white"
           }
          },
          "shapedefaults": {
           "line": {
            "color": "#2a3f5f"
           }
          },
          "ternary": {
           "aaxis": {
            "gridcolor": "white",
            "linecolor": "white",
            "ticks": ""
           },
           "baxis": {
            "gridcolor": "white",
            "linecolor": "white",
            "ticks": ""
           },
           "bgcolor": "#E5ECF6",
           "caxis": {
            "gridcolor": "white",
            "linecolor": "white",
            "ticks": ""
           }
          },
          "title": {
           "x": 0.05
          },
          "xaxis": {
           "automargin": true,
           "gridcolor": "white",
           "linecolor": "white",
           "ticks": "",
           "title": {
            "standoff": 15
           },
           "zerolinecolor": "white",
           "zerolinewidth": 2
          },
          "yaxis": {
           "automargin": true,
           "gridcolor": "white",
           "linecolor": "white",
           "ticks": "",
           "title": {
            "standoff": 15
           },
           "zerolinecolor": "white",
           "zerolinewidth": 2
          }
         }
        },
        "xaxis": {
         "anchor": "y",
         "domain": [
          0,
          1
         ],
         "title": {
          "text": "DriveTrain"
         }
        },
        "yaxis": {
         "anchor": "x",
         "domain": [
          0,
          1
         ],
         "title": {
          "text": "MPG_City"
         }
        }
       }
      }
     },
     "metadata": {},
     "output_type": "display_data"
    }
   ],
   "source": [
    "\n",
    "fig = px.box(df,x = \"DriveTrain\", y = \"MPG_City\")\n",
    "fig.show()"
   ]
  },
  {
   "attachments": {},
   "cell_type": "markdown",
   "metadata": {},
   "source": [
    "- A partir del tipo de tracción, se puede concluir que los vehículos de tracción frontal, recorren más millas por galón que los otros, esto sin descartar el hecho de que hay demasiada variabilidad de los datos en este tipo de vehículo, lo que posiblemente esté afectando la interpretación de los datos."
   ]
  },
  {
   "attachments": {},
   "cell_type": "markdown",
   "metadata": {},
   "source": [
    "### 2.2.2. Variables numéricas vas a crear un scatter plot.Explique cómo interpreta el gráfico\n"
   ]
  },
  {
   "cell_type": "code",
   "execution_count": 25,
   "metadata": {},
   "outputs": [
    {
     "data": {
      "application/vnd.plotly.v1+json": {
       "config": {
        "plotlyServerURL": "https://plot.ly"
       },
       "data": [
        {
         "dimensions": [
          {
           "axis": {
            "matches": true
           },
           "label": "MPG_City",
           "values": [
            -0.5843109001367838,
            0.7520215096416921,
            0.37021224970498473,
            -0.011597010231722688,
            -0.3934062701684301,
            -0.3934062701684301,
            -0.5843109001367838,
            0.37021224970498473,
            0.5611168796733385,
            -0.011597010231722688,
            -0.5843109001367838,
            -0.3934062701684301,
            -0.011597010231722688,
            -0.3934062701684301,
            -0.011597010231722688,
            -0.3934062701684301,
            -0.3934062701684301,
            -0.5843109001367838,
            -0.5843109001367838,
            -1.1570247900418449,
            -0.9661201600734912,
            -0.011597010231722688,
            -0.011597010231722688,
            0.179307619736631,
            -0.3934062701684301,
            -0.9661201600734912,
            -0.7752155301051374,
            -0.7752155301051374,
            -0.011597010231722688,
            -0.011597010231722688,
            -0.20250164020007638,
            -0.20250164020007638,
            -0.011597010231722688,
            -0.011597010231722688,
            -0.011597010231722688,
            -0.20250164020007638,
            -0.20250164020007638,
            -0.011597010231722688,
            -0.3934062701684301,
            -0.3934062701684301,
            -0.3934062701684301,
            -0.7752155301051374,
            -0.7752155301051374,
            -0.011597010231722688,
            0.179307619736631,
            -0.20250164020007638,
            -0.9661201600734912,
            -0.20250164020007638,
            -0.011597010231722688,
            -0.011597010231722688,
            -0.011597010231722688,
            -0.3934062701684301,
            -0.011597010231722688,
            -0.011597010231722688,
            -0.3934062701684301,
            -1.1570247900418449,
            -0.7752155301051374,
            -0.3934062701684301,
            -0.3934062701684301,
            -0.3934062701684301,
            -0.3934062701684301,
            -0.5843109001367838,
            -1.3479294200101986,
            -1.1570247900418449,
            -1.1570247900418449,
            -0.7752155301051374,
            -0.20250164020007638,
            1.515640029515107,
            1.515640029515107,
            1.1338307695783996,
            1.1338307695783996,
            1.1338307695783996,
            0.179307619736631,
            0.7520215096416921,
            0.37021224970498473,
            0.179307619736631,
            -0.011597010231722688,
            -0.3934062701684301,
            0.5611168796733385,
            -0.3934062701684301,
            -1.1570247900418449,
            -0.20250164020007638,
            -0.3934062701684301,
            -0.3934062701684301,
            -1.1570247900418449,
            -0.3934062701684301,
            -0.9661201600734912,
            -1.3479294200101986,
            -0.7752155301051374,
            0.37021224970498473,
            0.37021224970498473,
            0.37021224970498473,
            0.37021224970498473,
            0.179307619736631,
            -0.3934062701684301,
            0.179307619736631,
            -0.20250164020007638,
            0.179307619736631,
            0.37021224970498473,
            -0.3934062701684301,
            0.179307619736631,
            -0.20250164020007638,
            -0.3934062701684301,
            -0.5843109001367838,
            -0.5843109001367838,
            -0.9661201600734912,
            1.7065446594834606,
            1.7065446594834606,
            0.179307619736631,
            0.179307619736631,
            0.179307619736631,
            -0.3934062701684301,
            -0.011597010231722688,
            -0.3934062701684301,
            -1.5388340499785522,
            -0.7752155301051374,
            -0.7752155301051374,
            -0.7752155301051374,
            -1.9206433099152598,
            -0.9661201600734912,
            -0.9661201600734912,
            -0.3934062701684301,
            1.1338307695783996,
            1.3247353995467532,
            1.1338307695783996,
            1.1338307695783996,
            0.179307619736631,
            -0.011597010231722688,
            -0.20250164020007638,
            -0.5843109001367838,
            -0.5843109001367838,
            -0.5843109001367838,
            -0.5843109001367838,
            -0.011597010231722688,
            -0.5843109001367838,
            -0.5843109001367838,
            -0.9661201600734912,
            -1.1570247900418449,
            0.7520215096416921,
            1.1338307695783996,
            -0.20250164020007638,
            -0.9661201600734912,
            -0.7752155301051374,
            -1.3479294200101986,
            -0.7752155301051374,
            -0.3934062701684301,
            -0.5843109001367838,
            -1.3479294200101986,
            -0.9661201600734912,
            4.951923368945473,
            7.624588188502425,
            -0.5843109001367838,
            0.179307619736631,
            0.179307619736631,
            2.279258549388522,
            3.0428770692619365,
            2.279258549388522,
            1.1338307695783996,
            1.1338307695783996,
            2.279258549388522,
            1.1338307695783996,
            0.179307619736631,
            0.179307619736631,
            -0.3934062701684301,
            -0.3934062701684301,
            -0.011597010231722688,
            -1.9206433099152598,
            -0.011597010231722688,
            1.7065446594834606,
            1.7065446594834606,
            1.7065446594834606,
            1.1338307695783996,
            1.1338307695783996,
            1.1338307695783996,
            -0.20250164020007638,
            -0.20250164020007638,
            -0.5843109001367838,
            -0.5843109001367838,
            -0.20250164020007638,
            -0.3934062701684301,
            -0.3934062701684301,
            -0.3934062701684301,
            -0.20250164020007638,
            -0.5843109001367838,
            -0.5843109001367838,
            -0.7752155301051374,
            -0.9661201600734912,
            -0.9661201600734912,
            -0.5843109001367838,
            -0.3934062701684301,
            -0.3934062701684301,
            -0.3934062701684301,
            -0.3934062701684301,
            -0.5843109001367838,
            -0.3934062701684301,
            -0.3934062701684301,
            -0.5843109001367838,
            -0.3934062701684301,
            -0.3934062701684301,
            -0.7752155301051374,
            -0.7752155301051374,
            -0.7752155301051374,
            -0.011597010231722688,
            -0.7752155301051374,
            -0.7752155301051374,
            0.5611168796733385,
            1.1338307695783996,
            0.9429261396100458,
            0.7520215096416921,
            0.7520215096416921,
            0.7520215096416921,
            -0.011597010231722688,
            -0.5843109001367838,
            -0.7752155301051374,
            1.1338307695783996,
            -1.5388340499785522,
            -1.5388340499785522,
            -0.3934062701684301,
            -0.9661201600734912,
            -1.3479294200101986,
            -0.3934062701684301,
            -0.011597010231722688,
            -0.3934062701684301,
            -0.3934062701684301,
            -0.3934062701684301,
            -0.3934062701684301,
            -0.3934062701684301,
            -0.3934062701684301,
            -0.3934062701684301,
            -1.3479294200101986,
            -1.3479294200101986,
            -0.011597010231722688,
            -0.011597010231722688,
            -0.5843109001367838,
            -0.5843109001367838,
            -0.5843109001367838,
            -0.5843109001367838,
            -0.5843109001367838,
            1.515640029515107,
            0.9429261396100458,
            0.37021224970498473,
            1.1338307695783996,
            0.9429261396100458,
            0.7520215096416921,
            -0.3934062701684301,
            0.5611168796733385,
            0.5611168796733385,
            -0.3934062701684301,
            -0.3934062701684301,
            0.7520215096416921,
            -0.9661201600734912,
            -1.3479294200101986,
            -1.1570247900418449,
            0.37021224970498473,
            -0.20250164020007638,
            -0.011597010231722688,
            -0.20250164020007638,
            -0.20250164020007638,
            -0.011597010231722688,
            -0.20250164020007638,
            -0.7752155301051374,
            -0.7752155301051374,
            -1.3479294200101986,
            -0.011597010231722688,
            -0.5843109001367838,
            -0.20250164020007638,
            -0.7752155301051374,
            -0.3934062701684301,
            -0.7752155301051374,
            -0.7752155301051374,
            -1.1570247900418449,
            -1.3479294200101986,
            0.179307619736631,
            -0.5843109001367838,
            -0.20250164020007638,
            -0.20250164020007638,
            -0.7752155301051374,
            -0.7752155301051374,
            -0.011597010231722688,
            -0.5843109001367838,
            -0.5843109001367838,
            -0.20250164020007638,
            -0.5843109001367838,
            -0.5843109001367838,
            -0.7752155301051374,
            -0.20250164020007638,
            -0.5843109001367838,
            -0.9661201600734912,
            0.179307619736631,
            0.9429261396100458,
            0.9429261396100458,
            0.5611168796733385,
            0.9429261396100458,
            -0.3934062701684301,
            -0.3934062701684301,
            0.179307619736631,
            0.179307619736631,
            -0.3934062701684301,
            0.9429261396100458,
            -1.3479294200101986,
            -0.7752155301051374,
            -0.5843109001367838,
            1.515640029515107,
            1.515640029515107,
            0.179307619736631,
            0.5611168796733385,
            0.179307619736631,
            -0.011597010231722688,
            -0.011597010231722688,
            -0.20250164020007638,
            -0.3934062701684301,
            -0.011597010231722688,
            -0.011597010231722688,
            -0.5843109001367838,
            -1.1570247900418449,
            -0.011597010231722688,
            0.7520215096416921,
            -0.011597010231722688,
            -0.20250164020007638,
            -0.20250164020007638,
            0.7520215096416921,
            -0.011597010231722688,
            -0.011597010231722688,
            0.7520215096416921,
            -0.011597010231722688,
            -0.5843109001367838,
            -0.20250164020007638,
            -0.3934062701684301,
            -0.7752155301051374,
            1.7065446594834606,
            -1.1570247900418449,
            -0.3934062701684301,
            -0.5843109001367838,
            -0.3934062701684301,
            -0.5843109001367838,
            -0.011597010231722688,
            -0.3934062701684301,
            -0.011597010231722688,
            -0.011597010231722688,
            0.179307619736631,
            0.179307619736631,
            0.179307619736631,
            0.179307619736631,
            -0.20250164020007638,
            0.179307619736631,
            1.1338307695783996,
            1.1338307695783996,
            1.1338307695783996,
            1.1338307695783996,
            1.1338307695783996,
            -0.011597010231722688,
            0.7520215096416921,
            2.279258549388522,
            2.088353919420168,
            0.37021224970498473,
            0.179307619736631,
            0.179307619736631,
            -0.011597010231722688,
            -0.20250164020007638,
            -0.20250164020007638,
            -0.011597010231722688,
            -0.3934062701684301,
            0.179307619736631,
            0.179307619736631,
            0.179307619736631,
            -0.3934062701684301,
            -0.20250164020007638,
            0.9429261396100458,
            0.9429261396100458,
            0.7520215096416921,
            0.37021224970498473,
            -0.011597010231722688,
            0.7520215096416921,
            7.433683558534072,
            -1.1570247900418449,
            -0.3934062701684301,
            -0.3934062701684301,
            -1.3479294200101986,
            0.37021224970498473,
            2.279258549388522,
            2.279258549388522,
            2.279258549388522,
            2.851972439293583,
            2.4701631793568755,
            2.851972439293583,
            0.7520215096416921,
            0.179307619736631,
            0.7520215096416921,
            -0.011597010231722688,
            0.179307619736631,
            0.179307619736631,
            -0.011597010231722688,
            0.179307619736631,
            -0.20250164020007638,
            -0.20250164020007638,
            0.7520215096416921,
            1.1338307695783996,
            0.37021224970498473,
            -0.7752155301051374,
            -1.1570247900418449,
            1.7065446594834606,
            -0.9661201600734912,
            0.7520215096416921,
            0.7520215096416921,
            3.424686329198644,
            0.7520215096416921,
            0.179307619736631,
            0.7520215096416921,
            0.37021224970498473,
            -0.20250164020007638,
            -0.3934062701684301,
            -0.7752155301051374,
            -1.5388340499785522,
            0.7520215096416921,
            0.37021224970498473,
            -0.3934062701684301,
            -0.9661201600734912,
            0.37021224970498473,
            -0.011597010231722688,
            -0.011597010231722688,
            -0.3934062701684301,
            -0.011597010231722688,
            -0.011597010231722688,
            0.179307619736631,
            -0.011597010231722688,
            -0.20250164020007638,
            0.37021224970498473,
            -0.011597010231722688
           ]
          },
          {
           "axis": {
            "matches": true
           },
           "label": "Invoice",
           "values": [
            0.18831634118082485,
            -0.4678407122881935,
            -0.30425490922050286,
            0.016114792421419374,
            0.5101031062588844,
            0.6283428793701813,
            2.8320465701760296,
            -0.3688163193709186,
            0.1412131525636208,
            -0.06624493448688087,
            0.019912522430267355,
            0.07784207569956045,
            0.17652637339216246,
            0.3388084780986068,
            0.47104883795894026,
            0.5702432784885517,
            0.5002403447433688,
            0.8457770930110896,
            1.9683180645816185,
            0.7675551913363102,
            2.6302000543326316,
            0.14155324778829376,
            0.21971846692562758,
            0.3811503335703895,
            0.39934542809039253,
            0.8180026496627983,
            0.2186981812516087,
            1.00358127725934,
            -0.21877764275270056,
            -0.10031113949162172,
            0.27124289346358005,
            -0.12865240821436785,
            0.14229012077508515,
            0.21966178438818207,
            0.23241535531341784,
            0.37440511161437595,
            0.5960338330262507,
            0.6323106569913657,
            1.1481217477453454,
            1.8804601315411056,
            2.0867845678426975,
            0.8023582693278425,
            1.2356962680986308,
            0.05953361610466645,
            0.42853693487482103,
            0.005401792844221338,
            0.24613252937522698,
            -0.3361104952648695,
            -0.5477630900863376,
            -0.32494403538810757,
            -0.40696366707173487,
            -0.22489935679681372,
            -0.025433507526126452,
            0.12636232775290182,
            0.3918066506101421,
            1.0408217043610284,
            0.765684667600609,
            -0.08160590213460928,
            0.659518274965202,
            0.9266063914083615,
            0.7837097145082755,
            2.2974168769901464,
            1.0501176405020891,
            0.4198645066456607,
            0.355529826645027,
            -0.1437299631748688,
            -0.6182194841310845,
            -1.079785386549728,
            -1.032342102707851,
            -0.9249286942486431,
            -0.914329059746336,
            -0.830835682089126,
            -0.5622738196723837,
            -0.7131060518148385,
            -0.6448035941930204,
            -0.5661849147561226,
            -0.4015221434769676,
            -0.2461553083388733,
            -0.4797440451517469,
            -0.4417100625258216,
            -0.343535907670229,
            -0.3115669565509714,
            0.513163963280941,
            0.860344505134581,
            0.09490351947065362,
            -0.7337384954449977,
            -0.6538161176468537,
            0.3051957333934299,
            0.5266544071929682,
            -0.5453257409761815,
            -0.742297558599267,
            -0.5351795667734384,
            -0.692076830422561,
            -0.5515608200951856,
            -0.12570491626720226,
            -0.4286730789133584,
            -0.2894040844097839,
            -0.3311791145071117,
            -0.3720472240053116,
            0.049274076827032345,
            -0.07945196571168057,
            -0.2632167521099665,
            0.2861504008117445,
            0.11440231235190296,
            -0.07310352151778544,
            -0.030761666046002722,
            -0.9729954860024206,
            -0.9028791871823466,
            -0.5392040269320683,
            -0.7086848138940901,
            -0.6344873723779407,
            -0.39432346122139006,
            -0.5388639317073953,
            -0.011489603314535355,
            2.518762185714794,
            -0.7794246206260644,
            -0.6430464355322101,
            -0.6767158627748325,
            0.36726311189624394,
            0.025694141249707567,
            -0.17184450174783295,
            -0.5162475992666439,
            -0.9937979772449163,
            -0.9697645813680275,
            -0.8796393468296948,
            -0.8733475851732452,
            -0.6879390051890399,
            -0.6310864201312113,
            -0.5190817261389186,
            -0.4057733337853795,
            -0.27829430707046743,
            -0.12802890030246744,
            -0.31270060729988125,
            -0.7409371777005752,
            -0.17796621579194613,
            0.253274529093359,
            -0.5965667548269065,
            -0.034559396054850706,
            -0.9237950434997333,
            -0.7731328589696148,
            -0.5417547411171154,
            -0.061937061641023465,
            0.07631164718853216,
            0.5962605631760326,
            -0.3854243028424478,
            -0.8580433000629623,
            -0.42005733322164357,
            -0.2412239275811155,
            -0.39517369928307244,
            -0.6554599112327729,
            -0.6860684814533388,
            -0.2931451318811864,
            -0.6572737524310287,
            -0.7187743055593878,
            -1.0111995162406824,
            -0.9646631529979331,
            -0.8776554580191026,
            -0.6853316084665474,
            -0.563124057734066,
            -0.779367938088619,
            -0.6895827987749592,
            -0.48671599725754244,
            -0.32369701956430674,
            -0.42606568219086577,
            -0.2987567030882901,
            -0.00281717508537504,
            0.8956010434256773,
            -0.5562654707031615,
            -1.1284190036779604,
            -1.0712263233954586,
            -1.0659548474130278,
            -0.9768498985487141,
            -0.896020600151442,
            -0.896020600151442,
            -0.7051704965724697,
            -0.6594843713914028,
            -0.4511760462792188,
            -0.3700633351947194,
            -0.7319813367841874,
            -0.21866427767780958,
            -0.14049905854047573,
            -0.013133396900454631,
            -0.09605994918320981,
            0.49751958294598514,
            0.9953623093297437,
            0.0987012494795016,
            0.17607291309259854,
            -0.0021369846360291328,
            -0.6095470559019242,
            -0.15075859781810982,
            0.05556583848348199,
            0.5662188183299217,
            0.8809202662272948,
            1.5578798109388088,
            1.8609613386598562,
            1.3967313569812743,
            2.170447993112244,
            1.9125424477352542,
            2.170447993112244,
            2.5315157566400295,
            2.7894213020170193,
            -0.24536175281463643,
            -0.625871626686226,
            -0.38202335059571824,
            -0.6453137370300298,
            -0.856172776327261,
            -1.1415693523653145,
            -1.0945228462855559,
            -1.0420914991484755,
            -0.9740724542138849,
            -0.9196572182662124,
            -0.746208653683006,
            -0.35430558978487253,
            -0.6016681831970008,
            -1.054561657386484,
            2.028798332035959,
            0.32662173254782595,
            -0.34268566960854663,
            0.5568095171139701,
            1.498703241845715,
            0.2585460050757898,
            -0.07140304539442067,
            -0.14798115348328073,
            -0.07956533078657156,
            0.3503717157374872,
            0.6925075117584785,
            1.0524983070747997,
            1.4198011497215897,
            -0.07752475943853383,
            0.9264930263334705,
            0.5344199148230006,
            -0.002590444935593071,
            0.2218724033485563,
            0.38511811119157396,
            0.5585666757747803,
            0.47632031394137103,
            0.6349747362513039,
            0.9178772806417558,
            -0.8263010790934866,
            -0.6732582279906575,
            -0.5822827553906424,
            -0.8779955532437755,
            -0.7988100484324229,
            -0.691396639973215,
            -0.1935539135894565,
            -0.5279242019804153,
            -0.38145652522126333,
            -0.35260511366150776,
            -0.274099799299501,
            -0.9037861077814745,
            -0.5403376776809782,
            2.353759319210966,
            0.7512306205520085,
            -0.3268145591238088,
            -0.2029065322679627,
            0.0031911738838471394,
            0.0664488856730165,
            0.19506156313683845,
            0.28518679767517113,
            0.34844450946434047,
            1.049040672290625,
            3.305119027696108,
            5.077922068841324,
            0.6774299567979776,
            1.0820299090839014,
            0.8408457122533317,
            1.3245178042757173,
            2.219308340390258,
            2.8865184886611477,
            3.0784455604515846,
            4.725810146229926,
            4.978954358461494,
            0.4270065063637928,
            1.2625637908477942,
            0.08226331362030884,
            0.9726326118141012,
            1.4997802100571793,
            -0.15291253424103854,
            -0.5762744064214202,
            -0.3853109377675568,
            -0.16249188306932674,
            -0.45894155390925123,
            -0.09617331425810079,
            0.08747810706529413,
            0.04712014040410364,
            -0.5252601227204772,
            -0.09549312380875488,
            0.04241548979612778,
            -0.7054539092596971,
            -0.9218678372265865,
            -0.8103732860713032,
            -0.6834610847308461,
            -0.7832790331723579,
            -0.15671026424988652,
            -0.34756036782885896,
            -0.37176381131808417,
            -0.2718891803391268,
            -0.1444668361616602,
            -0.7776674619652543,
            0.04536298174329338,
            -0.22915054710522564,
            -0.5953197390031056,
            -1.0094990401173176,
            -0.9220945673763685,
            -0.6793232594973252,
            -0.7692217638858759,
            -0.47810025156582764,
            -0.2739297516871645,
            -0.17280810488440632,
            -0.3999917149659393,
            0.00024368193668154202,
            -0.2727394184008092,
            0.10374599531215041,
            -0.6666830536469804,
            -0.28844048127321054,
            -0.1538761373776119,
            -0.7013160840261762,
            -0.4834850926231494,
            -0.22076153156329278,
            -0.578428342844349,
            -0.8864979338605994,
            -0.5339325509496375,
            -0.5367666778219121,
            -0.7734729541942879,
            -0.43819574520420107,
            0.1690442784493575,
            -0.4744725691693161,
            -0.08846448916551385,
            0.0394113153115167,
            -0.7959192390227028,
            1.125165320079921,
            2.222765975174433,
            2.391509889149664,
            2.103675964001454,
            8.136511789400085,
            0.44616520402036913,
            0.8928235990908482,
            -0.042268221147437654,
            0.0877048372150761,
            0.1698378339735944,
            0.4368125853418629,
            0.48210193276081126,
            0.6160427687445095,
            0.47393964736866034,
            -0.6108507542631705,
            -1.116402305739516,
            -0.9421601856320728,
            -0.8617843475343647,
            -0.9131954089974262,
            -0.8341232692609645,
            -0.5789384856813584,
            -0.46682042661417467,
            -1.0018468975621762,
            -0.9372288048743149,
            -0.6584074031799385,
            -0.6406090864220539,
            -0.37856571581154325,
            -0.3019876077226832,
            -0.19015296134272697,
            -0.0800187910861355,
            -0.3963640325694278,
            -0.050147093852361074,
            -0.43706209445529126,
            -0.5877242789854097,
            -0.46716052183884765,
            -0.43689204684295474,
            -0.7405970824759023,
            -0.9803642158703345,
            -0.8897855210324379,
            -1.0145437859499664,
            -0.8296453488027706,
            -0.7347020985815711,
            -0.7778941921150362,
            -0.6285357059461641,
            0.10272570963813155,
            -0.2955257984538971,
            -0.28906398918511095,
            1.0186588322198409,
            -0.6496782924133327,
            -0.9607520579141943,
            -0.9275927735085813,
            -0.9140456470591086,
            -1.1263217497924771,
            -1.0836964816334669,
            -1.098093846144622,
            -0.7060774171715976,
            -0.5492368360599205,
            -0.6967814810305367,
            -0.5779182000073395,
            -0.3583300499435025,
            -0.3905257312125421,
            -0.3461433043927217,
            -0.1555199309635312,
            -0.4997529808700057,
            -0.24513502266485446,
            -0.5470828996369917,
            -0.4096844288691185,
            -1.027977547324548,
            -0.8523183637809675,
            -0.36813612892157266,
            -0.8422288721156699,
            0.1263056452154563,
            -0.7106120201672369,
            -0.6748453390391312,
            -0.5881777392849736,
            -0.5881777392849736,
            -0.47209190259660544,
            -0.471921854984269,
            -0.4600752046581611,
            0.032212633055939174,
            0.34220943034533635,
            1.6946547737947817,
            2.2171544039673297,
            -0.713502829576957,
            -0.4088908733448816,
            0.39345044419606134,
            0.5008638526552692,
            -0.35787658964393854,
            -0.005594619420204161,
            0.16365943739203573,
            0.3042321302568565,
            0.3133013362481353,
            0.32157698671517715,
            0.46413356839059017,
            0.5706967387881157,
            0.7118362570273914,
            -0.30459500444517584,
            0.1755627702555891
           ]
          }
         ],
         "hovertemplate": "%{xaxis.title.text}=%{x}<br>%{yaxis.title.text}=%{y}<extra></extra>",
         "legendgroup": "",
         "marker": {
          "color": "#636efa",
          "symbol": "circle"
         },
         "name": "",
         "showlegend": false,
         "type": "splom"
        }
       ],
       "layout": {
        "dragmode": "select",
        "legend": {
         "tracegroupgap": 0
        },
        "margin": {
         "t": 60
        },
        "template": {
         "data": {
          "bar": [
           {
            "error_x": {
             "color": "#2a3f5f"
            },
            "error_y": {
             "color": "#2a3f5f"
            },
            "marker": {
             "line": {
              "color": "#E5ECF6",
              "width": 0.5
             },
             "pattern": {
              "fillmode": "overlay",
              "size": 10,
              "solidity": 0.2
             }
            },
            "type": "bar"
           }
          ],
          "barpolar": [
           {
            "marker": {
             "line": {
              "color": "#E5ECF6",
              "width": 0.5
             },
             "pattern": {
              "fillmode": "overlay",
              "size": 10,
              "solidity": 0.2
             }
            },
            "type": "barpolar"
           }
          ],
          "carpet": [
           {
            "aaxis": {
             "endlinecolor": "#2a3f5f",
             "gridcolor": "white",
             "linecolor": "white",
             "minorgridcolor": "white",
             "startlinecolor": "#2a3f5f"
            },
            "baxis": {
             "endlinecolor": "#2a3f5f",
             "gridcolor": "white",
             "linecolor": "white",
             "minorgridcolor": "white",
             "startlinecolor": "#2a3f5f"
            },
            "type": "carpet"
           }
          ],
          "choropleth": [
           {
            "colorbar": {
             "outlinewidth": 0,
             "ticks": ""
            },
            "type": "choropleth"
           }
          ],
          "contour": [
           {
            "colorbar": {
             "outlinewidth": 0,
             "ticks": ""
            },
            "colorscale": [
             [
              0,
              "#0d0887"
             ],
             [
              0.1111111111111111,
              "#46039f"
             ],
             [
              0.2222222222222222,
              "#7201a8"
             ],
             [
              0.3333333333333333,
              "#9c179e"
             ],
             [
              0.4444444444444444,
              "#bd3786"
             ],
             [
              0.5555555555555556,
              "#d8576b"
             ],
             [
              0.6666666666666666,
              "#ed7953"
             ],
             [
              0.7777777777777778,
              "#fb9f3a"
             ],
             [
              0.8888888888888888,
              "#fdca26"
             ],
             [
              1,
              "#f0f921"
             ]
            ],
            "type": "contour"
           }
          ],
          "contourcarpet": [
           {
            "colorbar": {
             "outlinewidth": 0,
             "ticks": ""
            },
            "type": "contourcarpet"
           }
          ],
          "heatmap": [
           {
            "colorbar": {
             "outlinewidth": 0,
             "ticks": ""
            },
            "colorscale": [
             [
              0,
              "#0d0887"
             ],
             [
              0.1111111111111111,
              "#46039f"
             ],
             [
              0.2222222222222222,
              "#7201a8"
             ],
             [
              0.3333333333333333,
              "#9c179e"
             ],
             [
              0.4444444444444444,
              "#bd3786"
             ],
             [
              0.5555555555555556,
              "#d8576b"
             ],
             [
              0.6666666666666666,
              "#ed7953"
             ],
             [
              0.7777777777777778,
              "#fb9f3a"
             ],
             [
              0.8888888888888888,
              "#fdca26"
             ],
             [
              1,
              "#f0f921"
             ]
            ],
            "type": "heatmap"
           }
          ],
          "heatmapgl": [
           {
            "colorbar": {
             "outlinewidth": 0,
             "ticks": ""
            },
            "colorscale": [
             [
              0,
              "#0d0887"
             ],
             [
              0.1111111111111111,
              "#46039f"
             ],
             [
              0.2222222222222222,
              "#7201a8"
             ],
             [
              0.3333333333333333,
              "#9c179e"
             ],
             [
              0.4444444444444444,
              "#bd3786"
             ],
             [
              0.5555555555555556,
              "#d8576b"
             ],
             [
              0.6666666666666666,
              "#ed7953"
             ],
             [
              0.7777777777777778,
              "#fb9f3a"
             ],
             [
              0.8888888888888888,
              "#fdca26"
             ],
             [
              1,
              "#f0f921"
             ]
            ],
            "type": "heatmapgl"
           }
          ],
          "histogram": [
           {
            "marker": {
             "pattern": {
              "fillmode": "overlay",
              "size": 10,
              "solidity": 0.2
             }
            },
            "type": "histogram"
           }
          ],
          "histogram2d": [
           {
            "colorbar": {
             "outlinewidth": 0,
             "ticks": ""
            },
            "colorscale": [
             [
              0,
              "#0d0887"
             ],
             [
              0.1111111111111111,
              "#46039f"
             ],
             [
              0.2222222222222222,
              "#7201a8"
             ],
             [
              0.3333333333333333,
              "#9c179e"
             ],
             [
              0.4444444444444444,
              "#bd3786"
             ],
             [
              0.5555555555555556,
              "#d8576b"
             ],
             [
              0.6666666666666666,
              "#ed7953"
             ],
             [
              0.7777777777777778,
              "#fb9f3a"
             ],
             [
              0.8888888888888888,
              "#fdca26"
             ],
             [
              1,
              "#f0f921"
             ]
            ],
            "type": "histogram2d"
           }
          ],
          "histogram2dcontour": [
           {
            "colorbar": {
             "outlinewidth": 0,
             "ticks": ""
            },
            "colorscale": [
             [
              0,
              "#0d0887"
             ],
             [
              0.1111111111111111,
              "#46039f"
             ],
             [
              0.2222222222222222,
              "#7201a8"
             ],
             [
              0.3333333333333333,
              "#9c179e"
             ],
             [
              0.4444444444444444,
              "#bd3786"
             ],
             [
              0.5555555555555556,
              "#d8576b"
             ],
             [
              0.6666666666666666,
              "#ed7953"
             ],
             [
              0.7777777777777778,
              "#fb9f3a"
             ],
             [
              0.8888888888888888,
              "#fdca26"
             ],
             [
              1,
              "#f0f921"
             ]
            ],
            "type": "histogram2dcontour"
           }
          ],
          "mesh3d": [
           {
            "colorbar": {
             "outlinewidth": 0,
             "ticks": ""
            },
            "type": "mesh3d"
           }
          ],
          "parcoords": [
           {
            "line": {
             "colorbar": {
              "outlinewidth": 0,
              "ticks": ""
             }
            },
            "type": "parcoords"
           }
          ],
          "pie": [
           {
            "automargin": true,
            "type": "pie"
           }
          ],
          "scatter": [
           {
            "fillpattern": {
             "fillmode": "overlay",
             "size": 10,
             "solidity": 0.2
            },
            "type": "scatter"
           }
          ],
          "scatter3d": [
           {
            "line": {
             "colorbar": {
              "outlinewidth": 0,
              "ticks": ""
             }
            },
            "marker": {
             "colorbar": {
              "outlinewidth": 0,
              "ticks": ""
             }
            },
            "type": "scatter3d"
           }
          ],
          "scattercarpet": [
           {
            "marker": {
             "colorbar": {
              "outlinewidth": 0,
              "ticks": ""
             }
            },
            "type": "scattercarpet"
           }
          ],
          "scattergeo": [
           {
            "marker": {
             "colorbar": {
              "outlinewidth": 0,
              "ticks": ""
             }
            },
            "type": "scattergeo"
           }
          ],
          "scattergl": [
           {
            "marker": {
             "colorbar": {
              "outlinewidth": 0,
              "ticks": ""
             }
            },
            "type": "scattergl"
           }
          ],
          "scattermapbox": [
           {
            "marker": {
             "colorbar": {
              "outlinewidth": 0,
              "ticks": ""
             }
            },
            "type": "scattermapbox"
           }
          ],
          "scatterpolar": [
           {
            "marker": {
             "colorbar": {
              "outlinewidth": 0,
              "ticks": ""
             }
            },
            "type": "scatterpolar"
           }
          ],
          "scatterpolargl": [
           {
            "marker": {
             "colorbar": {
              "outlinewidth": 0,
              "ticks": ""
             }
            },
            "type": "scatterpolargl"
           }
          ],
          "scatterternary": [
           {
            "marker": {
             "colorbar": {
              "outlinewidth": 0,
              "ticks": ""
             }
            },
            "type": "scatterternary"
           }
          ],
          "surface": [
           {
            "colorbar": {
             "outlinewidth": 0,
             "ticks": ""
            },
            "colorscale": [
             [
              0,
              "#0d0887"
             ],
             [
              0.1111111111111111,
              "#46039f"
             ],
             [
              0.2222222222222222,
              "#7201a8"
             ],
             [
              0.3333333333333333,
              "#9c179e"
             ],
             [
              0.4444444444444444,
              "#bd3786"
             ],
             [
              0.5555555555555556,
              "#d8576b"
             ],
             [
              0.6666666666666666,
              "#ed7953"
             ],
             [
              0.7777777777777778,
              "#fb9f3a"
             ],
             [
              0.8888888888888888,
              "#fdca26"
             ],
             [
              1,
              "#f0f921"
             ]
            ],
            "type": "surface"
           }
          ],
          "table": [
           {
            "cells": {
             "fill": {
              "color": "#EBF0F8"
             },
             "line": {
              "color": "white"
             }
            },
            "header": {
             "fill": {
              "color": "#C8D4E3"
             },
             "line": {
              "color": "white"
             }
            },
            "type": "table"
           }
          ]
         },
         "layout": {
          "annotationdefaults": {
           "arrowcolor": "#2a3f5f",
           "arrowhead": 0,
           "arrowwidth": 1
          },
          "autotypenumbers": "strict",
          "coloraxis": {
           "colorbar": {
            "outlinewidth": 0,
            "ticks": ""
           }
          },
          "colorscale": {
           "diverging": [
            [
             0,
             "#8e0152"
            ],
            [
             0.1,
             "#c51b7d"
            ],
            [
             0.2,
             "#de77ae"
            ],
            [
             0.3,
             "#f1b6da"
            ],
            [
             0.4,
             "#fde0ef"
            ],
            [
             0.5,
             "#f7f7f7"
            ],
            [
             0.6,
             "#e6f5d0"
            ],
            [
             0.7,
             "#b8e186"
            ],
            [
             0.8,
             "#7fbc41"
            ],
            [
             0.9,
             "#4d9221"
            ],
            [
             1,
             "#276419"
            ]
           ],
           "sequential": [
            [
             0,
             "#0d0887"
            ],
            [
             0.1111111111111111,
             "#46039f"
            ],
            [
             0.2222222222222222,
             "#7201a8"
            ],
            [
             0.3333333333333333,
             "#9c179e"
            ],
            [
             0.4444444444444444,
             "#bd3786"
            ],
            [
             0.5555555555555556,
             "#d8576b"
            ],
            [
             0.6666666666666666,
             "#ed7953"
            ],
            [
             0.7777777777777778,
             "#fb9f3a"
            ],
            [
             0.8888888888888888,
             "#fdca26"
            ],
            [
             1,
             "#f0f921"
            ]
           ],
           "sequentialminus": [
            [
             0,
             "#0d0887"
            ],
            [
             0.1111111111111111,
             "#46039f"
            ],
            [
             0.2222222222222222,
             "#7201a8"
            ],
            [
             0.3333333333333333,
             "#9c179e"
            ],
            [
             0.4444444444444444,
             "#bd3786"
            ],
            [
             0.5555555555555556,
             "#d8576b"
            ],
            [
             0.6666666666666666,
             "#ed7953"
            ],
            [
             0.7777777777777778,
             "#fb9f3a"
            ],
            [
             0.8888888888888888,
             "#fdca26"
            ],
            [
             1,
             "#f0f921"
            ]
           ]
          },
          "colorway": [
           "#636efa",
           "#EF553B",
           "#00cc96",
           "#ab63fa",
           "#FFA15A",
           "#19d3f3",
           "#FF6692",
           "#B6E880",
           "#FF97FF",
           "#FECB52"
          ],
          "font": {
           "color": "#2a3f5f"
          },
          "geo": {
           "bgcolor": "white",
           "lakecolor": "white",
           "landcolor": "#E5ECF6",
           "showlakes": true,
           "showland": true,
           "subunitcolor": "white"
          },
          "hoverlabel": {
           "align": "left"
          },
          "hovermode": "closest",
          "mapbox": {
           "style": "light"
          },
          "paper_bgcolor": "white",
          "plot_bgcolor": "#E5ECF6",
          "polar": {
           "angularaxis": {
            "gridcolor": "white",
            "linecolor": "white",
            "ticks": ""
           },
           "bgcolor": "#E5ECF6",
           "radialaxis": {
            "gridcolor": "white",
            "linecolor": "white",
            "ticks": ""
           }
          },
          "scene": {
           "xaxis": {
            "backgroundcolor": "#E5ECF6",
            "gridcolor": "white",
            "gridwidth": 2,
            "linecolor": "white",
            "showbackground": true,
            "ticks": "",
            "zerolinecolor": "white"
           },
           "yaxis": {
            "backgroundcolor": "#E5ECF6",
            "gridcolor": "white",
            "gridwidth": 2,
            "linecolor": "white",
            "showbackground": true,
            "ticks": "",
            "zerolinecolor": "white"
           },
           "zaxis": {
            "backgroundcolor": "#E5ECF6",
            "gridcolor": "white",
            "gridwidth": 2,
            "linecolor": "white",
            "showbackground": true,
            "ticks": "",
            "zerolinecolor": "white"
           }
          },
          "shapedefaults": {
           "line": {
            "color": "#2a3f5f"
           }
          },
          "ternary": {
           "aaxis": {
            "gridcolor": "white",
            "linecolor": "white",
            "ticks": ""
           },
           "baxis": {
            "gridcolor": "white",
            "linecolor": "white",
            "ticks": ""
           },
           "bgcolor": "#E5ECF6",
           "caxis": {
            "gridcolor": "white",
            "linecolor": "white",
            "ticks": ""
           }
          },
          "title": {
           "x": 0.05
          },
          "xaxis": {
           "automargin": true,
           "gridcolor": "white",
           "linecolor": "white",
           "ticks": "",
           "title": {
            "standoff": 15
           },
           "zerolinecolor": "white",
           "zerolinewidth": 2
          },
          "yaxis": {
           "automargin": true,
           "gridcolor": "white",
           "linecolor": "white",
           "ticks": "",
           "title": {
            "standoff": 15
           },
           "zerolinecolor": "white",
           "zerolinewidth": 2
          }
         }
        }
       }
      }
     },
     "metadata": {},
     "output_type": "display_data"
    }
   ],
   "source": [
    "fig = px.scatter_matrix(df_Excluide[[\"MPG_City\",\"Invoice\"]])\n",
    "fig.show()"
   ]
  },
  {
   "attachments": {},
   "cell_type": "markdown",
   "metadata": {},
   "source": [
    "- La eficiencia del carro no depende, directamente, de su costo. De hecho, se evidencia una relación inversamente proporcional entre las variables."
   ]
  },
  {
   "cell_type": "code",
   "execution_count": 26,
   "metadata": {},
   "outputs": [
    {
     "data": {
      "application/vnd.plotly.v1+json": {
       "config": {
        "plotlyServerURL": "https://plot.ly"
       },
       "data": [
        {
         "dimensions": [
          {
           "axis": {
            "matches": true
           },
           "label": "MPG_City",
           "values": [
            -0.5843109001367838,
            0.7520215096416921,
            0.37021224970498473,
            -0.011597010231722688,
            -0.3934062701684301,
            -0.3934062701684301,
            -0.5843109001367838,
            0.37021224970498473,
            0.5611168796733385,
            -0.011597010231722688,
            -0.5843109001367838,
            -0.3934062701684301,
            -0.011597010231722688,
            -0.3934062701684301,
            -0.011597010231722688,
            -0.3934062701684301,
            -0.3934062701684301,
            -0.5843109001367838,
            -0.5843109001367838,
            -1.1570247900418449,
            -0.9661201600734912,
            -0.011597010231722688,
            -0.011597010231722688,
            0.179307619736631,
            -0.3934062701684301,
            -0.9661201600734912,
            -0.7752155301051374,
            -0.7752155301051374,
            -0.011597010231722688,
            -0.011597010231722688,
            -0.20250164020007638,
            -0.20250164020007638,
            -0.011597010231722688,
            -0.011597010231722688,
            -0.011597010231722688,
            -0.20250164020007638,
            -0.20250164020007638,
            -0.011597010231722688,
            -0.3934062701684301,
            -0.3934062701684301,
            -0.3934062701684301,
            -0.7752155301051374,
            -0.7752155301051374,
            -0.011597010231722688,
            0.179307619736631,
            -0.20250164020007638,
            -0.9661201600734912,
            -0.20250164020007638,
            -0.011597010231722688,
            -0.011597010231722688,
            -0.011597010231722688,
            -0.3934062701684301,
            -0.011597010231722688,
            -0.011597010231722688,
            -0.3934062701684301,
            -1.1570247900418449,
            -0.7752155301051374,
            -0.3934062701684301,
            -0.3934062701684301,
            -0.3934062701684301,
            -0.3934062701684301,
            -0.5843109001367838,
            -1.3479294200101986,
            -1.1570247900418449,
            -1.1570247900418449,
            -0.7752155301051374,
            -0.20250164020007638,
            1.515640029515107,
            1.515640029515107,
            1.1338307695783996,
            1.1338307695783996,
            1.1338307695783996,
            0.179307619736631,
            0.7520215096416921,
            0.37021224970498473,
            0.179307619736631,
            -0.011597010231722688,
            -0.3934062701684301,
            0.5611168796733385,
            -0.3934062701684301,
            -1.1570247900418449,
            -0.20250164020007638,
            -0.3934062701684301,
            -0.3934062701684301,
            -1.1570247900418449,
            -0.3934062701684301,
            -0.9661201600734912,
            -1.3479294200101986,
            -0.7752155301051374,
            0.37021224970498473,
            0.37021224970498473,
            0.37021224970498473,
            0.37021224970498473,
            0.179307619736631,
            -0.3934062701684301,
            0.179307619736631,
            -0.20250164020007638,
            0.179307619736631,
            0.37021224970498473,
            -0.3934062701684301,
            0.179307619736631,
            -0.20250164020007638,
            -0.3934062701684301,
            -0.5843109001367838,
            -0.5843109001367838,
            -0.9661201600734912,
            1.7065446594834606,
            1.7065446594834606,
            0.179307619736631,
            0.179307619736631,
            0.179307619736631,
            -0.3934062701684301,
            -0.011597010231722688,
            -0.3934062701684301,
            -1.5388340499785522,
            -0.7752155301051374,
            -0.7752155301051374,
            -0.7752155301051374,
            -1.9206433099152598,
            -0.9661201600734912,
            -0.9661201600734912,
            -0.3934062701684301,
            1.1338307695783996,
            1.3247353995467532,
            1.1338307695783996,
            1.1338307695783996,
            0.179307619736631,
            -0.011597010231722688,
            -0.20250164020007638,
            -0.5843109001367838,
            -0.5843109001367838,
            -0.5843109001367838,
            -0.5843109001367838,
            -0.011597010231722688,
            -0.5843109001367838,
            -0.5843109001367838,
            -0.9661201600734912,
            -1.1570247900418449,
            0.7520215096416921,
            1.1338307695783996,
            -0.20250164020007638,
            -0.9661201600734912,
            -0.7752155301051374,
            -1.3479294200101986,
            -0.7752155301051374,
            -0.3934062701684301,
            -0.5843109001367838,
            -1.3479294200101986,
            -0.9661201600734912,
            4.951923368945473,
            7.624588188502425,
            -0.5843109001367838,
            0.179307619736631,
            0.179307619736631,
            2.279258549388522,
            3.0428770692619365,
            2.279258549388522,
            1.1338307695783996,
            1.1338307695783996,
            2.279258549388522,
            1.1338307695783996,
            0.179307619736631,
            0.179307619736631,
            -0.3934062701684301,
            -0.3934062701684301,
            -0.011597010231722688,
            -1.9206433099152598,
            -0.011597010231722688,
            1.7065446594834606,
            1.7065446594834606,
            1.7065446594834606,
            1.1338307695783996,
            1.1338307695783996,
            1.1338307695783996,
            -0.20250164020007638,
            -0.20250164020007638,
            -0.5843109001367838,
            -0.5843109001367838,
            -0.20250164020007638,
            -0.3934062701684301,
            -0.3934062701684301,
            -0.3934062701684301,
            -0.20250164020007638,
            -0.5843109001367838,
            -0.5843109001367838,
            -0.7752155301051374,
            -0.9661201600734912,
            -0.9661201600734912,
            -0.5843109001367838,
            -0.3934062701684301,
            -0.3934062701684301,
            -0.3934062701684301,
            -0.3934062701684301,
            -0.5843109001367838,
            -0.3934062701684301,
            -0.3934062701684301,
            -0.5843109001367838,
            -0.3934062701684301,
            -0.3934062701684301,
            -0.7752155301051374,
            -0.7752155301051374,
            -0.7752155301051374,
            -0.011597010231722688,
            -0.7752155301051374,
            -0.7752155301051374,
            0.5611168796733385,
            1.1338307695783996,
            0.9429261396100458,
            0.7520215096416921,
            0.7520215096416921,
            0.7520215096416921,
            -0.011597010231722688,
            -0.5843109001367838,
            -0.7752155301051374,
            1.1338307695783996,
            -1.5388340499785522,
            -1.5388340499785522,
            -0.3934062701684301,
            -0.9661201600734912,
            -1.3479294200101986,
            -0.3934062701684301,
            -0.011597010231722688,
            -0.3934062701684301,
            -0.3934062701684301,
            -0.3934062701684301,
            -0.3934062701684301,
            -0.3934062701684301,
            -0.3934062701684301,
            -0.3934062701684301,
            -1.3479294200101986,
            -1.3479294200101986,
            -0.011597010231722688,
            -0.011597010231722688,
            -0.5843109001367838,
            -0.5843109001367838,
            -0.5843109001367838,
            -0.5843109001367838,
            -0.5843109001367838,
            1.515640029515107,
            0.9429261396100458,
            0.37021224970498473,
            1.1338307695783996,
            0.9429261396100458,
            0.7520215096416921,
            -0.3934062701684301,
            0.5611168796733385,
            0.5611168796733385,
            -0.3934062701684301,
            -0.3934062701684301,
            0.7520215096416921,
            -0.9661201600734912,
            -1.3479294200101986,
            -1.1570247900418449,
            0.37021224970498473,
            -0.20250164020007638,
            -0.011597010231722688,
            -0.20250164020007638,
            -0.20250164020007638,
            -0.011597010231722688,
            -0.20250164020007638,
            -0.7752155301051374,
            -0.7752155301051374,
            -1.3479294200101986,
            -0.011597010231722688,
            -0.5843109001367838,
            -0.20250164020007638,
            -0.7752155301051374,
            -0.3934062701684301,
            -0.7752155301051374,
            -0.7752155301051374,
            -1.1570247900418449,
            -1.3479294200101986,
            0.179307619736631,
            -0.5843109001367838,
            -0.20250164020007638,
            -0.20250164020007638,
            -0.7752155301051374,
            -0.7752155301051374,
            -0.011597010231722688,
            -0.5843109001367838,
            -0.5843109001367838,
            -0.20250164020007638,
            -0.5843109001367838,
            -0.5843109001367838,
            -0.7752155301051374,
            -0.20250164020007638,
            -0.5843109001367838,
            -0.9661201600734912,
            0.179307619736631,
            0.9429261396100458,
            0.9429261396100458,
            0.5611168796733385,
            0.9429261396100458,
            -0.3934062701684301,
            -0.3934062701684301,
            0.179307619736631,
            0.179307619736631,
            -0.3934062701684301,
            0.9429261396100458,
            -1.3479294200101986,
            -0.7752155301051374,
            -0.5843109001367838,
            1.515640029515107,
            1.515640029515107,
            0.179307619736631,
            0.5611168796733385,
            0.179307619736631,
            -0.011597010231722688,
            -0.011597010231722688,
            -0.20250164020007638,
            -0.3934062701684301,
            -0.011597010231722688,
            -0.011597010231722688,
            -0.5843109001367838,
            -1.1570247900418449,
            -0.011597010231722688,
            0.7520215096416921,
            -0.011597010231722688,
            -0.20250164020007638,
            -0.20250164020007638,
            0.7520215096416921,
            -0.011597010231722688,
            -0.011597010231722688,
            0.7520215096416921,
            -0.011597010231722688,
            -0.5843109001367838,
            -0.20250164020007638,
            -0.3934062701684301,
            -0.7752155301051374,
            1.7065446594834606,
            -1.1570247900418449,
            -0.3934062701684301,
            -0.5843109001367838,
            -0.3934062701684301,
            -0.5843109001367838,
            -0.011597010231722688,
            -0.3934062701684301,
            -0.011597010231722688,
            -0.011597010231722688,
            0.179307619736631,
            0.179307619736631,
            0.179307619736631,
            0.179307619736631,
            -0.20250164020007638,
            0.179307619736631,
            1.1338307695783996,
            1.1338307695783996,
            1.1338307695783996,
            1.1338307695783996,
            1.1338307695783996,
            -0.011597010231722688,
            0.7520215096416921,
            2.279258549388522,
            2.088353919420168,
            0.37021224970498473,
            0.179307619736631,
            0.179307619736631,
            -0.011597010231722688,
            -0.20250164020007638,
            -0.20250164020007638,
            -0.011597010231722688,
            -0.3934062701684301,
            0.179307619736631,
            0.179307619736631,
            0.179307619736631,
            -0.3934062701684301,
            -0.20250164020007638,
            0.9429261396100458,
            0.9429261396100458,
            0.7520215096416921,
            0.37021224970498473,
            -0.011597010231722688,
            0.7520215096416921,
            7.433683558534072,
            -1.1570247900418449,
            -0.3934062701684301,
            -0.3934062701684301,
            -1.3479294200101986,
            0.37021224970498473,
            2.279258549388522,
            2.279258549388522,
            2.279258549388522,
            2.851972439293583,
            2.4701631793568755,
            2.851972439293583,
            0.7520215096416921,
            0.179307619736631,
            0.7520215096416921,
            -0.011597010231722688,
            0.179307619736631,
            0.179307619736631,
            -0.011597010231722688,
            0.179307619736631,
            -0.20250164020007638,
            -0.20250164020007638,
            0.7520215096416921,
            1.1338307695783996,
            0.37021224970498473,
            -0.7752155301051374,
            -1.1570247900418449,
            1.7065446594834606,
            -0.9661201600734912,
            0.7520215096416921,
            0.7520215096416921,
            3.424686329198644,
            0.7520215096416921,
            0.179307619736631,
            0.7520215096416921,
            0.37021224970498473,
            -0.20250164020007638,
            -0.3934062701684301,
            -0.7752155301051374,
            -1.5388340499785522,
            0.7520215096416921,
            0.37021224970498473,
            -0.3934062701684301,
            -0.9661201600734912,
            0.37021224970498473,
            -0.011597010231722688,
            -0.011597010231722688,
            -0.3934062701684301,
            -0.011597010231722688,
            -0.011597010231722688,
            0.179307619736631,
            -0.011597010231722688,
            -0.20250164020007638,
            0.37021224970498473,
            -0.011597010231722688
           ]
          },
          {
           "axis": {
            "matches": true
           },
           "label": "EngineSize",
           "values": [
            0.2735634790758879,
            -1.0795008781407516,
            -0.7186837162163144,
            0.0029506076325601857,
            0.2735634790758879,
            0.2735634790758879,
            0.0029506076325601857,
            -1.25990945910297,
            -1.25990945910297,
            -0.17745797332965857,
            -0.17745797332965857,
            -0.17745797332965857,
            -0.17745797332965857,
            -0.17745797332965857,
            -0.17745797332965857,
            -0.17745797332965857,
            -0.4480708447729863,
            0.9049935124436531,
            0.9049935124436531,
            0.9049935124436531,
            0.9049935124436531,
            -1.25990945910297,
            -1.25990945910297,
            0.0029506076325601857,
            -0.17745797332965857,
            0.9049935124436531,
            -0.17745797332965857,
            1.085402093405872,
            -0.628479425735205,
            -0.628479425735205,
            -0.628479425735205,
            -0.628479425735205,
            -0.17745797332965857,
            -0.17745797332965857,
            -0.17745797332965857,
            -0.628479425735205,
            -0.17745797332965857,
            -0.17745797332965857,
            1.085402093405872,
            1.085402093405872,
            1.085402093405872,
            0.0029506076325601857,
            0.0029506076325601857,
            -0.628479425735205,
            -0.17745797332965857,
            -0.628479425735205,
            0.9049935124436531,
            0.18335918859477854,
            -0.08725368284854919,
            0.5441763505192156,
            0.5441763505192156,
            0.5441763505192156,
            0.5441763505192156,
            0.5441763505192156,
            0.5441763505192156,
            1.897240707735855,
            1.26581067436809,
            0.3637677695569973,
            1.26581067436809,
            1.26581067436809,
            1.26581067436809,
            1.26581067436809,
            2.5286707411036202,
            1.897240707735855,
            1.897240707735855,
            0.9049935124436531,
            -0.628479425735205,
            -1.4403180400651887,
            -1.4403180400651887,
            -0.8990922971785328,
            -0.8990922971785328,
            -0.8990922971785328,
            0.18335918859477854,
            -0.8990922971785328,
            0.2735634790758879,
            0.18335918859477854,
            0.5441763505192156,
            0.5441763505192156,
            0.2735634790758879,
            0.5441763505192156,
            0.9951978029247621,
            0.18335918859477854,
            2.2580578696602926,
            2.2580578696602926,
            1.897240707735855,
            -0.3578665542918773,
            0.9951978029247621,
            2.5286707411036202,
            1.897240707735855,
            0.2735634790758879,
            -0.7186837162163144,
            -0.7186837162163144,
            -0.7186837162163144,
            -0.4480708447729863,
            0.2735634790758879,
            -0.4480708447729863,
            0.2735634790758879,
            -0.7186837162163144,
            -0.7186837162163144,
            0.2735634790758879,
            -0.4480708447729863,
            0.09315489811366916,
            0.5441763505192156,
            0.0029506076325601857,
            0.2735634790758879,
            1.3560149648491997,
            -1.0795008781407516,
            -1.0795008781407516,
            -0.4480708447729863,
            -0.7186837162163144,
            -0.7186837162163144,
            0.2735634790758879,
            -0.7186837162163144,
            0.5441763505192156,
            4.603369422169135,
            0.45397206003810664,
            0.45397206003810664,
            0.45397206003810664,
            3.2503050649524945,
            1.26581067436809,
            0.7245849314814344,
            -0.17745797332965857,
            -1.0795008781407516,
            -1.0795008781407516,
            -1.0795008781407516,
            -1.0795008781407516,
            -1.0795008781407516,
            -0.17745797332965857,
            -0.17745797332965857,
            1.26581067436809,
            1.26581067436809,
            1.26581067436809,
            0.634380641000325,
            0.5441763505192156,
            1.26581067436809,
            0.634380641000325,
            1.26581067436809,
            1.9874449982169649,
            -0.8088880066974238,
            -1.0795008781407516,
            -0.17745797332965857,
            0.9049935124436531,
            1.4462192553303086,
            2.5286707411036202,
            0.9951978029247621,
            -0.3578665542918773,
            1.4462192553303086,
            2.5286707411036202,
            0.9951978029247621,
            -1.6207266210274074,
            -1.0795008781407516,
            0.2735634790758879,
            -0.7186837162163144,
            -0.7186837162163144,
            -1.3501137495840794,
            -1.3501137495840794,
            -1.3501137495840794,
            -0.7186837162163144,
            -0.7186837162163144,
            -1.3501137495840794,
            -1.0795008781407516,
            -0.17745797332965857,
            -0.17745797332965857,
            0.2735634790758879,
            0.2735634790758879,
            -0.8990922971785328,
            2.5286707411036202,
            -0.4480708447729863,
            -1.4403180400651887,
            -1.4403180400651887,
            -1.4403180400651887,
            -1.0795008781407516,
            -1.0795008781407516,
            -1.0795008781407516,
            -0.4480708447729863,
            -0.4480708447729863,
            0.2735634790758879,
            0.2735634790758879,
            -0.4480708447729863,
            0.2735634790758879,
            0.2735634790758879,
            0.2735634790758879,
            0.2735634790758879,
            1.1756063838869808,
            1.1756063838869808,
            0.2735634790758879,
            1.1756063838869808,
            0.9049935124436531,
            0.0029506076325601857,
            -0.628479425735205,
            -0.17745797332965857,
            -0.17745797332965857,
            0.9049935124436531,
            0.9049935124436531,
            0.9049935124436531,
            0.9049935124436531,
            0.9049935124436531,
            0.9049935124436531,
            0.9049935124436531,
            0.9049935124436531,
            0.9049935124436531,
            0.7245849314814344,
            -0.7186837162163144,
            0.7245849314814344,
            0.2735634790758879,
            -0.7186837162163144,
            -1.4403180400651887,
            -1.4403180400651887,
            -1.25990945910297,
            -1.25990945910297,
            -1.25990945910297,
            -0.4480708447729863,
            0.2735634790758879,
            0.2735634790758879,
            -1.4403180400651887,
            1.085402093405872,
            1.26581067436809,
            -0.628479425735205,
            1.3560149648491997,
            1.3560149648491997,
            0.09315489811366916,
            0.09315489811366916,
            -0.17745797332965857,
            -0.17745797332965857,
            -0.17745797332965857,
            0.9951978029247621,
            0.9951978029247621,
            0.9951978029247621,
            -0.17745797332965857,
            1.9874449982169649,
            1.26581067436809,
            -0.17745797332965857,
            -0.17745797332965857,
            0.634380641000325,
            0.634380641000325,
            1.26581067436809,
            1.26581067436809,
            1.26581067436809,
            -1.4403180400651887,
            -1.4403180400651887,
            -1.0795008781407516,
            -1.0795008781407516,
            -0.8088880066974238,
            -0.8088880066974238,
            -0.17745797332965857,
            -1.25990945910297,
            -1.25990945910297,
            -1.7109309115085165,
            -1.7109309115085165,
            -0.8088880066974238,
            0.7245849314814344,
            1.6266278362925273,
            1.6266278362925273,
            -1.25990945910297,
            0.0029506076325601857,
            -0.5382751352540956,
            -0.5382751352540956,
            0.0029506076325601857,
            0.0029506076325601857,
            0.0029506076325601857,
            0.0029506076325601857,
            1.6266278362925273,
            2.077649288698074,
            0.0029506076325601857,
            1.6266278362925273,
            0.0029506076325601857,
            1.6266278362925273,
            0.9951978029247621,
            1.6266278362925273,
            1.6266278362925273,
            2.077649288698074,
            2.077649288698074,
            -0.8088880066974238,
            0.0029506076325601857,
            -0.5382751352540956,
            0.0029506076325601857,
            1.6266278362925273,
            0.7245849314814344,
            -0.17745797332965857,
            1.26581067436809,
            1.26581067436809,
            -0.17745797332965857,
            1.26581067436809,
            1.26581067436809,
            0.9049935124436531,
            -0.17745797332965857,
            0.5441763505192156,
            0.5441763505192156,
            -0.7186837162163144,
            -1.0795008781407516,
            -1.0795008781407516,
            -0.7186837162163144,
            -1.0795008781407516,
            0.2735634790758879,
            0.5441763505192156,
            -0.17745797332965857,
            -0.17745797332965857,
            -1.0795008781407516,
            -0.7186837162163144,
            2.167853579179183,
            0.2735634790758879,
            0.09315489811366916,
            -1.25990945910297,
            -1.25990945910297,
            -0.628479425735205,
            -0.628479425735205,
            0.2735634790758879,
            0.2735634790758879,
            0.2735634790758879,
            0.2735634790758879,
            0.2735634790758879,
            0.2735634790758879,
            0.2735634790758879,
            0.09315489811366916,
            2.167853579179183,
            0.2735634790758879,
            -0.8990922971785328,
            0.18335918859477854,
            0.18335918859477854,
            0.18335918859477854,
            -0.8990922971785328,
            0.18335918859477854,
            0.5441763505192156,
            -0.8990922971785328,
            0.5441763505192156,
            1.26581067436809,
            0.18335918859477854,
            0.18335918859477854,
            2.2580578696602926,
            -1.25990945910297,
            1.1756063838869808,
            0.3637677695569973,
            0.3637677695569973,
            0.3637677695569973,
            0.3637677695569973,
            -0.4480708447729863,
            0.0029506076325601857,
            -1.0795008781407516,
            -1.0795008781407516,
            -0.8088880066974238,
            -0.8088880066974238,
            -1.0795008781407516,
            -1.0795008781407516,
            -0.8088880066974238,
            -0.8990922971785328,
            -0.8990922971785328,
            -0.8990922971785328,
            -0.8990922971785328,
            -0.8990922971785328,
            -0.8990922971785328,
            -0.17745797332965857,
            -0.8990922971785328,
            -1.530522330546298,
            -1.530522330546298,
            -0.628479425735205,
            -0.628479425735205,
            -0.628479425735205,
            -0.628479425735205,
            -0.17745797332965857,
            -0.17745797332965857,
            -1.0795008781407516,
            -0.628479425735205,
            -0.628479425735205,
            -0.628479425735205,
            -0.628479425735205,
            -0.4480708447729863,
            -0.628479425735205,
            -0.8088880066974238,
            -0.8088880066974238,
            -1.0795008781407516,
            -1.0795008781407516,
            -0.628479425735205,
            -0.8088880066974238,
            -1.530522330546298,
            1.3560149648491997,
            0.7245849314814344,
            0.09315489811366916,
            1.3560149648491997,
            -0.7186837162163144,
            -1.25990945910297,
            -1.25990945910297,
            -1.25990945910297,
            -1.530522330546298,
            -1.530522330546298,
            -1.530522330546298,
            -0.7186837162163144,
            -0.17745797332965857,
            -0.7186837162163144,
            0.09315489811366916,
            -0.17745797332965857,
            -0.17745797332965857,
            0.09315489811366916,
            -0.17745797332965857,
            0.09315489811366916,
            0.09315489811366916,
            -1.25990945910297,
            -1.25990945910297,
            -0.7186837162163144,
            0.18335918859477854,
            0.18335918859477854,
            -1.25990945910297,
            0.0029506076325601857,
            -1.0795008781407516,
            -1.25990945910297,
            -1.169705168621861,
            -1.25990945910297,
            -0.3578665542918773,
            -1.0795008781407516,
            -1.25990945910297,
            -0.3578665542918773,
            0.7245849314814344,
            0.9049935124436531,
            2.5286707411036202,
            -1.0795008781407516,
            -1.25990945910297,
            0.7245849314814344,
            -0.26766226381076796,
            -1.169705168621861,
            -0.628479425735205,
            -0.8088880066974238,
            -0.628479425735205,
            -0.26766226381076796,
            -0.628479425735205,
            -0.7186837162163144,
            -0.8088880066974238,
            -0.26766226381076796,
            -1.169705168621861,
            -0.628479425735205
           ]
          }
         ],
         "hovertemplate": "%{xaxis.title.text}=%{x}<br>%{yaxis.title.text}=%{y}<extra></extra>",
         "legendgroup": "",
         "marker": {
          "color": "#636efa",
          "symbol": "circle"
         },
         "name": "",
         "showlegend": false,
         "type": "splom"
        }
       ],
       "layout": {
        "dragmode": "select",
        "legend": {
         "tracegroupgap": 0
        },
        "margin": {
         "t": 60
        },
        "template": {
         "data": {
          "bar": [
           {
            "error_x": {
             "color": "#2a3f5f"
            },
            "error_y": {
             "color": "#2a3f5f"
            },
            "marker": {
             "line": {
              "color": "#E5ECF6",
              "width": 0.5
             },
             "pattern": {
              "fillmode": "overlay",
              "size": 10,
              "solidity": 0.2
             }
            },
            "type": "bar"
           }
          ],
          "barpolar": [
           {
            "marker": {
             "line": {
              "color": "#E5ECF6",
              "width": 0.5
             },
             "pattern": {
              "fillmode": "overlay",
              "size": 10,
              "solidity": 0.2
             }
            },
            "type": "barpolar"
           }
          ],
          "carpet": [
           {
            "aaxis": {
             "endlinecolor": "#2a3f5f",
             "gridcolor": "white",
             "linecolor": "white",
             "minorgridcolor": "white",
             "startlinecolor": "#2a3f5f"
            },
            "baxis": {
             "endlinecolor": "#2a3f5f",
             "gridcolor": "white",
             "linecolor": "white",
             "minorgridcolor": "white",
             "startlinecolor": "#2a3f5f"
            },
            "type": "carpet"
           }
          ],
          "choropleth": [
           {
            "colorbar": {
             "outlinewidth": 0,
             "ticks": ""
            },
            "type": "choropleth"
           }
          ],
          "contour": [
           {
            "colorbar": {
             "outlinewidth": 0,
             "ticks": ""
            },
            "colorscale": [
             [
              0,
              "#0d0887"
             ],
             [
              0.1111111111111111,
              "#46039f"
             ],
             [
              0.2222222222222222,
              "#7201a8"
             ],
             [
              0.3333333333333333,
              "#9c179e"
             ],
             [
              0.4444444444444444,
              "#bd3786"
             ],
             [
              0.5555555555555556,
              "#d8576b"
             ],
             [
              0.6666666666666666,
              "#ed7953"
             ],
             [
              0.7777777777777778,
              "#fb9f3a"
             ],
             [
              0.8888888888888888,
              "#fdca26"
             ],
             [
              1,
              "#f0f921"
             ]
            ],
            "type": "contour"
           }
          ],
          "contourcarpet": [
           {
            "colorbar": {
             "outlinewidth": 0,
             "ticks": ""
            },
            "type": "contourcarpet"
           }
          ],
          "heatmap": [
           {
            "colorbar": {
             "outlinewidth": 0,
             "ticks": ""
            },
            "colorscale": [
             [
              0,
              "#0d0887"
             ],
             [
              0.1111111111111111,
              "#46039f"
             ],
             [
              0.2222222222222222,
              "#7201a8"
             ],
             [
              0.3333333333333333,
              "#9c179e"
             ],
             [
              0.4444444444444444,
              "#bd3786"
             ],
             [
              0.5555555555555556,
              "#d8576b"
             ],
             [
              0.6666666666666666,
              "#ed7953"
             ],
             [
              0.7777777777777778,
              "#fb9f3a"
             ],
             [
              0.8888888888888888,
              "#fdca26"
             ],
             [
              1,
              "#f0f921"
             ]
            ],
            "type": "heatmap"
           }
          ],
          "heatmapgl": [
           {
            "colorbar": {
             "outlinewidth": 0,
             "ticks": ""
            },
            "colorscale": [
             [
              0,
              "#0d0887"
             ],
             [
              0.1111111111111111,
              "#46039f"
             ],
             [
              0.2222222222222222,
              "#7201a8"
             ],
             [
              0.3333333333333333,
              "#9c179e"
             ],
             [
              0.4444444444444444,
              "#bd3786"
             ],
             [
              0.5555555555555556,
              "#d8576b"
             ],
             [
              0.6666666666666666,
              "#ed7953"
             ],
             [
              0.7777777777777778,
              "#fb9f3a"
             ],
             [
              0.8888888888888888,
              "#fdca26"
             ],
             [
              1,
              "#f0f921"
             ]
            ],
            "type": "heatmapgl"
           }
          ],
          "histogram": [
           {
            "marker": {
             "pattern": {
              "fillmode": "overlay",
              "size": 10,
              "solidity": 0.2
             }
            },
            "type": "histogram"
           }
          ],
          "histogram2d": [
           {
            "colorbar": {
             "outlinewidth": 0,
             "ticks": ""
            },
            "colorscale": [
             [
              0,
              "#0d0887"
             ],
             [
              0.1111111111111111,
              "#46039f"
             ],
             [
              0.2222222222222222,
              "#7201a8"
             ],
             [
              0.3333333333333333,
              "#9c179e"
             ],
             [
              0.4444444444444444,
              "#bd3786"
             ],
             [
              0.5555555555555556,
              "#d8576b"
             ],
             [
              0.6666666666666666,
              "#ed7953"
             ],
             [
              0.7777777777777778,
              "#fb9f3a"
             ],
             [
              0.8888888888888888,
              "#fdca26"
             ],
             [
              1,
              "#f0f921"
             ]
            ],
            "type": "histogram2d"
           }
          ],
          "histogram2dcontour": [
           {
            "colorbar": {
             "outlinewidth": 0,
             "ticks": ""
            },
            "colorscale": [
             [
              0,
              "#0d0887"
             ],
             [
              0.1111111111111111,
              "#46039f"
             ],
             [
              0.2222222222222222,
              "#7201a8"
             ],
             [
              0.3333333333333333,
              "#9c179e"
             ],
             [
              0.4444444444444444,
              "#bd3786"
             ],
             [
              0.5555555555555556,
              "#d8576b"
             ],
             [
              0.6666666666666666,
              "#ed7953"
             ],
             [
              0.7777777777777778,
              "#fb9f3a"
             ],
             [
              0.8888888888888888,
              "#fdca26"
             ],
             [
              1,
              "#f0f921"
             ]
            ],
            "type": "histogram2dcontour"
           }
          ],
          "mesh3d": [
           {
            "colorbar": {
             "outlinewidth": 0,
             "ticks": ""
            },
            "type": "mesh3d"
           }
          ],
          "parcoords": [
           {
            "line": {
             "colorbar": {
              "outlinewidth": 0,
              "ticks": ""
             }
            },
            "type": "parcoords"
           }
          ],
          "pie": [
           {
            "automargin": true,
            "type": "pie"
           }
          ],
          "scatter": [
           {
            "fillpattern": {
             "fillmode": "overlay",
             "size": 10,
             "solidity": 0.2
            },
            "type": "scatter"
           }
          ],
          "scatter3d": [
           {
            "line": {
             "colorbar": {
              "outlinewidth": 0,
              "ticks": ""
             }
            },
            "marker": {
             "colorbar": {
              "outlinewidth": 0,
              "ticks": ""
             }
            },
            "type": "scatter3d"
           }
          ],
          "scattercarpet": [
           {
            "marker": {
             "colorbar": {
              "outlinewidth": 0,
              "ticks": ""
             }
            },
            "type": "scattercarpet"
           }
          ],
          "scattergeo": [
           {
            "marker": {
             "colorbar": {
              "outlinewidth": 0,
              "ticks": ""
             }
            },
            "type": "scattergeo"
           }
          ],
          "scattergl": [
           {
            "marker": {
             "colorbar": {
              "outlinewidth": 0,
              "ticks": ""
             }
            },
            "type": "scattergl"
           }
          ],
          "scattermapbox": [
           {
            "marker": {
             "colorbar": {
              "outlinewidth": 0,
              "ticks": ""
             }
            },
            "type": "scattermapbox"
           }
          ],
          "scatterpolar": [
           {
            "marker": {
             "colorbar": {
              "outlinewidth": 0,
              "ticks": ""
             }
            },
            "type": "scatterpolar"
           }
          ],
          "scatterpolargl": [
           {
            "marker": {
             "colorbar": {
              "outlinewidth": 0,
              "ticks": ""
             }
            },
            "type": "scatterpolargl"
           }
          ],
          "scatterternary": [
           {
            "marker": {
             "colorbar": {
              "outlinewidth": 0,
              "ticks": ""
             }
            },
            "type": "scatterternary"
           }
          ],
          "surface": [
           {
            "colorbar": {
             "outlinewidth": 0,
             "ticks": ""
            },
            "colorscale": [
             [
              0,
              "#0d0887"
             ],
             [
              0.1111111111111111,
              "#46039f"
             ],
             [
              0.2222222222222222,
              "#7201a8"
             ],
             [
              0.3333333333333333,
              "#9c179e"
             ],
             [
              0.4444444444444444,
              "#bd3786"
             ],
             [
              0.5555555555555556,
              "#d8576b"
             ],
             [
              0.6666666666666666,
              "#ed7953"
             ],
             [
              0.7777777777777778,
              "#fb9f3a"
             ],
             [
              0.8888888888888888,
              "#fdca26"
             ],
             [
              1,
              "#f0f921"
             ]
            ],
            "type": "surface"
           }
          ],
          "table": [
           {
            "cells": {
             "fill": {
              "color": "#EBF0F8"
             },
             "line": {
              "color": "white"
             }
            },
            "header": {
             "fill": {
              "color": "#C8D4E3"
             },
             "line": {
              "color": "white"
             }
            },
            "type": "table"
           }
          ]
         },
         "layout": {
          "annotationdefaults": {
           "arrowcolor": "#2a3f5f",
           "arrowhead": 0,
           "arrowwidth": 1
          },
          "autotypenumbers": "strict",
          "coloraxis": {
           "colorbar": {
            "outlinewidth": 0,
            "ticks": ""
           }
          },
          "colorscale": {
           "diverging": [
            [
             0,
             "#8e0152"
            ],
            [
             0.1,
             "#c51b7d"
            ],
            [
             0.2,
             "#de77ae"
            ],
            [
             0.3,
             "#f1b6da"
            ],
            [
             0.4,
             "#fde0ef"
            ],
            [
             0.5,
             "#f7f7f7"
            ],
            [
             0.6,
             "#e6f5d0"
            ],
            [
             0.7,
             "#b8e186"
            ],
            [
             0.8,
             "#7fbc41"
            ],
            [
             0.9,
             "#4d9221"
            ],
            [
             1,
             "#276419"
            ]
           ],
           "sequential": [
            [
             0,
             "#0d0887"
            ],
            [
             0.1111111111111111,
             "#46039f"
            ],
            [
             0.2222222222222222,
             "#7201a8"
            ],
            [
             0.3333333333333333,
             "#9c179e"
            ],
            [
             0.4444444444444444,
             "#bd3786"
            ],
            [
             0.5555555555555556,
             "#d8576b"
            ],
            [
             0.6666666666666666,
             "#ed7953"
            ],
            [
             0.7777777777777778,
             "#fb9f3a"
            ],
            [
             0.8888888888888888,
             "#fdca26"
            ],
            [
             1,
             "#f0f921"
            ]
           ],
           "sequentialminus": [
            [
             0,
             "#0d0887"
            ],
            [
             0.1111111111111111,
             "#46039f"
            ],
            [
             0.2222222222222222,
             "#7201a8"
            ],
            [
             0.3333333333333333,
             "#9c179e"
            ],
            [
             0.4444444444444444,
             "#bd3786"
            ],
            [
             0.5555555555555556,
             "#d8576b"
            ],
            [
             0.6666666666666666,
             "#ed7953"
            ],
            [
             0.7777777777777778,
             "#fb9f3a"
            ],
            [
             0.8888888888888888,
             "#fdca26"
            ],
            [
             1,
             "#f0f921"
            ]
           ]
          },
          "colorway": [
           "#636efa",
           "#EF553B",
           "#00cc96",
           "#ab63fa",
           "#FFA15A",
           "#19d3f3",
           "#FF6692",
           "#B6E880",
           "#FF97FF",
           "#FECB52"
          ],
          "font": {
           "color": "#2a3f5f"
          },
          "geo": {
           "bgcolor": "white",
           "lakecolor": "white",
           "landcolor": "#E5ECF6",
           "showlakes": true,
           "showland": true,
           "subunitcolor": "white"
          },
          "hoverlabel": {
           "align": "left"
          },
          "hovermode": "closest",
          "mapbox": {
           "style": "light"
          },
          "paper_bgcolor": "white",
          "plot_bgcolor": "#E5ECF6",
          "polar": {
           "angularaxis": {
            "gridcolor": "white",
            "linecolor": "white",
            "ticks": ""
           },
           "bgcolor": "#E5ECF6",
           "radialaxis": {
            "gridcolor": "white",
            "linecolor": "white",
            "ticks": ""
           }
          },
          "scene": {
           "xaxis": {
            "backgroundcolor": "#E5ECF6",
            "gridcolor": "white",
            "gridwidth": 2,
            "linecolor": "white",
            "showbackground": true,
            "ticks": "",
            "zerolinecolor": "white"
           },
           "yaxis": {
            "backgroundcolor": "#E5ECF6",
            "gridcolor": "white",
            "gridwidth": 2,
            "linecolor": "white",
            "showbackground": true,
            "ticks": "",
            "zerolinecolor": "white"
           },
           "zaxis": {
            "backgroundcolor": "#E5ECF6",
            "gridcolor": "white",
            "gridwidth": 2,
            "linecolor": "white",
            "showbackground": true,
            "ticks": "",
            "zerolinecolor": "white"
           }
          },
          "shapedefaults": {
           "line": {
            "color": "#2a3f5f"
           }
          },
          "ternary": {
           "aaxis": {
            "gridcolor": "white",
            "linecolor": "white",
            "ticks": ""
           },
           "baxis": {
            "gridcolor": "white",
            "linecolor": "white",
            "ticks": ""
           },
           "bgcolor": "#E5ECF6",
           "caxis": {
            "gridcolor": "white",
            "linecolor": "white",
            "ticks": ""
           }
          },
          "title": {
           "x": 0.05
          },
          "xaxis": {
           "automargin": true,
           "gridcolor": "white",
           "linecolor": "white",
           "ticks": "",
           "title": {
            "standoff": 15
           },
           "zerolinecolor": "white",
           "zerolinewidth": 2
          },
          "yaxis": {
           "automargin": true,
           "gridcolor": "white",
           "linecolor": "white",
           "ticks": "",
           "title": {
            "standoff": 15
           },
           "zerolinecolor": "white",
           "zerolinewidth": 2
          }
         }
        }
       }
      }
     },
     "metadata": {},
     "output_type": "display_data"
    }
   ],
   "source": [
    "fig = px.scatter_matrix(df_Excluide[[\"MPG_City\",\"EngineSize\"]])\n",
    "fig.show()"
   ]
  },
  {
   "attachments": {},
   "cell_type": "markdown",
   "metadata": {},
   "source": [
    "- Nuevamente, vemos que el tamaño del motor no está relacionado con la eficiencia del mismo, parece ser que los motores más comunes están entre 0 y 2."
   ]
  },
  {
   "cell_type": "code",
   "execution_count": 27,
   "metadata": {},
   "outputs": [
    {
     "data": {
      "application/vnd.plotly.v1+json": {
       "config": {
        "plotlyServerURL": "https://plot.ly"
       },
       "data": [
        {
         "dimensions": [
          {
           "axis": {
            "matches": true
           },
           "label": "MPG_City",
           "values": [
            -0.5843109001367838,
            0.7520215096416921,
            0.37021224970498473,
            -0.011597010231722688,
            -0.3934062701684301,
            -0.3934062701684301,
            -0.5843109001367838,
            0.37021224970498473,
            0.5611168796733385,
            -0.011597010231722688,
            -0.5843109001367838,
            -0.3934062701684301,
            -0.011597010231722688,
            -0.3934062701684301,
            -0.011597010231722688,
            -0.3934062701684301,
            -0.3934062701684301,
            -0.5843109001367838,
            -0.5843109001367838,
            -1.1570247900418449,
            -0.9661201600734912,
            -0.011597010231722688,
            -0.011597010231722688,
            0.179307619736631,
            -0.3934062701684301,
            -0.9661201600734912,
            -0.7752155301051374,
            -0.7752155301051374,
            -0.011597010231722688,
            -0.011597010231722688,
            -0.20250164020007638,
            -0.20250164020007638,
            -0.011597010231722688,
            -0.011597010231722688,
            -0.011597010231722688,
            -0.20250164020007638,
            -0.20250164020007638,
            -0.011597010231722688,
            -0.3934062701684301,
            -0.3934062701684301,
            -0.3934062701684301,
            -0.7752155301051374,
            -0.7752155301051374,
            -0.011597010231722688,
            0.179307619736631,
            -0.20250164020007638,
            -0.9661201600734912,
            -0.20250164020007638,
            -0.011597010231722688,
            -0.011597010231722688,
            -0.011597010231722688,
            -0.3934062701684301,
            -0.011597010231722688,
            -0.011597010231722688,
            -0.3934062701684301,
            -1.1570247900418449,
            -0.7752155301051374,
            -0.3934062701684301,
            -0.3934062701684301,
            -0.3934062701684301,
            -0.3934062701684301,
            -0.5843109001367838,
            -1.3479294200101986,
            -1.1570247900418449,
            -1.1570247900418449,
            -0.7752155301051374,
            -0.20250164020007638,
            1.515640029515107,
            1.515640029515107,
            1.1338307695783996,
            1.1338307695783996,
            1.1338307695783996,
            0.179307619736631,
            0.7520215096416921,
            0.37021224970498473,
            0.179307619736631,
            -0.011597010231722688,
            -0.3934062701684301,
            0.5611168796733385,
            -0.3934062701684301,
            -1.1570247900418449,
            -0.20250164020007638,
            -0.3934062701684301,
            -0.3934062701684301,
            -1.1570247900418449,
            -0.3934062701684301,
            -0.9661201600734912,
            -1.3479294200101986,
            -0.7752155301051374,
            0.37021224970498473,
            0.37021224970498473,
            0.37021224970498473,
            0.37021224970498473,
            0.179307619736631,
            -0.3934062701684301,
            0.179307619736631,
            -0.20250164020007638,
            0.179307619736631,
            0.37021224970498473,
            -0.3934062701684301,
            0.179307619736631,
            -0.20250164020007638,
            -0.3934062701684301,
            -0.5843109001367838,
            -0.5843109001367838,
            -0.9661201600734912,
            1.7065446594834606,
            1.7065446594834606,
            0.179307619736631,
            0.179307619736631,
            0.179307619736631,
            -0.3934062701684301,
            -0.011597010231722688,
            -0.3934062701684301,
            -1.5388340499785522,
            -0.7752155301051374,
            -0.7752155301051374,
            -0.7752155301051374,
            -1.9206433099152598,
            -0.9661201600734912,
            -0.9661201600734912,
            -0.3934062701684301,
            1.1338307695783996,
            1.3247353995467532,
            1.1338307695783996,
            1.1338307695783996,
            0.179307619736631,
            -0.011597010231722688,
            -0.20250164020007638,
            -0.5843109001367838,
            -0.5843109001367838,
            -0.5843109001367838,
            -0.5843109001367838,
            -0.011597010231722688,
            -0.5843109001367838,
            -0.5843109001367838,
            -0.9661201600734912,
            -1.1570247900418449,
            0.7520215096416921,
            1.1338307695783996,
            -0.20250164020007638,
            -0.9661201600734912,
            -0.7752155301051374,
            -1.3479294200101986,
            -0.7752155301051374,
            -0.3934062701684301,
            -0.5843109001367838,
            -1.3479294200101986,
            -0.9661201600734912,
            4.951923368945473,
            7.624588188502425,
            -0.5843109001367838,
            0.179307619736631,
            0.179307619736631,
            2.279258549388522,
            3.0428770692619365,
            2.279258549388522,
            1.1338307695783996,
            1.1338307695783996,
            2.279258549388522,
            1.1338307695783996,
            0.179307619736631,
            0.179307619736631,
            -0.3934062701684301,
            -0.3934062701684301,
            -0.011597010231722688,
            -1.9206433099152598,
            -0.011597010231722688,
            1.7065446594834606,
            1.7065446594834606,
            1.7065446594834606,
            1.1338307695783996,
            1.1338307695783996,
            1.1338307695783996,
            -0.20250164020007638,
            -0.20250164020007638,
            -0.5843109001367838,
            -0.5843109001367838,
            -0.20250164020007638,
            -0.3934062701684301,
            -0.3934062701684301,
            -0.3934062701684301,
            -0.20250164020007638,
            -0.5843109001367838,
            -0.5843109001367838,
            -0.7752155301051374,
            -0.9661201600734912,
            -0.9661201600734912,
            -0.5843109001367838,
            -0.3934062701684301,
            -0.3934062701684301,
            -0.3934062701684301,
            -0.3934062701684301,
            -0.5843109001367838,
            -0.3934062701684301,
            -0.3934062701684301,
            -0.5843109001367838,
            -0.3934062701684301,
            -0.3934062701684301,
            -0.7752155301051374,
            -0.7752155301051374,
            -0.7752155301051374,
            -0.011597010231722688,
            -0.7752155301051374,
            -0.7752155301051374,
            0.5611168796733385,
            1.1338307695783996,
            0.9429261396100458,
            0.7520215096416921,
            0.7520215096416921,
            0.7520215096416921,
            -0.011597010231722688,
            -0.5843109001367838,
            -0.7752155301051374,
            1.1338307695783996,
            -1.5388340499785522,
            -1.5388340499785522,
            -0.3934062701684301,
            -0.9661201600734912,
            -1.3479294200101986,
            -0.3934062701684301,
            -0.011597010231722688,
            -0.3934062701684301,
            -0.3934062701684301,
            -0.3934062701684301,
            -0.3934062701684301,
            -0.3934062701684301,
            -0.3934062701684301,
            -0.3934062701684301,
            -1.3479294200101986,
            -1.3479294200101986,
            -0.011597010231722688,
            -0.011597010231722688,
            -0.5843109001367838,
            -0.5843109001367838,
            -0.5843109001367838,
            -0.5843109001367838,
            -0.5843109001367838,
            1.515640029515107,
            0.9429261396100458,
            0.37021224970498473,
            1.1338307695783996,
            0.9429261396100458,
            0.7520215096416921,
            -0.3934062701684301,
            0.5611168796733385,
            0.5611168796733385,
            -0.3934062701684301,
            -0.3934062701684301,
            0.7520215096416921,
            -0.9661201600734912,
            -1.3479294200101986,
            -1.1570247900418449,
            0.37021224970498473,
            -0.20250164020007638,
            -0.011597010231722688,
            -0.20250164020007638,
            -0.20250164020007638,
            -0.011597010231722688,
            -0.20250164020007638,
            -0.7752155301051374,
            -0.7752155301051374,
            -1.3479294200101986,
            -0.011597010231722688,
            -0.5843109001367838,
            -0.20250164020007638,
            -0.7752155301051374,
            -0.3934062701684301,
            -0.7752155301051374,
            -0.7752155301051374,
            -1.1570247900418449,
            -1.3479294200101986,
            0.179307619736631,
            -0.5843109001367838,
            -0.20250164020007638,
            -0.20250164020007638,
            -0.7752155301051374,
            -0.7752155301051374,
            -0.011597010231722688,
            -0.5843109001367838,
            -0.5843109001367838,
            -0.20250164020007638,
            -0.5843109001367838,
            -0.5843109001367838,
            -0.7752155301051374,
            -0.20250164020007638,
            -0.5843109001367838,
            -0.9661201600734912,
            0.179307619736631,
            0.9429261396100458,
            0.9429261396100458,
            0.5611168796733385,
            0.9429261396100458,
            -0.3934062701684301,
            -0.3934062701684301,
            0.179307619736631,
            0.179307619736631,
            -0.3934062701684301,
            0.9429261396100458,
            -1.3479294200101986,
            -0.7752155301051374,
            -0.5843109001367838,
            1.515640029515107,
            1.515640029515107,
            0.179307619736631,
            0.5611168796733385,
            0.179307619736631,
            -0.011597010231722688,
            -0.011597010231722688,
            -0.20250164020007638,
            -0.3934062701684301,
            -0.011597010231722688,
            -0.011597010231722688,
            -0.5843109001367838,
            -1.1570247900418449,
            -0.011597010231722688,
            0.7520215096416921,
            -0.011597010231722688,
            -0.20250164020007638,
            -0.20250164020007638,
            0.7520215096416921,
            -0.011597010231722688,
            -0.011597010231722688,
            0.7520215096416921,
            -0.011597010231722688,
            -0.5843109001367838,
            -0.20250164020007638,
            -0.3934062701684301,
            -0.7752155301051374,
            1.7065446594834606,
            -1.1570247900418449,
            -0.3934062701684301,
            -0.5843109001367838,
            -0.3934062701684301,
            -0.5843109001367838,
            -0.011597010231722688,
            -0.3934062701684301,
            -0.011597010231722688,
            -0.011597010231722688,
            0.179307619736631,
            0.179307619736631,
            0.179307619736631,
            0.179307619736631,
            -0.20250164020007638,
            0.179307619736631,
            1.1338307695783996,
            1.1338307695783996,
            1.1338307695783996,
            1.1338307695783996,
            1.1338307695783996,
            -0.011597010231722688,
            0.7520215096416921,
            2.279258549388522,
            2.088353919420168,
            0.37021224970498473,
            0.179307619736631,
            0.179307619736631,
            -0.011597010231722688,
            -0.20250164020007638,
            -0.20250164020007638,
            -0.011597010231722688,
            -0.3934062701684301,
            0.179307619736631,
            0.179307619736631,
            0.179307619736631,
            -0.3934062701684301,
            -0.20250164020007638,
            0.9429261396100458,
            0.9429261396100458,
            0.7520215096416921,
            0.37021224970498473,
            -0.011597010231722688,
            0.7520215096416921,
            7.433683558534072,
            -1.1570247900418449,
            -0.3934062701684301,
            -0.3934062701684301,
            -1.3479294200101986,
            0.37021224970498473,
            2.279258549388522,
            2.279258549388522,
            2.279258549388522,
            2.851972439293583,
            2.4701631793568755,
            2.851972439293583,
            0.7520215096416921,
            0.179307619736631,
            0.7520215096416921,
            -0.011597010231722688,
            0.179307619736631,
            0.179307619736631,
            -0.011597010231722688,
            0.179307619736631,
            -0.20250164020007638,
            -0.20250164020007638,
            0.7520215096416921,
            1.1338307695783996,
            0.37021224970498473,
            -0.7752155301051374,
            -1.1570247900418449,
            1.7065446594834606,
            -0.9661201600734912,
            0.7520215096416921,
            0.7520215096416921,
            3.424686329198644,
            0.7520215096416921,
            0.179307619736631,
            0.7520215096416921,
            0.37021224970498473,
            -0.20250164020007638,
            -0.3934062701684301,
            -0.7752155301051374,
            -1.5388340499785522,
            0.7520215096416921,
            0.37021224970498473,
            -0.3934062701684301,
            -0.9661201600734912,
            0.37021224970498473,
            -0.011597010231722688,
            -0.011597010231722688,
            -0.3934062701684301,
            -0.011597010231722688,
            -0.011597010231722688,
            0.179307619736631,
            -0.011597010231722688,
            -0.20250164020007638,
            0.37021224970498473,
            -0.011597010231722688
           ]
          },
          {
           "axis": {
            "matches": true
           },
           "label": "Cylinders",
           "values": [
            0.12351321685358266,
            -1.1598192314299842,
            -1.1598192314299842,
            0.12351321685358266,
            0.12351321685358266,
            0.12351321685358266,
            0.12351321685358266,
            -1.1598192314299842,
            -1.1598192314299842,
            0.12351321685358266,
            0.12351321685358266,
            0.12351321685358266,
            0.12351321685358266,
            0.12351321685358266,
            0.12351321685358266,
            0.12351321685358266,
            0.12351321685358266,
            1.4068456651371495,
            1.4068456651371495,
            1.4068456651371495,
            1.4068456651371495,
            -1.1598192314299842,
            -1.1598192314299842,
            0.12351321685358266,
            0.12351321685358266,
            1.4068456651371495,
            0.12351321685358266,
            1.4068456651371495,
            0.12351321685358266,
            0.12351321685358266,
            0.12351321685358266,
            0.12351321685358266,
            0.12351321685358266,
            0.12351321685358266,
            0.12351321685358266,
            0.12351321685358266,
            0.12351321685358266,
            0.12351321685358266,
            1.4068456651371495,
            1.4068456651371495,
            1.4068456651371495,
            0.12351321685358266,
            0.12351321685358266,
            0.12351321685358266,
            0.12351321685358266,
            0.12351321685358266,
            0.12351321685358266,
            0.12351321685358266,
            0.12351321685358266,
            0.12351321685358266,
            0.12351321685358266,
            0.12351321685358266,
            0.12351321685358266,
            0.12351321685358266,
            0.12351321685358266,
            1.4068456651371495,
            1.4068456651371495,
            0.12351321685358266,
            1.4068456651371495,
            1.4068456651371495,
            1.4068456651371495,
            1.4068456651371495,
            1.4068456651371495,
            1.4068456651371495,
            1.4068456651371495,
            0.12351321685358266,
            0.12351321685358266,
            -1.1598192314299842,
            -1.1598192314299842,
            -1.1598192314299842,
            -1.1598192314299842,
            -1.1598192314299842,
            0.12351321685358266,
            -1.1598192314299842,
            0.12351321685358266,
            0.12351321685358266,
            0.12351321685358266,
            0.12351321685358266,
            0.12351321685358266,
            0.12351321685358266,
            0.12351321685358266,
            0.12351321685358266,
            1.4068456651371495,
            1.4068456651371495,
            1.4068456651371495,
            -1.1598192314299842,
            0.12351321685358266,
            1.4068456651371495,
            1.4068456651371495,
            0.12351321685358266,
            -1.1598192314299842,
            -1.1598192314299842,
            -1.1598192314299842,
            0.12351321685358266,
            0.12351321685358266,
            0.12351321685358266,
            0.12351321685358266,
            -1.1598192314299842,
            -1.1598192314299842,
            0.12351321685358266,
            0.12351321685358266,
            0.12351321685358266,
            0.12351321685358266,
            0.12351321685358266,
            0.12351321685358266,
            1.4068456651371495,
            -1.1598192314299842,
            -1.1598192314299842,
            0.12351321685358266,
            -1.1598192314299842,
            -1.1598192314299842,
            0.12351321685358266,
            -1.1598192314299842,
            0.12351321685358266,
            2.6901781134207163,
            0.12351321685358266,
            0.12351321685358266,
            0.12351321685358266,
            2.6901781134207163,
            1.4068456651371495,
            0.12351321685358266,
            0.12351321685358266,
            -1.1598192314299842,
            -1.1598192314299842,
            -1.1598192314299842,
            -1.1598192314299842,
            -1.1598192314299842,
            0.12351321685358266,
            0.12351321685358266,
            1.4068456651371495,
            1.4068456651371495,
            1.4068456651371495,
            0.12351321685358266,
            0.12351321685358266,
            1.4068456651371495,
            1.4068456651371495,
            1.4068456651371495,
            1.4068456651371495,
            -1.1598192314299842,
            -1.1598192314299842,
            0.12351321685358266,
            0.12351321685358266,
            1.4068456651371495,
            1.4068456651371495,
            0.12351321685358266,
            -1.1598192314299842,
            1.4068456651371495,
            1.4068456651371495,
            0.12351321685358266,
            -1.1598192314299842,
            -1.8014854555717676,
            0.12351321685358266,
            -1.1598192314299842,
            -1.1598192314299842,
            -1.1598192314299842,
            -1.1598192314299842,
            -1.1598192314299842,
            -1.1598192314299842,
            -1.1598192314299842,
            -1.1598192314299842,
            -1.1598192314299842,
            0.12351321685358266,
            0.12351321685358266,
            0.12351321685358266,
            0.12351321685358266,
            -1.1598192314299842,
            1.4068456651371495,
            0.12351321685358266,
            -1.1598192314299842,
            -1.1598192314299842,
            -1.1598192314299842,
            -1.1598192314299842,
            -1.1598192314299842,
            -1.1598192314299842,
            0.12351321685358266,
            0.12351321685358266,
            0.12351321685358266,
            0.12351321685358266,
            0.12351321685358266,
            0.12351321685358266,
            0.12351321685358266,
            0.12351321685358266,
            0.12351321685358266,
            1.4068456651371495,
            1.4068456651371495,
            0.12351321685358266,
            1.4068456651371495,
            0.12351321685358266,
            0.12351321685358266,
            0.12351321685358266,
            0.12351321685358266,
            0.12351321685358266,
            1.4068456651371495,
            1.4068456651371495,
            1.4068456651371495,
            1.4068456651371495,
            1.4068456651371495,
            1.4068456651371495,
            1.4068456651371495,
            1.4068456651371495,
            1.4068456651371495,
            0.12351321685358266,
            -1.1598192314299842,
            0.12351321685358266,
            0.12351321685358266,
            -1.1598192314299842,
            -1.1598192314299842,
            -1.1598192314299842,
            -1.1598192314299842,
            -1.1598192314299842,
            -1.1598192314299842,
            0.12351321685358266,
            0.12351321685358266,
            0.12351321685358266,
            -1.1598192314299842,
            1.4068456651371495,
            1.4068456651371495,
            0.12351321685358266,
            1.4068456651371495,
            1.4068456651371495,
            0.12351321685358266,
            0.12351321685358266,
            0.12351321685358266,
            0.12351321685358266,
            0.12351321685358266,
            1.4068456651371495,
            1.4068456651371495,
            1.4068456651371495,
            0.12351321685358266,
            1.4068456651371495,
            1.4068456651371495,
            0.12351321685358266,
            0.12351321685358266,
            1.4068456651371495,
            1.4068456651371495,
            1.4068456651371495,
            1.4068456651371495,
            1.4068456651371495,
            -1.1598192314299842,
            -1.1598192314299842,
            -1.1598192314299842,
            -1.1598192314299842,
            -1.1598192314299842,
            -1.1598192314299842,
            0.12351321685358266,
            -1.1598192314299842,
            -1.1598192314299842,
            null,
            null,
            -1.1598192314299842,
            0.12351321685358266,
            1.4068456651371495,
            1.4068456651371495,
            -1.1598192314299842,
            0.12351321685358266,
            0.12351321685358266,
            0.12351321685358266,
            0.12351321685358266,
            0.12351321685358266,
            0.12351321685358266,
            0.12351321685358266,
            1.4068456651371495,
            3.9735105617042836,
            0.12351321685358266,
            1.4068456651371495,
            0.12351321685358266,
            1.4068456651371495,
            1.4068456651371495,
            1.4068456651371495,
            1.4068456651371495,
            1.4068456651371495,
            3.9735105617042836,
            -1.1598192314299842,
            0.12351321685358266,
            0.12351321685358266,
            0.12351321685358266,
            1.4068456651371495,
            0.12351321685358266,
            0.12351321685358266,
            1.4068456651371495,
            1.4068456651371495,
            0.12351321685358266,
            1.4068456651371495,
            1.4068456651371495,
            0.12351321685358266,
            0.12351321685358266,
            0.12351321685358266,
            0.12351321685358266,
            -1.1598192314299842,
            -1.1598192314299842,
            -1.1598192314299842,
            -1.1598192314299842,
            -1.1598192314299842,
            0.12351321685358266,
            0.12351321685358266,
            0.12351321685358266,
            0.12351321685358266,
            -1.1598192314299842,
            -1.1598192314299842,
            1.4068456651371495,
            0.12351321685358266,
            0.12351321685358266,
            -1.1598192314299842,
            -1.1598192314299842,
            -1.1598192314299842,
            -1.1598192314299842,
            0.12351321685358266,
            0.12351321685358266,
            0.12351321685358266,
            0.12351321685358266,
            0.12351321685358266,
            0.12351321685358266,
            0.12351321685358266,
            0.12351321685358266,
            1.4068456651371495,
            0.12351321685358266,
            -1.1598192314299842,
            0.12351321685358266,
            0.12351321685358266,
            0.12351321685358266,
            -1.1598192314299842,
            0.12351321685358266,
            0.12351321685358266,
            -1.1598192314299842,
            0.12351321685358266,
            1.4068456651371495,
            0.12351321685358266,
            0.12351321685358266,
            1.4068456651371495,
            -1.1598192314299842,
            1.4068456651371495,
            0.12351321685358266,
            0.12351321685358266,
            0.12351321685358266,
            0.12351321685358266,
            0.12351321685358266,
            0.12351321685358266,
            -1.1598192314299842,
            -1.1598192314299842,
            -1.1598192314299842,
            -1.1598192314299842,
            -1.1598192314299842,
            -1.1598192314299842,
            -1.1598192314299842,
            -1.1598192314299842,
            -1.1598192314299842,
            -1.1598192314299842,
            -1.1598192314299842,
            -1.1598192314299842,
            -1.1598192314299842,
            0.12351321685358266,
            -1.1598192314299842,
            -1.1598192314299842,
            -1.1598192314299842,
            -1.1598192314299842,
            -1.1598192314299842,
            -1.1598192314299842,
            -1.1598192314299842,
            0.12351321685358266,
            0.12351321685358266,
            -1.1598192314299842,
            -1.1598192314299842,
            -1.1598192314299842,
            -1.1598192314299842,
            -1.1598192314299842,
            0.12351321685358266,
            0.12351321685358266,
            -1.1598192314299842,
            -1.1598192314299842,
            -1.1598192314299842,
            -1.1598192314299842,
            0.12351321685358266,
            -1.1598192314299842,
            -1.1598192314299842,
            1.4068456651371495,
            0.12351321685358266,
            0.12351321685358266,
            1.4068456651371495,
            -1.1598192314299842,
            -1.1598192314299842,
            -1.1598192314299842,
            -1.1598192314299842,
            -1.1598192314299842,
            -1.1598192314299842,
            -1.1598192314299842,
            -1.1598192314299842,
            0.12351321685358266,
            -1.1598192314299842,
            0.12351321685358266,
            0.12351321685358266,
            0.12351321685358266,
            0.12351321685358266,
            0.12351321685358266,
            0.12351321685358266,
            0.12351321685358266,
            -1.1598192314299842,
            -1.1598192314299842,
            -1.1598192314299842,
            0.12351321685358266,
            0.12351321685358266,
            -1.1598192314299842,
            0.12351321685358266,
            -1.1598192314299842,
            -1.1598192314299842,
            -1.1598192314299842,
            -1.1598192314299842,
            0.12351321685358266,
            -1.1598192314299842,
            -1.1598192314299842,
            0.12351321685358266,
            1.4068456651371495,
            1.4068456651371495,
            3.9735105617042836,
            -1.1598192314299842,
            -1.1598192314299842,
            1.4068456651371495,
            0.12351321685358266,
            -1.1598192314299842,
            -0.5181530072882008,
            -0.5181530072882008,
            -0.5181530072882008,
            0.12351321685358266,
            -0.5181530072882008,
            -0.5181530072882008,
            -0.5181530072882008,
            0.12351321685358266,
            -1.1598192314299842,
            -0.5181530072882008
           ]
          }
         ],
         "hovertemplate": "%{xaxis.title.text}=%{x}<br>%{yaxis.title.text}=%{y}<extra></extra>",
         "legendgroup": "",
         "marker": {
          "color": "#636efa",
          "symbol": "circle"
         },
         "name": "",
         "showlegend": false,
         "type": "splom"
        }
       ],
       "layout": {
        "dragmode": "select",
        "legend": {
         "tracegroupgap": 0
        },
        "margin": {
         "t": 60
        },
        "template": {
         "data": {
          "bar": [
           {
            "error_x": {
             "color": "#2a3f5f"
            },
            "error_y": {
             "color": "#2a3f5f"
            },
            "marker": {
             "line": {
              "color": "#E5ECF6",
              "width": 0.5
             },
             "pattern": {
              "fillmode": "overlay",
              "size": 10,
              "solidity": 0.2
             }
            },
            "type": "bar"
           }
          ],
          "barpolar": [
           {
            "marker": {
             "line": {
              "color": "#E5ECF6",
              "width": 0.5
             },
             "pattern": {
              "fillmode": "overlay",
              "size": 10,
              "solidity": 0.2
             }
            },
            "type": "barpolar"
           }
          ],
          "carpet": [
           {
            "aaxis": {
             "endlinecolor": "#2a3f5f",
             "gridcolor": "white",
             "linecolor": "white",
             "minorgridcolor": "white",
             "startlinecolor": "#2a3f5f"
            },
            "baxis": {
             "endlinecolor": "#2a3f5f",
             "gridcolor": "white",
             "linecolor": "white",
             "minorgridcolor": "white",
             "startlinecolor": "#2a3f5f"
            },
            "type": "carpet"
           }
          ],
          "choropleth": [
           {
            "colorbar": {
             "outlinewidth": 0,
             "ticks": ""
            },
            "type": "choropleth"
           }
          ],
          "contour": [
           {
            "colorbar": {
             "outlinewidth": 0,
             "ticks": ""
            },
            "colorscale": [
             [
              0,
              "#0d0887"
             ],
             [
              0.1111111111111111,
              "#46039f"
             ],
             [
              0.2222222222222222,
              "#7201a8"
             ],
             [
              0.3333333333333333,
              "#9c179e"
             ],
             [
              0.4444444444444444,
              "#bd3786"
             ],
             [
              0.5555555555555556,
              "#d8576b"
             ],
             [
              0.6666666666666666,
              "#ed7953"
             ],
             [
              0.7777777777777778,
              "#fb9f3a"
             ],
             [
              0.8888888888888888,
              "#fdca26"
             ],
             [
              1,
              "#f0f921"
             ]
            ],
            "type": "contour"
           }
          ],
          "contourcarpet": [
           {
            "colorbar": {
             "outlinewidth": 0,
             "ticks": ""
            },
            "type": "contourcarpet"
           }
          ],
          "heatmap": [
           {
            "colorbar": {
             "outlinewidth": 0,
             "ticks": ""
            },
            "colorscale": [
             [
              0,
              "#0d0887"
             ],
             [
              0.1111111111111111,
              "#46039f"
             ],
             [
              0.2222222222222222,
              "#7201a8"
             ],
             [
              0.3333333333333333,
              "#9c179e"
             ],
             [
              0.4444444444444444,
              "#bd3786"
             ],
             [
              0.5555555555555556,
              "#d8576b"
             ],
             [
              0.6666666666666666,
              "#ed7953"
             ],
             [
              0.7777777777777778,
              "#fb9f3a"
             ],
             [
              0.8888888888888888,
              "#fdca26"
             ],
             [
              1,
              "#f0f921"
             ]
            ],
            "type": "heatmap"
           }
          ],
          "heatmapgl": [
           {
            "colorbar": {
             "outlinewidth": 0,
             "ticks": ""
            },
            "colorscale": [
             [
              0,
              "#0d0887"
             ],
             [
              0.1111111111111111,
              "#46039f"
             ],
             [
              0.2222222222222222,
              "#7201a8"
             ],
             [
              0.3333333333333333,
              "#9c179e"
             ],
             [
              0.4444444444444444,
              "#bd3786"
             ],
             [
              0.5555555555555556,
              "#d8576b"
             ],
             [
              0.6666666666666666,
              "#ed7953"
             ],
             [
              0.7777777777777778,
              "#fb9f3a"
             ],
             [
              0.8888888888888888,
              "#fdca26"
             ],
             [
              1,
              "#f0f921"
             ]
            ],
            "type": "heatmapgl"
           }
          ],
          "histogram": [
           {
            "marker": {
             "pattern": {
              "fillmode": "overlay",
              "size": 10,
              "solidity": 0.2
             }
            },
            "type": "histogram"
           }
          ],
          "histogram2d": [
           {
            "colorbar": {
             "outlinewidth": 0,
             "ticks": ""
            },
            "colorscale": [
             [
              0,
              "#0d0887"
             ],
             [
              0.1111111111111111,
              "#46039f"
             ],
             [
              0.2222222222222222,
              "#7201a8"
             ],
             [
              0.3333333333333333,
              "#9c179e"
             ],
             [
              0.4444444444444444,
              "#bd3786"
             ],
             [
              0.5555555555555556,
              "#d8576b"
             ],
             [
              0.6666666666666666,
              "#ed7953"
             ],
             [
              0.7777777777777778,
              "#fb9f3a"
             ],
             [
              0.8888888888888888,
              "#fdca26"
             ],
             [
              1,
              "#f0f921"
             ]
            ],
            "type": "histogram2d"
           }
          ],
          "histogram2dcontour": [
           {
            "colorbar": {
             "outlinewidth": 0,
             "ticks": ""
            },
            "colorscale": [
             [
              0,
              "#0d0887"
             ],
             [
              0.1111111111111111,
              "#46039f"
             ],
             [
              0.2222222222222222,
              "#7201a8"
             ],
             [
              0.3333333333333333,
              "#9c179e"
             ],
             [
              0.4444444444444444,
              "#bd3786"
             ],
             [
              0.5555555555555556,
              "#d8576b"
             ],
             [
              0.6666666666666666,
              "#ed7953"
             ],
             [
              0.7777777777777778,
              "#fb9f3a"
             ],
             [
              0.8888888888888888,
              "#fdca26"
             ],
             [
              1,
              "#f0f921"
             ]
            ],
            "type": "histogram2dcontour"
           }
          ],
          "mesh3d": [
           {
            "colorbar": {
             "outlinewidth": 0,
             "ticks": ""
            },
            "type": "mesh3d"
           }
          ],
          "parcoords": [
           {
            "line": {
             "colorbar": {
              "outlinewidth": 0,
              "ticks": ""
             }
            },
            "type": "parcoords"
           }
          ],
          "pie": [
           {
            "automargin": true,
            "type": "pie"
           }
          ],
          "scatter": [
           {
            "fillpattern": {
             "fillmode": "overlay",
             "size": 10,
             "solidity": 0.2
            },
            "type": "scatter"
           }
          ],
          "scatter3d": [
           {
            "line": {
             "colorbar": {
              "outlinewidth": 0,
              "ticks": ""
             }
            },
            "marker": {
             "colorbar": {
              "outlinewidth": 0,
              "ticks": ""
             }
            },
            "type": "scatter3d"
           }
          ],
          "scattercarpet": [
           {
            "marker": {
             "colorbar": {
              "outlinewidth": 0,
              "ticks": ""
             }
            },
            "type": "scattercarpet"
           }
          ],
          "scattergeo": [
           {
            "marker": {
             "colorbar": {
              "outlinewidth": 0,
              "ticks": ""
             }
            },
            "type": "scattergeo"
           }
          ],
          "scattergl": [
           {
            "marker": {
             "colorbar": {
              "outlinewidth": 0,
              "ticks": ""
             }
            },
            "type": "scattergl"
           }
          ],
          "scattermapbox": [
           {
            "marker": {
             "colorbar": {
              "outlinewidth": 0,
              "ticks": ""
             }
            },
            "type": "scattermapbox"
           }
          ],
          "scatterpolar": [
           {
            "marker": {
             "colorbar": {
              "outlinewidth": 0,
              "ticks": ""
             }
            },
            "type": "scatterpolar"
           }
          ],
          "scatterpolargl": [
           {
            "marker": {
             "colorbar": {
              "outlinewidth": 0,
              "ticks": ""
             }
            },
            "type": "scatterpolargl"
           }
          ],
          "scatterternary": [
           {
            "marker": {
             "colorbar": {
              "outlinewidth": 0,
              "ticks": ""
             }
            },
            "type": "scatterternary"
           }
          ],
          "surface": [
           {
            "colorbar": {
             "outlinewidth": 0,
             "ticks": ""
            },
            "colorscale": [
             [
              0,
              "#0d0887"
             ],
             [
              0.1111111111111111,
              "#46039f"
             ],
             [
              0.2222222222222222,
              "#7201a8"
             ],
             [
              0.3333333333333333,
              "#9c179e"
             ],
             [
              0.4444444444444444,
              "#bd3786"
             ],
             [
              0.5555555555555556,
              "#d8576b"
             ],
             [
              0.6666666666666666,
              "#ed7953"
             ],
             [
              0.7777777777777778,
              "#fb9f3a"
             ],
             [
              0.8888888888888888,
              "#fdca26"
             ],
             [
              1,
              "#f0f921"
             ]
            ],
            "type": "surface"
           }
          ],
          "table": [
           {
            "cells": {
             "fill": {
              "color": "#EBF0F8"
             },
             "line": {
              "color": "white"
             }
            },
            "header": {
             "fill": {
              "color": "#C8D4E3"
             },
             "line": {
              "color": "white"
             }
            },
            "type": "table"
           }
          ]
         },
         "layout": {
          "annotationdefaults": {
           "arrowcolor": "#2a3f5f",
           "arrowhead": 0,
           "arrowwidth": 1
          },
          "autotypenumbers": "strict",
          "coloraxis": {
           "colorbar": {
            "outlinewidth": 0,
            "ticks": ""
           }
          },
          "colorscale": {
           "diverging": [
            [
             0,
             "#8e0152"
            ],
            [
             0.1,
             "#c51b7d"
            ],
            [
             0.2,
             "#de77ae"
            ],
            [
             0.3,
             "#f1b6da"
            ],
            [
             0.4,
             "#fde0ef"
            ],
            [
             0.5,
             "#f7f7f7"
            ],
            [
             0.6,
             "#e6f5d0"
            ],
            [
             0.7,
             "#b8e186"
            ],
            [
             0.8,
             "#7fbc41"
            ],
            [
             0.9,
             "#4d9221"
            ],
            [
             1,
             "#276419"
            ]
           ],
           "sequential": [
            [
             0,
             "#0d0887"
            ],
            [
             0.1111111111111111,
             "#46039f"
            ],
            [
             0.2222222222222222,
             "#7201a8"
            ],
            [
             0.3333333333333333,
             "#9c179e"
            ],
            [
             0.4444444444444444,
             "#bd3786"
            ],
            [
             0.5555555555555556,
             "#d8576b"
            ],
            [
             0.6666666666666666,
             "#ed7953"
            ],
            [
             0.7777777777777778,
             "#fb9f3a"
            ],
            [
             0.8888888888888888,
             "#fdca26"
            ],
            [
             1,
             "#f0f921"
            ]
           ],
           "sequentialminus": [
            [
             0,
             "#0d0887"
            ],
            [
             0.1111111111111111,
             "#46039f"
            ],
            [
             0.2222222222222222,
             "#7201a8"
            ],
            [
             0.3333333333333333,
             "#9c179e"
            ],
            [
             0.4444444444444444,
             "#bd3786"
            ],
            [
             0.5555555555555556,
             "#d8576b"
            ],
            [
             0.6666666666666666,
             "#ed7953"
            ],
            [
             0.7777777777777778,
             "#fb9f3a"
            ],
            [
             0.8888888888888888,
             "#fdca26"
            ],
            [
             1,
             "#f0f921"
            ]
           ]
          },
          "colorway": [
           "#636efa",
           "#EF553B",
           "#00cc96",
           "#ab63fa",
           "#FFA15A",
           "#19d3f3",
           "#FF6692",
           "#B6E880",
           "#FF97FF",
           "#FECB52"
          ],
          "font": {
           "color": "#2a3f5f"
          },
          "geo": {
           "bgcolor": "white",
           "lakecolor": "white",
           "landcolor": "#E5ECF6",
           "showlakes": true,
           "showland": true,
           "subunitcolor": "white"
          },
          "hoverlabel": {
           "align": "left"
          },
          "hovermode": "closest",
          "mapbox": {
           "style": "light"
          },
          "paper_bgcolor": "white",
          "plot_bgcolor": "#E5ECF6",
          "polar": {
           "angularaxis": {
            "gridcolor": "white",
            "linecolor": "white",
            "ticks": ""
           },
           "bgcolor": "#E5ECF6",
           "radialaxis": {
            "gridcolor": "white",
            "linecolor": "white",
            "ticks": ""
           }
          },
          "scene": {
           "xaxis": {
            "backgroundcolor": "#E5ECF6",
            "gridcolor": "white",
            "gridwidth": 2,
            "linecolor": "white",
            "showbackground": true,
            "ticks": "",
            "zerolinecolor": "white"
           },
           "yaxis": {
            "backgroundcolor": "#E5ECF6",
            "gridcolor": "white",
            "gridwidth": 2,
            "linecolor": "white",
            "showbackground": true,
            "ticks": "",
            "zerolinecolor": "white"
           },
           "zaxis": {
            "backgroundcolor": "#E5ECF6",
            "gridcolor": "white",
            "gridwidth": 2,
            "linecolor": "white",
            "showbackground": true,
            "ticks": "",
            "zerolinecolor": "white"
           }
          },
          "shapedefaults": {
           "line": {
            "color": "#2a3f5f"
           }
          },
          "ternary": {
           "aaxis": {
            "gridcolor": "white",
            "linecolor": "white",
            "ticks": ""
           },
           "baxis": {
            "gridcolor": "white",
            "linecolor": "white",
            "ticks": ""
           },
           "bgcolor": "#E5ECF6",
           "caxis": {
            "gridcolor": "white",
            "linecolor": "white",
            "ticks": ""
           }
          },
          "title": {
           "x": 0.05
          },
          "xaxis": {
           "automargin": true,
           "gridcolor": "white",
           "linecolor": "white",
           "ticks": "",
           "title": {
            "standoff": 15
           },
           "zerolinecolor": "white",
           "zerolinewidth": 2
          },
          "yaxis": {
           "automargin": true,
           "gridcolor": "white",
           "linecolor": "white",
           "ticks": "",
           "title": {
            "standoff": 15
           },
           "zerolinecolor": "white",
           "zerolinewidth": 2
          }
         }
        }
       }
      }
     },
     "metadata": {},
     "output_type": "display_data"
    }
   ],
   "source": [
    "fig = px.scatter_matrix(df_Excluide[[\"MPG_City\",\"Cylinders\"]])\n",
    "fig.show()"
   ]
  },
  {
   "attachments": {},
   "cell_type": "markdown",
   "metadata": {},
   "source": [
    "- El número de cilindros es inversamente proporcional a la cantidad de millas por galón que recorre."
   ]
  },
  {
   "cell_type": "code",
   "execution_count": 28,
   "metadata": {},
   "outputs": [
    {
     "data": {
      "application/vnd.plotly.v1+json": {
       "config": {
        "plotlyServerURL": "https://plot.ly"
       },
       "data": [
        {
         "dimensions": [
          {
           "axis": {
            "matches": true
           },
           "label": "MPG_City",
           "values": [
            -0.5843109001367838,
            0.7520215096416921,
            0.37021224970498473,
            -0.011597010231722688,
            -0.3934062701684301,
            -0.3934062701684301,
            -0.5843109001367838,
            0.37021224970498473,
            0.5611168796733385,
            -0.011597010231722688,
            -0.5843109001367838,
            -0.3934062701684301,
            -0.011597010231722688,
            -0.3934062701684301,
            -0.011597010231722688,
            -0.3934062701684301,
            -0.3934062701684301,
            -0.5843109001367838,
            -0.5843109001367838,
            -1.1570247900418449,
            -0.9661201600734912,
            -0.011597010231722688,
            -0.011597010231722688,
            0.179307619736631,
            -0.3934062701684301,
            -0.9661201600734912,
            -0.7752155301051374,
            -0.7752155301051374,
            -0.011597010231722688,
            -0.011597010231722688,
            -0.20250164020007638,
            -0.20250164020007638,
            -0.011597010231722688,
            -0.011597010231722688,
            -0.011597010231722688,
            -0.20250164020007638,
            -0.20250164020007638,
            -0.011597010231722688,
            -0.3934062701684301,
            -0.3934062701684301,
            -0.3934062701684301,
            -0.7752155301051374,
            -0.7752155301051374,
            -0.011597010231722688,
            0.179307619736631,
            -0.20250164020007638,
            -0.9661201600734912,
            -0.20250164020007638,
            -0.011597010231722688,
            -0.011597010231722688,
            -0.011597010231722688,
            -0.3934062701684301,
            -0.011597010231722688,
            -0.011597010231722688,
            -0.3934062701684301,
            -1.1570247900418449,
            -0.7752155301051374,
            -0.3934062701684301,
            -0.3934062701684301,
            -0.3934062701684301,
            -0.3934062701684301,
            -0.5843109001367838,
            -1.3479294200101986,
            -1.1570247900418449,
            -1.1570247900418449,
            -0.7752155301051374,
            -0.20250164020007638,
            1.515640029515107,
            1.515640029515107,
            1.1338307695783996,
            1.1338307695783996,
            1.1338307695783996,
            0.179307619736631,
            0.7520215096416921,
            0.37021224970498473,
            0.179307619736631,
            -0.011597010231722688,
            -0.3934062701684301,
            0.5611168796733385,
            -0.3934062701684301,
            -1.1570247900418449,
            -0.20250164020007638,
            -0.3934062701684301,
            -0.3934062701684301,
            -1.1570247900418449,
            -0.3934062701684301,
            -0.9661201600734912,
            -1.3479294200101986,
            -0.7752155301051374,
            0.37021224970498473,
            0.37021224970498473,
            0.37021224970498473,
            0.37021224970498473,
            0.179307619736631,
            -0.3934062701684301,
            0.179307619736631,
            -0.20250164020007638,
            0.179307619736631,
            0.37021224970498473,
            -0.3934062701684301,
            0.179307619736631,
            -0.20250164020007638,
            -0.3934062701684301,
            -0.5843109001367838,
            -0.5843109001367838,
            -0.9661201600734912,
            1.7065446594834606,
            1.7065446594834606,
            0.179307619736631,
            0.179307619736631,
            0.179307619736631,
            -0.3934062701684301,
            -0.011597010231722688,
            -0.3934062701684301,
            -1.5388340499785522,
            -0.7752155301051374,
            -0.7752155301051374,
            -0.7752155301051374,
            -1.9206433099152598,
            -0.9661201600734912,
            -0.9661201600734912,
            -0.3934062701684301,
            1.1338307695783996,
            1.3247353995467532,
            1.1338307695783996,
            1.1338307695783996,
            0.179307619736631,
            -0.011597010231722688,
            -0.20250164020007638,
            -0.5843109001367838,
            -0.5843109001367838,
            -0.5843109001367838,
            -0.5843109001367838,
            -0.011597010231722688,
            -0.5843109001367838,
            -0.5843109001367838,
            -0.9661201600734912,
            -1.1570247900418449,
            0.7520215096416921,
            1.1338307695783996,
            -0.20250164020007638,
            -0.9661201600734912,
            -0.7752155301051374,
            -1.3479294200101986,
            -0.7752155301051374,
            -0.3934062701684301,
            -0.5843109001367838,
            -1.3479294200101986,
            -0.9661201600734912,
            4.951923368945473,
            7.624588188502425,
            -0.5843109001367838,
            0.179307619736631,
            0.179307619736631,
            2.279258549388522,
            3.0428770692619365,
            2.279258549388522,
            1.1338307695783996,
            1.1338307695783996,
            2.279258549388522,
            1.1338307695783996,
            0.179307619736631,
            0.179307619736631,
            -0.3934062701684301,
            -0.3934062701684301,
            -0.011597010231722688,
            -1.9206433099152598,
            -0.011597010231722688,
            1.7065446594834606,
            1.7065446594834606,
            1.7065446594834606,
            1.1338307695783996,
            1.1338307695783996,
            1.1338307695783996,
            -0.20250164020007638,
            -0.20250164020007638,
            -0.5843109001367838,
            -0.5843109001367838,
            -0.20250164020007638,
            -0.3934062701684301,
            -0.3934062701684301,
            -0.3934062701684301,
            -0.20250164020007638,
            -0.5843109001367838,
            -0.5843109001367838,
            -0.7752155301051374,
            -0.9661201600734912,
            -0.9661201600734912,
            -0.5843109001367838,
            -0.3934062701684301,
            -0.3934062701684301,
            -0.3934062701684301,
            -0.3934062701684301,
            -0.5843109001367838,
            -0.3934062701684301,
            -0.3934062701684301,
            -0.5843109001367838,
            -0.3934062701684301,
            -0.3934062701684301,
            -0.7752155301051374,
            -0.7752155301051374,
            -0.7752155301051374,
            -0.011597010231722688,
            -0.7752155301051374,
            -0.7752155301051374,
            0.5611168796733385,
            1.1338307695783996,
            0.9429261396100458,
            0.7520215096416921,
            0.7520215096416921,
            0.7520215096416921,
            -0.011597010231722688,
            -0.5843109001367838,
            -0.7752155301051374,
            1.1338307695783996,
            -1.5388340499785522,
            -1.5388340499785522,
            -0.3934062701684301,
            -0.9661201600734912,
            -1.3479294200101986,
            -0.3934062701684301,
            -0.011597010231722688,
            -0.3934062701684301,
            -0.3934062701684301,
            -0.3934062701684301,
            -0.3934062701684301,
            -0.3934062701684301,
            -0.3934062701684301,
            -0.3934062701684301,
            -1.3479294200101986,
            -1.3479294200101986,
            -0.011597010231722688,
            -0.011597010231722688,
            -0.5843109001367838,
            -0.5843109001367838,
            -0.5843109001367838,
            -0.5843109001367838,
            -0.5843109001367838,
            1.515640029515107,
            0.9429261396100458,
            0.37021224970498473,
            1.1338307695783996,
            0.9429261396100458,
            0.7520215096416921,
            -0.3934062701684301,
            0.5611168796733385,
            0.5611168796733385,
            -0.3934062701684301,
            -0.3934062701684301,
            0.7520215096416921,
            -0.9661201600734912,
            -1.3479294200101986,
            -1.1570247900418449,
            0.37021224970498473,
            -0.20250164020007638,
            -0.011597010231722688,
            -0.20250164020007638,
            -0.20250164020007638,
            -0.011597010231722688,
            -0.20250164020007638,
            -0.7752155301051374,
            -0.7752155301051374,
            -1.3479294200101986,
            -0.011597010231722688,
            -0.5843109001367838,
            -0.20250164020007638,
            -0.7752155301051374,
            -0.3934062701684301,
            -0.7752155301051374,
            -0.7752155301051374,
            -1.1570247900418449,
            -1.3479294200101986,
            0.179307619736631,
            -0.5843109001367838,
            -0.20250164020007638,
            -0.20250164020007638,
            -0.7752155301051374,
            -0.7752155301051374,
            -0.011597010231722688,
            -0.5843109001367838,
            -0.5843109001367838,
            -0.20250164020007638,
            -0.5843109001367838,
            -0.5843109001367838,
            -0.7752155301051374,
            -0.20250164020007638,
            -0.5843109001367838,
            -0.9661201600734912,
            0.179307619736631,
            0.9429261396100458,
            0.9429261396100458,
            0.5611168796733385,
            0.9429261396100458,
            -0.3934062701684301,
            -0.3934062701684301,
            0.179307619736631,
            0.179307619736631,
            -0.3934062701684301,
            0.9429261396100458,
            -1.3479294200101986,
            -0.7752155301051374,
            -0.5843109001367838,
            1.515640029515107,
            1.515640029515107,
            0.179307619736631,
            0.5611168796733385,
            0.179307619736631,
            -0.011597010231722688,
            -0.011597010231722688,
            -0.20250164020007638,
            -0.3934062701684301,
            -0.011597010231722688,
            -0.011597010231722688,
            -0.5843109001367838,
            -1.1570247900418449,
            -0.011597010231722688,
            0.7520215096416921,
            -0.011597010231722688,
            -0.20250164020007638,
            -0.20250164020007638,
            0.7520215096416921,
            -0.011597010231722688,
            -0.011597010231722688,
            0.7520215096416921,
            -0.011597010231722688,
            -0.5843109001367838,
            -0.20250164020007638,
            -0.3934062701684301,
            -0.7752155301051374,
            1.7065446594834606,
            -1.1570247900418449,
            -0.3934062701684301,
            -0.5843109001367838,
            -0.3934062701684301,
            -0.5843109001367838,
            -0.011597010231722688,
            -0.3934062701684301,
            -0.011597010231722688,
            -0.011597010231722688,
            0.179307619736631,
            0.179307619736631,
            0.179307619736631,
            0.179307619736631,
            -0.20250164020007638,
            0.179307619736631,
            1.1338307695783996,
            1.1338307695783996,
            1.1338307695783996,
            1.1338307695783996,
            1.1338307695783996,
            -0.011597010231722688,
            0.7520215096416921,
            2.279258549388522,
            2.088353919420168,
            0.37021224970498473,
            0.179307619736631,
            0.179307619736631,
            -0.011597010231722688,
            -0.20250164020007638,
            -0.20250164020007638,
            -0.011597010231722688,
            -0.3934062701684301,
            0.179307619736631,
            0.179307619736631,
            0.179307619736631,
            -0.3934062701684301,
            -0.20250164020007638,
            0.9429261396100458,
            0.9429261396100458,
            0.7520215096416921,
            0.37021224970498473,
            -0.011597010231722688,
            0.7520215096416921,
            7.433683558534072,
            -1.1570247900418449,
            -0.3934062701684301,
            -0.3934062701684301,
            -1.3479294200101986,
            0.37021224970498473,
            2.279258549388522,
            2.279258549388522,
            2.279258549388522,
            2.851972439293583,
            2.4701631793568755,
            2.851972439293583,
            0.7520215096416921,
            0.179307619736631,
            0.7520215096416921,
            -0.011597010231722688,
            0.179307619736631,
            0.179307619736631,
            -0.011597010231722688,
            0.179307619736631,
            -0.20250164020007638,
            -0.20250164020007638,
            0.7520215096416921,
            1.1338307695783996,
            0.37021224970498473,
            -0.7752155301051374,
            -1.1570247900418449,
            1.7065446594834606,
            -0.9661201600734912,
            0.7520215096416921,
            0.7520215096416921,
            3.424686329198644,
            0.7520215096416921,
            0.179307619736631,
            0.7520215096416921,
            0.37021224970498473,
            -0.20250164020007638,
            -0.3934062701684301,
            -0.7752155301051374,
            -1.5388340499785522,
            0.7520215096416921,
            0.37021224970498473,
            -0.3934062701684301,
            -0.9661201600734912,
            0.37021224970498473,
            -0.011597010231722688,
            -0.011597010231722688,
            -0.3934062701684301,
            -0.011597010231722688,
            -0.011597010231722688,
            0.179307619736631,
            -0.011597010231722688,
            -0.20250164020007638,
            0.37021224970498473,
            -0.011597010231722688
           ]
          },
          {
           "axis": {
            "matches": true
           },
           "label": "Horsepower",
           "values": [
            0.6837026614434962,
            -0.22113574021951066,
            -0.22113574021951066,
            0.7533056154175737,
            0.12687902965087663,
            0.12687902965087663,
            1.0317174313138835,
            -0.6387534640639754,
            -0.6387534640639754,
            0.05727607567679917,
            0.05727607567679917,
            0.05727607567679917,
            0.05727607567679917,
            0.05727607567679917,
            0.05727607567679917,
            0.05727607567679917,
            0.4748937995212639,
            1.1709233392620384,
            1.5885410631065031,
            1.727746971054658,
            3.259011958484362,
            -0.49954755611582047,
            0.12687902965087663,
            0.4748937995212639,
            0.05727607567679917,
            1.727746971054658,
            0.12687902965087663,
            1.5189381091324257,
            -0.4438651929365585,
            -0.4438651929365585,
            -0.4438651929365585,
            -0.4438651929365585,
            0.12687902965087663,
            0.12687902965087663,
            0.12687902965087663,
            -0.4438651929365585,
            0.12687902965087663,
            0.12687902965087663,
            1.5189381091324257,
            1.5189381091324257,
            1.5189381091324257,
            1.6303028354909497,
            1.6303028354909497,
            -0.4438651929365585,
            0.12687902965087663,
            -0.4438651929365585,
            0.8229085693916511,
            -0.429944602141743,
            -0.5691505100898979,
            -0.1515327862454332,
            -0.22113574021951066,
            0.33568789157310897,
            -0.1515327862454332,
            -0.1515327862454332,
            0.33568789157310897,
            1.101320385287961,
            1.4493351551583482,
            0.5444967534953413,
            0.8229085693916511,
            1.1709233392620384,
            0.8229085693916511,
            1.4493351551583482,
            1.7973499250287355,
            1.101320385287961,
            1.101320385287961,
            0.8229085693916511,
            -0.7083564180380528,
            -1.5714330473166134,
            -1.5714330473166134,
            -1.05637118790844,
            -1.05637118790844,
            -1.05637118790844,
            -0.49954755611582047,
            -0.9867682339343626,
            -0.22113574021951066,
            -0.49954755611582047,
            -0.22113574021951066,
            0.33568789157310897,
            -0.22113574021951066,
            -0.22113574021951066,
            -0.36034164816766556,
            -0.429944602141743,
            1.866952879002813,
            1.866952879002813,
            1.101320385287961,
            -0.5691505100898979,
            -0.22113574021951066,
            1.1709233392620384,
            1.1709233392620384,
            -0.22113574021951066,
            -0.9171652799602852,
            -0.9171652799602852,
            -0.9171652799602852,
            -0.22113574021951066,
            0.4748937995212639,
            -0.22113574021951066,
            0.22432316521458506,
            0.05727607567679917,
            -0.9171652799602852,
            0.5444967534953413,
            -0.22113574021951066,
            -0.49954755611582047,
            -0.012326878297278285,
            -0.012326878297278285,
            0.4748937995212639,
            0.1964819836249541,
            -1.167735914266964,
            -1.167735914266964,
            -0.22113574021951066,
            -0.9171652799602852,
            -0.9171652799602852,
            0.22432316521458506,
            -0.9171652799602852,
            -0.012326878297278285,
            3.9550414982251367,
            -0.08192983227135574,
            -0.08192983227135574,
            -0.012326878297278285,
            1.3101292472101933,
            0.22432316521458506,
            -0.08192983227135574,
            -0.20721514942469516,
            -1.195577095856595,
            -1.4739889117529048,
            -1.195577095856595,
            -1.195577095856595,
            -0.6387534640639754,
            -0.8475623259862077,
            -0.20721514942469516,
            0.11295843885606113,
            0.11295843885606113,
            0.3217673007782935,
            -0.3185798757832191,
            -0.3185798757832191,
            0.6140997074694188,
            0.8925115233657286,
            0.21040257441976956,
            1.1709233392620384,
            -1.0146094155239935,
            -1.195577095856595,
            -0.8475623259862077,
            0.8229085693916511,
            0.962114477339806,
            1.5189381091324257,
            -0.36034164816766556,
            -0.5691505100898979,
            0.962114477339806,
            1.1709233392620384,
            -0.36034164816766556,
            -1.7106389552647683,
            -1.989050771161078,
            0.33568789157310897,
            -0.7779593720121303,
            -0.7779593720121303,
            -1.4043859577788274,
            -1.3765447761891965,
            -1.4043859577788274,
            -0.7779593720121303,
            -0.7779593720121303,
            -1.2373388682410416,
            -0.7779593720121303,
            0.33568789157310897,
            0.33568789157310897,
            0.33568789157310897,
            0.33568789157310897,
            0.33568789157310897,
            1.3936527919790862,
            -0.5969916916795289,
            -1.5714330473166134,
            -1.5714330473166134,
            -1.5714330473166134,
            -1.084212369498071,
            -1.084212369498071,
            -1.084212369498071,
            -0.6387534640639754,
            -0.6387534640639754,
            -0.3046592849884036,
            -0.3046592849884036,
            -0.6109122824743444,
            0.6140997074694188,
            0.8925115233657286,
            0.6140997074694188,
            0.5444967534953413,
            1.727746971054658,
            1.727746971054658,
            0.8925115233657286,
            1.3797322011842708,
            0.8229085693916511,
            -0.3185798757832191,
            -0.33250046657803456,
            0.1547202112405076,
            0.2660849375990315,
            1.0873997944931455,
            2.4237765107954328,
            1.0873997944931455,
            1.0873997944931455,
            2.4237765107954328,
            1.0873997944931455,
            1.0873997944931455,
            2.4237765107954328,
            2.4237765107954328,
            -0.2907386941935881,
            -0.9171652799602852,
            -0.36034164816766556,
            -0.33250046657803456,
            -1.084212369498071,
            -1.5575124565217977,
            -1.5575124565217977,
            -1.279100640625488,
            -1.279100640625488,
            -1.279100640625488,
            -0.6387534640639754,
            -0.2907386941935881,
            -0.2907386941935881,
            -1.5575124565217977,
            0.9203527049553596,
            0.015514303292352698,
            -0.5830711008847134,
            0.2660849375990315,
            0.2660849375990315,
            0.1964819836249541,
            0.12687902965087663,
            -0.012326878297278285,
            -0.012326878297278285,
            0.05727607567679917,
            1.1709233392620384,
            1.0317174313138835,
            1.1709233392620384,
            -0.012326878297278285,
            1.1709233392620384,
            1.1987645208516695,
            0.22432316521458506,
            0.22432316521458506,
            0.8925115233657286,
            0.8925115233657286,
            0.3217673007782935,
            0.3217673007782935,
            0.3217673007782935,
            -1.4043859577788274,
            -0.7361975996276838,
            -1.195577095856595,
            -0.9450064615499162,
            -0.7779593720121303,
            -0.7779593720121303,
            -0.22113574021951066,
            -1.0285300063188092,
            -1.0285300063188092,
            -0.2628975126039571,
            0.307846709983478,
            -1.0146094155239935,
            -0.12369160465580221,
            1.0595586129035146,
            1.0038762497242526,
            -0.37426223896248106,
            -0.012326878297278285,
            -0.6665946456536064,
            -0.6665946456536064,
            -0.012326878297278285,
            -0.012326878297278285,
            -0.012326878297278285,
            1.8530322882079975,
            1.1987645208516695,
            3.857597362661428,
            -0.012326878297278285,
            1.1987645208516695,
            0.07119666647161466,
            1.1987645208516695,
            0.8229085693916511,
            1.1987645208516695,
            1.1987645208516695,
            3.857597362661428,
            3.857597362661428,
            -0.33250046657803456,
            1.8530322882079975,
            -0.6665946456536064,
            0.07119666647161466,
            1.1987645208516695,
            -0.08192983227135574,
            -0.8475623259862077,
            0.11295843885606113,
            0.11295843885606113,
            -0.20721514942469516,
            0.11295843885606113,
            1.1987645208516695,
            -0.20721514942469516,
            -0.8475623259862077,
            -0.012326878297278285,
            -0.012326878297278285,
            -0.7779593720121303,
            -1.33478300380475,
            -1.33478300380475,
            -0.7779593720121303,
            -1.33478300380475,
            -0.1515327862454332,
            0.1964819836249541,
            -0.08192983227135574,
            -0.08192983227135574,
            0.7672262062123892,
            -0.7779593720121303,
            1.2405262932361159,
            0.33568789157310897,
            -0.49954755611582047,
            -1.251259459035857,
            -1.251259459035857,
            -0.5691505100898979,
            -0.7083564180380528,
            0.4052908455471864,
            0.6837026614434962,
            0.6837026614434962,
            0.33568789157310897,
            0.33568789157310897,
            0.989955658929437,
            0.989955658929437,
            -0.49954755611582047,
            1.2405262932361159,
            0.4052908455471864,
            -1.05637118790844,
            -0.6387534640639754,
            -0.429944602141743,
            -0.429944602141743,
            -1.05637118790844,
            -0.5691505100898979,
            -0.22113574021951066,
            -1.05637118790844,
            -0.22113574021951066,
            0.8229085693916511,
            -0.429944602141743,
            -0.429944602141743,
            1.727746971054658,
            -1.195577095856595,
            1.727746971054658,
            1.3797322011842708,
            1.3797322011842708,
            1.3797322011842708,
            3.63486790994438,
            0.1686408020353231,
            0.5862585258797878,
            -0.08192983227135574,
            -0.08192983227135574,
            0.05727607567679917,
            0.4748937995212639,
            -0.08192983227135574,
            -0.08192983227135574,
            0.4748937995212639,
            -1.0146094155239935,
            -1.05637118790844,
            -1.05637118790844,
            -1.05637118790844,
            -1.05637118790844,
            -1.05637118790844,
            -0.47170637452618946,
            -1.05637118790844,
            -1.501830093342536,
            -1.501830093342536,
            -0.7083564180380528,
            -0.7083564180380528,
            -0.7083564180380528,
            -0.7083564180380528,
            -0.054088650681724755,
            -0.054088650681724755,
            0.1547202112405076,
            1.1709233392620384,
            -0.7083564180380528,
            -0.7083564180380528,
            -0.7083564180380528,
            -0.429944602141743,
            -0.7083564180380528,
            -0.8475623259862077,
            -0.8475623259862077,
            -1.3487035945995653,
            -1.3487035945995653,
            -0.8475623259862077,
            -0.8475623259862077,
            -1.4739889117529048,
            0.33568789157310897,
            0.4052908455471864,
            0.1964819836249541,
            1.5189381091324257,
            -0.7640387812173148,
            -1.195577095856595,
            -1.195577095856595,
            -1.195577095856595,
            -1.501830093342536,
            -1.501830093342536,
            -1.501830093342536,
            -0.8197211443965767,
            -0.08192983227135574,
            -0.8197211443965767,
            0.12687902965087663,
            -0.08192983227135574,
            -0.08192983227135574,
            0.12687902965087663,
            -0.08192983227135574,
            0.1964819836249541,
            0.1964819836249541,
            -0.49954755611582047,
            -1.084212369498071,
            -1.0285300063188092,
            -0.36034164816766556,
            -0.36034164816766556,
            -1.195577095856595,
            0.05727607567679917,
            -1.4043859577788274,
            -0.49954755611582047,
            -1.6131948197010597,
            -0.9171652799602852,
            -0.22113574021951066,
            -1.4043859577788274,
            -0.6387534640639754,
            -0.36034164816766556,
            0.7533056154175737,
            1.6581440170805806,
            2.8413942346398975,
            -1.4043859577788274,
            -0.6387534640639754,
            0.7533056154175737,
            0.7254644338279428,
            -0.6387534640639754,
            -0.10977101386098673,
            0.4331320271368174,
            1.1709233392620384,
            -0.10977101386098673,
            -0.3046592849884036,
            -0.2628975126039571,
            0.36352907316273997,
            0.7254644338279428,
            -0.6387534640639754,
            -0.10977101386098673
           ]
          }
         ],
         "hovertemplate": "%{xaxis.title.text}=%{x}<br>%{yaxis.title.text}=%{y}<extra></extra>",
         "legendgroup": "",
         "marker": {
          "color": "#636efa",
          "symbol": "circle"
         },
         "name": "",
         "showlegend": false,
         "type": "splom"
        }
       ],
       "layout": {
        "dragmode": "select",
        "legend": {
         "tracegroupgap": 0
        },
        "margin": {
         "t": 60
        },
        "template": {
         "data": {
          "bar": [
           {
            "error_x": {
             "color": "#2a3f5f"
            },
            "error_y": {
             "color": "#2a3f5f"
            },
            "marker": {
             "line": {
              "color": "#E5ECF6",
              "width": 0.5
             },
             "pattern": {
              "fillmode": "overlay",
              "size": 10,
              "solidity": 0.2
             }
            },
            "type": "bar"
           }
          ],
          "barpolar": [
           {
            "marker": {
             "line": {
              "color": "#E5ECF6",
              "width": 0.5
             },
             "pattern": {
              "fillmode": "overlay",
              "size": 10,
              "solidity": 0.2
             }
            },
            "type": "barpolar"
           }
          ],
          "carpet": [
           {
            "aaxis": {
             "endlinecolor": "#2a3f5f",
             "gridcolor": "white",
             "linecolor": "white",
             "minorgridcolor": "white",
             "startlinecolor": "#2a3f5f"
            },
            "baxis": {
             "endlinecolor": "#2a3f5f",
             "gridcolor": "white",
             "linecolor": "white",
             "minorgridcolor": "white",
             "startlinecolor": "#2a3f5f"
            },
            "type": "carpet"
           }
          ],
          "choropleth": [
           {
            "colorbar": {
             "outlinewidth": 0,
             "ticks": ""
            },
            "type": "choropleth"
           }
          ],
          "contour": [
           {
            "colorbar": {
             "outlinewidth": 0,
             "ticks": ""
            },
            "colorscale": [
             [
              0,
              "#0d0887"
             ],
             [
              0.1111111111111111,
              "#46039f"
             ],
             [
              0.2222222222222222,
              "#7201a8"
             ],
             [
              0.3333333333333333,
              "#9c179e"
             ],
             [
              0.4444444444444444,
              "#bd3786"
             ],
             [
              0.5555555555555556,
              "#d8576b"
             ],
             [
              0.6666666666666666,
              "#ed7953"
             ],
             [
              0.7777777777777778,
              "#fb9f3a"
             ],
             [
              0.8888888888888888,
              "#fdca26"
             ],
             [
              1,
              "#f0f921"
             ]
            ],
            "type": "contour"
           }
          ],
          "contourcarpet": [
           {
            "colorbar": {
             "outlinewidth": 0,
             "ticks": ""
            },
            "type": "contourcarpet"
           }
          ],
          "heatmap": [
           {
            "colorbar": {
             "outlinewidth": 0,
             "ticks": ""
            },
            "colorscale": [
             [
              0,
              "#0d0887"
             ],
             [
              0.1111111111111111,
              "#46039f"
             ],
             [
              0.2222222222222222,
              "#7201a8"
             ],
             [
              0.3333333333333333,
              "#9c179e"
             ],
             [
              0.4444444444444444,
              "#bd3786"
             ],
             [
              0.5555555555555556,
              "#d8576b"
             ],
             [
              0.6666666666666666,
              "#ed7953"
             ],
             [
              0.7777777777777778,
              "#fb9f3a"
             ],
             [
              0.8888888888888888,
              "#fdca26"
             ],
             [
              1,
              "#f0f921"
             ]
            ],
            "type": "heatmap"
           }
          ],
          "heatmapgl": [
           {
            "colorbar": {
             "outlinewidth": 0,
             "ticks": ""
            },
            "colorscale": [
             [
              0,
              "#0d0887"
             ],
             [
              0.1111111111111111,
              "#46039f"
             ],
             [
              0.2222222222222222,
              "#7201a8"
             ],
             [
              0.3333333333333333,
              "#9c179e"
             ],
             [
              0.4444444444444444,
              "#bd3786"
             ],
             [
              0.5555555555555556,
              "#d8576b"
             ],
             [
              0.6666666666666666,
              "#ed7953"
             ],
             [
              0.7777777777777778,
              "#fb9f3a"
             ],
             [
              0.8888888888888888,
              "#fdca26"
             ],
             [
              1,
              "#f0f921"
             ]
            ],
            "type": "heatmapgl"
           }
          ],
          "histogram": [
           {
            "marker": {
             "pattern": {
              "fillmode": "overlay",
              "size": 10,
              "solidity": 0.2
             }
            },
            "type": "histogram"
           }
          ],
          "histogram2d": [
           {
            "colorbar": {
             "outlinewidth": 0,
             "ticks": ""
            },
            "colorscale": [
             [
              0,
              "#0d0887"
             ],
             [
              0.1111111111111111,
              "#46039f"
             ],
             [
              0.2222222222222222,
              "#7201a8"
             ],
             [
              0.3333333333333333,
              "#9c179e"
             ],
             [
              0.4444444444444444,
              "#bd3786"
             ],
             [
              0.5555555555555556,
              "#d8576b"
             ],
             [
              0.6666666666666666,
              "#ed7953"
             ],
             [
              0.7777777777777778,
              "#fb9f3a"
             ],
             [
              0.8888888888888888,
              "#fdca26"
             ],
             [
              1,
              "#f0f921"
             ]
            ],
            "type": "histogram2d"
           }
          ],
          "histogram2dcontour": [
           {
            "colorbar": {
             "outlinewidth": 0,
             "ticks": ""
            },
            "colorscale": [
             [
              0,
              "#0d0887"
             ],
             [
              0.1111111111111111,
              "#46039f"
             ],
             [
              0.2222222222222222,
              "#7201a8"
             ],
             [
              0.3333333333333333,
              "#9c179e"
             ],
             [
              0.4444444444444444,
              "#bd3786"
             ],
             [
              0.5555555555555556,
              "#d8576b"
             ],
             [
              0.6666666666666666,
              "#ed7953"
             ],
             [
              0.7777777777777778,
              "#fb9f3a"
             ],
             [
              0.8888888888888888,
              "#fdca26"
             ],
             [
              1,
              "#f0f921"
             ]
            ],
            "type": "histogram2dcontour"
           }
          ],
          "mesh3d": [
           {
            "colorbar": {
             "outlinewidth": 0,
             "ticks": ""
            },
            "type": "mesh3d"
           }
          ],
          "parcoords": [
           {
            "line": {
             "colorbar": {
              "outlinewidth": 0,
              "ticks": ""
             }
            },
            "type": "parcoords"
           }
          ],
          "pie": [
           {
            "automargin": true,
            "type": "pie"
           }
          ],
          "scatter": [
           {
            "fillpattern": {
             "fillmode": "overlay",
             "size": 10,
             "solidity": 0.2
            },
            "type": "scatter"
           }
          ],
          "scatter3d": [
           {
            "line": {
             "colorbar": {
              "outlinewidth": 0,
              "ticks": ""
             }
            },
            "marker": {
             "colorbar": {
              "outlinewidth": 0,
              "ticks": ""
             }
            },
            "type": "scatter3d"
           }
          ],
          "scattercarpet": [
           {
            "marker": {
             "colorbar": {
              "outlinewidth": 0,
              "ticks": ""
             }
            },
            "type": "scattercarpet"
           }
          ],
          "scattergeo": [
           {
            "marker": {
             "colorbar": {
              "outlinewidth": 0,
              "ticks": ""
             }
            },
            "type": "scattergeo"
           }
          ],
          "scattergl": [
           {
            "marker": {
             "colorbar": {
              "outlinewidth": 0,
              "ticks": ""
             }
            },
            "type": "scattergl"
           }
          ],
          "scattermapbox": [
           {
            "marker": {
             "colorbar": {
              "outlinewidth": 0,
              "ticks": ""
             }
            },
            "type": "scattermapbox"
           }
          ],
          "scatterpolar": [
           {
            "marker": {
             "colorbar": {
              "outlinewidth": 0,
              "ticks": ""
             }
            },
            "type": "scatterpolar"
           }
          ],
          "scatterpolargl": [
           {
            "marker": {
             "colorbar": {
              "outlinewidth": 0,
              "ticks": ""
             }
            },
            "type": "scatterpolargl"
           }
          ],
          "scatterternary": [
           {
            "marker": {
             "colorbar": {
              "outlinewidth": 0,
              "ticks": ""
             }
            },
            "type": "scatterternary"
           }
          ],
          "surface": [
           {
            "colorbar": {
             "outlinewidth": 0,
             "ticks": ""
            },
            "colorscale": [
             [
              0,
              "#0d0887"
             ],
             [
              0.1111111111111111,
              "#46039f"
             ],
             [
              0.2222222222222222,
              "#7201a8"
             ],
             [
              0.3333333333333333,
              "#9c179e"
             ],
             [
              0.4444444444444444,
              "#bd3786"
             ],
             [
              0.5555555555555556,
              "#d8576b"
             ],
             [
              0.6666666666666666,
              "#ed7953"
             ],
             [
              0.7777777777777778,
              "#fb9f3a"
             ],
             [
              0.8888888888888888,
              "#fdca26"
             ],
             [
              1,
              "#f0f921"
             ]
            ],
            "type": "surface"
           }
          ],
          "table": [
           {
            "cells": {
             "fill": {
              "color": "#EBF0F8"
             },
             "line": {
              "color": "white"
             }
            },
            "header": {
             "fill": {
              "color": "#C8D4E3"
             },
             "line": {
              "color": "white"
             }
            },
            "type": "table"
           }
          ]
         },
         "layout": {
          "annotationdefaults": {
           "arrowcolor": "#2a3f5f",
           "arrowhead": 0,
           "arrowwidth": 1
          },
          "autotypenumbers": "strict",
          "coloraxis": {
           "colorbar": {
            "outlinewidth": 0,
            "ticks": ""
           }
          },
          "colorscale": {
           "diverging": [
            [
             0,
             "#8e0152"
            ],
            [
             0.1,
             "#c51b7d"
            ],
            [
             0.2,
             "#de77ae"
            ],
            [
             0.3,
             "#f1b6da"
            ],
            [
             0.4,
             "#fde0ef"
            ],
            [
             0.5,
             "#f7f7f7"
            ],
            [
             0.6,
             "#e6f5d0"
            ],
            [
             0.7,
             "#b8e186"
            ],
            [
             0.8,
             "#7fbc41"
            ],
            [
             0.9,
             "#4d9221"
            ],
            [
             1,
             "#276419"
            ]
           ],
           "sequential": [
            [
             0,
             "#0d0887"
            ],
            [
             0.1111111111111111,
             "#46039f"
            ],
            [
             0.2222222222222222,
             "#7201a8"
            ],
            [
             0.3333333333333333,
             "#9c179e"
            ],
            [
             0.4444444444444444,
             "#bd3786"
            ],
            [
             0.5555555555555556,
             "#d8576b"
            ],
            [
             0.6666666666666666,
             "#ed7953"
            ],
            [
             0.7777777777777778,
             "#fb9f3a"
            ],
            [
             0.8888888888888888,
             "#fdca26"
            ],
            [
             1,
             "#f0f921"
            ]
           ],
           "sequentialminus": [
            [
             0,
             "#0d0887"
            ],
            [
             0.1111111111111111,
             "#46039f"
            ],
            [
             0.2222222222222222,
             "#7201a8"
            ],
            [
             0.3333333333333333,
             "#9c179e"
            ],
            [
             0.4444444444444444,
             "#bd3786"
            ],
            [
             0.5555555555555556,
             "#d8576b"
            ],
            [
             0.6666666666666666,
             "#ed7953"
            ],
            [
             0.7777777777777778,
             "#fb9f3a"
            ],
            [
             0.8888888888888888,
             "#fdca26"
            ],
            [
             1,
             "#f0f921"
            ]
           ]
          },
          "colorway": [
           "#636efa",
           "#EF553B",
           "#00cc96",
           "#ab63fa",
           "#FFA15A",
           "#19d3f3",
           "#FF6692",
           "#B6E880",
           "#FF97FF",
           "#FECB52"
          ],
          "font": {
           "color": "#2a3f5f"
          },
          "geo": {
           "bgcolor": "white",
           "lakecolor": "white",
           "landcolor": "#E5ECF6",
           "showlakes": true,
           "showland": true,
           "subunitcolor": "white"
          },
          "hoverlabel": {
           "align": "left"
          },
          "hovermode": "closest",
          "mapbox": {
           "style": "light"
          },
          "paper_bgcolor": "white",
          "plot_bgcolor": "#E5ECF6",
          "polar": {
           "angularaxis": {
            "gridcolor": "white",
            "linecolor": "white",
            "ticks": ""
           },
           "bgcolor": "#E5ECF6",
           "radialaxis": {
            "gridcolor": "white",
            "linecolor": "white",
            "ticks": ""
           }
          },
          "scene": {
           "xaxis": {
            "backgroundcolor": "#E5ECF6",
            "gridcolor": "white",
            "gridwidth": 2,
            "linecolor": "white",
            "showbackground": true,
            "ticks": "",
            "zerolinecolor": "white"
           },
           "yaxis": {
            "backgroundcolor": "#E5ECF6",
            "gridcolor": "white",
            "gridwidth": 2,
            "linecolor": "white",
            "showbackground": true,
            "ticks": "",
            "zerolinecolor": "white"
           },
           "zaxis": {
            "backgroundcolor": "#E5ECF6",
            "gridcolor": "white",
            "gridwidth": 2,
            "linecolor": "white",
            "showbackground": true,
            "ticks": "",
            "zerolinecolor": "white"
           }
          },
          "shapedefaults": {
           "line": {
            "color": "#2a3f5f"
           }
          },
          "ternary": {
           "aaxis": {
            "gridcolor": "white",
            "linecolor": "white",
            "ticks": ""
           },
           "baxis": {
            "gridcolor": "white",
            "linecolor": "white",
            "ticks": ""
           },
           "bgcolor": "#E5ECF6",
           "caxis": {
            "gridcolor": "white",
            "linecolor": "white",
            "ticks": ""
           }
          },
          "title": {
           "x": 0.05
          },
          "xaxis": {
           "automargin": true,
           "gridcolor": "white",
           "linecolor": "white",
           "ticks": "",
           "title": {
            "standoff": 15
           },
           "zerolinecolor": "white",
           "zerolinewidth": 2
          },
          "yaxis": {
           "automargin": true,
           "gridcolor": "white",
           "linecolor": "white",
           "ticks": "",
           "title": {
            "standoff": 15
           },
           "zerolinecolor": "white",
           "zerolinewidth": 2
          }
         }
        }
       }
      }
     },
     "metadata": {},
     "output_type": "display_data"
    }
   ],
   "source": [
    "fig = px.scatter_matrix(df_Excluide[[\"MPG_City\",\"Horsepower\"]])\n",
    "fig.show()"
   ]
  },
  {
   "attachments": {},
   "cell_type": "markdown",
   "metadata": {},
   "source": [
    "- Los caballos de fuerza no son significativos para determinar el consumo de combustible por milla de cada vehículo."
   ]
  },
  {
   "cell_type": "code",
   "execution_count": 29,
   "metadata": {},
   "outputs": [
    {
     "data": {
      "application/vnd.plotly.v1+json": {
       "config": {
        "plotlyServerURL": "https://plot.ly"
       },
       "data": [
        {
         "dimensions": [
          {
           "axis": {
            "matches": true
           },
           "label": "MPG_City",
           "values": [
            -0.5843109001367838,
            0.7520215096416921,
            0.37021224970498473,
            -0.011597010231722688,
            -0.3934062701684301,
            -0.3934062701684301,
            -0.5843109001367838,
            0.37021224970498473,
            0.5611168796733385,
            -0.011597010231722688,
            -0.5843109001367838,
            -0.3934062701684301,
            -0.011597010231722688,
            -0.3934062701684301,
            -0.011597010231722688,
            -0.3934062701684301,
            -0.3934062701684301,
            -0.5843109001367838,
            -0.5843109001367838,
            -1.1570247900418449,
            -0.9661201600734912,
            -0.011597010231722688,
            -0.011597010231722688,
            0.179307619736631,
            -0.3934062701684301,
            -0.9661201600734912,
            -0.7752155301051374,
            -0.7752155301051374,
            -0.011597010231722688,
            -0.011597010231722688,
            -0.20250164020007638,
            -0.20250164020007638,
            -0.011597010231722688,
            -0.011597010231722688,
            -0.011597010231722688,
            -0.20250164020007638,
            -0.20250164020007638,
            -0.011597010231722688,
            -0.3934062701684301,
            -0.3934062701684301,
            -0.3934062701684301,
            -0.7752155301051374,
            -0.7752155301051374,
            -0.011597010231722688,
            0.179307619736631,
            -0.20250164020007638,
            -0.9661201600734912,
            -0.20250164020007638,
            -0.011597010231722688,
            -0.011597010231722688,
            -0.011597010231722688,
            -0.3934062701684301,
            -0.011597010231722688,
            -0.011597010231722688,
            -0.3934062701684301,
            -1.1570247900418449,
            -0.7752155301051374,
            -0.3934062701684301,
            -0.3934062701684301,
            -0.3934062701684301,
            -0.3934062701684301,
            -0.5843109001367838,
            -1.3479294200101986,
            -1.1570247900418449,
            -1.1570247900418449,
            -0.7752155301051374,
            -0.20250164020007638,
            1.515640029515107,
            1.515640029515107,
            1.1338307695783996,
            1.1338307695783996,
            1.1338307695783996,
            0.179307619736631,
            0.7520215096416921,
            0.37021224970498473,
            0.179307619736631,
            -0.011597010231722688,
            -0.3934062701684301,
            0.5611168796733385,
            -0.3934062701684301,
            -1.1570247900418449,
            -0.20250164020007638,
            -0.3934062701684301,
            -0.3934062701684301,
            -1.1570247900418449,
            -0.3934062701684301,
            -0.9661201600734912,
            -1.3479294200101986,
            -0.7752155301051374,
            0.37021224970498473,
            0.37021224970498473,
            0.37021224970498473,
            0.37021224970498473,
            0.179307619736631,
            -0.3934062701684301,
            0.179307619736631,
            -0.20250164020007638,
            0.179307619736631,
            0.37021224970498473,
            -0.3934062701684301,
            0.179307619736631,
            -0.20250164020007638,
            -0.3934062701684301,
            -0.5843109001367838,
            -0.5843109001367838,
            -0.9661201600734912,
            1.7065446594834606,
            1.7065446594834606,
            0.179307619736631,
            0.179307619736631,
            0.179307619736631,
            -0.3934062701684301,
            -0.011597010231722688,
            -0.3934062701684301,
            -1.5388340499785522,
            -0.7752155301051374,
            -0.7752155301051374,
            -0.7752155301051374,
            -1.9206433099152598,
            -0.9661201600734912,
            -0.9661201600734912,
            -0.3934062701684301,
            1.1338307695783996,
            1.3247353995467532,
            1.1338307695783996,
            1.1338307695783996,
            0.179307619736631,
            -0.011597010231722688,
            -0.20250164020007638,
            -0.5843109001367838,
            -0.5843109001367838,
            -0.5843109001367838,
            -0.5843109001367838,
            -0.011597010231722688,
            -0.5843109001367838,
            -0.5843109001367838,
            -0.9661201600734912,
            -1.1570247900418449,
            0.7520215096416921,
            1.1338307695783996,
            -0.20250164020007638,
            -0.9661201600734912,
            -0.7752155301051374,
            -1.3479294200101986,
            -0.7752155301051374,
            -0.3934062701684301,
            -0.5843109001367838,
            -1.3479294200101986,
            -0.9661201600734912,
            4.951923368945473,
            7.624588188502425,
            -0.5843109001367838,
            0.179307619736631,
            0.179307619736631,
            2.279258549388522,
            3.0428770692619365,
            2.279258549388522,
            1.1338307695783996,
            1.1338307695783996,
            2.279258549388522,
            1.1338307695783996,
            0.179307619736631,
            0.179307619736631,
            -0.3934062701684301,
            -0.3934062701684301,
            -0.011597010231722688,
            -1.9206433099152598,
            -0.011597010231722688,
            1.7065446594834606,
            1.7065446594834606,
            1.7065446594834606,
            1.1338307695783996,
            1.1338307695783996,
            1.1338307695783996,
            -0.20250164020007638,
            -0.20250164020007638,
            -0.5843109001367838,
            -0.5843109001367838,
            -0.20250164020007638,
            -0.3934062701684301,
            -0.3934062701684301,
            -0.3934062701684301,
            -0.20250164020007638,
            -0.5843109001367838,
            -0.5843109001367838,
            -0.7752155301051374,
            -0.9661201600734912,
            -0.9661201600734912,
            -0.5843109001367838,
            -0.3934062701684301,
            -0.3934062701684301,
            -0.3934062701684301,
            -0.3934062701684301,
            -0.5843109001367838,
            -0.3934062701684301,
            -0.3934062701684301,
            -0.5843109001367838,
            -0.3934062701684301,
            -0.3934062701684301,
            -0.7752155301051374,
            -0.7752155301051374,
            -0.7752155301051374,
            -0.011597010231722688,
            -0.7752155301051374,
            -0.7752155301051374,
            0.5611168796733385,
            1.1338307695783996,
            0.9429261396100458,
            0.7520215096416921,
            0.7520215096416921,
            0.7520215096416921,
            -0.011597010231722688,
            -0.5843109001367838,
            -0.7752155301051374,
            1.1338307695783996,
            -1.5388340499785522,
            -1.5388340499785522,
            -0.3934062701684301,
            -0.9661201600734912,
            -1.3479294200101986,
            -0.3934062701684301,
            -0.011597010231722688,
            -0.3934062701684301,
            -0.3934062701684301,
            -0.3934062701684301,
            -0.3934062701684301,
            -0.3934062701684301,
            -0.3934062701684301,
            -0.3934062701684301,
            -1.3479294200101986,
            -1.3479294200101986,
            -0.011597010231722688,
            -0.011597010231722688,
            -0.5843109001367838,
            -0.5843109001367838,
            -0.5843109001367838,
            -0.5843109001367838,
            -0.5843109001367838,
            1.515640029515107,
            0.9429261396100458,
            0.37021224970498473,
            1.1338307695783996,
            0.9429261396100458,
            0.7520215096416921,
            -0.3934062701684301,
            0.5611168796733385,
            0.5611168796733385,
            -0.3934062701684301,
            -0.3934062701684301,
            0.7520215096416921,
            -0.9661201600734912,
            -1.3479294200101986,
            -1.1570247900418449,
            0.37021224970498473,
            -0.20250164020007638,
            -0.011597010231722688,
            -0.20250164020007638,
            -0.20250164020007638,
            -0.011597010231722688,
            -0.20250164020007638,
            -0.7752155301051374,
            -0.7752155301051374,
            -1.3479294200101986,
            -0.011597010231722688,
            -0.5843109001367838,
            -0.20250164020007638,
            -0.7752155301051374,
            -0.3934062701684301,
            -0.7752155301051374,
            -0.7752155301051374,
            -1.1570247900418449,
            -1.3479294200101986,
            0.179307619736631,
            -0.5843109001367838,
            -0.20250164020007638,
            -0.20250164020007638,
            -0.7752155301051374,
            -0.7752155301051374,
            -0.011597010231722688,
            -0.5843109001367838,
            -0.5843109001367838,
            -0.20250164020007638,
            -0.5843109001367838,
            -0.5843109001367838,
            -0.7752155301051374,
            -0.20250164020007638,
            -0.5843109001367838,
            -0.9661201600734912,
            0.179307619736631,
            0.9429261396100458,
            0.9429261396100458,
            0.5611168796733385,
            0.9429261396100458,
            -0.3934062701684301,
            -0.3934062701684301,
            0.179307619736631,
            0.179307619736631,
            -0.3934062701684301,
            0.9429261396100458,
            -1.3479294200101986,
            -0.7752155301051374,
            -0.5843109001367838,
            1.515640029515107,
            1.515640029515107,
            0.179307619736631,
            0.5611168796733385,
            0.179307619736631,
            -0.011597010231722688,
            -0.011597010231722688,
            -0.20250164020007638,
            -0.3934062701684301,
            -0.011597010231722688,
            -0.011597010231722688,
            -0.5843109001367838,
            -1.1570247900418449,
            -0.011597010231722688,
            0.7520215096416921,
            -0.011597010231722688,
            -0.20250164020007638,
            -0.20250164020007638,
            0.7520215096416921,
            -0.011597010231722688,
            -0.011597010231722688,
            0.7520215096416921,
            -0.011597010231722688,
            -0.5843109001367838,
            -0.20250164020007638,
            -0.3934062701684301,
            -0.7752155301051374,
            1.7065446594834606,
            -1.1570247900418449,
            -0.3934062701684301,
            -0.5843109001367838,
            -0.3934062701684301,
            -0.5843109001367838,
            -0.011597010231722688,
            -0.3934062701684301,
            -0.011597010231722688,
            -0.011597010231722688,
            0.179307619736631,
            0.179307619736631,
            0.179307619736631,
            0.179307619736631,
            -0.20250164020007638,
            0.179307619736631,
            1.1338307695783996,
            1.1338307695783996,
            1.1338307695783996,
            1.1338307695783996,
            1.1338307695783996,
            -0.011597010231722688,
            0.7520215096416921,
            2.279258549388522,
            2.088353919420168,
            0.37021224970498473,
            0.179307619736631,
            0.179307619736631,
            -0.011597010231722688,
            -0.20250164020007638,
            -0.20250164020007638,
            -0.011597010231722688,
            -0.3934062701684301,
            0.179307619736631,
            0.179307619736631,
            0.179307619736631,
            -0.3934062701684301,
            -0.20250164020007638,
            0.9429261396100458,
            0.9429261396100458,
            0.7520215096416921,
            0.37021224970498473,
            -0.011597010231722688,
            0.7520215096416921,
            7.433683558534072,
            -1.1570247900418449,
            -0.3934062701684301,
            -0.3934062701684301,
            -1.3479294200101986,
            0.37021224970498473,
            2.279258549388522,
            2.279258549388522,
            2.279258549388522,
            2.851972439293583,
            2.4701631793568755,
            2.851972439293583,
            0.7520215096416921,
            0.179307619736631,
            0.7520215096416921,
            -0.011597010231722688,
            0.179307619736631,
            0.179307619736631,
            -0.011597010231722688,
            0.179307619736631,
            -0.20250164020007638,
            -0.20250164020007638,
            0.7520215096416921,
            1.1338307695783996,
            0.37021224970498473,
            -0.7752155301051374,
            -1.1570247900418449,
            1.7065446594834606,
            -0.9661201600734912,
            0.7520215096416921,
            0.7520215096416921,
            3.424686329198644,
            0.7520215096416921,
            0.179307619736631,
            0.7520215096416921,
            0.37021224970498473,
            -0.20250164020007638,
            -0.3934062701684301,
            -0.7752155301051374,
            -1.5388340499785522,
            0.7520215096416921,
            0.37021224970498473,
            -0.3934062701684301,
            -0.9661201600734912,
            0.37021224970498473,
            -0.011597010231722688,
            -0.011597010231722688,
            -0.3934062701684301,
            -0.011597010231722688,
            -0.011597010231722688,
            0.179307619736631,
            -0.011597010231722688,
            -0.20250164020007638,
            0.37021224970498473,
            -0.011597010231722688
           ]
          },
          {
           "axis": {
            "matches": true
           },
           "label": "MPG_Highway",
           "values": [
            -0.6694519375633583,
            0.7239848005624403,
            0.37562561603099065,
            0.20144602376526582,
            -0.49527234529763353,
            -0.49527234529763353,
            -0.49527234529763353,
            0.7239848005624403,
            0.5498052082967155,
            0.20144602376526582,
            -0.14691316076618383,
            -0.32109275303190865,
            0.027266431499540996,
            -0.32109275303190865,
            0.027266431499540996,
            -0.32109275303190865,
            -0.32109275303190865,
            -0.49527234529763353,
            -0.49527234529763353,
            -1.1919907143605328,
            -0.8436315298290832,
            0.20144602376526582,
            0.20144602376526582,
            0.37562561603099065,
            -0.32109275303190865,
            -1.017811122094808,
            -0.6694519375633583,
            -0.8436315298290832,
            0.37562561603099065,
            0.37562561603099065,
            0.027266431499540996,
            0.027266431499540996,
            0.5498052082967155,
            0.5498052082967155,
            0.37562561603099065,
            0.20144602376526582,
            0.20144602376526582,
            0.5498052082967155,
            -0.14691316076618383,
            -0.14691316076618383,
            -0.14691316076618383,
            -0.49527234529763353,
            -0.6694519375633583,
            0.20144602376526582,
            0.37562561603099065,
            -0.14691316076618383,
            -1.017811122094808,
            -0.14691316076618383,
            0.5498052082967155,
            0.37562561603099065,
            0.5498052082967155,
            0.20144602376526582,
            0.37562561603099065,
            0.37562561603099065,
            0.20144602376526582,
            -1.5403498988919826,
            -1.017811122094808,
            -0.32109275303190865,
            -0.14691316076618383,
            -0.14691316076618383,
            -0.14691316076618383,
            -0.32109275303190865,
            -1.7145294911577074,
            -1.5403498988919826,
            -1.5403498988919826,
            -1.017811122094808,
            -0.8436315298290832,
            1.2465235773596148,
            1.2465235773596148,
            1.7690623541567894,
            1.7690623541567894,
            1.7690623541567894,
            0.8981643928281652,
            1.2465235773596148,
            0.5498052082967155,
            0.8981643928281652,
            0.5498052082967155,
            0.20144602376526582,
            0.8981643928281652,
            0.20144602376526582,
            -1.7145294911577074,
            -0.14691316076618383,
            -0.32109275303190865,
            -0.32109275303190865,
            -1.5403498988919826,
            -0.6694519375633583,
            -1.017811122094808,
            -1.7145294911577074,
            -1.3661703066262576,
            0.5498052082967155,
            0.37562561603099065,
            0.37562561603099065,
            0.5498052082967155,
            0.20144602376526582,
            0.027266431499540996,
            0.37562561603099065,
            0.027266431499540996,
            0.027266431499540996,
            0.5498052082967155,
            0.027266431499540996,
            0.20144602376526582,
            -0.14691316076618383,
            -0.32109275303190865,
            -0.32109275303190865,
            -0.6694519375633583,
            -1.017811122094808,
            1.5948827618910646,
            1.5948827618910646,
            0.37562561603099065,
            0.20144602376526582,
            0.20144602376526582,
            0.027266431499540996,
            -0.14691316076618383,
            -0.32109275303190865,
            -1.1919907143605328,
            -0.8436315298290832,
            -0.8436315298290832,
            -1.017811122094808,
            -2.4112478602206067,
            -1.3661703066262576,
            -1.1919907143605328,
            -0.6694519375633583,
            1.07234398509389,
            1.5948827618910646,
            1.07234398509389,
            1.07234398509389,
            0.20144602376526582,
            0.027266431499540996,
            -0.14691316076618383,
            -0.32109275303190865,
            -0.32109275303190865,
            -0.32109275303190865,
            -0.6694519375633583,
            0.37562561603099065,
            -0.32109275303190865,
            -0.49527234529763353,
            -1.3661703066262576,
            -1.5403498988919826,
            0.37562561603099065,
            1.07234398509389,
            -0.14691316076618383,
            -1.3661703066262576,
            -1.3661703066262576,
            -1.7145294911577074,
            -1.1919907143605328,
            -0.32109275303190865,
            -1.1919907143605328,
            -1.5403498988919826,
            -1.3661703066262576,
            4.207576645876937,
            6.82027052986281,
            -0.8436315298290832,
            -0.32109275303190865,
            -0.49527234529763353,
            1.9432419464225141,
            2.988319500016863,
            1.9432419464225141,
            1.2465235773596148,
            1.2465235773596148,
            1.7690623541567894,
            0.5498052082967155,
            0.5498052082967155,
            0.5498052082967155,
            -0.32109275303190865,
            -0.32109275303190865,
            -0.32109275303190865,
            -2.5854274524863317,
            -0.14691316076618383,
            1.07234398509389,
            1.07234398509389,
            1.07234398509389,
            1.2465235773596148,
            1.2465235773596148,
            1.2465235773596148,
            0.027266431499540996,
            0.027266431499540996,
            -0.14691316076618383,
            -0.14691316076618383,
            -0.14691316076618383,
            -0.14691316076618383,
            -0.14691316076618383,
            -0.14691316076618383,
            -0.14691316076618383,
            -0.6694519375633583,
            -0.6694519375633583,
            -0.8436315298290832,
            -1.3661703066262576,
            -1.1919907143605328,
            -1.017811122094808,
            -0.14691316076618383,
            -0.32109275303190865,
            -0.14691316076618383,
            0.20144602376526582,
            -0.49527234529763353,
            0.20144602376526582,
            0.20144602376526582,
            -0.49527234529763353,
            -0.14691316076618383,
            -0.14691316076618383,
            -0.6694519375633583,
            -0.6694519375633583,
            -1.017811122094808,
            -0.49527234529763353,
            -1.3661703066262576,
            -1.3661703066262576,
            0.5498052082967155,
            1.07234398509389,
            0.8981643928281652,
            0.8981643928281652,
            0.8981643928281652,
            0.8981643928281652,
            0.027266431499540996,
            -0.32109275303190865,
            -0.8436315298290832,
            1.07234398509389,
            -1.8887090834234321,
            -1.8887090834234321,
            -1.017811122094808,
            -1.3661703066262576,
            -1.7145294911577074,
            -0.49527234529763353,
            0.37562561603099065,
            -0.32109275303190865,
            -0.49527234529763353,
            -0.32109275303190865,
            -0.6694519375633583,
            -0.32109275303190865,
            -0.6694519375633583,
            -0.49527234529763353,
            -1.5403498988919826,
            -1.5403498988919826,
            -0.14691316076618383,
            -0.14691316076618383,
            -0.49527234529763353,
            -0.49527234529763353,
            -0.32109275303190865,
            -0.32109275303190865,
            -0.32109275303190865,
            1.7690623541567894,
            1.2465235773596148,
            -0.32109275303190865,
            1.2465235773596148,
            0.7239848005624403,
            0.8981643928281652,
            -0.32109275303190865,
            0.20144602376526582,
            0.20144602376526582,
            -0.32109275303190865,
            -0.49527234529763353,
            0.37562561603099065,
            -1.3661703066262576,
            -2.2370682679548817,
            -1.7145294911577074,
            0.5498052082967155,
            -0.14691316076618383,
            -0.32109275303190865,
            -0.32109275303190865,
            -0.14691316076618383,
            -0.14691316076618383,
            0.027266431499540996,
            -1.017811122094808,
            -0.49527234529763353,
            -1.3661703066262576,
            -0.14691316076618383,
            -0.8436315298290832,
            0.027266431499540996,
            -1.1919907143605328,
            -0.14691316076618383,
            -0.49527234529763353,
            -0.6694519375633583,
            -1.017811122094808,
            -1.3661703066262576,
            0.37562561603099065,
            -0.8436315298290832,
            -0.32109275303190865,
            0.027266431499540996,
            -0.49527234529763353,
            -1.017811122094808,
            0.027266431499540996,
            -0.32109275303190865,
            -0.32109275303190865,
            -0.14691316076618383,
            -0.32109275303190865,
            -0.6694519375633583,
            -0.6694519375633583,
            -0.14691316076618383,
            -1.017811122094808,
            -1.3661703066262576,
            0.027266431499540996,
            0.7239848005624403,
            0.7239848005624403,
            0.5498052082967155,
            0.7239848005624403,
            -0.32109275303190865,
            -0.14691316076618383,
            0.20144602376526582,
            0.20144602376526582,
            -0.14691316076618383,
            0.7239848005624403,
            -1.3661703066262576,
            -1.017811122094808,
            -1.1919907143605328,
            1.4207031696253396,
            1.4207031696253396,
            -0.14691316076618383,
            0.20144602376526582,
            -0.14691316076618383,
            0.20144602376526582,
            0.20144602376526582,
            -0.14691316076618383,
            -0.32109275303190865,
            -0.14691316076618383,
            -0.14691316076618383,
            -1.1919907143605328,
            -1.5403498988919826,
            -0.32109275303190865,
            0.8981643928281652,
            0.37562561603099065,
            -0.14691316076618383,
            -0.14691316076618383,
            1.07234398509389,
            0.37562561603099065,
            0.5498052082967155,
            1.07234398509389,
            0.5498052082967155,
            -1.1919907143605328,
            -0.14691316076618383,
            -0.49527234529763353,
            -1.1919907143605328,
            1.5948827618910646,
            -1.5403498988919826,
            -0.14691316076618383,
            -0.49527234529763353,
            -0.14691316076618383,
            -0.49527234529763353,
            0.37562561603099065,
            -0.14691316076618383,
            0.20144602376526582,
            0.20144602376526582,
            0.37562561603099065,
            0.37562561603099065,
            0.37562561603099065,
            0.5498052082967155,
            0.37562561603099065,
            -0.14691316076618383,
            1.4207031696253396,
            1.4207031696253396,
            1.4207031696253396,
            1.4207031696253396,
            1.4207031696253396,
            0.20144602376526582,
            1.2465235773596148,
            1.9432419464225141,
            1.4207031696253396,
            0.20144602376526582,
            0.20144602376526582,
            0.20144602376526582,
            0.027266431499540996,
            -0.14691316076618383,
            -0.14691316076618383,
            0.027266431499540996,
            -0.49527234529763353,
            0.20144602376526582,
            0.20144602376526582,
            0.20144602376526582,
            -0.8436315298290832,
            -0.8436315298290832,
            0.7239848005624403,
            0.7239848005624403,
            0.7239848005624403,
            0.5498052082967155,
            0.027266431499540996,
            0.37562561603099065,
            4.207576645876937,
            -1.7145294911577074,
            -1.017811122094808,
            -0.49527234529763353,
            -1.7145294911577074,
            0.027266431499540996,
            2.2916011309539637,
            2.2916011309539637,
            2.2916011309539637,
            2.814139907751138,
            2.117421538688239,
            2.814139907751138,
            1.07234398509389,
            0.37562561603099065,
            1.07234398509389,
            0.37562561603099065,
            0.37562561603099065,
            0.37562561603099065,
            0.37562561603099065,
            0.37562561603099065,
            0.027266431499540996,
            0.027266431499540996,
            1.07234398509389,
            0.8981643928281652,
            0.027266431499540996,
            -1.5403498988919826,
            -1.7145294911577074,
            1.5948827618910646,
            -1.1919907143605328,
            0.7239848005624403,
            0.7239848005624403,
            3.3366786845483127,
            0.7239848005624403,
            0.5498052082967155,
            0.5498052082967155,
            0.7239848005624403,
            -0.14691316076618383,
            -0.32109275303190865,
            -0.8436315298290832,
            -1.3661703066262576,
            0.5498052082967155,
            0.7239848005624403,
            -0.32109275303190865,
            -1.1919907143605328,
            0.37562561603099065,
            0.027266431499540996,
            0.20144602376526582,
            -0.32109275303190865,
            0.20144602376526582,
            0.027266431499540996,
            0.20144602376526582,
            -0.14691316076618383,
            -0.14691316076618383,
            0.37562561603099065,
            0.027266431499540996
           ]
          }
         ],
         "hovertemplate": "%{xaxis.title.text}=%{x}<br>%{yaxis.title.text}=%{y}<extra></extra>",
         "legendgroup": "",
         "marker": {
          "color": "#636efa",
          "symbol": "circle"
         },
         "name": "",
         "showlegend": false,
         "type": "splom"
        }
       ],
       "layout": {
        "dragmode": "select",
        "legend": {
         "tracegroupgap": 0
        },
        "margin": {
         "t": 60
        },
        "template": {
         "data": {
          "bar": [
           {
            "error_x": {
             "color": "#2a3f5f"
            },
            "error_y": {
             "color": "#2a3f5f"
            },
            "marker": {
             "line": {
              "color": "#E5ECF6",
              "width": 0.5
             },
             "pattern": {
              "fillmode": "overlay",
              "size": 10,
              "solidity": 0.2
             }
            },
            "type": "bar"
           }
          ],
          "barpolar": [
           {
            "marker": {
             "line": {
              "color": "#E5ECF6",
              "width": 0.5
             },
             "pattern": {
              "fillmode": "overlay",
              "size": 10,
              "solidity": 0.2
             }
            },
            "type": "barpolar"
           }
          ],
          "carpet": [
           {
            "aaxis": {
             "endlinecolor": "#2a3f5f",
             "gridcolor": "white",
             "linecolor": "white",
             "minorgridcolor": "white",
             "startlinecolor": "#2a3f5f"
            },
            "baxis": {
             "endlinecolor": "#2a3f5f",
             "gridcolor": "white",
             "linecolor": "white",
             "minorgridcolor": "white",
             "startlinecolor": "#2a3f5f"
            },
            "type": "carpet"
           }
          ],
          "choropleth": [
           {
            "colorbar": {
             "outlinewidth": 0,
             "ticks": ""
            },
            "type": "choropleth"
           }
          ],
          "contour": [
           {
            "colorbar": {
             "outlinewidth": 0,
             "ticks": ""
            },
            "colorscale": [
             [
              0,
              "#0d0887"
             ],
             [
              0.1111111111111111,
              "#46039f"
             ],
             [
              0.2222222222222222,
              "#7201a8"
             ],
             [
              0.3333333333333333,
              "#9c179e"
             ],
             [
              0.4444444444444444,
              "#bd3786"
             ],
             [
              0.5555555555555556,
              "#d8576b"
             ],
             [
              0.6666666666666666,
              "#ed7953"
             ],
             [
              0.7777777777777778,
              "#fb9f3a"
             ],
             [
              0.8888888888888888,
              "#fdca26"
             ],
             [
              1,
              "#f0f921"
             ]
            ],
            "type": "contour"
           }
          ],
          "contourcarpet": [
           {
            "colorbar": {
             "outlinewidth": 0,
             "ticks": ""
            },
            "type": "contourcarpet"
           }
          ],
          "heatmap": [
           {
            "colorbar": {
             "outlinewidth": 0,
             "ticks": ""
            },
            "colorscale": [
             [
              0,
              "#0d0887"
             ],
             [
              0.1111111111111111,
              "#46039f"
             ],
             [
              0.2222222222222222,
              "#7201a8"
             ],
             [
              0.3333333333333333,
              "#9c179e"
             ],
             [
              0.4444444444444444,
              "#bd3786"
             ],
             [
              0.5555555555555556,
              "#d8576b"
             ],
             [
              0.6666666666666666,
              "#ed7953"
             ],
             [
              0.7777777777777778,
              "#fb9f3a"
             ],
             [
              0.8888888888888888,
              "#fdca26"
             ],
             [
              1,
              "#f0f921"
             ]
            ],
            "type": "heatmap"
           }
          ],
          "heatmapgl": [
           {
            "colorbar": {
             "outlinewidth": 0,
             "ticks": ""
            },
            "colorscale": [
             [
              0,
              "#0d0887"
             ],
             [
              0.1111111111111111,
              "#46039f"
             ],
             [
              0.2222222222222222,
              "#7201a8"
             ],
             [
              0.3333333333333333,
              "#9c179e"
             ],
             [
              0.4444444444444444,
              "#bd3786"
             ],
             [
              0.5555555555555556,
              "#d8576b"
             ],
             [
              0.6666666666666666,
              "#ed7953"
             ],
             [
              0.7777777777777778,
              "#fb9f3a"
             ],
             [
              0.8888888888888888,
              "#fdca26"
             ],
             [
              1,
              "#f0f921"
             ]
            ],
            "type": "heatmapgl"
           }
          ],
          "histogram": [
           {
            "marker": {
             "pattern": {
              "fillmode": "overlay",
              "size": 10,
              "solidity": 0.2
             }
            },
            "type": "histogram"
           }
          ],
          "histogram2d": [
           {
            "colorbar": {
             "outlinewidth": 0,
             "ticks": ""
            },
            "colorscale": [
             [
              0,
              "#0d0887"
             ],
             [
              0.1111111111111111,
              "#46039f"
             ],
             [
              0.2222222222222222,
              "#7201a8"
             ],
             [
              0.3333333333333333,
              "#9c179e"
             ],
             [
              0.4444444444444444,
              "#bd3786"
             ],
             [
              0.5555555555555556,
              "#d8576b"
             ],
             [
              0.6666666666666666,
              "#ed7953"
             ],
             [
              0.7777777777777778,
              "#fb9f3a"
             ],
             [
              0.8888888888888888,
              "#fdca26"
             ],
             [
              1,
              "#f0f921"
             ]
            ],
            "type": "histogram2d"
           }
          ],
          "histogram2dcontour": [
           {
            "colorbar": {
             "outlinewidth": 0,
             "ticks": ""
            },
            "colorscale": [
             [
              0,
              "#0d0887"
             ],
             [
              0.1111111111111111,
              "#46039f"
             ],
             [
              0.2222222222222222,
              "#7201a8"
             ],
             [
              0.3333333333333333,
              "#9c179e"
             ],
             [
              0.4444444444444444,
              "#bd3786"
             ],
             [
              0.5555555555555556,
              "#d8576b"
             ],
             [
              0.6666666666666666,
              "#ed7953"
             ],
             [
              0.7777777777777778,
              "#fb9f3a"
             ],
             [
              0.8888888888888888,
              "#fdca26"
             ],
             [
              1,
              "#f0f921"
             ]
            ],
            "type": "histogram2dcontour"
           }
          ],
          "mesh3d": [
           {
            "colorbar": {
             "outlinewidth": 0,
             "ticks": ""
            },
            "type": "mesh3d"
           }
          ],
          "parcoords": [
           {
            "line": {
             "colorbar": {
              "outlinewidth": 0,
              "ticks": ""
             }
            },
            "type": "parcoords"
           }
          ],
          "pie": [
           {
            "automargin": true,
            "type": "pie"
           }
          ],
          "scatter": [
           {
            "fillpattern": {
             "fillmode": "overlay",
             "size": 10,
             "solidity": 0.2
            },
            "type": "scatter"
           }
          ],
          "scatter3d": [
           {
            "line": {
             "colorbar": {
              "outlinewidth": 0,
              "ticks": ""
             }
            },
            "marker": {
             "colorbar": {
              "outlinewidth": 0,
              "ticks": ""
             }
            },
            "type": "scatter3d"
           }
          ],
          "scattercarpet": [
           {
            "marker": {
             "colorbar": {
              "outlinewidth": 0,
              "ticks": ""
             }
            },
            "type": "scattercarpet"
           }
          ],
          "scattergeo": [
           {
            "marker": {
             "colorbar": {
              "outlinewidth": 0,
              "ticks": ""
             }
            },
            "type": "scattergeo"
           }
          ],
          "scattergl": [
           {
            "marker": {
             "colorbar": {
              "outlinewidth": 0,
              "ticks": ""
             }
            },
            "type": "scattergl"
           }
          ],
          "scattermapbox": [
           {
            "marker": {
             "colorbar": {
              "outlinewidth": 0,
              "ticks": ""
             }
            },
            "type": "scattermapbox"
           }
          ],
          "scatterpolar": [
           {
            "marker": {
             "colorbar": {
              "outlinewidth": 0,
              "ticks": ""
             }
            },
            "type": "scatterpolar"
           }
          ],
          "scatterpolargl": [
           {
            "marker": {
             "colorbar": {
              "outlinewidth": 0,
              "ticks": ""
             }
            },
            "type": "scatterpolargl"
           }
          ],
          "scatterternary": [
           {
            "marker": {
             "colorbar": {
              "outlinewidth": 0,
              "ticks": ""
             }
            },
            "type": "scatterternary"
           }
          ],
          "surface": [
           {
            "colorbar": {
             "outlinewidth": 0,
             "ticks": ""
            },
            "colorscale": [
             [
              0,
              "#0d0887"
             ],
             [
              0.1111111111111111,
              "#46039f"
             ],
             [
              0.2222222222222222,
              "#7201a8"
             ],
             [
              0.3333333333333333,
              "#9c179e"
             ],
             [
              0.4444444444444444,
              "#bd3786"
             ],
             [
              0.5555555555555556,
              "#d8576b"
             ],
             [
              0.6666666666666666,
              "#ed7953"
             ],
             [
              0.7777777777777778,
              "#fb9f3a"
             ],
             [
              0.8888888888888888,
              "#fdca26"
             ],
             [
              1,
              "#f0f921"
             ]
            ],
            "type": "surface"
           }
          ],
          "table": [
           {
            "cells": {
             "fill": {
              "color": "#EBF0F8"
             },
             "line": {
              "color": "white"
             }
            },
            "header": {
             "fill": {
              "color": "#C8D4E3"
             },
             "line": {
              "color": "white"
             }
            },
            "type": "table"
           }
          ]
         },
         "layout": {
          "annotationdefaults": {
           "arrowcolor": "#2a3f5f",
           "arrowhead": 0,
           "arrowwidth": 1
          },
          "autotypenumbers": "strict",
          "coloraxis": {
           "colorbar": {
            "outlinewidth": 0,
            "ticks": ""
           }
          },
          "colorscale": {
           "diverging": [
            [
             0,
             "#8e0152"
            ],
            [
             0.1,
             "#c51b7d"
            ],
            [
             0.2,
             "#de77ae"
            ],
            [
             0.3,
             "#f1b6da"
            ],
            [
             0.4,
             "#fde0ef"
            ],
            [
             0.5,
             "#f7f7f7"
            ],
            [
             0.6,
             "#e6f5d0"
            ],
            [
             0.7,
             "#b8e186"
            ],
            [
             0.8,
             "#7fbc41"
            ],
            [
             0.9,
             "#4d9221"
            ],
            [
             1,
             "#276419"
            ]
           ],
           "sequential": [
            [
             0,
             "#0d0887"
            ],
            [
             0.1111111111111111,
             "#46039f"
            ],
            [
             0.2222222222222222,
             "#7201a8"
            ],
            [
             0.3333333333333333,
             "#9c179e"
            ],
            [
             0.4444444444444444,
             "#bd3786"
            ],
            [
             0.5555555555555556,
             "#d8576b"
            ],
            [
             0.6666666666666666,
             "#ed7953"
            ],
            [
             0.7777777777777778,
             "#fb9f3a"
            ],
            [
             0.8888888888888888,
             "#fdca26"
            ],
            [
             1,
             "#f0f921"
            ]
           ],
           "sequentialminus": [
            [
             0,
             "#0d0887"
            ],
            [
             0.1111111111111111,
             "#46039f"
            ],
            [
             0.2222222222222222,
             "#7201a8"
            ],
            [
             0.3333333333333333,
             "#9c179e"
            ],
            [
             0.4444444444444444,
             "#bd3786"
            ],
            [
             0.5555555555555556,
             "#d8576b"
            ],
            [
             0.6666666666666666,
             "#ed7953"
            ],
            [
             0.7777777777777778,
             "#fb9f3a"
            ],
            [
             0.8888888888888888,
             "#fdca26"
            ],
            [
             1,
             "#f0f921"
            ]
           ]
          },
          "colorway": [
           "#636efa",
           "#EF553B",
           "#00cc96",
           "#ab63fa",
           "#FFA15A",
           "#19d3f3",
           "#FF6692",
           "#B6E880",
           "#FF97FF",
           "#FECB52"
          ],
          "font": {
           "color": "#2a3f5f"
          },
          "geo": {
           "bgcolor": "white",
           "lakecolor": "white",
           "landcolor": "#E5ECF6",
           "showlakes": true,
           "showland": true,
           "subunitcolor": "white"
          },
          "hoverlabel": {
           "align": "left"
          },
          "hovermode": "closest",
          "mapbox": {
           "style": "light"
          },
          "paper_bgcolor": "white",
          "plot_bgcolor": "#E5ECF6",
          "polar": {
           "angularaxis": {
            "gridcolor": "white",
            "linecolor": "white",
            "ticks": ""
           },
           "bgcolor": "#E5ECF6",
           "radialaxis": {
            "gridcolor": "white",
            "linecolor": "white",
            "ticks": ""
           }
          },
          "scene": {
           "xaxis": {
            "backgroundcolor": "#E5ECF6",
            "gridcolor": "white",
            "gridwidth": 2,
            "linecolor": "white",
            "showbackground": true,
            "ticks": "",
            "zerolinecolor": "white"
           },
           "yaxis": {
            "backgroundcolor": "#E5ECF6",
            "gridcolor": "white",
            "gridwidth": 2,
            "linecolor": "white",
            "showbackground": true,
            "ticks": "",
            "zerolinecolor": "white"
           },
           "zaxis": {
            "backgroundcolor": "#E5ECF6",
            "gridcolor": "white",
            "gridwidth": 2,
            "linecolor": "white",
            "showbackground": true,
            "ticks": "",
            "zerolinecolor": "white"
           }
          },
          "shapedefaults": {
           "line": {
            "color": "#2a3f5f"
           }
          },
          "ternary": {
           "aaxis": {
            "gridcolor": "white",
            "linecolor": "white",
            "ticks": ""
           },
           "baxis": {
            "gridcolor": "white",
            "linecolor": "white",
            "ticks": ""
           },
           "bgcolor": "#E5ECF6",
           "caxis": {
            "gridcolor": "white",
            "linecolor": "white",
            "ticks": ""
           }
          },
          "title": {
           "x": 0.05
          },
          "xaxis": {
           "automargin": true,
           "gridcolor": "white",
           "linecolor": "white",
           "ticks": "",
           "title": {
            "standoff": 15
           },
           "zerolinecolor": "white",
           "zerolinewidth": 2
          },
          "yaxis": {
           "automargin": true,
           "gridcolor": "white",
           "linecolor": "white",
           "ticks": "",
           "title": {
            "standoff": 15
           },
           "zerolinecolor": "white",
           "zerolinewidth": 2
          }
         }
        }
       }
      }
     },
     "metadata": {},
     "output_type": "display_data"
    }
   ],
   "source": [
    "fig = px.scatter_matrix(df_Excluide[[\"MPG_City\",\"MPG_Highway\"]])\n",
    "fig.show()"
   ]
  },
  {
   "attachments": {},
   "cell_type": "markdown",
   "metadata": {},
   "source": [
    "- La relación entre el tipo de suelo o recorrido de los vehículos es casi la misma, por lo que no se encuentran diferencias relevantes en esta gráfica como para sacar una conclusión más allá de que el consumo no depende del terreno."
   ]
  },
  {
   "cell_type": "code",
   "execution_count": 30,
   "metadata": {},
   "outputs": [
    {
     "data": {
      "application/vnd.plotly.v1+json": {
       "config": {
        "plotlyServerURL": "https://plot.ly"
       },
       "data": [
        {
         "dimensions": [
          {
           "axis": {
            "matches": true
           },
           "label": "MPG_City",
           "values": [
            -0.5843109001367838,
            0.7520215096416921,
            0.37021224970498473,
            -0.011597010231722688,
            -0.3934062701684301,
            -0.3934062701684301,
            -0.5843109001367838,
            0.37021224970498473,
            0.5611168796733385,
            -0.011597010231722688,
            -0.5843109001367838,
            -0.3934062701684301,
            -0.011597010231722688,
            -0.3934062701684301,
            -0.011597010231722688,
            -0.3934062701684301,
            -0.3934062701684301,
            -0.5843109001367838,
            -0.5843109001367838,
            -1.1570247900418449,
            -0.9661201600734912,
            -0.011597010231722688,
            -0.011597010231722688,
            0.179307619736631,
            -0.3934062701684301,
            -0.9661201600734912,
            -0.7752155301051374,
            -0.7752155301051374,
            -0.011597010231722688,
            -0.011597010231722688,
            -0.20250164020007638,
            -0.20250164020007638,
            -0.011597010231722688,
            -0.011597010231722688,
            -0.011597010231722688,
            -0.20250164020007638,
            -0.20250164020007638,
            -0.011597010231722688,
            -0.3934062701684301,
            -0.3934062701684301,
            -0.3934062701684301,
            -0.7752155301051374,
            -0.7752155301051374,
            -0.011597010231722688,
            0.179307619736631,
            -0.20250164020007638,
            -0.9661201600734912,
            -0.20250164020007638,
            -0.011597010231722688,
            -0.011597010231722688,
            -0.011597010231722688,
            -0.3934062701684301,
            -0.011597010231722688,
            -0.011597010231722688,
            -0.3934062701684301,
            -1.1570247900418449,
            -0.7752155301051374,
            -0.3934062701684301,
            -0.3934062701684301,
            -0.3934062701684301,
            -0.3934062701684301,
            -0.5843109001367838,
            -1.3479294200101986,
            -1.1570247900418449,
            -1.1570247900418449,
            -0.7752155301051374,
            -0.20250164020007638,
            1.515640029515107,
            1.515640029515107,
            1.1338307695783996,
            1.1338307695783996,
            1.1338307695783996,
            0.179307619736631,
            0.7520215096416921,
            0.37021224970498473,
            0.179307619736631,
            -0.011597010231722688,
            -0.3934062701684301,
            0.5611168796733385,
            -0.3934062701684301,
            -1.1570247900418449,
            -0.20250164020007638,
            -0.3934062701684301,
            -0.3934062701684301,
            -1.1570247900418449,
            -0.3934062701684301,
            -0.9661201600734912,
            -1.3479294200101986,
            -0.7752155301051374,
            0.37021224970498473,
            0.37021224970498473,
            0.37021224970498473,
            0.37021224970498473,
            0.179307619736631,
            -0.3934062701684301,
            0.179307619736631,
            -0.20250164020007638,
            0.179307619736631,
            0.37021224970498473,
            -0.3934062701684301,
            0.179307619736631,
            -0.20250164020007638,
            -0.3934062701684301,
            -0.5843109001367838,
            -0.5843109001367838,
            -0.9661201600734912,
            1.7065446594834606,
            1.7065446594834606,
            0.179307619736631,
            0.179307619736631,
            0.179307619736631,
            -0.3934062701684301,
            -0.011597010231722688,
            -0.3934062701684301,
            -1.5388340499785522,
            -0.7752155301051374,
            -0.7752155301051374,
            -0.7752155301051374,
            -1.9206433099152598,
            -0.9661201600734912,
            -0.9661201600734912,
            -0.3934062701684301,
            1.1338307695783996,
            1.3247353995467532,
            1.1338307695783996,
            1.1338307695783996,
            0.179307619736631,
            -0.011597010231722688,
            -0.20250164020007638,
            -0.5843109001367838,
            -0.5843109001367838,
            -0.5843109001367838,
            -0.5843109001367838,
            -0.011597010231722688,
            -0.5843109001367838,
            -0.5843109001367838,
            -0.9661201600734912,
            -1.1570247900418449,
            0.7520215096416921,
            1.1338307695783996,
            -0.20250164020007638,
            -0.9661201600734912,
            -0.7752155301051374,
            -1.3479294200101986,
            -0.7752155301051374,
            -0.3934062701684301,
            -0.5843109001367838,
            -1.3479294200101986,
            -0.9661201600734912,
            4.951923368945473,
            7.624588188502425,
            -0.5843109001367838,
            0.179307619736631,
            0.179307619736631,
            2.279258549388522,
            3.0428770692619365,
            2.279258549388522,
            1.1338307695783996,
            1.1338307695783996,
            2.279258549388522,
            1.1338307695783996,
            0.179307619736631,
            0.179307619736631,
            -0.3934062701684301,
            -0.3934062701684301,
            -0.011597010231722688,
            -1.9206433099152598,
            -0.011597010231722688,
            1.7065446594834606,
            1.7065446594834606,
            1.7065446594834606,
            1.1338307695783996,
            1.1338307695783996,
            1.1338307695783996,
            -0.20250164020007638,
            -0.20250164020007638,
            -0.5843109001367838,
            -0.5843109001367838,
            -0.20250164020007638,
            -0.3934062701684301,
            -0.3934062701684301,
            -0.3934062701684301,
            -0.20250164020007638,
            -0.5843109001367838,
            -0.5843109001367838,
            -0.7752155301051374,
            -0.9661201600734912,
            -0.9661201600734912,
            -0.5843109001367838,
            -0.3934062701684301,
            -0.3934062701684301,
            -0.3934062701684301,
            -0.3934062701684301,
            -0.5843109001367838,
            -0.3934062701684301,
            -0.3934062701684301,
            -0.5843109001367838,
            -0.3934062701684301,
            -0.3934062701684301,
            -0.7752155301051374,
            -0.7752155301051374,
            -0.7752155301051374,
            -0.011597010231722688,
            -0.7752155301051374,
            -0.7752155301051374,
            0.5611168796733385,
            1.1338307695783996,
            0.9429261396100458,
            0.7520215096416921,
            0.7520215096416921,
            0.7520215096416921,
            -0.011597010231722688,
            -0.5843109001367838,
            -0.7752155301051374,
            1.1338307695783996,
            -1.5388340499785522,
            -1.5388340499785522,
            -0.3934062701684301,
            -0.9661201600734912,
            -1.3479294200101986,
            -0.3934062701684301,
            -0.011597010231722688,
            -0.3934062701684301,
            -0.3934062701684301,
            -0.3934062701684301,
            -0.3934062701684301,
            -0.3934062701684301,
            -0.3934062701684301,
            -0.3934062701684301,
            -1.3479294200101986,
            -1.3479294200101986,
            -0.011597010231722688,
            -0.011597010231722688,
            -0.5843109001367838,
            -0.5843109001367838,
            -0.5843109001367838,
            -0.5843109001367838,
            -0.5843109001367838,
            1.515640029515107,
            0.9429261396100458,
            0.37021224970498473,
            1.1338307695783996,
            0.9429261396100458,
            0.7520215096416921,
            -0.3934062701684301,
            0.5611168796733385,
            0.5611168796733385,
            -0.3934062701684301,
            -0.3934062701684301,
            0.7520215096416921,
            -0.9661201600734912,
            -1.3479294200101986,
            -1.1570247900418449,
            0.37021224970498473,
            -0.20250164020007638,
            -0.011597010231722688,
            -0.20250164020007638,
            -0.20250164020007638,
            -0.011597010231722688,
            -0.20250164020007638,
            -0.7752155301051374,
            -0.7752155301051374,
            -1.3479294200101986,
            -0.011597010231722688,
            -0.5843109001367838,
            -0.20250164020007638,
            -0.7752155301051374,
            -0.3934062701684301,
            -0.7752155301051374,
            -0.7752155301051374,
            -1.1570247900418449,
            -1.3479294200101986,
            0.179307619736631,
            -0.5843109001367838,
            -0.20250164020007638,
            -0.20250164020007638,
            -0.7752155301051374,
            -0.7752155301051374,
            -0.011597010231722688,
            -0.5843109001367838,
            -0.5843109001367838,
            -0.20250164020007638,
            -0.5843109001367838,
            -0.5843109001367838,
            -0.7752155301051374,
            -0.20250164020007638,
            -0.5843109001367838,
            -0.9661201600734912,
            0.179307619736631,
            0.9429261396100458,
            0.9429261396100458,
            0.5611168796733385,
            0.9429261396100458,
            -0.3934062701684301,
            -0.3934062701684301,
            0.179307619736631,
            0.179307619736631,
            -0.3934062701684301,
            0.9429261396100458,
            -1.3479294200101986,
            -0.7752155301051374,
            -0.5843109001367838,
            1.515640029515107,
            1.515640029515107,
            0.179307619736631,
            0.5611168796733385,
            0.179307619736631,
            -0.011597010231722688,
            -0.011597010231722688,
            -0.20250164020007638,
            -0.3934062701684301,
            -0.011597010231722688,
            -0.011597010231722688,
            -0.5843109001367838,
            -1.1570247900418449,
            -0.011597010231722688,
            0.7520215096416921,
            -0.011597010231722688,
            -0.20250164020007638,
            -0.20250164020007638,
            0.7520215096416921,
            -0.011597010231722688,
            -0.011597010231722688,
            0.7520215096416921,
            -0.011597010231722688,
            -0.5843109001367838,
            -0.20250164020007638,
            -0.3934062701684301,
            -0.7752155301051374,
            1.7065446594834606,
            -1.1570247900418449,
            -0.3934062701684301,
            -0.5843109001367838,
            -0.3934062701684301,
            -0.5843109001367838,
            -0.011597010231722688,
            -0.3934062701684301,
            -0.011597010231722688,
            -0.011597010231722688,
            0.179307619736631,
            0.179307619736631,
            0.179307619736631,
            0.179307619736631,
            -0.20250164020007638,
            0.179307619736631,
            1.1338307695783996,
            1.1338307695783996,
            1.1338307695783996,
            1.1338307695783996,
            1.1338307695783996,
            -0.011597010231722688,
            0.7520215096416921,
            2.279258549388522,
            2.088353919420168,
            0.37021224970498473,
            0.179307619736631,
            0.179307619736631,
            -0.011597010231722688,
            -0.20250164020007638,
            -0.20250164020007638,
            -0.011597010231722688,
            -0.3934062701684301,
            0.179307619736631,
            0.179307619736631,
            0.179307619736631,
            -0.3934062701684301,
            -0.20250164020007638,
            0.9429261396100458,
            0.9429261396100458,
            0.7520215096416921,
            0.37021224970498473,
            -0.011597010231722688,
            0.7520215096416921,
            7.433683558534072,
            -1.1570247900418449,
            -0.3934062701684301,
            -0.3934062701684301,
            -1.3479294200101986,
            0.37021224970498473,
            2.279258549388522,
            2.279258549388522,
            2.279258549388522,
            2.851972439293583,
            2.4701631793568755,
            2.851972439293583,
            0.7520215096416921,
            0.179307619736631,
            0.7520215096416921,
            -0.011597010231722688,
            0.179307619736631,
            0.179307619736631,
            -0.011597010231722688,
            0.179307619736631,
            -0.20250164020007638,
            -0.20250164020007638,
            0.7520215096416921,
            1.1338307695783996,
            0.37021224970498473,
            -0.7752155301051374,
            -1.1570247900418449,
            1.7065446594834606,
            -0.9661201600734912,
            0.7520215096416921,
            0.7520215096416921,
            3.424686329198644,
            0.7520215096416921,
            0.179307619736631,
            0.7520215096416921,
            0.37021224970498473,
            -0.20250164020007638,
            -0.3934062701684301,
            -0.7752155301051374,
            -1.5388340499785522,
            0.7520215096416921,
            0.37021224970498473,
            -0.3934062701684301,
            -0.9661201600734912,
            0.37021224970498473,
            -0.011597010231722688,
            -0.011597010231722688,
            -0.3934062701684301,
            -0.011597010231722688,
            -0.011597010231722688,
            0.179307619736631,
            -0.011597010231722688,
            -0.20250164020007638,
            0.37021224970498473,
            -0.011597010231722688
           ]
          },
          {
           "axis": {
            "matches": true
           },
           "label": "Weight",
           "values": [
            1.1502846336604724,
            -1.0539801877426578,
            -0.45844659582740677,
            -0.0038910887239519978,
            0.39796233059939207,
            0.41509050912792805,
            -0.5598981148041199,
            -0.4294604475483459,
            0.07911469952972236,
            -0.15277448670276472,
            0.006649328832070142,
            0.06462162539019191,
            -0.022336819446990744,
            0.39796233059939207,
            0.31100388576220944,
            0.5731967724682602,
            0.3399900340412703,
            0.5876898466077907,
            1.0817719195463285,
            0.3254969599017399,
            0.5876898466077907,
            -0.5888842630831808,
            -0.8655702239287619,
            -0.2990227802925719,
            0.602182920747321,
            0.47174525349154706,
            0.5863722944132879,
            1.6417316022100046,
            -0.4729396699669372,
            -0.5019258182459981,
            -0.02365437164149351,
            -0.1540920388972675,
            -0.3859812251297546,
            -0.3859812251297546,
            -0.12510589061820662,
            -0.1975712613158588,
            0.05012855125066147,
            -0.13959896475773706,
            0.31100388576220944,
            1.0514682190727647,
            1.1674128121890084,
            -0.2146994398443948,
            0.26752466334361813,
            -0.8510771497892315,
            -0.7641187049520488,
            0.021142402971600586,
            1.3465999106413846,
            0.5876898466077907,
            -0.2963876759035664,
            -0.014431506279974138,
            -0.1540920388972675,
            -0.05527562430955993,
            0.017189746388092283,
            0.26357200676010983,
            0.43617134423997234,
            2.357162443825007,
            0.95396935667956,
            0.15289762242187735,
            0.5349877588276799,
            0.6140408904978459,
            0.5455281763837021,
            0.09097266928024726,
            3.031749167410424,
            1.803790522133845,
            1.9394983981676301,
            1.1160282766034004,
            -0.9380355946264142,
            -1.591541483099787,
            -1.6205276313788477,
            -1.2661060910576032,
            -1.18837051158194,
            -1.2661060910576032,
            -0.14882183011925643,
            -0.5322295187195618,
            -0.37017059879572134,
            -0.31351585443210234,
            -0.134328755979726,
            0.036953029305633794,
            -0.34645465929467156,
            -0.18966594814884222,
            1.3531876716138986,
            0.15948538339439117,
            -0.4373657607153625,
            -0.434730656326357,
            2.766921176315368,
            0.059351416612180845,
            0.7431610055591171,
            1.6153805583199492,
            1.5574082617618275,
            -0.1580446954807758,
            -0.6284108289182638,
            -0.6231406201402527,
            -0.5335470709140645,
            -0.4689870133834289,
            0.004014224443064608,
            -0.13037609939621767,
            -0.039464997975526724,
            -0.47557477435594275,
            -0.2911174671255553,
            0.09492532586375557,
            -0.17122021742580348,
            0.6456621431659124,
            0.9921783703201402,
            -0.6824304688928773,
            1.4454163252290924,
            1.8564926099139558,
            -1.313537970059703,
            -1.2542481213070784,
            -0.14355162134124536,
            -0.5216891011635396,
            -0.530911966525059,
            -0.11983568184019554,
            0.3742463910983423,
            1.1357915595209418,
            -0.22128720081690864,
            0.17924866631193268,
            0.3307671686797509,
            1.270181883360224,
            4.759060094403552,
            1.8736207884424918,
            1.1660952599945056,
            -0.30561054126508574,
            -1.2726938520301172,
            -1.2805991651971338,
            -1.2805991651971338,
            -1.1686072286643985,
            -1.0908716491887351,
            -0.35831262904519645,
            -0.34908976368367706,
            0.6311690690263819,
            0.6311690690263819,
            0.6311690690263819,
            0.9183954474279853,
            -0.37939346415724073,
            -0.304292989070583,
            0.2662071111491153,
            1.594299723207905,
            2.484965006691776,
            -0.7245921391169658,
            -1.154114154524868,
            -0.10666015989516786,
            1.8011554177448394,
            1.928957980611608,
            3.366407424814127,
            0.9631922220410793,
            -0.2990227802925719,
            1.2780871965272407,
            2.4533437540237095,
            0.6654254260834539,
            -1.114587588689785,
            -2.2766686242412257,
            1.0659612932122953,
            -0.4215551343813293,
            -0.14486917353574813,
            -1.5098532470406152,
            -1.420259697814427,
            -1.403131519285891,
            -0.7693889137300599,
            -0.6995586474214133,
            -1.2871869261696476,
            -1.0487099789646466,
            -0.30165788468157745,
            -0.3741232553792297,
            0.9645097742355822,
            1.0369751449332343,
            -0.9788797126559999,
            3.718193860746366,
            -0.038147445781023956,
            -1.7430599854676052,
            -1.6969456586600082,
            -1.6323856011293727,
            -1.2423901515565534,
            -1.2423901515565534,
            -1.159384363302879,
            -0.47557477435594275,
            -0.47557477435594275,
            0.09624287805825833,
            0.09624287805825833,
            -0.7311799000894796,
            -0.31878606321011344,
            -0.21338188764989202,
            0.1304992351153303,
            -0.35831262904519645,
            0.35975331695881185,
            0.5257648934661605,
            0.6298515168318791,
            0.9631922220410793,
            1.8301415660239004,
            0.3399900340412703,
            -0.1975712613158588,
            -0.08162666819961528,
            0.26225445456560703,
            0.3900570174323755,
            0.6166759948868515,
            0.296510811622679,
            0.296510811622679,
            0.4875558798255803,
            0.2648895589546126,
            0.5297175500496688,
            0.3781990476818506,
            0.6114057861088404,
            0.279382633094143,
            0.3268145120962426,
            -0.0038910887239519978,
            0.7036344397240342,
            -0.3912514339077656,
            -1.5480622606811956,
            -1.4755968899835432,
            -1.2081337944994814,
            -1.1751949896369123,
            -1.1607019154973819,
            -0.39388653829677117,
            0.5837371900242823,
            1.6127454539309438,
            -1.4900899641230738,
            2.372973070159041,
            1.3149786579733183,
            -0.0012559843349464626,
            1.531057217871772,
            2.6509765831991245,
            0.6417094865824041,
            -0.15540959109177027,
            -0.4255077909648376,
            -0.3859812251297546,
            0.0936077736692528,
            0.18056621850643545,
            0.5428930719946965,
            0.3452602428192814,
            -0.22128720081690864,
            3.1503288649156733,
            1.6549071241550324,
            0.13576944389334136,
            0.13576944389334136,
            0.25039648481508214,
            0.25039648481508214,
            1.0422453537112455,
            1.0422453537112455,
            1.180588334134036,
            -1.3886384451463607,
            -1.1857354071929345,
            -0.6415863508632915,
            -1.1620194676918847,
            -1.075061022854702,
            -0.7061464083939271,
            0.3083687813732039,
            -1.5691430957932397,
            -1.5691430957932397,
            -0.6916533342543967,
            -0.723274586922463,
            -0.814185688343154,
            -0.009161297501963067,
            2.4309453667171623,
            1.707609211935143,
            -0.43209555193735144,
            -0.1949361569268533,
            -0.287164810542047,
            -0.287164810542047,
            -0.1949361569268533,
            -0.16858511303679793,
            -0.16858511303679793,
            -0.05000541553154886,
            0.6680605304724594,
            1.1792707819395332,
            0.2530315892040877,
            0.009284433221075677,
            0.07516204294621405,
            0.3123214379567122,
            0.766876945060167,
            1.0699139497958035,
            0.6417094865824041,
            0.8656933596478745,
            1.1212984853814114,
            -0.6890182298653911,
            -0.47162211777243446,
            -0.14223406914674258,
            0.5112718193266301,
            0.8591055986753607,
            1.0488331146837593,
            -0.3556775246561909,
            0.6245813080538681,
            0.6245813080538681,
            -0.34645465929467156,
            0.6245813080538681,
            0.8129912718677639,
            1.0040363400706651,
            -0.11851812964569278,
            0.732620588003095,
            1.5020710695927113,
            -0.44527107388237913,
            -1.2147215554719952,
            -1.0315818004361106,
            -0.2990227802925719,
            -1.0987769623557517,
            -0.038147445781023956,
            0.0936077736692528,
            -0.44395352168787633,
            -0.37148815099022414,
            -0.41496737340881545,
            -0.7351325566729879,
            1.8907489669710276,
            0.3861043608488672,
            0.23985606725906,
            -1.403131519285891,
            -1.313537970059703,
            -0.7100990649774354,
            -1.0763785750492048,
            -0.5019258182459981,
            -0.13828141256323428,
            -0.134328755979726,
            0.5718792202737574,
            0.7866402279777085,
            -0.513783787996523,
            -0.1975712613158588,
            0.466475044713536,
            2.251758268264786,
            0.29387570723367346,
            -0.8326314190661928,
            -0.6494916640303081,
            0.4875558798255803,
            0.2648895589546126,
            -1.0632030531041772,
            -0.6060124416117167,
            -0.13301120378522321,
            -1.0632030531041772,
            -0.12378833842370385,
            0.279382633094143,
            0.296510811622679,
            1.123933589770417,
            0.19374174045146314,
            -1.155431706719371,
            1.8077431787173532,
            -0.5836140543051697,
            -0.44527107388237913,
            -0.6046948894172139,
            -0.5888842630831808,
            -1.0105009653240664,
            -0.8787457458737896,
            -0.530911966525059,
            -0.530911966525059,
            -0.14223406914674258,
            -0.14223406914674258,
            -0.12905854720171492,
            0.16080293558889394,
            0.05539876002867254,
            -0.2594962144574889,
            -1.1672896764698957,
            -1.1672896764698957,
            -1.1672896764698957,
            -1.0895540969942323,
            -1.0895540969942323,
            -0.5019258182459981,
            -0.6178704113622416,
            -1.63106804893487,
            -1.5190761124021346,
            -0.8075979273706402,
            -0.3859812251297546,
            -0.24105048373445015,
            -0.1092952642841734,
            0.042223238083644865,
            0.06857428197370022,
            -0.6494916640303081,
            -0.41496737340881545,
            -0.12247078622920107,
            -0.6429039030577942,
            -0.1949361569268533,
            0.13708699608784414,
            -0.7351325566729879,
            -1.18837051158194,
            -1.18837051158194,
            -1.155431706719371,
            -1.0829663360217185,
            -0.2608137666519917,
            -0.8510771497892315,
            -0.9064143419583477,
            2.229359880958239,
            0.602182920747321,
            0.4704277012970443,
            2.387466144298571,
            -0.6046948894172139,
            -1.4176245934254215,
            -1.3886384451463607,
            -1.3886384451463607,
            -2.032921468258214,
            -1.9670438585330756,
            -2.006570424368159,
            -0.6481741118358053,
            -0.37148815099022414,
            -0.530911966525059,
            -0.21206433545538927,
            -0.21206433545538927,
            -0.28452970615304146,
            -0.18307818717632837,
            -0.18307818717632837,
            0.7141748572800563,
            0.7734647060326808,
            -1.420259697814427,
            -1.8221131171377711,
            -1.0908716491887351,
            0.4572521793520166,
            1.129203798548428,
            -1.1844178549984317,
            1.9869302771697297,
            -0.8971914765968284,
            -0.8484420454002259,
            -0.757530943979535,
            -0.9986429955735414,
            -0.5256417577470479,
            -0.6534443206138164,
            -0.44395352168787633,
            0.18847153167345207,
            0.49414364079809414,
            2.1292259141760286,
            2.399324114049096,
            -0.7166868259499493,
            -0.3161509588211079,
            0.6443445909714096,
            1.3966668940324898,
            -1.0684732618821882,
            0.42826603107295574,
            0.2477613804260766,
            -0.009161297501963067,
            -0.00257353652944923,
            0.14894496583836903,
            -0.16858511303679793,
            -0.16858511303679793,
            0.09887798244726387,
            -0.9960078911845359,
            0.32286185551273433
           ]
          }
         ],
         "hovertemplate": "%{xaxis.title.text}=%{x}<br>%{yaxis.title.text}=%{y}<extra></extra>",
         "legendgroup": "",
         "marker": {
          "color": "#636efa",
          "symbol": "circle"
         },
         "name": "",
         "showlegend": false,
         "type": "splom"
        }
       ],
       "layout": {
        "dragmode": "select",
        "legend": {
         "tracegroupgap": 0
        },
        "margin": {
         "t": 60
        },
        "template": {
         "data": {
          "bar": [
           {
            "error_x": {
             "color": "#2a3f5f"
            },
            "error_y": {
             "color": "#2a3f5f"
            },
            "marker": {
             "line": {
              "color": "#E5ECF6",
              "width": 0.5
             },
             "pattern": {
              "fillmode": "overlay",
              "size": 10,
              "solidity": 0.2
             }
            },
            "type": "bar"
           }
          ],
          "barpolar": [
           {
            "marker": {
             "line": {
              "color": "#E5ECF6",
              "width": 0.5
             },
             "pattern": {
              "fillmode": "overlay",
              "size": 10,
              "solidity": 0.2
             }
            },
            "type": "barpolar"
           }
          ],
          "carpet": [
           {
            "aaxis": {
             "endlinecolor": "#2a3f5f",
             "gridcolor": "white",
             "linecolor": "white",
             "minorgridcolor": "white",
             "startlinecolor": "#2a3f5f"
            },
            "baxis": {
             "endlinecolor": "#2a3f5f",
             "gridcolor": "white",
             "linecolor": "white",
             "minorgridcolor": "white",
             "startlinecolor": "#2a3f5f"
            },
            "type": "carpet"
           }
          ],
          "choropleth": [
           {
            "colorbar": {
             "outlinewidth": 0,
             "ticks": ""
            },
            "type": "choropleth"
           }
          ],
          "contour": [
           {
            "colorbar": {
             "outlinewidth": 0,
             "ticks": ""
            },
            "colorscale": [
             [
              0,
              "#0d0887"
             ],
             [
              0.1111111111111111,
              "#46039f"
             ],
             [
              0.2222222222222222,
              "#7201a8"
             ],
             [
              0.3333333333333333,
              "#9c179e"
             ],
             [
              0.4444444444444444,
              "#bd3786"
             ],
             [
              0.5555555555555556,
              "#d8576b"
             ],
             [
              0.6666666666666666,
              "#ed7953"
             ],
             [
              0.7777777777777778,
              "#fb9f3a"
             ],
             [
              0.8888888888888888,
              "#fdca26"
             ],
             [
              1,
              "#f0f921"
             ]
            ],
            "type": "contour"
           }
          ],
          "contourcarpet": [
           {
            "colorbar": {
             "outlinewidth": 0,
             "ticks": ""
            },
            "type": "contourcarpet"
           }
          ],
          "heatmap": [
           {
            "colorbar": {
             "outlinewidth": 0,
             "ticks": ""
            },
            "colorscale": [
             [
              0,
              "#0d0887"
             ],
             [
              0.1111111111111111,
              "#46039f"
             ],
             [
              0.2222222222222222,
              "#7201a8"
             ],
             [
              0.3333333333333333,
              "#9c179e"
             ],
             [
              0.4444444444444444,
              "#bd3786"
             ],
             [
              0.5555555555555556,
              "#d8576b"
             ],
             [
              0.6666666666666666,
              "#ed7953"
             ],
             [
              0.7777777777777778,
              "#fb9f3a"
             ],
             [
              0.8888888888888888,
              "#fdca26"
             ],
             [
              1,
              "#f0f921"
             ]
            ],
            "type": "heatmap"
           }
          ],
          "heatmapgl": [
           {
            "colorbar": {
             "outlinewidth": 0,
             "ticks": ""
            },
            "colorscale": [
             [
              0,
              "#0d0887"
             ],
             [
              0.1111111111111111,
              "#46039f"
             ],
             [
              0.2222222222222222,
              "#7201a8"
             ],
             [
              0.3333333333333333,
              "#9c179e"
             ],
             [
              0.4444444444444444,
              "#bd3786"
             ],
             [
              0.5555555555555556,
              "#d8576b"
             ],
             [
              0.6666666666666666,
              "#ed7953"
             ],
             [
              0.7777777777777778,
              "#fb9f3a"
             ],
             [
              0.8888888888888888,
              "#fdca26"
             ],
             [
              1,
              "#f0f921"
             ]
            ],
            "type": "heatmapgl"
           }
          ],
          "histogram": [
           {
            "marker": {
             "pattern": {
              "fillmode": "overlay",
              "size": 10,
              "solidity": 0.2
             }
            },
            "type": "histogram"
           }
          ],
          "histogram2d": [
           {
            "colorbar": {
             "outlinewidth": 0,
             "ticks": ""
            },
            "colorscale": [
             [
              0,
              "#0d0887"
             ],
             [
              0.1111111111111111,
              "#46039f"
             ],
             [
              0.2222222222222222,
              "#7201a8"
             ],
             [
              0.3333333333333333,
              "#9c179e"
             ],
             [
              0.4444444444444444,
              "#bd3786"
             ],
             [
              0.5555555555555556,
              "#d8576b"
             ],
             [
              0.6666666666666666,
              "#ed7953"
             ],
             [
              0.7777777777777778,
              "#fb9f3a"
             ],
             [
              0.8888888888888888,
              "#fdca26"
             ],
             [
              1,
              "#f0f921"
             ]
            ],
            "type": "histogram2d"
           }
          ],
          "histogram2dcontour": [
           {
            "colorbar": {
             "outlinewidth": 0,
             "ticks": ""
            },
            "colorscale": [
             [
              0,
              "#0d0887"
             ],
             [
              0.1111111111111111,
              "#46039f"
             ],
             [
              0.2222222222222222,
              "#7201a8"
             ],
             [
              0.3333333333333333,
              "#9c179e"
             ],
             [
              0.4444444444444444,
              "#bd3786"
             ],
             [
              0.5555555555555556,
              "#d8576b"
             ],
             [
              0.6666666666666666,
              "#ed7953"
             ],
             [
              0.7777777777777778,
              "#fb9f3a"
             ],
             [
              0.8888888888888888,
              "#fdca26"
             ],
             [
              1,
              "#f0f921"
             ]
            ],
            "type": "histogram2dcontour"
           }
          ],
          "mesh3d": [
           {
            "colorbar": {
             "outlinewidth": 0,
             "ticks": ""
            },
            "type": "mesh3d"
           }
          ],
          "parcoords": [
           {
            "line": {
             "colorbar": {
              "outlinewidth": 0,
              "ticks": ""
             }
            },
            "type": "parcoords"
           }
          ],
          "pie": [
           {
            "automargin": true,
            "type": "pie"
           }
          ],
          "scatter": [
           {
            "fillpattern": {
             "fillmode": "overlay",
             "size": 10,
             "solidity": 0.2
            },
            "type": "scatter"
           }
          ],
          "scatter3d": [
           {
            "line": {
             "colorbar": {
              "outlinewidth": 0,
              "ticks": ""
             }
            },
            "marker": {
             "colorbar": {
              "outlinewidth": 0,
              "ticks": ""
             }
            },
            "type": "scatter3d"
           }
          ],
          "scattercarpet": [
           {
            "marker": {
             "colorbar": {
              "outlinewidth": 0,
              "ticks": ""
             }
            },
            "type": "scattercarpet"
           }
          ],
          "scattergeo": [
           {
            "marker": {
             "colorbar": {
              "outlinewidth": 0,
              "ticks": ""
             }
            },
            "type": "scattergeo"
           }
          ],
          "scattergl": [
           {
            "marker": {
             "colorbar": {
              "outlinewidth": 0,
              "ticks": ""
             }
            },
            "type": "scattergl"
           }
          ],
          "scattermapbox": [
           {
            "marker": {
             "colorbar": {
              "outlinewidth": 0,
              "ticks": ""
             }
            },
            "type": "scattermapbox"
           }
          ],
          "scatterpolar": [
           {
            "marker": {
             "colorbar": {
              "outlinewidth": 0,
              "ticks": ""
             }
            },
            "type": "scatterpolar"
           }
          ],
          "scatterpolargl": [
           {
            "marker": {
             "colorbar": {
              "outlinewidth": 0,
              "ticks": ""
             }
            },
            "type": "scatterpolargl"
           }
          ],
          "scatterternary": [
           {
            "marker": {
             "colorbar": {
              "outlinewidth": 0,
              "ticks": ""
             }
            },
            "type": "scatterternary"
           }
          ],
          "surface": [
           {
            "colorbar": {
             "outlinewidth": 0,
             "ticks": ""
            },
            "colorscale": [
             [
              0,
              "#0d0887"
             ],
             [
              0.1111111111111111,
              "#46039f"
             ],
             [
              0.2222222222222222,
              "#7201a8"
             ],
             [
              0.3333333333333333,
              "#9c179e"
             ],
             [
              0.4444444444444444,
              "#bd3786"
             ],
             [
              0.5555555555555556,
              "#d8576b"
             ],
             [
              0.6666666666666666,
              "#ed7953"
             ],
             [
              0.7777777777777778,
              "#fb9f3a"
             ],
             [
              0.8888888888888888,
              "#fdca26"
             ],
             [
              1,
              "#f0f921"
             ]
            ],
            "type": "surface"
           }
          ],
          "table": [
           {
            "cells": {
             "fill": {
              "color": "#EBF0F8"
             },
             "line": {
              "color": "white"
             }
            },
            "header": {
             "fill": {
              "color": "#C8D4E3"
             },
             "line": {
              "color": "white"
             }
            },
            "type": "table"
           }
          ]
         },
         "layout": {
          "annotationdefaults": {
           "arrowcolor": "#2a3f5f",
           "arrowhead": 0,
           "arrowwidth": 1
          },
          "autotypenumbers": "strict",
          "coloraxis": {
           "colorbar": {
            "outlinewidth": 0,
            "ticks": ""
           }
          },
          "colorscale": {
           "diverging": [
            [
             0,
             "#8e0152"
            ],
            [
             0.1,
             "#c51b7d"
            ],
            [
             0.2,
             "#de77ae"
            ],
            [
             0.3,
             "#f1b6da"
            ],
            [
             0.4,
             "#fde0ef"
            ],
            [
             0.5,
             "#f7f7f7"
            ],
            [
             0.6,
             "#e6f5d0"
            ],
            [
             0.7,
             "#b8e186"
            ],
            [
             0.8,
             "#7fbc41"
            ],
            [
             0.9,
             "#4d9221"
            ],
            [
             1,
             "#276419"
            ]
           ],
           "sequential": [
            [
             0,
             "#0d0887"
            ],
            [
             0.1111111111111111,
             "#46039f"
            ],
            [
             0.2222222222222222,
             "#7201a8"
            ],
            [
             0.3333333333333333,
             "#9c179e"
            ],
            [
             0.4444444444444444,
             "#bd3786"
            ],
            [
             0.5555555555555556,
             "#d8576b"
            ],
            [
             0.6666666666666666,
             "#ed7953"
            ],
            [
             0.7777777777777778,
             "#fb9f3a"
            ],
            [
             0.8888888888888888,
             "#fdca26"
            ],
            [
             1,
             "#f0f921"
            ]
           ],
           "sequentialminus": [
            [
             0,
             "#0d0887"
            ],
            [
             0.1111111111111111,
             "#46039f"
            ],
            [
             0.2222222222222222,
             "#7201a8"
            ],
            [
             0.3333333333333333,
             "#9c179e"
            ],
            [
             0.4444444444444444,
             "#bd3786"
            ],
            [
             0.5555555555555556,
             "#d8576b"
            ],
            [
             0.6666666666666666,
             "#ed7953"
            ],
            [
             0.7777777777777778,
             "#fb9f3a"
            ],
            [
             0.8888888888888888,
             "#fdca26"
            ],
            [
             1,
             "#f0f921"
            ]
           ]
          },
          "colorway": [
           "#636efa",
           "#EF553B",
           "#00cc96",
           "#ab63fa",
           "#FFA15A",
           "#19d3f3",
           "#FF6692",
           "#B6E880",
           "#FF97FF",
           "#FECB52"
          ],
          "font": {
           "color": "#2a3f5f"
          },
          "geo": {
           "bgcolor": "white",
           "lakecolor": "white",
           "landcolor": "#E5ECF6",
           "showlakes": true,
           "showland": true,
           "subunitcolor": "white"
          },
          "hoverlabel": {
           "align": "left"
          },
          "hovermode": "closest",
          "mapbox": {
           "style": "light"
          },
          "paper_bgcolor": "white",
          "plot_bgcolor": "#E5ECF6",
          "polar": {
           "angularaxis": {
            "gridcolor": "white",
            "linecolor": "white",
            "ticks": ""
           },
           "bgcolor": "#E5ECF6",
           "radialaxis": {
            "gridcolor": "white",
            "linecolor": "white",
            "ticks": ""
           }
          },
          "scene": {
           "xaxis": {
            "backgroundcolor": "#E5ECF6",
            "gridcolor": "white",
            "gridwidth": 2,
            "linecolor": "white",
            "showbackground": true,
            "ticks": "",
            "zerolinecolor": "white"
           },
           "yaxis": {
            "backgroundcolor": "#E5ECF6",
            "gridcolor": "white",
            "gridwidth": 2,
            "linecolor": "white",
            "showbackground": true,
            "ticks": "",
            "zerolinecolor": "white"
           },
           "zaxis": {
            "backgroundcolor": "#E5ECF6",
            "gridcolor": "white",
            "gridwidth": 2,
            "linecolor": "white",
            "showbackground": true,
            "ticks": "",
            "zerolinecolor": "white"
           }
          },
          "shapedefaults": {
           "line": {
            "color": "#2a3f5f"
           }
          },
          "ternary": {
           "aaxis": {
            "gridcolor": "white",
            "linecolor": "white",
            "ticks": ""
           },
           "baxis": {
            "gridcolor": "white",
            "linecolor": "white",
            "ticks": ""
           },
           "bgcolor": "#E5ECF6",
           "caxis": {
            "gridcolor": "white",
            "linecolor": "white",
            "ticks": ""
           }
          },
          "title": {
           "x": 0.05
          },
          "xaxis": {
           "automargin": true,
           "gridcolor": "white",
           "linecolor": "white",
           "ticks": "",
           "title": {
            "standoff": 15
           },
           "zerolinecolor": "white",
           "zerolinewidth": 2
          },
          "yaxis": {
           "automargin": true,
           "gridcolor": "white",
           "linecolor": "white",
           "ticks": "",
           "title": {
            "standoff": 15
           },
           "zerolinecolor": "white",
           "zerolinewidth": 2
          }
         }
        }
       }
      }
     },
     "metadata": {},
     "output_type": "display_data"
    }
   ],
   "source": [
    "fig = px.scatter_matrix(df_Excluide[[\"MPG_City\",\"Weight\"]])\n",
    "fig.show()"
   ]
  },
  {
   "attachments": {},
   "cell_type": "markdown",
   "metadata": {},
   "source": [
    "- Aquí podemos evidenciar que a mayor peso menos distancia por galón recorren los vehículos."
   ]
  },
  {
   "cell_type": "code",
   "execution_count": 31,
   "metadata": {},
   "outputs": [
    {
     "data": {
      "application/vnd.plotly.v1+json": {
       "config": {
        "plotlyServerURL": "https://plot.ly"
       },
       "data": [
        {
         "dimensions": [
          {
           "axis": {
            "matches": true
           },
           "label": "MPG_City",
           "values": [
            -0.5843109001367838,
            0.7520215096416921,
            0.37021224970498473,
            -0.011597010231722688,
            -0.3934062701684301,
            -0.3934062701684301,
            -0.5843109001367838,
            0.37021224970498473,
            0.5611168796733385,
            -0.011597010231722688,
            -0.5843109001367838,
            -0.3934062701684301,
            -0.011597010231722688,
            -0.3934062701684301,
            -0.011597010231722688,
            -0.3934062701684301,
            -0.3934062701684301,
            -0.5843109001367838,
            -0.5843109001367838,
            -1.1570247900418449,
            -0.9661201600734912,
            -0.011597010231722688,
            -0.011597010231722688,
            0.179307619736631,
            -0.3934062701684301,
            -0.9661201600734912,
            -0.7752155301051374,
            -0.7752155301051374,
            -0.011597010231722688,
            -0.011597010231722688,
            -0.20250164020007638,
            -0.20250164020007638,
            -0.011597010231722688,
            -0.011597010231722688,
            -0.011597010231722688,
            -0.20250164020007638,
            -0.20250164020007638,
            -0.011597010231722688,
            -0.3934062701684301,
            -0.3934062701684301,
            -0.3934062701684301,
            -0.7752155301051374,
            -0.7752155301051374,
            -0.011597010231722688,
            0.179307619736631,
            -0.20250164020007638,
            -0.9661201600734912,
            -0.20250164020007638,
            -0.011597010231722688,
            -0.011597010231722688,
            -0.011597010231722688,
            -0.3934062701684301,
            -0.011597010231722688,
            -0.011597010231722688,
            -0.3934062701684301,
            -1.1570247900418449,
            -0.7752155301051374,
            -0.3934062701684301,
            -0.3934062701684301,
            -0.3934062701684301,
            -0.3934062701684301,
            -0.5843109001367838,
            -1.3479294200101986,
            -1.1570247900418449,
            -1.1570247900418449,
            -0.7752155301051374,
            -0.20250164020007638,
            1.515640029515107,
            1.515640029515107,
            1.1338307695783996,
            1.1338307695783996,
            1.1338307695783996,
            0.179307619736631,
            0.7520215096416921,
            0.37021224970498473,
            0.179307619736631,
            -0.011597010231722688,
            -0.3934062701684301,
            0.5611168796733385,
            -0.3934062701684301,
            -1.1570247900418449,
            -0.20250164020007638,
            -0.3934062701684301,
            -0.3934062701684301,
            -1.1570247900418449,
            -0.3934062701684301,
            -0.9661201600734912,
            -1.3479294200101986,
            -0.7752155301051374,
            0.37021224970498473,
            0.37021224970498473,
            0.37021224970498473,
            0.37021224970498473,
            0.179307619736631,
            -0.3934062701684301,
            0.179307619736631,
            -0.20250164020007638,
            0.179307619736631,
            0.37021224970498473,
            -0.3934062701684301,
            0.179307619736631,
            -0.20250164020007638,
            -0.3934062701684301,
            -0.5843109001367838,
            -0.5843109001367838,
            -0.9661201600734912,
            1.7065446594834606,
            1.7065446594834606,
            0.179307619736631,
            0.179307619736631,
            0.179307619736631,
            -0.3934062701684301,
            -0.011597010231722688,
            -0.3934062701684301,
            -1.5388340499785522,
            -0.7752155301051374,
            -0.7752155301051374,
            -0.7752155301051374,
            -1.9206433099152598,
            -0.9661201600734912,
            -0.9661201600734912,
            -0.3934062701684301,
            1.1338307695783996,
            1.3247353995467532,
            1.1338307695783996,
            1.1338307695783996,
            0.179307619736631,
            -0.011597010231722688,
            -0.20250164020007638,
            -0.5843109001367838,
            -0.5843109001367838,
            -0.5843109001367838,
            -0.5843109001367838,
            -0.011597010231722688,
            -0.5843109001367838,
            -0.5843109001367838,
            -0.9661201600734912,
            -1.1570247900418449,
            0.7520215096416921,
            1.1338307695783996,
            -0.20250164020007638,
            -0.9661201600734912,
            -0.7752155301051374,
            -1.3479294200101986,
            -0.7752155301051374,
            -0.3934062701684301,
            -0.5843109001367838,
            -1.3479294200101986,
            -0.9661201600734912,
            4.951923368945473,
            7.624588188502425,
            -0.5843109001367838,
            0.179307619736631,
            0.179307619736631,
            2.279258549388522,
            3.0428770692619365,
            2.279258549388522,
            1.1338307695783996,
            1.1338307695783996,
            2.279258549388522,
            1.1338307695783996,
            0.179307619736631,
            0.179307619736631,
            -0.3934062701684301,
            -0.3934062701684301,
            -0.011597010231722688,
            -1.9206433099152598,
            -0.011597010231722688,
            1.7065446594834606,
            1.7065446594834606,
            1.7065446594834606,
            1.1338307695783996,
            1.1338307695783996,
            1.1338307695783996,
            -0.20250164020007638,
            -0.20250164020007638,
            -0.5843109001367838,
            -0.5843109001367838,
            -0.20250164020007638,
            -0.3934062701684301,
            -0.3934062701684301,
            -0.3934062701684301,
            -0.20250164020007638,
            -0.5843109001367838,
            -0.5843109001367838,
            -0.7752155301051374,
            -0.9661201600734912,
            -0.9661201600734912,
            -0.5843109001367838,
            -0.3934062701684301,
            -0.3934062701684301,
            -0.3934062701684301,
            -0.3934062701684301,
            -0.5843109001367838,
            -0.3934062701684301,
            -0.3934062701684301,
            -0.5843109001367838,
            -0.3934062701684301,
            -0.3934062701684301,
            -0.7752155301051374,
            -0.7752155301051374,
            -0.7752155301051374,
            -0.011597010231722688,
            -0.7752155301051374,
            -0.7752155301051374,
            0.5611168796733385,
            1.1338307695783996,
            0.9429261396100458,
            0.7520215096416921,
            0.7520215096416921,
            0.7520215096416921,
            -0.011597010231722688,
            -0.5843109001367838,
            -0.7752155301051374,
            1.1338307695783996,
            -1.5388340499785522,
            -1.5388340499785522,
            -0.3934062701684301,
            -0.9661201600734912,
            -1.3479294200101986,
            -0.3934062701684301,
            -0.011597010231722688,
            -0.3934062701684301,
            -0.3934062701684301,
            -0.3934062701684301,
            -0.3934062701684301,
            -0.3934062701684301,
            -0.3934062701684301,
            -0.3934062701684301,
            -1.3479294200101986,
            -1.3479294200101986,
            -0.011597010231722688,
            -0.011597010231722688,
            -0.5843109001367838,
            -0.5843109001367838,
            -0.5843109001367838,
            -0.5843109001367838,
            -0.5843109001367838,
            1.515640029515107,
            0.9429261396100458,
            0.37021224970498473,
            1.1338307695783996,
            0.9429261396100458,
            0.7520215096416921,
            -0.3934062701684301,
            0.5611168796733385,
            0.5611168796733385,
            -0.3934062701684301,
            -0.3934062701684301,
            0.7520215096416921,
            -0.9661201600734912,
            -1.3479294200101986,
            -1.1570247900418449,
            0.37021224970498473,
            -0.20250164020007638,
            -0.011597010231722688,
            -0.20250164020007638,
            -0.20250164020007638,
            -0.011597010231722688,
            -0.20250164020007638,
            -0.7752155301051374,
            -0.7752155301051374,
            -1.3479294200101986,
            -0.011597010231722688,
            -0.5843109001367838,
            -0.20250164020007638,
            -0.7752155301051374,
            -0.3934062701684301,
            -0.7752155301051374,
            -0.7752155301051374,
            -1.1570247900418449,
            -1.3479294200101986,
            0.179307619736631,
            -0.5843109001367838,
            -0.20250164020007638,
            -0.20250164020007638,
            -0.7752155301051374,
            -0.7752155301051374,
            -0.011597010231722688,
            -0.5843109001367838,
            -0.5843109001367838,
            -0.20250164020007638,
            -0.5843109001367838,
            -0.5843109001367838,
            -0.7752155301051374,
            -0.20250164020007638,
            -0.5843109001367838,
            -0.9661201600734912,
            0.179307619736631,
            0.9429261396100458,
            0.9429261396100458,
            0.5611168796733385,
            0.9429261396100458,
            -0.3934062701684301,
            -0.3934062701684301,
            0.179307619736631,
            0.179307619736631,
            -0.3934062701684301,
            0.9429261396100458,
            -1.3479294200101986,
            -0.7752155301051374,
            -0.5843109001367838,
            1.515640029515107,
            1.515640029515107,
            0.179307619736631,
            0.5611168796733385,
            0.179307619736631,
            -0.011597010231722688,
            -0.011597010231722688,
            -0.20250164020007638,
            -0.3934062701684301,
            -0.011597010231722688,
            -0.011597010231722688,
            -0.5843109001367838,
            -1.1570247900418449,
            -0.011597010231722688,
            0.7520215096416921,
            -0.011597010231722688,
            -0.20250164020007638,
            -0.20250164020007638,
            0.7520215096416921,
            -0.011597010231722688,
            -0.011597010231722688,
            0.7520215096416921,
            -0.011597010231722688,
            -0.5843109001367838,
            -0.20250164020007638,
            -0.3934062701684301,
            -0.7752155301051374,
            1.7065446594834606,
            -1.1570247900418449,
            -0.3934062701684301,
            -0.5843109001367838,
            -0.3934062701684301,
            -0.5843109001367838,
            -0.011597010231722688,
            -0.3934062701684301,
            -0.011597010231722688,
            -0.011597010231722688,
            0.179307619736631,
            0.179307619736631,
            0.179307619736631,
            0.179307619736631,
            -0.20250164020007638,
            0.179307619736631,
            1.1338307695783996,
            1.1338307695783996,
            1.1338307695783996,
            1.1338307695783996,
            1.1338307695783996,
            -0.011597010231722688,
            0.7520215096416921,
            2.279258549388522,
            2.088353919420168,
            0.37021224970498473,
            0.179307619736631,
            0.179307619736631,
            -0.011597010231722688,
            -0.20250164020007638,
            -0.20250164020007638,
            -0.011597010231722688,
            -0.3934062701684301,
            0.179307619736631,
            0.179307619736631,
            0.179307619736631,
            -0.3934062701684301,
            -0.20250164020007638,
            0.9429261396100458,
            0.9429261396100458,
            0.7520215096416921,
            0.37021224970498473,
            -0.011597010231722688,
            0.7520215096416921,
            7.433683558534072,
            -1.1570247900418449,
            -0.3934062701684301,
            -0.3934062701684301,
            -1.3479294200101986,
            0.37021224970498473,
            2.279258549388522,
            2.279258549388522,
            2.279258549388522,
            2.851972439293583,
            2.4701631793568755,
            2.851972439293583,
            0.7520215096416921,
            0.179307619736631,
            0.7520215096416921,
            -0.011597010231722688,
            0.179307619736631,
            0.179307619736631,
            -0.011597010231722688,
            0.179307619736631,
            -0.20250164020007638,
            -0.20250164020007638,
            0.7520215096416921,
            1.1338307695783996,
            0.37021224970498473,
            -0.7752155301051374,
            -1.1570247900418449,
            1.7065446594834606,
            -0.9661201600734912,
            0.7520215096416921,
            0.7520215096416921,
            3.424686329198644,
            0.7520215096416921,
            0.179307619736631,
            0.7520215096416921,
            0.37021224970498473,
            -0.20250164020007638,
            -0.3934062701684301,
            -0.7752155301051374,
            -1.5388340499785522,
            0.7520215096416921,
            0.37021224970498473,
            -0.3934062701684301,
            -0.9661201600734912,
            0.37021224970498473,
            -0.011597010231722688,
            -0.011597010231722688,
            -0.3934062701684301,
            -0.011597010231722688,
            -0.011597010231722688,
            0.179307619736631,
            -0.011597010231722688,
            -0.20250164020007638,
            0.37021224970498473,
            -0.011597010231722688
           ]
          },
          {
           "axis": {
            "matches": true
           },
           "label": "Wheelbase",
           "values": [
            -0.25917397441280354,
            -0.8607274508156215,
            -0.37948466969336714,
            -0.018552583851676317,
            0.8236222831122689,
            0.8236222831122689,
            -0.9810381460961851,
            -0.49979536497393073,
            -0.37948466969336714,
            -0.49979536497393073,
            -0.49979536497393073,
            -0.49979536497393073,
            0.10175811142888729,
            0.10175811142888729,
            -0.37948466969336714,
            -0.37948466969336714,
            0.10175811142888729,
            0.10175811142888729,
            1.5454864547956504,
            -0.49979536497393073,
            0.10175811142888729,
            -1.582591622499003,
            -1.4622809272184396,
            -1.4622809272184396,
            0.10175811142888729,
            -0.49979536497393073,
            0.22206880670945087,
            0.3423795019900145,
            -0.13886327913223992,
            -0.13886327913223992,
            -0.13886327913223992,
            -0.13886327913223992,
            -0.13886327913223992,
            -0.13886327913223992,
            -0.13886327913223992,
            0.7033115878317052,
            -0.13886327913223992,
            0.7033115878317052,
            0.7033115878317052,
            1.1845543689539597,
            1.7861078453567776,
            -0.018552583851676317,
            -0.018552583851676317,
            -1.2216595366573124,
            -1.2216595366573124,
            -0.13886327913223992,
            0.5830008925511416,
            0.4626901972705781,
            0.10175811142888729,
            0.4626901972705781,
            0.10175811142888729,
            0.10175811142888729,
            0.4626901972705781,
            0.7033115878317052,
            0.7033115878317052,
            0.9439329783928325,
            0.9439329783928325,
            0.5830008925511416,
            0.8236222831122689,
            0.8236222831122689,
            0.4626901972705781,
            -0.25917397441280354,
            2.628282712320723,
            2.628282712320723,
            0.9439329783928325,
            0.5830008925511416,
            -1.2216595366573124,
            -1.2216595366573124,
            -1.2216595366573124,
            -0.49979536497393073,
            -0.49979536497393073,
            -0.49979536497393073,
            0.3423795019900145,
            -0.25917397441280354,
            -0.25917397441280354,
            0.3423795019900145,
            0.3423795019900145,
            0.3423795019900145,
            -0.25917397441280354,
            0.3423795019900145,
            0.3423795019900145,
            0.4626901972705781,
            -0.37948466969336714,
            -0.37948466969336714,
            2.628282712320723,
            0.3423795019900145,
            1.3048650642345232,
            4.312632446248613,
            0.9439329783928325,
            0.4626901972705781,
            -0.6201060602544943,
            -0.6201060602544943,
            -0.018552583851676317,
            -0.018552583851676317,
            0.5830008925511416,
            0.5830008925511416,
            0.5830008925511416,
            -0.6201060602544943,
            -0.25917397441280354,
            0.5830008925511416,
            -0.25917397441280354,
            1.3048650642345232,
            1.3048650642345232,
            -1.582591622499003,
            0.9439329783928325,
            1.3048650642345232,
            -0.37948466969336714,
            -0.37948466969336714,
            0.5830008925511416,
            -0.018552583851676317,
            -0.018552583851676317,
            0.5830008925511416,
            0.5830008925511416,
            1.3048650642345232,
            -1.1013488413767487,
            0.4626901972705781,
            2.7485934076012866,
            1.5454864547956504,
            3.470457579284668,
            1.3048650642345232,
            0.7033115878317052,
            -0.6201060602544943,
            -0.6201060602544943,
            -0.6201060602544943,
            -0.6201060602544943,
            -0.6201060602544943,
            -0.6201060602544943,
            0.10175811142888729,
            0.10175811142888729,
            0.8236222831122689,
            0.8236222831122689,
            0.8236222831122689,
            1.5454864547956504,
            -0.8607274508156215,
            -0.8607274508156215,
            -0.13886327913223992,
            2.1470399311984685,
            2.9892147981624135,
            0.3423795019900145,
            -0.6201060602544943,
            0.10175811142888729,
            2.507972017040159,
            0.9439329783928325,
            2.628282712320723,
            0.3423795019900145,
            0.3423795019900145,
            4.312632446248613,
            2.9892147981624135,
            1.7861078453567776,
            -0.6201060602544943,
            -1.582591622499003,
            -0.25917397441280354,
            -0.6201060602544943,
            -0.8607274508156215,
            -0.6201060602544943,
            -0.6201060602544943,
            -0.6201060602544943,
            -0.37948466969336714,
            -0.37948466969336714,
            -0.6201060602544943,
            -0.8607274508156215,
            -0.018552583851676317,
            -0.37948466969336714,
            1.1845543689539597,
            1.1845543689539597,
            -1.582591622499003,
            1.7861078453567776,
            -0.6201060602544943,
            -1.4622809272184396,
            -1.4622809272184396,
            -1.4622809272184396,
            -0.6201060602544943,
            -0.6201060602544943,
            -0.6201060602544943,
            -0.25917397441280354,
            -0.25917397441280354,
            -0.018552583851676317,
            -0.018552583851676317,
            -0.9810381460961851,
            0.4626901972705781,
            0.4626901972705781,
            0.4626901972705781,
            -0.018552583851676317,
            0.22206880670945087,
            0.5830008925511416,
            0.4626901972705781,
            0.4626901972705781,
            2.507972017040159,
            -0.25917397441280354,
            -0.13886327913223992,
            -0.13886327913223992,
            0.8236222831122689,
            0.8236222831122689,
            0.8236222831122689,
            1.3048650642345232,
            1.3048650642345232,
            1.3048650642345232,
            -0.7404167555350579,
            -0.7404167555350579,
            -0.7404167555350579,
            -0.7404167555350579,
            -0.25917397441280354,
            -0.49979536497393073,
            -1.8232130130601303,
            -0.13886327913223992,
            -0.25917397441280354,
            -1.582591622499003,
            -1.582591622499003,
            -0.8607274508156215,
            -0.8607274508156215,
            -0.8607274508156215,
            -0.25917397441280354,
            0.22206880670945087,
            0.8236222831122689,
            -1.582591622499003,
            0.5830008925511416,
            -0.9810381460961851,
            -0.8607274508156215,
            0.22206880670945087,
            0.4626901972705781,
            -0.13886327913223992,
            -0.13886327913223992,
            -0.37948466969336714,
            -0.37948466969336714,
            0.22206880670945087,
            0.22206880670945087,
            0.8236222831122689,
            -0.6201060602544943,
            -0.37948466969336714,
            1.3048650642345232,
            0.7033115878317052,
            0.8236222831122689,
            0.8236222831122689,
            0.8236222831122689,
            0.8236222831122689,
            1.1845543689539597,
            1.1845543689539597,
            1.9064185406373413,
            -1.341970231937876,
            -1.341970231937876,
            -0.6201060602544943,
            -0.49979536497393073,
            -0.49979536497393073,
            -0.37948466969336714,
            0.4626901972705781,
            -2.3044557941823847,
            -2.3044557941823847,
            -0.25917397441280354,
            -0.25917397441280354,
            0.4626901972705781,
            2.1470399311984685,
            0.4626901972705781,
            0.3423795019900145,
            -0.13886327913223992,
            -0.13886327913223992,
            -0.13886327913223992,
            -0.13886327913223992,
            -0.13886327913223992,
            -0.13886327913223992,
            -0.13886327913223992,
            -0.13886327913223992,
            0.7033115878317052,
            0.7033115878317052,
            -0.13886327913223992,
            -0.13886327913223992,
            0.4626901972705781,
            0.4626901972705781,
            1.665797150076214,
            1.665797150076214,
            -0.8607274508156215,
            -0.8607274508156215,
            -0.8607274508156215,
            -1.582591622499003,
            -1.582591622499003,
            -0.13886327913223992,
            0.4626901972705781,
            0.4626901972705781,
            0.7033115878317052,
            0.10175811142888729,
            0.8236222831122689,
            0.8236222831122689,
            0.10175811142888729,
            0.8236222831122689,
            0.8236222831122689,
            1.5454864547956504,
            0.10175811142888729,
            0.10175811142888729,
            0.22206880670945087,
            -0.6201060602544943,
            -0.7404167555350579,
            -0.7404167555350579,
            -0.018552583851676317,
            -0.7404167555350579,
            -0.13886327913223992,
            -0.018552583851676317,
            -0.8607274508156215,
            -0.8607274508156215,
            -0.6201060602544943,
            -0.7404167555350579,
            1.7861078453567776,
            -0.25917397441280354,
            -0.49979536497393073,
            -0.9810381460961851,
            -0.9810381460961851,
            0.22206880670945087,
            -0.9810381460961851,
            0.22206880670945087,
            0.3423795019900145,
            0.3423795019900145,
            1.9064185406373413,
            1.9064185406373413,
            -0.49979536497393073,
            -0.49979536497393073,
            0.9439329783928325,
            3.831389665126359,
            0.3423795019900145,
            -0.13886327913223992,
            -0.13886327913223992,
            1.425175759515087,
            -0.018552583851676317,
            -0.49979536497393073,
            -0.13886327913223992,
            0.3423795019900145,
            -0.49979536497393073,
            0.3423795019900145,
            0.4626901972705781,
            0.4626901972705781,
            1.5454864547956504,
            0.22206880670945087,
            -0.7404167555350579,
            0.4626901972705781,
            -1.8232130130601303,
            -1.8232130130601303,
            -1.8232130130601303,
            -1.8232130130601303,
            -1.582591622499003,
            -1.582591622499003,
            -0.37948466969336714,
            -0.37948466969336714,
            -0.25917397441280354,
            -0.25917397441280354,
            -0.37948466969336714,
            -0.37948466969336714,
            -0.25917397441280354,
            -0.13886327913223992,
            -0.6201060602544943,
            -0.6201060602544943,
            -0.6201060602544943,
            -0.6201060602544943,
            -0.6201060602544943,
            -0.13886327913223992,
            -0.13886327913223992,
            -1.8232130130601303,
            -1.2216595366573124,
            -1.1013488413767487,
            -0.49979536497393073,
            -0.49979536497393073,
            -0.49979536497393073,
            -0.49979536497393073,
            -0.49979536497393073,
            -1.1013488413767487,
            -0.9810381460961851,
            -0.49979536497393073,
            -1.1013488413767487,
            -0.49979536497393073,
            0.22206880670945087,
            -1.2216595366573124,
            -1.2216595366573124,
            -1.2216595366573124,
            -0.7404167555350579,
            -0.7404167555350579,
            -0.25917397441280354,
            -1.2216595366573124,
            -0.25917397441280354,
            1.1845543689539597,
            0.22206880670945087,
            -0.13886327913223992,
            0.4626901972705781,
            -1.2216595366573124,
            -0.7404167555350579,
            -0.7404167555350579,
            -0.7404167555350579,
            -1.8232130130601303,
            -1.8232130130601303,
            -1.8232130130601303,
            -0.13886327913223992,
            -0.13886327913223992,
            -0.13886327913223992,
            -0.13886327913223992,
            -0.13886327913223992,
            -0.13886327913223992,
            -0.13886327913223992,
            -0.13886327913223992,
            1.3048650642345232,
            1.3048650642345232,
            -0.7404167555350579,
            -1.341970231937876,
            -0.6201060602544943,
            2.3876613217595954,
            2.3876613217595954,
            -0.7404167555350579,
            0.4626901972705781,
            -1.1013488413767487,
            -1.1013488413767487,
            -1.1013488413767487,
            -1.1013488413767487,
            -1.1013488413767487,
            -1.1013488413767487,
            -0.25917397441280354,
            -0.25917397441280354,
            -0.25917397441280354,
            1.1845543689539597,
            1.1845543689539597,
            -1.1013488413767487,
            -0.25917397441280354,
            -0.25917397441280354,
            0.5830008925511416,
            -0.8607274508156215,
            -0.13886327913223992,
            -0.13886327913223992,
            -0.13886327913223992,
            0.22206880670945087,
            0.22206880670945087,
            -0.37948466969336714,
            -0.37948466969336714,
            0.22206880670945087,
            -0.8607274508156215,
            0.10175811142888729
           ]
          }
         ],
         "hovertemplate": "%{xaxis.title.text}=%{x}<br>%{yaxis.title.text}=%{y}<extra></extra>",
         "legendgroup": "",
         "marker": {
          "color": "#636efa",
          "symbol": "circle"
         },
         "name": "",
         "showlegend": false,
         "type": "splom"
        }
       ],
       "layout": {
        "dragmode": "select",
        "legend": {
         "tracegroupgap": 0
        },
        "margin": {
         "t": 60
        },
        "template": {
         "data": {
          "bar": [
           {
            "error_x": {
             "color": "#2a3f5f"
            },
            "error_y": {
             "color": "#2a3f5f"
            },
            "marker": {
             "line": {
              "color": "#E5ECF6",
              "width": 0.5
             },
             "pattern": {
              "fillmode": "overlay",
              "size": 10,
              "solidity": 0.2
             }
            },
            "type": "bar"
           }
          ],
          "barpolar": [
           {
            "marker": {
             "line": {
              "color": "#E5ECF6",
              "width": 0.5
             },
             "pattern": {
              "fillmode": "overlay",
              "size": 10,
              "solidity": 0.2
             }
            },
            "type": "barpolar"
           }
          ],
          "carpet": [
           {
            "aaxis": {
             "endlinecolor": "#2a3f5f",
             "gridcolor": "white",
             "linecolor": "white",
             "minorgridcolor": "white",
             "startlinecolor": "#2a3f5f"
            },
            "baxis": {
             "endlinecolor": "#2a3f5f",
             "gridcolor": "white",
             "linecolor": "white",
             "minorgridcolor": "white",
             "startlinecolor": "#2a3f5f"
            },
            "type": "carpet"
           }
          ],
          "choropleth": [
           {
            "colorbar": {
             "outlinewidth": 0,
             "ticks": ""
            },
            "type": "choropleth"
           }
          ],
          "contour": [
           {
            "colorbar": {
             "outlinewidth": 0,
             "ticks": ""
            },
            "colorscale": [
             [
              0,
              "#0d0887"
             ],
             [
              0.1111111111111111,
              "#46039f"
             ],
             [
              0.2222222222222222,
              "#7201a8"
             ],
             [
              0.3333333333333333,
              "#9c179e"
             ],
             [
              0.4444444444444444,
              "#bd3786"
             ],
             [
              0.5555555555555556,
              "#d8576b"
             ],
             [
              0.6666666666666666,
              "#ed7953"
             ],
             [
              0.7777777777777778,
              "#fb9f3a"
             ],
             [
              0.8888888888888888,
              "#fdca26"
             ],
             [
              1,
              "#f0f921"
             ]
            ],
            "type": "contour"
           }
          ],
          "contourcarpet": [
           {
            "colorbar": {
             "outlinewidth": 0,
             "ticks": ""
            },
            "type": "contourcarpet"
           }
          ],
          "heatmap": [
           {
            "colorbar": {
             "outlinewidth": 0,
             "ticks": ""
            },
            "colorscale": [
             [
              0,
              "#0d0887"
             ],
             [
              0.1111111111111111,
              "#46039f"
             ],
             [
              0.2222222222222222,
              "#7201a8"
             ],
             [
              0.3333333333333333,
              "#9c179e"
             ],
             [
              0.4444444444444444,
              "#bd3786"
             ],
             [
              0.5555555555555556,
              "#d8576b"
             ],
             [
              0.6666666666666666,
              "#ed7953"
             ],
             [
              0.7777777777777778,
              "#fb9f3a"
             ],
             [
              0.8888888888888888,
              "#fdca26"
             ],
             [
              1,
              "#f0f921"
             ]
            ],
            "type": "heatmap"
           }
          ],
          "heatmapgl": [
           {
            "colorbar": {
             "outlinewidth": 0,
             "ticks": ""
            },
            "colorscale": [
             [
              0,
              "#0d0887"
             ],
             [
              0.1111111111111111,
              "#46039f"
             ],
             [
              0.2222222222222222,
              "#7201a8"
             ],
             [
              0.3333333333333333,
              "#9c179e"
             ],
             [
              0.4444444444444444,
              "#bd3786"
             ],
             [
              0.5555555555555556,
              "#d8576b"
             ],
             [
              0.6666666666666666,
              "#ed7953"
             ],
             [
              0.7777777777777778,
              "#fb9f3a"
             ],
             [
              0.8888888888888888,
              "#fdca26"
             ],
             [
              1,
              "#f0f921"
             ]
            ],
            "type": "heatmapgl"
           }
          ],
          "histogram": [
           {
            "marker": {
             "pattern": {
              "fillmode": "overlay",
              "size": 10,
              "solidity": 0.2
             }
            },
            "type": "histogram"
           }
          ],
          "histogram2d": [
           {
            "colorbar": {
             "outlinewidth": 0,
             "ticks": ""
            },
            "colorscale": [
             [
              0,
              "#0d0887"
             ],
             [
              0.1111111111111111,
              "#46039f"
             ],
             [
              0.2222222222222222,
              "#7201a8"
             ],
             [
              0.3333333333333333,
              "#9c179e"
             ],
             [
              0.4444444444444444,
              "#bd3786"
             ],
             [
              0.5555555555555556,
              "#d8576b"
             ],
             [
              0.6666666666666666,
              "#ed7953"
             ],
             [
              0.7777777777777778,
              "#fb9f3a"
             ],
             [
              0.8888888888888888,
              "#fdca26"
             ],
             [
              1,
              "#f0f921"
             ]
            ],
            "type": "histogram2d"
           }
          ],
          "histogram2dcontour": [
           {
            "colorbar": {
             "outlinewidth": 0,
             "ticks": ""
            },
            "colorscale": [
             [
              0,
              "#0d0887"
             ],
             [
              0.1111111111111111,
              "#46039f"
             ],
             [
              0.2222222222222222,
              "#7201a8"
             ],
             [
              0.3333333333333333,
              "#9c179e"
             ],
             [
              0.4444444444444444,
              "#bd3786"
             ],
             [
              0.5555555555555556,
              "#d8576b"
             ],
             [
              0.6666666666666666,
              "#ed7953"
             ],
             [
              0.7777777777777778,
              "#fb9f3a"
             ],
             [
              0.8888888888888888,
              "#fdca26"
             ],
             [
              1,
              "#f0f921"
             ]
            ],
            "type": "histogram2dcontour"
           }
          ],
          "mesh3d": [
           {
            "colorbar": {
             "outlinewidth": 0,
             "ticks": ""
            },
            "type": "mesh3d"
           }
          ],
          "parcoords": [
           {
            "line": {
             "colorbar": {
              "outlinewidth": 0,
              "ticks": ""
             }
            },
            "type": "parcoords"
           }
          ],
          "pie": [
           {
            "automargin": true,
            "type": "pie"
           }
          ],
          "scatter": [
           {
            "fillpattern": {
             "fillmode": "overlay",
             "size": 10,
             "solidity": 0.2
            },
            "type": "scatter"
           }
          ],
          "scatter3d": [
           {
            "line": {
             "colorbar": {
              "outlinewidth": 0,
              "ticks": ""
             }
            },
            "marker": {
             "colorbar": {
              "outlinewidth": 0,
              "ticks": ""
             }
            },
            "type": "scatter3d"
           }
          ],
          "scattercarpet": [
           {
            "marker": {
             "colorbar": {
              "outlinewidth": 0,
              "ticks": ""
             }
            },
            "type": "scattercarpet"
           }
          ],
          "scattergeo": [
           {
            "marker": {
             "colorbar": {
              "outlinewidth": 0,
              "ticks": ""
             }
            },
            "type": "scattergeo"
           }
          ],
          "scattergl": [
           {
            "marker": {
             "colorbar": {
              "outlinewidth": 0,
              "ticks": ""
             }
            },
            "type": "scattergl"
           }
          ],
          "scattermapbox": [
           {
            "marker": {
             "colorbar": {
              "outlinewidth": 0,
              "ticks": ""
             }
            },
            "type": "scattermapbox"
           }
          ],
          "scatterpolar": [
           {
            "marker": {
             "colorbar": {
              "outlinewidth": 0,
              "ticks": ""
             }
            },
            "type": "scatterpolar"
           }
          ],
          "scatterpolargl": [
           {
            "marker": {
             "colorbar": {
              "outlinewidth": 0,
              "ticks": ""
             }
            },
            "type": "scatterpolargl"
           }
          ],
          "scatterternary": [
           {
            "marker": {
             "colorbar": {
              "outlinewidth": 0,
              "ticks": ""
             }
            },
            "type": "scatterternary"
           }
          ],
          "surface": [
           {
            "colorbar": {
             "outlinewidth": 0,
             "ticks": ""
            },
            "colorscale": [
             [
              0,
              "#0d0887"
             ],
             [
              0.1111111111111111,
              "#46039f"
             ],
             [
              0.2222222222222222,
              "#7201a8"
             ],
             [
              0.3333333333333333,
              "#9c179e"
             ],
             [
              0.4444444444444444,
              "#bd3786"
             ],
             [
              0.5555555555555556,
              "#d8576b"
             ],
             [
              0.6666666666666666,
              "#ed7953"
             ],
             [
              0.7777777777777778,
              "#fb9f3a"
             ],
             [
              0.8888888888888888,
              "#fdca26"
             ],
             [
              1,
              "#f0f921"
             ]
            ],
            "type": "surface"
           }
          ],
          "table": [
           {
            "cells": {
             "fill": {
              "color": "#EBF0F8"
             },
             "line": {
              "color": "white"
             }
            },
            "header": {
             "fill": {
              "color": "#C8D4E3"
             },
             "line": {
              "color": "white"
             }
            },
            "type": "table"
           }
          ]
         },
         "layout": {
          "annotationdefaults": {
           "arrowcolor": "#2a3f5f",
           "arrowhead": 0,
           "arrowwidth": 1
          },
          "autotypenumbers": "strict",
          "coloraxis": {
           "colorbar": {
            "outlinewidth": 0,
            "ticks": ""
           }
          },
          "colorscale": {
           "diverging": [
            [
             0,
             "#8e0152"
            ],
            [
             0.1,
             "#c51b7d"
            ],
            [
             0.2,
             "#de77ae"
            ],
            [
             0.3,
             "#f1b6da"
            ],
            [
             0.4,
             "#fde0ef"
            ],
            [
             0.5,
             "#f7f7f7"
            ],
            [
             0.6,
             "#e6f5d0"
            ],
            [
             0.7,
             "#b8e186"
            ],
            [
             0.8,
             "#7fbc41"
            ],
            [
             0.9,
             "#4d9221"
            ],
            [
             1,
             "#276419"
            ]
           ],
           "sequential": [
            [
             0,
             "#0d0887"
            ],
            [
             0.1111111111111111,
             "#46039f"
            ],
            [
             0.2222222222222222,
             "#7201a8"
            ],
            [
             0.3333333333333333,
             "#9c179e"
            ],
            [
             0.4444444444444444,
             "#bd3786"
            ],
            [
             0.5555555555555556,
             "#d8576b"
            ],
            [
             0.6666666666666666,
             "#ed7953"
            ],
            [
             0.7777777777777778,
             "#fb9f3a"
            ],
            [
             0.8888888888888888,
             "#fdca26"
            ],
            [
             1,
             "#f0f921"
            ]
           ],
           "sequentialminus": [
            [
             0,
             "#0d0887"
            ],
            [
             0.1111111111111111,
             "#46039f"
            ],
            [
             0.2222222222222222,
             "#7201a8"
            ],
            [
             0.3333333333333333,
             "#9c179e"
            ],
            [
             0.4444444444444444,
             "#bd3786"
            ],
            [
             0.5555555555555556,
             "#d8576b"
            ],
            [
             0.6666666666666666,
             "#ed7953"
            ],
            [
             0.7777777777777778,
             "#fb9f3a"
            ],
            [
             0.8888888888888888,
             "#fdca26"
            ],
            [
             1,
             "#f0f921"
            ]
           ]
          },
          "colorway": [
           "#636efa",
           "#EF553B",
           "#00cc96",
           "#ab63fa",
           "#FFA15A",
           "#19d3f3",
           "#FF6692",
           "#B6E880",
           "#FF97FF",
           "#FECB52"
          ],
          "font": {
           "color": "#2a3f5f"
          },
          "geo": {
           "bgcolor": "white",
           "lakecolor": "white",
           "landcolor": "#E5ECF6",
           "showlakes": true,
           "showland": true,
           "subunitcolor": "white"
          },
          "hoverlabel": {
           "align": "left"
          },
          "hovermode": "closest",
          "mapbox": {
           "style": "light"
          },
          "paper_bgcolor": "white",
          "plot_bgcolor": "#E5ECF6",
          "polar": {
           "angularaxis": {
            "gridcolor": "white",
            "linecolor": "white",
            "ticks": ""
           },
           "bgcolor": "#E5ECF6",
           "radialaxis": {
            "gridcolor": "white",
            "linecolor": "white",
            "ticks": ""
           }
          },
          "scene": {
           "xaxis": {
            "backgroundcolor": "#E5ECF6",
            "gridcolor": "white",
            "gridwidth": 2,
            "linecolor": "white",
            "showbackground": true,
            "ticks": "",
            "zerolinecolor": "white"
           },
           "yaxis": {
            "backgroundcolor": "#E5ECF6",
            "gridcolor": "white",
            "gridwidth": 2,
            "linecolor": "white",
            "showbackground": true,
            "ticks": "",
            "zerolinecolor": "white"
           },
           "zaxis": {
            "backgroundcolor": "#E5ECF6",
            "gridcolor": "white",
            "gridwidth": 2,
            "linecolor": "white",
            "showbackground": true,
            "ticks": "",
            "zerolinecolor": "white"
           }
          },
          "shapedefaults": {
           "line": {
            "color": "#2a3f5f"
           }
          },
          "ternary": {
           "aaxis": {
            "gridcolor": "white",
            "linecolor": "white",
            "ticks": ""
           },
           "baxis": {
            "gridcolor": "white",
            "linecolor": "white",
            "ticks": ""
           },
           "bgcolor": "#E5ECF6",
           "caxis": {
            "gridcolor": "white",
            "linecolor": "white",
            "ticks": ""
           }
          },
          "title": {
           "x": 0.05
          },
          "xaxis": {
           "automargin": true,
           "gridcolor": "white",
           "linecolor": "white",
           "ticks": "",
           "title": {
            "standoff": 15
           },
           "zerolinecolor": "white",
           "zerolinewidth": 2
          },
          "yaxis": {
           "automargin": true,
           "gridcolor": "white",
           "linecolor": "white",
           "ticks": "",
           "title": {
            "standoff": 15
           },
           "zerolinecolor": "white",
           "zerolinewidth": 2
          }
         }
        }
       }
      }
     },
     "metadata": {},
     "output_type": "display_data"
    }
   ],
   "source": [
    "fig = px.scatter_matrix(df_Excluide[[\"MPG_City\",\"Wheelbase\"]])\n",
    "fig.show()"
   ]
  },
  {
   "attachments": {},
   "cell_type": "markdown",
   "metadata": {},
   "source": [
    "- El tipo de tracción afecta notablemente la distancia por galón."
   ]
  },
  {
   "cell_type": "code",
   "execution_count": 32,
   "metadata": {},
   "outputs": [
    {
     "data": {
      "application/vnd.plotly.v1+json": {
       "config": {
        "plotlyServerURL": "https://plot.ly"
       },
       "data": [
        {
         "dimensions": [
          {
           "axis": {
            "matches": true
           },
           "label": "MPG_City",
           "values": [
            -0.5843109001367838,
            0.7520215096416921,
            0.37021224970498473,
            -0.011597010231722688,
            -0.3934062701684301,
            -0.3934062701684301,
            -0.5843109001367838,
            0.37021224970498473,
            0.5611168796733385,
            -0.011597010231722688,
            -0.5843109001367838,
            -0.3934062701684301,
            -0.011597010231722688,
            -0.3934062701684301,
            -0.011597010231722688,
            -0.3934062701684301,
            -0.3934062701684301,
            -0.5843109001367838,
            -0.5843109001367838,
            -1.1570247900418449,
            -0.9661201600734912,
            -0.011597010231722688,
            -0.011597010231722688,
            0.179307619736631,
            -0.3934062701684301,
            -0.9661201600734912,
            -0.7752155301051374,
            -0.7752155301051374,
            -0.011597010231722688,
            -0.011597010231722688,
            -0.20250164020007638,
            -0.20250164020007638,
            -0.011597010231722688,
            -0.011597010231722688,
            -0.011597010231722688,
            -0.20250164020007638,
            -0.20250164020007638,
            -0.011597010231722688,
            -0.3934062701684301,
            -0.3934062701684301,
            -0.3934062701684301,
            -0.7752155301051374,
            -0.7752155301051374,
            -0.011597010231722688,
            0.179307619736631,
            -0.20250164020007638,
            -0.9661201600734912,
            -0.20250164020007638,
            -0.011597010231722688,
            -0.011597010231722688,
            -0.011597010231722688,
            -0.3934062701684301,
            -0.011597010231722688,
            -0.011597010231722688,
            -0.3934062701684301,
            -1.1570247900418449,
            -0.7752155301051374,
            -0.3934062701684301,
            -0.3934062701684301,
            -0.3934062701684301,
            -0.3934062701684301,
            -0.5843109001367838,
            -1.3479294200101986,
            -1.1570247900418449,
            -1.1570247900418449,
            -0.7752155301051374,
            -0.20250164020007638,
            1.515640029515107,
            1.515640029515107,
            1.1338307695783996,
            1.1338307695783996,
            1.1338307695783996,
            0.179307619736631,
            0.7520215096416921,
            0.37021224970498473,
            0.179307619736631,
            -0.011597010231722688,
            -0.3934062701684301,
            0.5611168796733385,
            -0.3934062701684301,
            -1.1570247900418449,
            -0.20250164020007638,
            -0.3934062701684301,
            -0.3934062701684301,
            -1.1570247900418449,
            -0.3934062701684301,
            -0.9661201600734912,
            -1.3479294200101986,
            -0.7752155301051374,
            0.37021224970498473,
            0.37021224970498473,
            0.37021224970498473,
            0.37021224970498473,
            0.179307619736631,
            -0.3934062701684301,
            0.179307619736631,
            -0.20250164020007638,
            0.179307619736631,
            0.37021224970498473,
            -0.3934062701684301,
            0.179307619736631,
            -0.20250164020007638,
            -0.3934062701684301,
            -0.5843109001367838,
            -0.5843109001367838,
            -0.9661201600734912,
            1.7065446594834606,
            1.7065446594834606,
            0.179307619736631,
            0.179307619736631,
            0.179307619736631,
            -0.3934062701684301,
            -0.011597010231722688,
            -0.3934062701684301,
            -1.5388340499785522,
            -0.7752155301051374,
            -0.7752155301051374,
            -0.7752155301051374,
            -1.9206433099152598,
            -0.9661201600734912,
            -0.9661201600734912,
            -0.3934062701684301,
            1.1338307695783996,
            1.3247353995467532,
            1.1338307695783996,
            1.1338307695783996,
            0.179307619736631,
            -0.011597010231722688,
            -0.20250164020007638,
            -0.5843109001367838,
            -0.5843109001367838,
            -0.5843109001367838,
            -0.5843109001367838,
            -0.011597010231722688,
            -0.5843109001367838,
            -0.5843109001367838,
            -0.9661201600734912,
            -1.1570247900418449,
            0.7520215096416921,
            1.1338307695783996,
            -0.20250164020007638,
            -0.9661201600734912,
            -0.7752155301051374,
            -1.3479294200101986,
            -0.7752155301051374,
            -0.3934062701684301,
            -0.5843109001367838,
            -1.3479294200101986,
            -0.9661201600734912,
            4.951923368945473,
            7.624588188502425,
            -0.5843109001367838,
            0.179307619736631,
            0.179307619736631,
            2.279258549388522,
            3.0428770692619365,
            2.279258549388522,
            1.1338307695783996,
            1.1338307695783996,
            2.279258549388522,
            1.1338307695783996,
            0.179307619736631,
            0.179307619736631,
            -0.3934062701684301,
            -0.3934062701684301,
            -0.011597010231722688,
            -1.9206433099152598,
            -0.011597010231722688,
            1.7065446594834606,
            1.7065446594834606,
            1.7065446594834606,
            1.1338307695783996,
            1.1338307695783996,
            1.1338307695783996,
            -0.20250164020007638,
            -0.20250164020007638,
            -0.5843109001367838,
            -0.5843109001367838,
            -0.20250164020007638,
            -0.3934062701684301,
            -0.3934062701684301,
            -0.3934062701684301,
            -0.20250164020007638,
            -0.5843109001367838,
            -0.5843109001367838,
            -0.7752155301051374,
            -0.9661201600734912,
            -0.9661201600734912,
            -0.5843109001367838,
            -0.3934062701684301,
            -0.3934062701684301,
            -0.3934062701684301,
            -0.3934062701684301,
            -0.5843109001367838,
            -0.3934062701684301,
            -0.3934062701684301,
            -0.5843109001367838,
            -0.3934062701684301,
            -0.3934062701684301,
            -0.7752155301051374,
            -0.7752155301051374,
            -0.7752155301051374,
            -0.011597010231722688,
            -0.7752155301051374,
            -0.7752155301051374,
            0.5611168796733385,
            1.1338307695783996,
            0.9429261396100458,
            0.7520215096416921,
            0.7520215096416921,
            0.7520215096416921,
            -0.011597010231722688,
            -0.5843109001367838,
            -0.7752155301051374,
            1.1338307695783996,
            -1.5388340499785522,
            -1.5388340499785522,
            -0.3934062701684301,
            -0.9661201600734912,
            -1.3479294200101986,
            -0.3934062701684301,
            -0.011597010231722688,
            -0.3934062701684301,
            -0.3934062701684301,
            -0.3934062701684301,
            -0.3934062701684301,
            -0.3934062701684301,
            -0.3934062701684301,
            -0.3934062701684301,
            -1.3479294200101986,
            -1.3479294200101986,
            -0.011597010231722688,
            -0.011597010231722688,
            -0.5843109001367838,
            -0.5843109001367838,
            -0.5843109001367838,
            -0.5843109001367838,
            -0.5843109001367838,
            1.515640029515107,
            0.9429261396100458,
            0.37021224970498473,
            1.1338307695783996,
            0.9429261396100458,
            0.7520215096416921,
            -0.3934062701684301,
            0.5611168796733385,
            0.5611168796733385,
            -0.3934062701684301,
            -0.3934062701684301,
            0.7520215096416921,
            -0.9661201600734912,
            -1.3479294200101986,
            -1.1570247900418449,
            0.37021224970498473,
            -0.20250164020007638,
            -0.011597010231722688,
            -0.20250164020007638,
            -0.20250164020007638,
            -0.011597010231722688,
            -0.20250164020007638,
            -0.7752155301051374,
            -0.7752155301051374,
            -1.3479294200101986,
            -0.011597010231722688,
            -0.5843109001367838,
            -0.20250164020007638,
            -0.7752155301051374,
            -0.3934062701684301,
            -0.7752155301051374,
            -0.7752155301051374,
            -1.1570247900418449,
            -1.3479294200101986,
            0.179307619736631,
            -0.5843109001367838,
            -0.20250164020007638,
            -0.20250164020007638,
            -0.7752155301051374,
            -0.7752155301051374,
            -0.011597010231722688,
            -0.5843109001367838,
            -0.5843109001367838,
            -0.20250164020007638,
            -0.5843109001367838,
            -0.5843109001367838,
            -0.7752155301051374,
            -0.20250164020007638,
            -0.5843109001367838,
            -0.9661201600734912,
            0.179307619736631,
            0.9429261396100458,
            0.9429261396100458,
            0.5611168796733385,
            0.9429261396100458,
            -0.3934062701684301,
            -0.3934062701684301,
            0.179307619736631,
            0.179307619736631,
            -0.3934062701684301,
            0.9429261396100458,
            -1.3479294200101986,
            -0.7752155301051374,
            -0.5843109001367838,
            1.515640029515107,
            1.515640029515107,
            0.179307619736631,
            0.5611168796733385,
            0.179307619736631,
            -0.011597010231722688,
            -0.011597010231722688,
            -0.20250164020007638,
            -0.3934062701684301,
            -0.011597010231722688,
            -0.011597010231722688,
            -0.5843109001367838,
            -1.1570247900418449,
            -0.011597010231722688,
            0.7520215096416921,
            -0.011597010231722688,
            -0.20250164020007638,
            -0.20250164020007638,
            0.7520215096416921,
            -0.011597010231722688,
            -0.011597010231722688,
            0.7520215096416921,
            -0.011597010231722688,
            -0.5843109001367838,
            -0.20250164020007638,
            -0.3934062701684301,
            -0.7752155301051374,
            1.7065446594834606,
            -1.1570247900418449,
            -0.3934062701684301,
            -0.5843109001367838,
            -0.3934062701684301,
            -0.5843109001367838,
            -0.011597010231722688,
            -0.3934062701684301,
            -0.011597010231722688,
            -0.011597010231722688,
            0.179307619736631,
            0.179307619736631,
            0.179307619736631,
            0.179307619736631,
            -0.20250164020007638,
            0.179307619736631,
            1.1338307695783996,
            1.1338307695783996,
            1.1338307695783996,
            1.1338307695783996,
            1.1338307695783996,
            -0.011597010231722688,
            0.7520215096416921,
            2.279258549388522,
            2.088353919420168,
            0.37021224970498473,
            0.179307619736631,
            0.179307619736631,
            -0.011597010231722688,
            -0.20250164020007638,
            -0.20250164020007638,
            -0.011597010231722688,
            -0.3934062701684301,
            0.179307619736631,
            0.179307619736631,
            0.179307619736631,
            -0.3934062701684301,
            -0.20250164020007638,
            0.9429261396100458,
            0.9429261396100458,
            0.7520215096416921,
            0.37021224970498473,
            -0.011597010231722688,
            0.7520215096416921,
            7.433683558534072,
            -1.1570247900418449,
            -0.3934062701684301,
            -0.3934062701684301,
            -1.3479294200101986,
            0.37021224970498473,
            2.279258549388522,
            2.279258549388522,
            2.279258549388522,
            2.851972439293583,
            2.4701631793568755,
            2.851972439293583,
            0.7520215096416921,
            0.179307619736631,
            0.7520215096416921,
            -0.011597010231722688,
            0.179307619736631,
            0.179307619736631,
            -0.011597010231722688,
            0.179307619736631,
            -0.20250164020007638,
            -0.20250164020007638,
            0.7520215096416921,
            1.1338307695783996,
            0.37021224970498473,
            -0.7752155301051374,
            -1.1570247900418449,
            1.7065446594834606,
            -0.9661201600734912,
            0.7520215096416921,
            0.7520215096416921,
            3.424686329198644,
            0.7520215096416921,
            0.179307619736631,
            0.7520215096416921,
            0.37021224970498473,
            -0.20250164020007638,
            -0.3934062701684301,
            -0.7752155301051374,
            -1.5388340499785522,
            0.7520215096416921,
            0.37021224970498473,
            -0.3934062701684301,
            -0.9661201600734912,
            0.37021224970498473,
            -0.011597010231722688,
            -0.011597010231722688,
            -0.3934062701684301,
            -0.011597010231722688,
            -0.011597010231722688,
            0.179307619736631,
            -0.011597010231722688,
            -0.20250164020007638,
            0.37021224970498473,
            -0.011597010231722688
           ]
          },
          {
           "axis": {
            "matches": true
           },
           "label": "Length",
           "values": [
            0.18372002183960517,
            -1.0002896140372461,
            -0.23416573199928353,
            -0.02522285507983919,
            0.7409010269581234,
            0.7409010269581234,
            -0.8609943627576166,
            -0.5127562345585427,
            -0.4431086089187279,
            -0.5127562345585427,
            -0.5127562345585427,
            -0.5127562345585427,
            0.39266289875904953,
            0.39266289875904953,
            -0.4431086089187279,
            -0.4431086089187279,
            0.39266289875904953,
            0.46231052439886433,
            1.2284344064368269,
            -0.5127562345585427,
            0.3230152731192347,
            -1.9057087473548384,
            -1.9057087473548384,
            -1.9057087473548384,
            0.39266289875904953,
            -0.5127562345585427,
            -0.4431086089187279,
            -0.16451810635946876,
            -0.721699111477987,
            -0.6520514858381723,
            -0.6520514858381723,
            -0.721699111477987,
            -0.721699111477987,
            -0.721699111477987,
            -0.721699111477987,
            0.3230152731192347,
            -0.6520514858381723,
            0.3230152731192347,
            0.3230152731192347,
            0.8105486525979383,
            1.2284344064368269,
            -0.6520514858381723,
            -0.6520514858381723,
            -1.766413496075209,
            -1.766413496075209,
            -0.721699111477987,
            0.46231052439886433,
            0.044424770559975596,
            0.6016057756784938,
            0.9498439038775678,
            0.6712534013183087,
            0.6712534013183087,
            0.9498439038775678,
            1.4373772833562712,
            1.4373772833562712,
            0.880196278237753,
            0.6016057756784938,
            0.25336764747942,
            1.4373772833562712,
            1.4373772833562712,
            1.0194915295173825,
            -0.5824038601983574,
            2.412444042313678,
            2.273148791034049,
            0.7409010269581234,
            0.39266289875904953,
            -1.6271182447955792,
            -1.3485277422363202,
            -2.323594501193727,
            -0.23416573199928353,
            -0.23416573199928353,
            -0.23416573199928353,
            0.9498439038775678,
            0.11407239619979039,
            0.11407239619979039,
            0.8105486525979383,
            0.9498439038775678,
            0.9498439038775678,
            0.11407239619979039,
            0.8105486525979383,
            0.25336764747942,
            0.044424770559975596,
            -0.4431086089187279,
            -0.4431086089187279,
            2.482091667953493,
            0.39266289875904953,
            1.3677296577164566,
            3.59645367819053,
            0.3230152731192347,
            0.11407239619979039,
            -1.2092324909566905,
            -1.2092324909566905,
            0.3230152731192347,
            0.3230152731192347,
            0.8105486525979383,
            1.507024908996086,
            1.507024908996086,
            -1.2092324909566905,
            0.5319581500386791,
            0.8105486525979383,
            0.5319581500386791,
            1.0194915295173825,
            1.0194915295173825,
            -1.8360611217150236,
            0.880196278237753,
            1.0194915295173825,
            -0.8609943627576166,
            -0.8609943627576166,
            1.2284344064368269,
            0.3230152731192347,
            0.3230152731192347,
            1.2284344064368269,
            0.18372002183960517,
            1.0194915295173825,
            -0.721699111477987,
            0.46231052439886433,
            2.273148791034049,
            1.507024908996086,
            2.830329796152567,
            1.3677296577164566,
            0.25336764747942,
            -0.9306419883974314,
            -1.2788801165965054,
            -1.2788801165965054,
            -1.2788801165965054,
            -1.2788801165965054,
            -1.2788801165965054,
            0.8105486525979383,
            0.8105486525979383,
            1.7856154115553453,
            1.7856154115553453,
            1.7856154115553453,
            1.0194915295173825,
            -0.23416573199928353,
            -0.23416573199928353,
            -0.02522285507983919,
            1.7159677859155305,
            2.203501165394234,
            0.11407239619979039,
            -0.5824038601983574,
            0.8105486525979383,
            1.507024908996086,
            0.880196278237753,
            2.273148791034049,
            0.25336764747942,
            0.39266289875904953,
            3.0392726730720114,
            2.482091667953493,
            1.507024908996086,
            -0.7913467371178018,
            -2.1842992499140976,
            0.11407239619979039,
            -0.5127562345585427,
            -1.3485277422363202,
            -0.7913467371178018,
            -0.7913467371178018,
            -0.7913467371178018,
            0.11407239619979039,
            0.11407239619979039,
            -0.7913467371178018,
            -1.4181753678761349,
            0.25336764747942,
            0.11407239619979039,
            1.0194915295173825,
            1.0194915295173825,
            -1.696765870435394,
            0.25336764747942,
            -0.6520514858381723,
            -1.3485277422363202,
            -1.3485277422363202,
            -1.3485277422363202,
            -0.5824038601983574,
            -0.5824038601983574,
            -0.5824038601983574,
            0.044424770559975596,
            0.044424770559975596,
            0.39266289875904953,
            0.39266289875904953,
            -0.9306419883974314,
            0.044424770559975596,
            -0.30381335763909834,
            0.044424770559975596,
            0.5319581500386791,
            0.7409010269581234,
            0.9498439038775678,
            0.18372002183960517,
            0.18372002183960517,
            1.507024908996086,
            -0.5824038601983574,
            -0.16451810635946876,
            -0.16451810635946876,
            0.39266289875904953,
            0.39266289875904953,
            0.39266289875904953,
            0.9498439038775678,
            0.9498439038775678,
            0.9498439038775678,
            0.044424770559975596,
            0.044424770559975596,
            0.044424770559975596,
            0.044424770559975596,
            -0.37346098327891314,
            -0.8609943627576166,
            -2.5325373781131715,
            -0.4431086089187279,
            -0.02522285507983919,
            -1.3485277422363202,
            -1.3485277422363202,
            -0.5824038601983574,
            -0.5824038601983574,
            -0.5824038601983574,
            -0.02522285507983919,
            0.6712534013183087,
            0.5319581500386791,
            -1.3485277422363202,
            0.6016057756784938,
            -0.09487048071965397,
            -0.7913467371178018,
            0.11407239619979039,
            0.46231052439886433,
            -0.02522285507983919,
            0.3230152731192347,
            -0.6520514858381723,
            -0.6520514858381723,
            0.18372002183960517,
            0.18372002183960517,
            0.7409010269581234,
            -0.5824038601983574,
            -0.6520514858381723,
            1.3677296577164566,
            0.46231052439886433,
            0.5319581500386791,
            0.5319581500386791,
            0.5319581500386791,
            0.5319581500386791,
            1.9945582884747897,
            1.9945582884747897,
            2.412444042313678,
            -3.020070757591875,
            -2.95042313195206,
            -0.9306419883974314,
            -0.5824038601983574,
            -0.5127562345585427,
            0.044424770559975596,
            0.11407239619979039,
            -2.1146516242742828,
            -2.1146516242742828,
            -0.8609943627576166,
            -0.8609943627576166,
            0.11407239619979039,
            1.1587867807970123,
            -0.02522285507983919,
            -0.23416573199928353,
            -0.5824038601983574,
            -0.5824038601983574,
            -0.5824038601983574,
            -0.5824038601983574,
            -0.5824038601983574,
            -0.5824038601983574,
            -0.5824038601983574,
            -0.5824038601983574,
            0.6712534013183087,
            0.6712534013183087,
            -0.23416573199928353,
            -0.23416573199928353,
            0.25336764747942,
            0.25336764747942,
            1.1587867807970123,
            1.1587867807970123,
            -0.5127562345585427,
            -0.5127562345585427,
            -0.5127562345585427,
            -1.9753563729946533,
            -1.9753563729946533,
            -0.5127562345585427,
            0.25336764747942,
            0.25336764747942,
            0.25336764747942,
            0.9498439038775678,
            1.7856154115553453,
            1.7856154115553453,
            0.9498439038775678,
            1.7856154115553453,
            1.7856154115553453,
            1.0891391551571974,
            0.8105486525979383,
            0.25336764747942,
            0.25336764747942,
            -0.5127562345585427,
            -0.37346098327891314,
            -0.37346098327891314,
            0.3230152731192347,
            -0.37346098327891314,
            0.5319581500386791,
            0.3230152731192347,
            -0.6520514858381723,
            -0.6520514858381723,
            -0.5127562345585427,
            -0.37346098327891314,
            1.4373772833562712,
            -0.23416573199928353,
            -0.5824038601983574,
            -0.5824038601983574,
            -0.5824038601983574,
            0.39266289875904953,
            -0.5824038601983574,
            0.39266289875904953,
            0.5319581500386791,
            0.5319581500386791,
            1.2284344064368269,
            1.2284344064368269,
            -1.2092324909566905,
            -1.2092324909566905,
            0.3230152731192347,
            2.6213869192331227,
            0.11407239619979039,
            0.044424770559975596,
            0.044424770559975596,
            1.0194915295173825,
            -0.30381335763909834,
            -0.30381335763909834,
            -0.02522285507983919,
            0.8105486525979383,
            -0.30381335763909834,
            0.8105486525979383,
            1.1587867807970123,
            0.044424770559975596,
            1.0194915295173825,
            0.25336764747942,
            -1.0002896140372461,
            0.11407239619979039,
            -0.7913467371178018,
            -0.7913467371178018,
            -0.7913467371178018,
            -0.7913467371178018,
            -1.1395848653168759,
            -1.1395848653168759,
            -0.23416573199928353,
            -0.23416573199928353,
            0.25336764747942,
            0.25336764747942,
            -0.30381335763909834,
            -0.30381335763909834,
            0.25336764747942,
            -0.37346098327891314,
            -0.09487048071965397,
            -0.09487048071965397,
            -0.09487048071965397,
            -0.09487048071965397,
            -0.09487048071965397,
            0.25336764747942,
            0.25336764747942,
            -2.2539468755539125,
            -2.1842992499140976,
            -0.8609943627576166,
            -0.16451810635946876,
            -0.16451810635946876,
            -0.16451810635946876,
            -0.16451810635946876,
            -0.16451810635946876,
            -0.8609943627576166,
            -0.8609943627576166,
            0.46231052439886433,
            -0.7913467371178018,
            0.044424770559975596,
            0.044424770559975596,
            -1.6271182447955792,
            -1.069937239677061,
            -1.069937239677061,
            -0.6520514858381723,
            -0.6520514858381723,
            0.11407239619979039,
            -1.3485277422363202,
            -0.7913467371178018,
            1.2284344064368269,
            0.18372002183960517,
            -0.09487048071965397,
            0.46231052439886433,
            -1.3485277422363202,
            -0.5824038601983574,
            -0.5824038601983574,
            -0.5824038601983574,
            -1.6271182447955792,
            -1.6271182447955792,
            -1.6271182447955792,
            0.18372002183960517,
            0.18372002183960517,
            0.46231052439886433,
            0.46231052439886433,
            0.39266289875904953,
            0.18372002183960517,
            0.46231052439886433,
            0.39266289875904953,
            0.9498439038775678,
            0.9498439038775678,
            -1.069937239677061,
            -2.323594501193727,
            0.3230152731192347,
            2.203501165394234,
            2.203501165394234,
            -1.069937239677061,
            0.044424770559975596,
            -1.4878229935159497,
            -1.2788801165965054,
            -1.0002896140372461,
            -1.766413496075209,
            -1.0002896140372461,
            -1.766413496075209,
            -0.09487048071965397,
            -0.09487048071965397,
            -0.09487048071965397,
            1.2284344064368269,
            1.2284344064368269,
            -0.8609943627576166,
            -0.16451810635946876,
            -0.16451810635946876,
            0.18372002183960517,
            -0.5824038601983574,
            -0.4431086089187279,
            -0.4431086089187279,
            -0.37346098327891314,
            0.25336764747942,
            0.25336764747942,
            -0.02522285507983919,
            -0.02522285507983919,
            0.25336764747942,
            -0.4431086089187279,
            -0.02522285507983919
           ]
          }
         ],
         "hovertemplate": "%{xaxis.title.text}=%{x}<br>%{yaxis.title.text}=%{y}<extra></extra>",
         "legendgroup": "",
         "marker": {
          "color": "#636efa",
          "symbol": "circle"
         },
         "name": "",
         "showlegend": false,
         "type": "splom"
        }
       ],
       "layout": {
        "dragmode": "select",
        "legend": {
         "tracegroupgap": 0
        },
        "margin": {
         "t": 60
        },
        "template": {
         "data": {
          "bar": [
           {
            "error_x": {
             "color": "#2a3f5f"
            },
            "error_y": {
             "color": "#2a3f5f"
            },
            "marker": {
             "line": {
              "color": "#E5ECF6",
              "width": 0.5
             },
             "pattern": {
              "fillmode": "overlay",
              "size": 10,
              "solidity": 0.2
             }
            },
            "type": "bar"
           }
          ],
          "barpolar": [
           {
            "marker": {
             "line": {
              "color": "#E5ECF6",
              "width": 0.5
             },
             "pattern": {
              "fillmode": "overlay",
              "size": 10,
              "solidity": 0.2
             }
            },
            "type": "barpolar"
           }
          ],
          "carpet": [
           {
            "aaxis": {
             "endlinecolor": "#2a3f5f",
             "gridcolor": "white",
             "linecolor": "white",
             "minorgridcolor": "white",
             "startlinecolor": "#2a3f5f"
            },
            "baxis": {
             "endlinecolor": "#2a3f5f",
             "gridcolor": "white",
             "linecolor": "white",
             "minorgridcolor": "white",
             "startlinecolor": "#2a3f5f"
            },
            "type": "carpet"
           }
          ],
          "choropleth": [
           {
            "colorbar": {
             "outlinewidth": 0,
             "ticks": ""
            },
            "type": "choropleth"
           }
          ],
          "contour": [
           {
            "colorbar": {
             "outlinewidth": 0,
             "ticks": ""
            },
            "colorscale": [
             [
              0,
              "#0d0887"
             ],
             [
              0.1111111111111111,
              "#46039f"
             ],
             [
              0.2222222222222222,
              "#7201a8"
             ],
             [
              0.3333333333333333,
              "#9c179e"
             ],
             [
              0.4444444444444444,
              "#bd3786"
             ],
             [
              0.5555555555555556,
              "#d8576b"
             ],
             [
              0.6666666666666666,
              "#ed7953"
             ],
             [
              0.7777777777777778,
              "#fb9f3a"
             ],
             [
              0.8888888888888888,
              "#fdca26"
             ],
             [
              1,
              "#f0f921"
             ]
            ],
            "type": "contour"
           }
          ],
          "contourcarpet": [
           {
            "colorbar": {
             "outlinewidth": 0,
             "ticks": ""
            },
            "type": "contourcarpet"
           }
          ],
          "heatmap": [
           {
            "colorbar": {
             "outlinewidth": 0,
             "ticks": ""
            },
            "colorscale": [
             [
              0,
              "#0d0887"
             ],
             [
              0.1111111111111111,
              "#46039f"
             ],
             [
              0.2222222222222222,
              "#7201a8"
             ],
             [
              0.3333333333333333,
              "#9c179e"
             ],
             [
              0.4444444444444444,
              "#bd3786"
             ],
             [
              0.5555555555555556,
              "#d8576b"
             ],
             [
              0.6666666666666666,
              "#ed7953"
             ],
             [
              0.7777777777777778,
              "#fb9f3a"
             ],
             [
              0.8888888888888888,
              "#fdca26"
             ],
             [
              1,
              "#f0f921"
             ]
            ],
            "type": "heatmap"
           }
          ],
          "heatmapgl": [
           {
            "colorbar": {
             "outlinewidth": 0,
             "ticks": ""
            },
            "colorscale": [
             [
              0,
              "#0d0887"
             ],
             [
              0.1111111111111111,
              "#46039f"
             ],
             [
              0.2222222222222222,
              "#7201a8"
             ],
             [
              0.3333333333333333,
              "#9c179e"
             ],
             [
              0.4444444444444444,
              "#bd3786"
             ],
             [
              0.5555555555555556,
              "#d8576b"
             ],
             [
              0.6666666666666666,
              "#ed7953"
             ],
             [
              0.7777777777777778,
              "#fb9f3a"
             ],
             [
              0.8888888888888888,
              "#fdca26"
             ],
             [
              1,
              "#f0f921"
             ]
            ],
            "type": "heatmapgl"
           }
          ],
          "histogram": [
           {
            "marker": {
             "pattern": {
              "fillmode": "overlay",
              "size": 10,
              "solidity": 0.2
             }
            },
            "type": "histogram"
           }
          ],
          "histogram2d": [
           {
            "colorbar": {
             "outlinewidth": 0,
             "ticks": ""
            },
            "colorscale": [
             [
              0,
              "#0d0887"
             ],
             [
              0.1111111111111111,
              "#46039f"
             ],
             [
              0.2222222222222222,
              "#7201a8"
             ],
             [
              0.3333333333333333,
              "#9c179e"
             ],
             [
              0.4444444444444444,
              "#bd3786"
             ],
             [
              0.5555555555555556,
              "#d8576b"
             ],
             [
              0.6666666666666666,
              "#ed7953"
             ],
             [
              0.7777777777777778,
              "#fb9f3a"
             ],
             [
              0.8888888888888888,
              "#fdca26"
             ],
             [
              1,
              "#f0f921"
             ]
            ],
            "type": "histogram2d"
           }
          ],
          "histogram2dcontour": [
           {
            "colorbar": {
             "outlinewidth": 0,
             "ticks": ""
            },
            "colorscale": [
             [
              0,
              "#0d0887"
             ],
             [
              0.1111111111111111,
              "#46039f"
             ],
             [
              0.2222222222222222,
              "#7201a8"
             ],
             [
              0.3333333333333333,
              "#9c179e"
             ],
             [
              0.4444444444444444,
              "#bd3786"
             ],
             [
              0.5555555555555556,
              "#d8576b"
             ],
             [
              0.6666666666666666,
              "#ed7953"
             ],
             [
              0.7777777777777778,
              "#fb9f3a"
             ],
             [
              0.8888888888888888,
              "#fdca26"
             ],
             [
              1,
              "#f0f921"
             ]
            ],
            "type": "histogram2dcontour"
           }
          ],
          "mesh3d": [
           {
            "colorbar": {
             "outlinewidth": 0,
             "ticks": ""
            },
            "type": "mesh3d"
           }
          ],
          "parcoords": [
           {
            "line": {
             "colorbar": {
              "outlinewidth": 0,
              "ticks": ""
             }
            },
            "type": "parcoords"
           }
          ],
          "pie": [
           {
            "automargin": true,
            "type": "pie"
           }
          ],
          "scatter": [
           {
            "fillpattern": {
             "fillmode": "overlay",
             "size": 10,
             "solidity": 0.2
            },
            "type": "scatter"
           }
          ],
          "scatter3d": [
           {
            "line": {
             "colorbar": {
              "outlinewidth": 0,
              "ticks": ""
             }
            },
            "marker": {
             "colorbar": {
              "outlinewidth": 0,
              "ticks": ""
             }
            },
            "type": "scatter3d"
           }
          ],
          "scattercarpet": [
           {
            "marker": {
             "colorbar": {
              "outlinewidth": 0,
              "ticks": ""
             }
            },
            "type": "scattercarpet"
           }
          ],
          "scattergeo": [
           {
            "marker": {
             "colorbar": {
              "outlinewidth": 0,
              "ticks": ""
             }
            },
            "type": "scattergeo"
           }
          ],
          "scattergl": [
           {
            "marker": {
             "colorbar": {
              "outlinewidth": 0,
              "ticks": ""
             }
            },
            "type": "scattergl"
           }
          ],
          "scattermapbox": [
           {
            "marker": {
             "colorbar": {
              "outlinewidth": 0,
              "ticks": ""
             }
            },
            "type": "scattermapbox"
           }
          ],
          "scatterpolar": [
           {
            "marker": {
             "colorbar": {
              "outlinewidth": 0,
              "ticks": ""
             }
            },
            "type": "scatterpolar"
           }
          ],
          "scatterpolargl": [
           {
            "marker": {
             "colorbar": {
              "outlinewidth": 0,
              "ticks": ""
             }
            },
            "type": "scatterpolargl"
           }
          ],
          "scatterternary": [
           {
            "marker": {
             "colorbar": {
              "outlinewidth": 0,
              "ticks": ""
             }
            },
            "type": "scatterternary"
           }
          ],
          "surface": [
           {
            "colorbar": {
             "outlinewidth": 0,
             "ticks": ""
            },
            "colorscale": [
             [
              0,
              "#0d0887"
             ],
             [
              0.1111111111111111,
              "#46039f"
             ],
             [
              0.2222222222222222,
              "#7201a8"
             ],
             [
              0.3333333333333333,
              "#9c179e"
             ],
             [
              0.4444444444444444,
              "#bd3786"
             ],
             [
              0.5555555555555556,
              "#d8576b"
             ],
             [
              0.6666666666666666,
              "#ed7953"
             ],
             [
              0.7777777777777778,
              "#fb9f3a"
             ],
             [
              0.8888888888888888,
              "#fdca26"
             ],
             [
              1,
              "#f0f921"
             ]
            ],
            "type": "surface"
           }
          ],
          "table": [
           {
            "cells": {
             "fill": {
              "color": "#EBF0F8"
             },
             "line": {
              "color": "white"
             }
            },
            "header": {
             "fill": {
              "color": "#C8D4E3"
             },
             "line": {
              "color": "white"
             }
            },
            "type": "table"
           }
          ]
         },
         "layout": {
          "annotationdefaults": {
           "arrowcolor": "#2a3f5f",
           "arrowhead": 0,
           "arrowwidth": 1
          },
          "autotypenumbers": "strict",
          "coloraxis": {
           "colorbar": {
            "outlinewidth": 0,
            "ticks": ""
           }
          },
          "colorscale": {
           "diverging": [
            [
             0,
             "#8e0152"
            ],
            [
             0.1,
             "#c51b7d"
            ],
            [
             0.2,
             "#de77ae"
            ],
            [
             0.3,
             "#f1b6da"
            ],
            [
             0.4,
             "#fde0ef"
            ],
            [
             0.5,
             "#f7f7f7"
            ],
            [
             0.6,
             "#e6f5d0"
            ],
            [
             0.7,
             "#b8e186"
            ],
            [
             0.8,
             "#7fbc41"
            ],
            [
             0.9,
             "#4d9221"
            ],
            [
             1,
             "#276419"
            ]
           ],
           "sequential": [
            [
             0,
             "#0d0887"
            ],
            [
             0.1111111111111111,
             "#46039f"
            ],
            [
             0.2222222222222222,
             "#7201a8"
            ],
            [
             0.3333333333333333,
             "#9c179e"
            ],
            [
             0.4444444444444444,
             "#bd3786"
            ],
            [
             0.5555555555555556,
             "#d8576b"
            ],
            [
             0.6666666666666666,
             "#ed7953"
            ],
            [
             0.7777777777777778,
             "#fb9f3a"
            ],
            [
             0.8888888888888888,
             "#fdca26"
            ],
            [
             1,
             "#f0f921"
            ]
           ],
           "sequentialminus": [
            [
             0,
             "#0d0887"
            ],
            [
             0.1111111111111111,
             "#46039f"
            ],
            [
             0.2222222222222222,
             "#7201a8"
            ],
            [
             0.3333333333333333,
             "#9c179e"
            ],
            [
             0.4444444444444444,
             "#bd3786"
            ],
            [
             0.5555555555555556,
             "#d8576b"
            ],
            [
             0.6666666666666666,
             "#ed7953"
            ],
            [
             0.7777777777777778,
             "#fb9f3a"
            ],
            [
             0.8888888888888888,
             "#fdca26"
            ],
            [
             1,
             "#f0f921"
            ]
           ]
          },
          "colorway": [
           "#636efa",
           "#EF553B",
           "#00cc96",
           "#ab63fa",
           "#FFA15A",
           "#19d3f3",
           "#FF6692",
           "#B6E880",
           "#FF97FF",
           "#FECB52"
          ],
          "font": {
           "color": "#2a3f5f"
          },
          "geo": {
           "bgcolor": "white",
           "lakecolor": "white",
           "landcolor": "#E5ECF6",
           "showlakes": true,
           "showland": true,
           "subunitcolor": "white"
          },
          "hoverlabel": {
           "align": "left"
          },
          "hovermode": "closest",
          "mapbox": {
           "style": "light"
          },
          "paper_bgcolor": "white",
          "plot_bgcolor": "#E5ECF6",
          "polar": {
           "angularaxis": {
            "gridcolor": "white",
            "linecolor": "white",
            "ticks": ""
           },
           "bgcolor": "#E5ECF6",
           "radialaxis": {
            "gridcolor": "white",
            "linecolor": "white",
            "ticks": ""
           }
          },
          "scene": {
           "xaxis": {
            "backgroundcolor": "#E5ECF6",
            "gridcolor": "white",
            "gridwidth": 2,
            "linecolor": "white",
            "showbackground": true,
            "ticks": "",
            "zerolinecolor": "white"
           },
           "yaxis": {
            "backgroundcolor": "#E5ECF6",
            "gridcolor": "white",
            "gridwidth": 2,
            "linecolor": "white",
            "showbackground": true,
            "ticks": "",
            "zerolinecolor": "white"
           },
           "zaxis": {
            "backgroundcolor": "#E5ECF6",
            "gridcolor": "white",
            "gridwidth": 2,
            "linecolor": "white",
            "showbackground": true,
            "ticks": "",
            "zerolinecolor": "white"
           }
          },
          "shapedefaults": {
           "line": {
            "color": "#2a3f5f"
           }
          },
          "ternary": {
           "aaxis": {
            "gridcolor": "white",
            "linecolor": "white",
            "ticks": ""
           },
           "baxis": {
            "gridcolor": "white",
            "linecolor": "white",
            "ticks": ""
           },
           "bgcolor": "#E5ECF6",
           "caxis": {
            "gridcolor": "white",
            "linecolor": "white",
            "ticks": ""
           }
          },
          "title": {
           "x": 0.05
          },
          "xaxis": {
           "automargin": true,
           "gridcolor": "white",
           "linecolor": "white",
           "ticks": "",
           "title": {
            "standoff": 15
           },
           "zerolinecolor": "white",
           "zerolinewidth": 2
          },
          "yaxis": {
           "automargin": true,
           "gridcolor": "white",
           "linecolor": "white",
           "ticks": "",
           "title": {
            "standoff": 15
           },
           "zerolinecolor": "white",
           "zerolinewidth": 2
          }
         }
        }
       }
      }
     },
     "metadata": {},
     "output_type": "display_data"
    }
   ],
   "source": [
    "fig = px.scatter_matrix(df_Excluide[[\"MPG_City\",\"Length\"]])\n",
    "fig.show()"
   ]
  },
  {
   "attachments": {},
   "cell_type": "markdown",
   "metadata": {},
   "source": [
    "- En el gráfico podemos ver que con autos más pequeños se obtiene mayores distancias, lo que nos indica una relación inversa entre las variables."
   ]
  },
  {
   "attachments": {},
   "cell_type": "markdown",
   "metadata": {},
   "source": [
    "### Matriz de correlación.\n",
    "### 2.3.1. Cree la matriz de correlación, cuales son las variables más importantes para explicar la variabilidad de MPG_City. Explique por qué el coeficiente es negativo o positivo."
   ]
  },
  {
   "cell_type": "code",
   "execution_count": 33,
   "metadata": {},
   "outputs": [
    {
     "data": {
      "text/html": [
       "<style type=\"text/css\">\n",
       "#T_96fcc_row0_col0, #T_96fcc_row1_col1, #T_96fcc_row2_col2, #T_96fcc_row3_col3, #T_96fcc_row4_col4, #T_96fcc_row5_col5, #T_96fcc_row6_col6, #T_96fcc_row7_col7, #T_96fcc_row8_col8 {\n",
       "  background-color: #b40426;\n",
       "  color: #f1f1f1;\n",
       "}\n",
       "#T_96fcc_row0_col1 {\n",
       "  background-color: #f49a7b;\n",
       "  color: #000000;\n",
       "}\n",
       "#T_96fcc_row0_col2 {\n",
       "  background-color: #ef886b;\n",
       "  color: #f1f1f1;\n",
       "}\n",
       "#T_96fcc_row0_col3 {\n",
       "  background-color: #d75445;\n",
       "  color: #f1f1f1;\n",
       "}\n",
       "#T_96fcc_row0_col4 {\n",
       "  background-color: #6b8df0;\n",
       "  color: #f1f1f1;\n",
       "}\n",
       "#T_96fcc_row0_col5 {\n",
       "  background-color: #7a9df8;\n",
       "  color: #f1f1f1;\n",
       "}\n",
       "#T_96fcc_row0_col6 {\n",
       "  background-color: #f7b093;\n",
       "  color: #000000;\n",
       "}\n",
       "#T_96fcc_row0_col7 {\n",
       "  background-color: #ccd9ed;\n",
       "  color: #000000;\n",
       "}\n",
       "#T_96fcc_row0_col8 {\n",
       "  background-color: #cdd9ec;\n",
       "  color: #000000;\n",
       "}\n",
       "#T_96fcc_row1_col0 {\n",
       "  background-color: #f7aa8c;\n",
       "  color: #000000;\n",
       "}\n",
       "#T_96fcc_row1_col2, #T_96fcc_row2_col1 {\n",
       "  background-color: #c73635;\n",
       "  color: #f1f1f1;\n",
       "}\n",
       "#T_96fcc_row1_col3 {\n",
       "  background-color: #de614d;\n",
       "  color: #f1f1f1;\n",
       "}\n",
       "#T_96fcc_row1_col4, #T_96fcc_row5_col3 {\n",
       "  background-color: #3f53c6;\n",
       "  color: #f1f1f1;\n",
       "}\n",
       "#T_96fcc_row1_col5 {\n",
       "  background-color: #465ecf;\n",
       "  color: #f1f1f1;\n",
       "}\n",
       "#T_96fcc_row1_col6 {\n",
       "  background-color: #d85646;\n",
       "  color: #f1f1f1;\n",
       "}\n",
       "#T_96fcc_row1_col7, #T_96fcc_row1_col8, #T_96fcc_row2_col0 {\n",
       "  background-color: #f39577;\n",
       "  color: #000000;\n",
       "}\n",
       "#T_96fcc_row2_col3, #T_96fcc_row3_col2, #T_96fcc_row6_col1 {\n",
       "  background-color: #d95847;\n",
       "  color: #f1f1f1;\n",
       "}\n",
       "#T_96fcc_row2_col4, #T_96fcc_row4_col6 {\n",
       "  background-color: #4358cb;\n",
       "  color: #f1f1f1;\n",
       "}\n",
       "#T_96fcc_row2_col5 {\n",
       "  background-color: #4e68d8;\n",
       "  color: #f1f1f1;\n",
       "}\n",
       "#T_96fcc_row2_col6 {\n",
       "  background-color: #e26952;\n",
       "  color: #f1f1f1;\n",
       "}\n",
       "#T_96fcc_row2_col7 {\n",
       "  background-color: #f7ac8e;\n",
       "  color: #000000;\n",
       "}\n",
       "#T_96fcc_row2_col8 {\n",
       "  background-color: #f7ad90;\n",
       "  color: #000000;\n",
       "}\n",
       "#T_96fcc_row3_col0 {\n",
       "  background-color: #dc5d4a;\n",
       "  color: #f1f1f1;\n",
       "}\n",
       "#T_96fcc_row3_col1 {\n",
       "  background-color: #dd5f4b;\n",
       "  color: #f1f1f1;\n",
       "}\n",
       "#T_96fcc_row3_col4 {\n",
       "  background-color: #455cce;\n",
       "  color: #f1f1f1;\n",
       "}\n",
       "#T_96fcc_row3_col5 {\n",
       "  background-color: #536edd;\n",
       "  color: #f1f1f1;\n",
       "}\n",
       "#T_96fcc_row3_col6, #T_96fcc_row6_col8 {\n",
       "  background-color: #ee8669;\n",
       "  color: #f1f1f1;\n",
       "}\n",
       "#T_96fcc_row3_col7 {\n",
       "  background-color: #f2cbb7;\n",
       "  color: #000000;\n",
       "}\n",
       "#T_96fcc_row3_col8 {\n",
       "  background-color: #f0cdbb;\n",
       "  color: #000000;\n",
       "}\n",
       "#T_96fcc_row4_col0, #T_96fcc_row4_col2, #T_96fcc_row4_col3, #T_96fcc_row4_col8, #T_96fcc_row5_col1, #T_96fcc_row5_col6, #T_96fcc_row5_col7, #T_96fcc_row6_col4, #T_96fcc_row6_col5 {\n",
       "  background-color: #3b4cc0;\n",
       "  color: #f1f1f1;\n",
       "}\n",
       "#T_96fcc_row4_col1, #T_96fcc_row5_col2 {\n",
       "  background-color: #3c4ec2;\n",
       "  color: #f1f1f1;\n",
       "}\n",
       "#T_96fcc_row4_col5, #T_96fcc_row5_col4 {\n",
       "  background-color: #c0282f;\n",
       "  color: #f1f1f1;\n",
       "}\n",
       "#T_96fcc_row4_col7 {\n",
       "  background-color: #3d50c3;\n",
       "  color: #f1f1f1;\n",
       "}\n",
       "#T_96fcc_row5_col0, #T_96fcc_row5_col8 {\n",
       "  background-color: #4257c9;\n",
       "  color: #f1f1f1;\n",
       "}\n",
       "#T_96fcc_row6_col0 {\n",
       "  background-color: #f4c6af;\n",
       "  color: #000000;\n",
       "}\n",
       "#T_96fcc_row6_col2 {\n",
       "  background-color: #e46e56;\n",
       "  color: #f1f1f1;\n",
       "}\n",
       "#T_96fcc_row6_col3 {\n",
       "  background-color: #f18d6f;\n",
       "  color: #f1f1f1;\n",
       "}\n",
       "#T_96fcc_row6_col7 {\n",
       "  background-color: #e57058;\n",
       "  color: #f1f1f1;\n",
       "}\n",
       "#T_96fcc_row7_col0 {\n",
       "  background-color: #c6d6f1;\n",
       "  color: #000000;\n",
       "}\n",
       "#T_96fcc_row7_col1, #T_96fcc_row8_col1 {\n",
       "  background-color: #f08a6c;\n",
       "  color: #f1f1f1;\n",
       "}\n",
       "#T_96fcc_row7_col2, #T_96fcc_row8_col2 {\n",
       "  background-color: #f5a081;\n",
       "  color: #000000;\n",
       "}\n",
       "#T_96fcc_row7_col3 {\n",
       "  background-color: #f5c1a9;\n",
       "  color: #000000;\n",
       "}\n",
       "#T_96fcc_row7_col4 {\n",
       "  background-color: #6384eb;\n",
       "  color: #f1f1f1;\n",
       "}\n",
       "#T_96fcc_row7_col5 {\n",
       "  background-color: #6a8bef;\n",
       "  color: #f1f1f1;\n",
       "}\n",
       "#T_96fcc_row7_col6 {\n",
       "  background-color: #e0654f;\n",
       "  color: #f1f1f1;\n",
       "}\n",
       "#T_96fcc_row7_col8, #T_96fcc_row8_col7 {\n",
       "  background-color: #cd423b;\n",
       "  color: #f1f1f1;\n",
       "}\n",
       "#T_96fcc_row8_col0 {\n",
       "  background-color: #cad8ef;\n",
       "  color: #000000;\n",
       "}\n",
       "#T_96fcc_row8_col3 {\n",
       "  background-color: #f5c2aa;\n",
       "  color: #000000;\n",
       "}\n",
       "#T_96fcc_row8_col4 {\n",
       "  background-color: #6485ec;\n",
       "  color: #f1f1f1;\n",
       "}\n",
       "#T_96fcc_row8_col5 {\n",
       "  background-color: #7597f6;\n",
       "  color: #f1f1f1;\n",
       "}\n",
       "#T_96fcc_row8_col6 {\n",
       "  background-color: #e9785d;\n",
       "  color: #f1f1f1;\n",
       "}\n",
       "</style>\n",
       "<table id=\"T_96fcc\">\n",
       "  <thead>\n",
       "    <tr>\n",
       "      <th class=\"blank level0\" >&nbsp;</th>\n",
       "      <th id=\"T_96fcc_level0_col0\" class=\"col_heading level0 col0\" >Invoice</th>\n",
       "      <th id=\"T_96fcc_level0_col1\" class=\"col_heading level0 col1\" >EngineSize</th>\n",
       "      <th id=\"T_96fcc_level0_col2\" class=\"col_heading level0 col2\" >Cylinders</th>\n",
       "      <th id=\"T_96fcc_level0_col3\" class=\"col_heading level0 col3\" >Horsepower</th>\n",
       "      <th id=\"T_96fcc_level0_col4\" class=\"col_heading level0 col4\" >MPG_City</th>\n",
       "      <th id=\"T_96fcc_level0_col5\" class=\"col_heading level0 col5\" >MPG_Highway</th>\n",
       "      <th id=\"T_96fcc_level0_col6\" class=\"col_heading level0 col6\" >Weight</th>\n",
       "      <th id=\"T_96fcc_level0_col7\" class=\"col_heading level0 col7\" >Wheelbase</th>\n",
       "      <th id=\"T_96fcc_level0_col8\" class=\"col_heading level0 col8\" >Length</th>\n",
       "    </tr>\n",
       "  </thead>\n",
       "  <tbody>\n",
       "    <tr>\n",
       "      <th id=\"T_96fcc_level0_row0\" class=\"row_heading level0 row0\" >Invoice</th>\n",
       "      <td id=\"T_96fcc_row0_col0\" class=\"data row0 col0\" >1.000000</td>\n",
       "      <td id=\"T_96fcc_row0_col1\" class=\"data row0 col1\" >0.564498</td>\n",
       "      <td id=\"T_96fcc_row0_col2\" class=\"data row0 col2\" >0.645226</td>\n",
       "      <td id=\"T_96fcc_row0_col3\" class=\"data row0 col3\" >0.823746</td>\n",
       "      <td id=\"T_96fcc_row0_col4\" class=\"data row0 col4\" >-0.470442</td>\n",
       "      <td id=\"T_96fcc_row0_col5\" class=\"data row0 col5\" >-0.434585</td>\n",
       "      <td id=\"T_96fcc_row0_col6\" class=\"data row0 col6\" >0.442332</td>\n",
       "      <td id=\"T_96fcc_row0_col7\" class=\"data row0 col7\" >0.148328</td>\n",
       "      <td id=\"T_96fcc_row0_col8\" class=\"data row0 col8\" >0.166586</td>\n",
       "    </tr>\n",
       "    <tr>\n",
       "      <th id=\"T_96fcc_level0_row1\" class=\"row_heading level0 row1\" >EngineSize</th>\n",
       "      <td id=\"T_96fcc_row1_col0\" class=\"data row1 col0\" >0.564498</td>\n",
       "      <td id=\"T_96fcc_row1_col1\" class=\"data row1 col1\" >1.000000</td>\n",
       "      <td id=\"T_96fcc_row1_col2\" class=\"data row1 col2\" >0.908002</td>\n",
       "      <td id=\"T_96fcc_row1_col3\" class=\"data row1 col3\" >0.787435</td>\n",
       "      <td id=\"T_96fcc_row1_col4\" class=\"data row1 col4\" >-0.709471</td>\n",
       "      <td id=\"T_96fcc_row1_col5\" class=\"data row1 col5\" >-0.717302</td>\n",
       "      <td id=\"T_96fcc_row1_col6\" class=\"data row1 col6\" >0.807867</td>\n",
       "      <td id=\"T_96fcc_row1_col7\" class=\"data row1 col7\" >0.636517</td>\n",
       "      <td id=\"T_96fcc_row1_col8\" class=\"data row1 col8\" >0.637448</td>\n",
       "    </tr>\n",
       "    <tr>\n",
       "      <th id=\"T_96fcc_level0_row2\" class=\"row_heading level0 row2\" >Cylinders</th>\n",
       "      <td id=\"T_96fcc_row2_col0\" class=\"data row2 col0\" >0.645226</td>\n",
       "      <td id=\"T_96fcc_row2_col1\" class=\"data row2 col1\" >0.908002</td>\n",
       "      <td id=\"T_96fcc_row2_col2\" class=\"data row2 col2\" >1.000000</td>\n",
       "      <td id=\"T_96fcc_row2_col3\" class=\"data row2 col3\" >0.810341</td>\n",
       "      <td id=\"T_96fcc_row2_col4\" class=\"data row2 col4\" >-0.684402</td>\n",
       "      <td id=\"T_96fcc_row2_col5\" class=\"data row2 col5\" >-0.676100</td>\n",
       "      <td id=\"T_96fcc_row2_col6\" class=\"data row2 col6\" >0.742209</td>\n",
       "      <td id=\"T_96fcc_row2_col7\" class=\"data row2 col7\" >0.546730</td>\n",
       "      <td id=\"T_96fcc_row2_col8\" class=\"data row2 col8\" >0.547783</td>\n",
       "    </tr>\n",
       "    <tr>\n",
       "      <th id=\"T_96fcc_level0_row3\" class=\"row_heading level0 row3\" >Horsepower</th>\n",
       "      <td id=\"T_96fcc_row3_col0\" class=\"data row3 col0\" >0.823746</td>\n",
       "      <td id=\"T_96fcc_row3_col1\" class=\"data row3 col1\" >0.787435</td>\n",
       "      <td id=\"T_96fcc_row3_col2\" class=\"data row3 col2\" >0.810341</td>\n",
       "      <td id=\"T_96fcc_row3_col3\" class=\"data row3 col3\" >1.000000</td>\n",
       "      <td id=\"T_96fcc_row3_col4\" class=\"data row3 col4\" >-0.676699</td>\n",
       "      <td id=\"T_96fcc_row3_col5\" class=\"data row3 col5\" >-0.647195</td>\n",
       "      <td id=\"T_96fcc_row3_col6\" class=\"data row3 col6\" >0.630796</td>\n",
       "      <td id=\"T_96fcc_row3_col7\" class=\"data row3 col7\" >0.387398</td>\n",
       "      <td id=\"T_96fcc_row3_col8\" class=\"data row3 col8\" >0.381554</td>\n",
       "    </tr>\n",
       "    <tr>\n",
       "      <th id=\"T_96fcc_level0_row4\" class=\"row_heading level0 row4\" >MPG_City</th>\n",
       "      <td id=\"T_96fcc_row4_col0\" class=\"data row4 col0\" >-0.470442</td>\n",
       "      <td id=\"T_96fcc_row4_col1\" class=\"data row4 col1\" >-0.709471</td>\n",
       "      <td id=\"T_96fcc_row4_col2\" class=\"data row4 col2\" >-0.684402</td>\n",
       "      <td id=\"T_96fcc_row4_col3\" class=\"data row4 col3\" >-0.676699</td>\n",
       "      <td id=\"T_96fcc_row4_col4\" class=\"data row4 col4\" >1.000000</td>\n",
       "      <td id=\"T_96fcc_row4_col5\" class=\"data row4 col5\" >0.941021</td>\n",
       "      <td id=\"T_96fcc_row4_col6\" class=\"data row4 col6\" >-0.737966</td>\n",
       "      <td id=\"T_96fcc_row4_col7\" class=\"data row4 col7\" >-0.507284</td>\n",
       "      <td id=\"T_96fcc_row4_col8\" class=\"data row4 col8\" >-0.501526</td>\n",
       "    </tr>\n",
       "    <tr>\n",
       "      <th id=\"T_96fcc_level0_row5\" class=\"row_heading level0 row5\" >MPG_Highway</th>\n",
       "      <td id=\"T_96fcc_row5_col0\" class=\"data row5 col0\" >-0.434585</td>\n",
       "      <td id=\"T_96fcc_row5_col1\" class=\"data row5 col1\" >-0.717302</td>\n",
       "      <td id=\"T_96fcc_row5_col2\" class=\"data row5 col2\" >-0.676100</td>\n",
       "      <td id=\"T_96fcc_row5_col3\" class=\"data row5 col3\" >-0.647195</td>\n",
       "      <td id=\"T_96fcc_row5_col4\" class=\"data row5 col4\" >0.941021</td>\n",
       "      <td id=\"T_96fcc_row5_col5\" class=\"data row5 col5\" >1.000000</td>\n",
       "      <td id=\"T_96fcc_row5_col6\" class=\"data row5 col6\" >-0.790989</td>\n",
       "      <td id=\"T_96fcc_row5_col7\" class=\"data row5 col7\" >-0.524661</td>\n",
       "      <td id=\"T_96fcc_row5_col8\" class=\"data row5 col8\" >-0.466092</td>\n",
       "    </tr>\n",
       "    <tr>\n",
       "      <th id=\"T_96fcc_level0_row6\" class=\"row_heading level0 row6\" >Weight</th>\n",
       "      <td id=\"T_96fcc_row6_col0\" class=\"data row6 col0\" >0.442332</td>\n",
       "      <td id=\"T_96fcc_row6_col1\" class=\"data row6 col1\" >0.807867</td>\n",
       "      <td id=\"T_96fcc_row6_col2\" class=\"data row6 col2\" >0.742209</td>\n",
       "      <td id=\"T_96fcc_row6_col3\" class=\"data row6 col3\" >0.630796</td>\n",
       "      <td id=\"T_96fcc_row6_col4\" class=\"data row6 col4\" >-0.737966</td>\n",
       "      <td id=\"T_96fcc_row6_col5\" class=\"data row6 col5\" >-0.790989</td>\n",
       "      <td id=\"T_96fcc_row6_col6\" class=\"data row6 col6\" >1.000000</td>\n",
       "      <td id=\"T_96fcc_row6_col7\" class=\"data row6 col7\" >0.760703</td>\n",
       "      <td id=\"T_96fcc_row6_col8\" class=\"data row6 col8\" >0.690021</td>\n",
       "    </tr>\n",
       "    <tr>\n",
       "      <th id=\"T_96fcc_level0_row7\" class=\"row_heading level0 row7\" >Wheelbase</th>\n",
       "      <td id=\"T_96fcc_row7_col0\" class=\"data row7 col0\" >0.148328</td>\n",
       "      <td id=\"T_96fcc_row7_col1\" class=\"data row7 col1\" >0.636517</td>\n",
       "      <td id=\"T_96fcc_row7_col2\" class=\"data row7 col2\" >0.546730</td>\n",
       "      <td id=\"T_96fcc_row7_col3\" class=\"data row7 col3\" >0.387398</td>\n",
       "      <td id=\"T_96fcc_row7_col4\" class=\"data row7 col4\" >-0.507284</td>\n",
       "      <td id=\"T_96fcc_row7_col5\" class=\"data row7 col5\" >-0.524661</td>\n",
       "      <td id=\"T_96fcc_row7_col6\" class=\"data row7 col6\" >0.760703</td>\n",
       "      <td id=\"T_96fcc_row7_col7\" class=\"data row7 col7\" >1.000000</td>\n",
       "      <td id=\"T_96fcc_row7_col8\" class=\"data row7 col8\" >0.889195</td>\n",
       "    </tr>\n",
       "    <tr>\n",
       "      <th id=\"T_96fcc_level0_row8\" class=\"row_heading level0 row8\" >Length</th>\n",
       "      <td id=\"T_96fcc_row8_col0\" class=\"data row8 col0\" >0.166586</td>\n",
       "      <td id=\"T_96fcc_row8_col1\" class=\"data row8 col1\" >0.637448</td>\n",
       "      <td id=\"T_96fcc_row8_col2\" class=\"data row8 col2\" >0.547783</td>\n",
       "      <td id=\"T_96fcc_row8_col3\" class=\"data row8 col3\" >0.381554</td>\n",
       "      <td id=\"T_96fcc_row8_col4\" class=\"data row8 col4\" >-0.501526</td>\n",
       "      <td id=\"T_96fcc_row8_col5\" class=\"data row8 col5\" >-0.466092</td>\n",
       "      <td id=\"T_96fcc_row8_col6\" class=\"data row8 col6\" >0.690021</td>\n",
       "      <td id=\"T_96fcc_row8_col7\" class=\"data row8 col7\" >0.889195</td>\n",
       "      <td id=\"T_96fcc_row8_col8\" class=\"data row8 col8\" >1.000000</td>\n",
       "    </tr>\n",
       "  </tbody>\n",
       "</table>\n"
      ],
      "text/plain": [
       "<pandas.io.formats.style.Styler at 0x213ddbeff70>"
      ]
     },
     "execution_count": 33,
     "metadata": {},
     "output_type": "execute_result"
    }
   ],
   "source": [
    "corr = df[col].corr ()\n",
    "corr.style.background_gradient (cmap = 'coolwarm')"
   ]
  },
  {
   "attachments": {},
   "cell_type": "markdown",
   "metadata": {},
   "source": [
    "- Al generar la matriz, podemos ver que la variable que se relaciona más con MPG_City sería, MPG_Higway, cosa que vimos en las gráficas del punto 1 y que describen que en realidad no hay diferencias significativas en el consumo de combustible y el terreno.\n",
    "\n",
    "- Por otra parte, la variable que más importante considero que sería el peso, ya que nos da un estadístico útil acerca del consumo de combustible, las millas recorridas y su relación con el peso de cada vehículo, aquí podemos ver una relación inversamente proporcional bastante significativa, dando a entender que mientras menos pese el vehículo más distancia podrá recorrer por galón. \n",
    "\n",
    "### 2.3.2. Cree la matriz de correlación nuevamente removiendo todas los modelos de carro que fueron catalogados como un outlier. Puede utilizar .query(‘Model in[\"MDX\",\"TSX 4dr\"]’ ). Existe alguna variación en la correlación."
   ]
  },
  {
   "cell_type": "code",
   "execution_count": 34,
   "metadata": {},
   "outputs": [
    {
     "data": {
      "text/html": [
       "<style type=\"text/css\">\n",
       "#T_de523_row0_col0, #T_de523_row1_col1, #T_de523_row2_col2, #T_de523_row3_col3, #T_de523_row4_col4, #T_de523_row5_col5, #T_de523_row6_col6, #T_de523_row7_col7, #T_de523_row8_col8 {\n",
       "  background-color: #b40426;\n",
       "  color: #f1f1f1;\n",
       "}\n",
       "#T_de523_row0_col1 {\n",
       "  background-color: #f49a7b;\n",
       "  color: #000000;\n",
       "}\n",
       "#T_de523_row0_col2 {\n",
       "  background-color: #ef886b;\n",
       "  color: #f1f1f1;\n",
       "}\n",
       "#T_de523_row0_col3 {\n",
       "  background-color: #d75445;\n",
       "  color: #f1f1f1;\n",
       "}\n",
       "#T_de523_row0_col4 {\n",
       "  background-color: #6b8df0;\n",
       "  color: #f1f1f1;\n",
       "}\n",
       "#T_de523_row0_col5 {\n",
       "  background-color: #7a9df8;\n",
       "  color: #f1f1f1;\n",
       "}\n",
       "#T_de523_row0_col6 {\n",
       "  background-color: #f7b093;\n",
       "  color: #000000;\n",
       "}\n",
       "#T_de523_row0_col7 {\n",
       "  background-color: #ccd9ed;\n",
       "  color: #000000;\n",
       "}\n",
       "#T_de523_row0_col8 {\n",
       "  background-color: #cdd9ec;\n",
       "  color: #000000;\n",
       "}\n",
       "#T_de523_row1_col0 {\n",
       "  background-color: #f7aa8c;\n",
       "  color: #000000;\n",
       "}\n",
       "#T_de523_row1_col2, #T_de523_row2_col1 {\n",
       "  background-color: #c73635;\n",
       "  color: #f1f1f1;\n",
       "}\n",
       "#T_de523_row1_col3 {\n",
       "  background-color: #de614d;\n",
       "  color: #f1f1f1;\n",
       "}\n",
       "#T_de523_row1_col4, #T_de523_row5_col3 {\n",
       "  background-color: #3f53c6;\n",
       "  color: #f1f1f1;\n",
       "}\n",
       "#T_de523_row1_col5 {\n",
       "  background-color: #465ecf;\n",
       "  color: #f1f1f1;\n",
       "}\n",
       "#T_de523_row1_col6 {\n",
       "  background-color: #d85646;\n",
       "  color: #f1f1f1;\n",
       "}\n",
       "#T_de523_row1_col7, #T_de523_row1_col8, #T_de523_row2_col0 {\n",
       "  background-color: #f39577;\n",
       "  color: #000000;\n",
       "}\n",
       "#T_de523_row2_col3, #T_de523_row3_col2, #T_de523_row6_col1 {\n",
       "  background-color: #d95847;\n",
       "  color: #f1f1f1;\n",
       "}\n",
       "#T_de523_row2_col4, #T_de523_row4_col6 {\n",
       "  background-color: #4358cb;\n",
       "  color: #f1f1f1;\n",
       "}\n",
       "#T_de523_row2_col5 {\n",
       "  background-color: #4e68d8;\n",
       "  color: #f1f1f1;\n",
       "}\n",
       "#T_de523_row2_col6 {\n",
       "  background-color: #e26952;\n",
       "  color: #f1f1f1;\n",
       "}\n",
       "#T_de523_row2_col7 {\n",
       "  background-color: #f7ac8e;\n",
       "  color: #000000;\n",
       "}\n",
       "#T_de523_row2_col8 {\n",
       "  background-color: #f7ad90;\n",
       "  color: #000000;\n",
       "}\n",
       "#T_de523_row3_col0 {\n",
       "  background-color: #dc5d4a;\n",
       "  color: #f1f1f1;\n",
       "}\n",
       "#T_de523_row3_col1 {\n",
       "  background-color: #dd5f4b;\n",
       "  color: #f1f1f1;\n",
       "}\n",
       "#T_de523_row3_col4 {\n",
       "  background-color: #455cce;\n",
       "  color: #f1f1f1;\n",
       "}\n",
       "#T_de523_row3_col5 {\n",
       "  background-color: #536edd;\n",
       "  color: #f1f1f1;\n",
       "}\n",
       "#T_de523_row3_col6, #T_de523_row6_col8 {\n",
       "  background-color: #ee8669;\n",
       "  color: #f1f1f1;\n",
       "}\n",
       "#T_de523_row3_col7 {\n",
       "  background-color: #f2cbb7;\n",
       "  color: #000000;\n",
       "}\n",
       "#T_de523_row3_col8 {\n",
       "  background-color: #f0cdbb;\n",
       "  color: #000000;\n",
       "}\n",
       "#T_de523_row4_col0, #T_de523_row4_col2, #T_de523_row4_col3, #T_de523_row4_col8, #T_de523_row5_col1, #T_de523_row5_col6, #T_de523_row5_col7, #T_de523_row6_col4, #T_de523_row6_col5 {\n",
       "  background-color: #3b4cc0;\n",
       "  color: #f1f1f1;\n",
       "}\n",
       "#T_de523_row4_col1, #T_de523_row5_col2 {\n",
       "  background-color: #3c4ec2;\n",
       "  color: #f1f1f1;\n",
       "}\n",
       "#T_de523_row4_col5, #T_de523_row5_col4 {\n",
       "  background-color: #c0282f;\n",
       "  color: #f1f1f1;\n",
       "}\n",
       "#T_de523_row4_col7 {\n",
       "  background-color: #3d50c3;\n",
       "  color: #f1f1f1;\n",
       "}\n",
       "#T_de523_row5_col0, #T_de523_row5_col8 {\n",
       "  background-color: #4257c9;\n",
       "  color: #f1f1f1;\n",
       "}\n",
       "#T_de523_row6_col0 {\n",
       "  background-color: #f4c6af;\n",
       "  color: #000000;\n",
       "}\n",
       "#T_de523_row6_col2 {\n",
       "  background-color: #e46e56;\n",
       "  color: #f1f1f1;\n",
       "}\n",
       "#T_de523_row6_col3 {\n",
       "  background-color: #f18d6f;\n",
       "  color: #f1f1f1;\n",
       "}\n",
       "#T_de523_row6_col7 {\n",
       "  background-color: #e57058;\n",
       "  color: #f1f1f1;\n",
       "}\n",
       "#T_de523_row7_col0 {\n",
       "  background-color: #c6d6f1;\n",
       "  color: #000000;\n",
       "}\n",
       "#T_de523_row7_col1, #T_de523_row8_col1 {\n",
       "  background-color: #f08a6c;\n",
       "  color: #f1f1f1;\n",
       "}\n",
       "#T_de523_row7_col2, #T_de523_row8_col2 {\n",
       "  background-color: #f5a081;\n",
       "  color: #000000;\n",
       "}\n",
       "#T_de523_row7_col3 {\n",
       "  background-color: #f5c1a9;\n",
       "  color: #000000;\n",
       "}\n",
       "#T_de523_row7_col4 {\n",
       "  background-color: #6384eb;\n",
       "  color: #f1f1f1;\n",
       "}\n",
       "#T_de523_row7_col5 {\n",
       "  background-color: #6a8bef;\n",
       "  color: #f1f1f1;\n",
       "}\n",
       "#T_de523_row7_col6 {\n",
       "  background-color: #e0654f;\n",
       "  color: #f1f1f1;\n",
       "}\n",
       "#T_de523_row7_col8, #T_de523_row8_col7 {\n",
       "  background-color: #cd423b;\n",
       "  color: #f1f1f1;\n",
       "}\n",
       "#T_de523_row8_col0 {\n",
       "  background-color: #cad8ef;\n",
       "  color: #000000;\n",
       "}\n",
       "#T_de523_row8_col3 {\n",
       "  background-color: #f5c2aa;\n",
       "  color: #000000;\n",
       "}\n",
       "#T_de523_row8_col4 {\n",
       "  background-color: #6485ec;\n",
       "  color: #f1f1f1;\n",
       "}\n",
       "#T_de523_row8_col5 {\n",
       "  background-color: #7597f6;\n",
       "  color: #f1f1f1;\n",
       "}\n",
       "#T_de523_row8_col6 {\n",
       "  background-color: #e9785d;\n",
       "  color: #f1f1f1;\n",
       "}\n",
       "</style>\n",
       "<table id=\"T_de523\">\n",
       "  <thead>\n",
       "    <tr>\n",
       "      <th class=\"blank level0\" >&nbsp;</th>\n",
       "      <th id=\"T_de523_level0_col0\" class=\"col_heading level0 col0\" >Invoice</th>\n",
       "      <th id=\"T_de523_level0_col1\" class=\"col_heading level0 col1\" >EngineSize</th>\n",
       "      <th id=\"T_de523_level0_col2\" class=\"col_heading level0 col2\" >Cylinders</th>\n",
       "      <th id=\"T_de523_level0_col3\" class=\"col_heading level0 col3\" >Horsepower</th>\n",
       "      <th id=\"T_de523_level0_col4\" class=\"col_heading level0 col4\" >MPG_City</th>\n",
       "      <th id=\"T_de523_level0_col5\" class=\"col_heading level0 col5\" >MPG_Highway</th>\n",
       "      <th id=\"T_de523_level0_col6\" class=\"col_heading level0 col6\" >Weight</th>\n",
       "      <th id=\"T_de523_level0_col7\" class=\"col_heading level0 col7\" >Wheelbase</th>\n",
       "      <th id=\"T_de523_level0_col8\" class=\"col_heading level0 col8\" >Length</th>\n",
       "    </tr>\n",
       "  </thead>\n",
       "  <tbody>\n",
       "    <tr>\n",
       "      <th id=\"T_de523_level0_row0\" class=\"row_heading level0 row0\" >Invoice</th>\n",
       "      <td id=\"T_de523_row0_col0\" class=\"data row0 col0\" >1.000000</td>\n",
       "      <td id=\"T_de523_row0_col1\" class=\"data row0 col1\" >0.564498</td>\n",
       "      <td id=\"T_de523_row0_col2\" class=\"data row0 col2\" >0.645226</td>\n",
       "      <td id=\"T_de523_row0_col3\" class=\"data row0 col3\" >0.823746</td>\n",
       "      <td id=\"T_de523_row0_col4\" class=\"data row0 col4\" >-0.470442</td>\n",
       "      <td id=\"T_de523_row0_col5\" class=\"data row0 col5\" >-0.434585</td>\n",
       "      <td id=\"T_de523_row0_col6\" class=\"data row0 col6\" >0.442332</td>\n",
       "      <td id=\"T_de523_row0_col7\" class=\"data row0 col7\" >0.148328</td>\n",
       "      <td id=\"T_de523_row0_col8\" class=\"data row0 col8\" >0.166586</td>\n",
       "    </tr>\n",
       "    <tr>\n",
       "      <th id=\"T_de523_level0_row1\" class=\"row_heading level0 row1\" >EngineSize</th>\n",
       "      <td id=\"T_de523_row1_col0\" class=\"data row1 col0\" >0.564498</td>\n",
       "      <td id=\"T_de523_row1_col1\" class=\"data row1 col1\" >1.000000</td>\n",
       "      <td id=\"T_de523_row1_col2\" class=\"data row1 col2\" >0.908002</td>\n",
       "      <td id=\"T_de523_row1_col3\" class=\"data row1 col3\" >0.787435</td>\n",
       "      <td id=\"T_de523_row1_col4\" class=\"data row1 col4\" >-0.709471</td>\n",
       "      <td id=\"T_de523_row1_col5\" class=\"data row1 col5\" >-0.717302</td>\n",
       "      <td id=\"T_de523_row1_col6\" class=\"data row1 col6\" >0.807867</td>\n",
       "      <td id=\"T_de523_row1_col7\" class=\"data row1 col7\" >0.636517</td>\n",
       "      <td id=\"T_de523_row1_col8\" class=\"data row1 col8\" >0.637448</td>\n",
       "    </tr>\n",
       "    <tr>\n",
       "      <th id=\"T_de523_level0_row2\" class=\"row_heading level0 row2\" >Cylinders</th>\n",
       "      <td id=\"T_de523_row2_col0\" class=\"data row2 col0\" >0.645226</td>\n",
       "      <td id=\"T_de523_row2_col1\" class=\"data row2 col1\" >0.908002</td>\n",
       "      <td id=\"T_de523_row2_col2\" class=\"data row2 col2\" >1.000000</td>\n",
       "      <td id=\"T_de523_row2_col3\" class=\"data row2 col3\" >0.810341</td>\n",
       "      <td id=\"T_de523_row2_col4\" class=\"data row2 col4\" >-0.684402</td>\n",
       "      <td id=\"T_de523_row2_col5\" class=\"data row2 col5\" >-0.676100</td>\n",
       "      <td id=\"T_de523_row2_col6\" class=\"data row2 col6\" >0.742209</td>\n",
       "      <td id=\"T_de523_row2_col7\" class=\"data row2 col7\" >0.546730</td>\n",
       "      <td id=\"T_de523_row2_col8\" class=\"data row2 col8\" >0.547783</td>\n",
       "    </tr>\n",
       "    <tr>\n",
       "      <th id=\"T_de523_level0_row3\" class=\"row_heading level0 row3\" >Horsepower</th>\n",
       "      <td id=\"T_de523_row3_col0\" class=\"data row3 col0\" >0.823746</td>\n",
       "      <td id=\"T_de523_row3_col1\" class=\"data row3 col1\" >0.787435</td>\n",
       "      <td id=\"T_de523_row3_col2\" class=\"data row3 col2\" >0.810341</td>\n",
       "      <td id=\"T_de523_row3_col3\" class=\"data row3 col3\" >1.000000</td>\n",
       "      <td id=\"T_de523_row3_col4\" class=\"data row3 col4\" >-0.676699</td>\n",
       "      <td id=\"T_de523_row3_col5\" class=\"data row3 col5\" >-0.647195</td>\n",
       "      <td id=\"T_de523_row3_col6\" class=\"data row3 col6\" >0.630796</td>\n",
       "      <td id=\"T_de523_row3_col7\" class=\"data row3 col7\" >0.387398</td>\n",
       "      <td id=\"T_de523_row3_col8\" class=\"data row3 col8\" >0.381554</td>\n",
       "    </tr>\n",
       "    <tr>\n",
       "      <th id=\"T_de523_level0_row4\" class=\"row_heading level0 row4\" >MPG_City</th>\n",
       "      <td id=\"T_de523_row4_col0\" class=\"data row4 col0\" >-0.470442</td>\n",
       "      <td id=\"T_de523_row4_col1\" class=\"data row4 col1\" >-0.709471</td>\n",
       "      <td id=\"T_de523_row4_col2\" class=\"data row4 col2\" >-0.684402</td>\n",
       "      <td id=\"T_de523_row4_col3\" class=\"data row4 col3\" >-0.676699</td>\n",
       "      <td id=\"T_de523_row4_col4\" class=\"data row4 col4\" >1.000000</td>\n",
       "      <td id=\"T_de523_row4_col5\" class=\"data row4 col5\" >0.941021</td>\n",
       "      <td id=\"T_de523_row4_col6\" class=\"data row4 col6\" >-0.737966</td>\n",
       "      <td id=\"T_de523_row4_col7\" class=\"data row4 col7\" >-0.507284</td>\n",
       "      <td id=\"T_de523_row4_col8\" class=\"data row4 col8\" >-0.501526</td>\n",
       "    </tr>\n",
       "    <tr>\n",
       "      <th id=\"T_de523_level0_row5\" class=\"row_heading level0 row5\" >MPG_Highway</th>\n",
       "      <td id=\"T_de523_row5_col0\" class=\"data row5 col0\" >-0.434585</td>\n",
       "      <td id=\"T_de523_row5_col1\" class=\"data row5 col1\" >-0.717302</td>\n",
       "      <td id=\"T_de523_row5_col2\" class=\"data row5 col2\" >-0.676100</td>\n",
       "      <td id=\"T_de523_row5_col3\" class=\"data row5 col3\" >-0.647195</td>\n",
       "      <td id=\"T_de523_row5_col4\" class=\"data row5 col4\" >0.941021</td>\n",
       "      <td id=\"T_de523_row5_col5\" class=\"data row5 col5\" >1.000000</td>\n",
       "      <td id=\"T_de523_row5_col6\" class=\"data row5 col6\" >-0.790989</td>\n",
       "      <td id=\"T_de523_row5_col7\" class=\"data row5 col7\" >-0.524661</td>\n",
       "      <td id=\"T_de523_row5_col8\" class=\"data row5 col8\" >-0.466092</td>\n",
       "    </tr>\n",
       "    <tr>\n",
       "      <th id=\"T_de523_level0_row6\" class=\"row_heading level0 row6\" >Weight</th>\n",
       "      <td id=\"T_de523_row6_col0\" class=\"data row6 col0\" >0.442332</td>\n",
       "      <td id=\"T_de523_row6_col1\" class=\"data row6 col1\" >0.807867</td>\n",
       "      <td id=\"T_de523_row6_col2\" class=\"data row6 col2\" >0.742209</td>\n",
       "      <td id=\"T_de523_row6_col3\" class=\"data row6 col3\" >0.630796</td>\n",
       "      <td id=\"T_de523_row6_col4\" class=\"data row6 col4\" >-0.737966</td>\n",
       "      <td id=\"T_de523_row6_col5\" class=\"data row6 col5\" >-0.790989</td>\n",
       "      <td id=\"T_de523_row6_col6\" class=\"data row6 col6\" >1.000000</td>\n",
       "      <td id=\"T_de523_row6_col7\" class=\"data row6 col7\" >0.760703</td>\n",
       "      <td id=\"T_de523_row6_col8\" class=\"data row6 col8\" >0.690021</td>\n",
       "    </tr>\n",
       "    <tr>\n",
       "      <th id=\"T_de523_level0_row7\" class=\"row_heading level0 row7\" >Wheelbase</th>\n",
       "      <td id=\"T_de523_row7_col0\" class=\"data row7 col0\" >0.148328</td>\n",
       "      <td id=\"T_de523_row7_col1\" class=\"data row7 col1\" >0.636517</td>\n",
       "      <td id=\"T_de523_row7_col2\" class=\"data row7 col2\" >0.546730</td>\n",
       "      <td id=\"T_de523_row7_col3\" class=\"data row7 col3\" >0.387398</td>\n",
       "      <td id=\"T_de523_row7_col4\" class=\"data row7 col4\" >-0.507284</td>\n",
       "      <td id=\"T_de523_row7_col5\" class=\"data row7 col5\" >-0.524661</td>\n",
       "      <td id=\"T_de523_row7_col6\" class=\"data row7 col6\" >0.760703</td>\n",
       "      <td id=\"T_de523_row7_col7\" class=\"data row7 col7\" >1.000000</td>\n",
       "      <td id=\"T_de523_row7_col8\" class=\"data row7 col8\" >0.889195</td>\n",
       "    </tr>\n",
       "    <tr>\n",
       "      <th id=\"T_de523_level0_row8\" class=\"row_heading level0 row8\" >Length</th>\n",
       "      <td id=\"T_de523_row8_col0\" class=\"data row8 col0\" >0.166586</td>\n",
       "      <td id=\"T_de523_row8_col1\" class=\"data row8 col1\" >0.637448</td>\n",
       "      <td id=\"T_de523_row8_col2\" class=\"data row8 col2\" >0.547783</td>\n",
       "      <td id=\"T_de523_row8_col3\" class=\"data row8 col3\" >0.381554</td>\n",
       "      <td id=\"T_de523_row8_col4\" class=\"data row8 col4\" >-0.501526</td>\n",
       "      <td id=\"T_de523_row8_col5\" class=\"data row8 col5\" >-0.466092</td>\n",
       "      <td id=\"T_de523_row8_col6\" class=\"data row8 col6\" >0.690021</td>\n",
       "      <td id=\"T_de523_row8_col7\" class=\"data row8 col7\" >0.889195</td>\n",
       "      <td id=\"T_de523_row8_col8\" class=\"data row8 col8\" >1.000000</td>\n",
       "    </tr>\n",
       "  </tbody>\n",
       "</table>\n"
      ],
      "text/plain": [
       "<pandas.io.formats.style.Styler at 0x213ddbefe50>"
      ]
     },
     "execution_count": 34,
     "metadata": {},
     "output_type": "execute_result"
    }
   ],
   "source": [
    "corr = df_Excluide.corr ()\n",
    "corr.style.background_gradient (cmap = 'coolwarm')"
   ]
  },
  {
   "attachments": {},
   "cell_type": "markdown",
   "metadata": {},
   "source": [
    "- A partir de las diferentes gráficas vistas en el desarrollo del ejercicio, se puede concluir que los outlyers no representan un cambio significativo dentro de la muestra, esto debido probablemente a la escasa cantidad de estos respecto al tamaño de la muestra."
   ]
  }
 ],
 "metadata": {
  "kernelspec": {
   "display_name": "Python 3",
   "language": "python",
   "name": "python3"
  },
  "language_info": {
   "codemirror_mode": {
    "name": "ipython",
    "version": 3
   },
   "file_extension": ".py",
   "mimetype": "text/x-python",
   "name": "python",
   "nbconvert_exporter": "python",
   "pygments_lexer": "ipython3",
   "version": "3.10.10"
  },
  "orig_nbformat": 4,
  "vscode": {
   "interpreter": {
    "hash": "17351a51710a27b0fb9eaa0340c84f12f22a0476030d71c47e03727868f8823c"
   }
  }
 },
 "nbformat": 4,
 "nbformat_minor": 2
}
